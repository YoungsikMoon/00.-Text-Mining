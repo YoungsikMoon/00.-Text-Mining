{
  "nbformat": 4,
  "nbformat_minor": 0,
  "metadata": {
    "colab": {
      "provenance": [],
      "collapsed_sections": [
        "bo0qGl3nLElu",
        "6HHR2xfv7kbq",
        "YvFxD_OB_oX6",
        "c_a7pjd3F7U0",
        "31HjNYUhNQDs",
        "ubXXZlgTekQz",
        "6zs8budQyojV",
        "ebCWVOCLTggk",
        "nOnridWoN54Y",
        "eCHr4lw6TgYD",
        "cA4NFndjopJ5",
        "vR949VSFoxGw",
        "lcig1_tuOtvO",
        "go1rzHg-PMe_",
        "jVGnf64881t8",
        "gqm_LMuiA2H3"
      ],
      "authorship_tag": "ABX9TyNpsOZ1LD5fUX5zDMiG7+wf",
      "include_colab_link": true
    },
    "kernelspec": {
      "name": "python3",
      "display_name": "Python 3"
    },
    "language_info": {
      "name": "python"
    }
  },
  "cells": [
    {
      "cell_type": "markdown",
      "metadata": {
        "id": "view-in-github",
        "colab_type": "text"
      },
      "source": [
        "<a href=\"https://colab.research.google.com/github/YoungsikMoon/PublicRnD/blob/main/%ED%85%8D%EC%8A%A4%ED%8A%B8%EB%A7%88%EC%9D%B4%EB%8B%9D_%EB%AC%B8%EC%98%81%EC%8B%9D.ipynb\" target=\"_parent\"><img src=\"https://colab.research.google.com/assets/colab-badge.svg\" alt=\"Open In Colab\"/></a>"
      ]
    },
    {
      "cell_type": "markdown",
      "source": [
        "#텍스트 마이닝에 필요한 최소 지식 정리"
      ],
      "metadata": {
        "id": "T6pGRyzrnA22"
      }
    },
    {
      "cell_type": "markdown",
      "source": [
        "아래 내용은 성수 알파코 캠퍼스 9기 텍스트마이닝 교육자료 약 95%(저자:류영표 강사)와 구글 검색5% 정도를 가지고 재해석하여 작성하였다.\n",
        "\n",
        "주의!! 재해석 과정에서 개인의 주관이 반영되어 올바른 내용이 아닐 수 있음.\n",
        "\n",
        "우선 내용은 파이썬 기초 학습을 하고 봐야 더 쉽게 이해가능하다.\n",
        "\n",
        "처음 학습시 기존에 관심 없던 용어가 많이 나와서 공부하기가 까다롭다 이 목차에서 ctl+f 로 헷갈리는 기초 용어를 검색하며 학습하면 도움이 될 것 같다.\n",
        "\n",
        "인내를 가지고 차분히 맨위부터 한줄씩 숙지하다보면 텍스트마이닝을 잘 알수 있도록 작성한다.\n",
        "\n",
        "---\n",
        "\n"
      ],
      "metadata": {
        "id": "qlDId3Oo2E3z"
      }
    },
    {
      "cell_type": "markdown",
      "source": [
        "텍스트 마이닝이란? 텍스트에서 의미 있는 정보를 얻는 작업\n",
        "\n",
        "텍스트 마이닝 과정 요약 :\n",
        "텍스트 데이터 수집 -> 텍스트 전처리 -> 특징 값 추출 -> 결과 데이터 분석\n",
        "\n",
        "\n",
        "---\n",
        "\n"
      ],
      "metadata": {
        "id": "BnM4kFB7pQRA"
      }
    },
    {
      "cell_type": "markdown",
      "source": [
        "보통 텍스트 마이닝 하면 '자연어처리'라 생각할 수 있지만, 다른 분야이다. 이 글에서는 텍스트마이닝 위주로 작성할 것 이다.\n",
        "\n",
        "자연어 : 사람이 일상에서 자연스럽게 사용하는 언어\n",
        "\n",
        "---\n",
        "\n"
      ],
      "metadata": {
        "id": "bC5tPhkX0VNB"
      }
    },
    {
      "cell_type": "markdown",
      "source": [
        "자연어처리 (NLP, Natural Language Processing) : 컴퓨터가 인간의 언어인 자연어를 인공지능이 인식하고 표현할 수 있도록 하는 것에 중점을 둠.\n",
        "\n",
        "텍스트마이닝 : 텍스트데이터에서 추출된 단어나 문장속에서 유의미한 인사이트를 찾아내는 작업.\n",
        "\n",
        "---\n",
        "\n"
      ],
      "metadata": {
        "id": "vib7jiUDnvsG"
      }
    },
    {
      "cell_type": "markdown",
      "source": [
        "텍스트 데이터 수집 : 인증 및 허가 된 사이트에서 텍스트로 된 데이터를 받기 또는 웹 스크랩핑(윤리적 문제에 주의)\n",
        "\n",
        "\n",
        "---\n",
        "\n"
      ],
      "metadata": {
        "id": "HmLFenXYort3"
      }
    },
    {
      "cell_type": "markdown",
      "source": [
        "텍스트 전처리란?\n",
        "수집한 데이터를 분석하기에 앞서 분석에 용이하도록 데이터를 정제/가공하고 텍스트의 의미를 충분히 간직한 채로 컴퓨터가 이해할 수 있는 형태로 전환하는 작업.\n",
        "\n",
        "토큰화, 오탈자, 특수문자, 띄어쓰기 교정, 맞춤법 검사 등 데이터 분석 용도에 맞게 텍스트를 사전에 처리하는 작업.\n",
        "\n",
        "텍스트 분석 모델이 효율적으로 작동할 수 있도록 사전에 텍스트를 정제 및 가공.\n",
        "\n",
        "\n",
        "---\n",
        "\n"
      ],
      "metadata": {
        "id": "go5SYBP4pB8e"
      }
    },
    {
      "cell_type": "markdown",
      "source": [
        "코퍼스(말뭉치) : 특정한 목적을 가지고 언어 표본을 추출한 집합\n",
        "\n",
        "---\n",
        "\n"
      ],
      "metadata": {
        "id": "9fyVeuIs_hxy"
      }
    },
    {
      "cell_type": "markdown",
      "source": [
        "토큰화 : 텍스트를 원하는 단위로 분절하는 작업.\n",
        "\n",
        "문장 토큰화 : 문장의 마침표, 개행문자, 느낌표, 물음표 등 문장의 마지막을 뜻하는 기호에 따라 분절하는 것이 일반적.\n",
        "\n",
        "단어 토큰화 : 기본적으로 띄어쓰기를 기준으로 하며, 구두점(온점, 느낌표, 물음표, 쉼표 등)을 토큰화하기도 함.\n",
        "\n",
        "---\n",
        "\n",
        "\n"
      ],
      "metadata": {
        "id": "lFTh20mSqEOI"
      }
    },
    {
      "cell_type": "markdown",
      "source": [
        "정제/정규화 : 토큰화 전/후 에 하는 작업\n",
        "\n",
        "---\n",
        "\n"
      ],
      "metadata": {
        "id": "bnF03McfpxXL"
      }
    },
    {
      "cell_type": "markdown",
      "source": [
        "정제(노이즈/불용어 제거) : 데이터에서 큰 의미가 없는 단어 제거.\n",
        "\n",
        "음, 뭐, 아\n",
        "\n",
        "등장 빈도가 적은 데이터, 의미가 없는 특수문자 등\n",
        "\n",
        "---\n",
        "\n"
      ],
      "metadata": {
        "id": "mPxszAcIqzMQ"
      }
    },
    {
      "cell_type": "markdown",
      "source": [
        "정규화(Nomalization) : 표현 방법이 다른 단어들을 통합 시킴\n",
        "\n",
        "uh-huh 와 uhhuh는 형태는 다르지만 같다. 통일 시켜줄 필요가 있다.\n",
        "\n",
        "대부분의 글은 소문자로 작성되어있다. 불필요하게 대문자를 섞기보단 분석하기 용이하게 전부 소문자로 변환하는게 좋다.\n",
        "\n",
        "---\n",
        "\n"
      ],
      "metadata": {
        "id": "KH_RGJuYqoJL"
      }
    },
    {
      "cell_type": "markdown",
      "source": [
        "음소 : 자음 or 모음\n",
        "\n",
        "음운론 상의 최소 단위\n",
        "\n",
        "---\n",
        "\n"
      ],
      "metadata": {
        "id": "jJtMtuNtqzHy"
      }
    },
    {
      "cell_type": "markdown",
      "source": [
        "음절 : 말하는 사람, 듣는 사람이 한 뭉치로 생각하는 발화의 단위.\n",
        "\n",
        "한 글자\n",
        "\n",
        "---\n",
        "\n"
      ],
      "metadata": {
        "id": "S1zyICKuqzC3"
      }
    },
    {
      "cell_type": "markdown",
      "source": [
        "어절 : 띄어쓰기 단위\n",
        "\n",
        "---\n",
        "\n"
      ],
      "metadata": {
        "id": "TaVtx65ksepI"
      }
    },
    {
      "cell_type": "markdown",
      "source": [
        "★ 형태소 : 의미가 있는 가장 작은 단위\n",
        "\n",
        "아버지/가/방/에/들어가/신다\n",
        "\n",
        "---\n",
        "\n",
        "\n",
        "\n"
      ],
      "metadata": {
        "id": "fvLhOj1tqy3_"
      }
    },
    {
      "cell_type": "markdown",
      "source": [
        "낱말(단어) : 자립성이 있는 최소 단위\n",
        "\n",
        "아버지가/방에/들어가신다\n",
        "\n",
        "---\n",
        "\n"
      ],
      "metadata": {
        "id": "HVG-iqQAsRvC"
      }
    },
    {
      "cell_type": "markdown",
      "source": [
        "한국어 단어 토큰화 = 형태소 분석\n",
        "\n",
        "자립 형태소 : 체언(명사, 대명사, 수사), 수식언(관형사, 부사), 감탄사 등 조사나 어미 없이 단어 자체를 사용.\n",
        "\n",
        "예) 강 물 매우 주먹 밥\n",
        "\n",
        "의존 형태소 : 접사, 어미, 조사, 어간처럼 다른 형태소와 결합해 사용\n",
        "\n",
        "예) -을, -가, -는, -은\n",
        "\n",
        "뒤에 자세히 나오지만 한국어는 분석이 매우 어려운 편!\n",
        "\n",
        "---\n",
        "\n"
      ],
      "metadata": {
        "id": "-6bafLQGua5I"
      }
    },
    {
      "cell_type": "markdown",
      "source": [
        "한국어 전처리&분석 관련 패키지가 아래처럼 다양하게 많으니까 너무 걱정은 말자.\n",
        "\n",
        "뒤에서 실습 맛보기 할 거니까 지금은 아래 것들이 있다고 정도만 참고하자.\n",
        "\n",
        ". KoNLPy : 다양한 형태소 분석기를 제공하는 파이썬 패키지.Okt(Open Korea Text), Hannanum, Kkma, Komoran, Mecab 등 포함 됨.\n",
        "\n",
        ". Okt : 트위터분석기라는 이름으로 진행되었던 프로젝트가 fork되어 진행되는 것으로 기본 베이스는 트위터 분석기\n",
        "\n",
        ". Hannanum : KAIST에서 개발한 형태소 분석기\n",
        "\n",
        ". Mecab : 일본어 형태소 분석기를 한국에 맞게 수정한 버전.\n",
        "\n",
        ". Komoran : Java로 작성된 형태소 분석기,\n",
        "\n",
        ". Soynlp : 비지도 학습을 기반으로 하는 한국어 전용 토큰화 도구. 데이터 내에서 자주 등장하는 단어를 기반으로 하는 토큰화를 수행.\n",
        "\n",
        ". Kkma : 서울대학교에서 만든 분석기, 성능은 좋으나 속도면에서 단점이 있다.\n",
        "\n",
        ". Khaiii : 카카오에서 개발한 형태소 분석기. 딥러닝 기반으로 정확도가 높음.\n",
        "\n",
        ". KSS(Korean Sentence Splitter) : 한국어 문장 분리를 위한 도구. 문장의 경계를 잘 인식하여 텍스트를 문장 단위로 나누는데 유용.\n",
        "\n",
        ". ETRI : 한국전자통신연구원에서 개발한 한국어 처리 API. 형태소 분석, 개체명 인식, 의존 구문분석 등 다양한 기능을 제공. 인터넷 연결이 필요.\n",
        "\n",
        ". Pororo : 카카오브레인에서 만든 한글 자연어처리 라이브러리.\n",
        "\n",
        ". KoBERT : 한국어 정보 처리를 위해 특별히 훈련된 BERT 모델. 토큰화 기능 외에도 한국어 텍스트의 이해와 생성 작업에 탁원한 성능을 보임.\n",
        "\n",
        ". Kiwi : 다양한 자연어 처리 기능을 제공. 형태소 분석, 품사 태깅 등 지원.\n",
        "\n",
        ". KoGPT-2 : 한국어 생성 모델, 자연어 이해 및 생성 작업에 사용됨. 대화 생성, 문장 완성 등의 작업에 적합.\n",
        "\n",
        "---\n",
        "\n"
      ],
      "metadata": {
        "id": "xCdjvAWpY8xQ"
      }
    },
    {
      "cell_type": "markdown",
      "source": [
        "정규화 : 형태는 다르지만 같은 의미를 가진 단어를 하나로 통일시켜주는 작업\n",
        "\n",
        "중복된 단어를 하나로 통합하여 데이터를 줄임.\n",
        "\n",
        "Apple, apple -> apple (소문자로 통일 시켜줌)\n",
        "\n",
        "going, goes -> go\n",
        "\n",
        "갔다, 갔었다 -> 가다\n",
        "\n",
        "어간 추출, 표제어 추출 로 가능.\n",
        "\n",
        "---\n"
      ],
      "metadata": {
        "id": "Owe1Zd4xuaxy"
      }
    },
    {
      "cell_type": "markdown",
      "source": [
        "어간(Stem) :\n",
        "\n",
        "가다, 간다, 갔다, 갔었다, 갈 것이다 -> 가\n",
        "go, goes, going -> go\n",
        "\n",
        "NLTP 패키지의 어간 추출기 : PoterStemmer, LancasterStemmer\n",
        "\n",
        "---\n",
        "\n"
      ],
      "metadata": {
        "id": "CMs6S2pNuav0"
      }
    },
    {
      "cell_type": "markdown",
      "source": [
        "표제어(Lemmatization) : 단어의 기본형\n",
        "\n",
        "goes -> go\n",
        "\n",
        "has -> have\n",
        "\n",
        "가다,간다,갔다,갔었다,갈 것이다 ->  가다\n",
        "\n",
        "NLTP 패키지의 표제어 추출기 : WordNetLemmatizer\n",
        "\n",
        "---"
      ],
      "metadata": {
        "id": "y0Ce3f7Uuat4"
      }
    },
    {
      "cell_type": "markdown",
      "source": [
        "품사(pos): 기능, 형태, 의미에 따라 단어를 구분\n",
        "\n",
        "한글 품사 : 명사, 대명사, 수사, 동사, 형용사, 관형사, 부사, 감탄사, 조사\n",
        "\n",
        "![image.png](data:image/png;base64,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)\n",
        "\n",
        "\n",
        "NLTK 품사 : NOUN, PRON, NUM, VERB, ADJ, DET, ADV, PRT, CONJ, ADP\n",
        "\n",
        "언어학자 또는 연구자에 따라 품사 종류가 다르다.\n",
        "\n",
        "---\n"
      ],
      "metadata": {
        "id": "D34DrgNyuar2"
      }
    },
    {
      "cell_type": "markdown",
      "source": [
        "품사 태깅 : 단어 또는 형태소에 품사를 붙이는 작업\n",
        "\n",
        "NLTK 에서는 pos_tag() 함수를 지원함.\n",
        "\n",
        "---"
      ],
      "metadata": {
        "id": "wLJ_teSQuap6"
      }
    },
    {
      "cell_type": "markdown",
      "source": [
        "벡터화(Vectorize) : 텍스트를 컴퓨터가 이해할 수 있도록 벡터로 만들어주는 것, 텍스트 입력을 수치 표현으로 변환하는 것.\n",
        "\n",
        "벡터화에는 다양한 방식이 존재하는데 그중 기본적으로 아래 것들이 있다.\n",
        "\n",
        "BoW(Bag-of-Words), DTM(Document-Term Matrix) ,TF-IDF(Term Frequency-Inverse Document Frequency), Word Embedding\n",
        "\n",
        "벡터화를 알기 위해선 원-핫 인코딩, 희소표현 이란 개념을 알고가면 좋다.\n",
        "\n",
        "---\n"
      ],
      "metadata": {
        "id": "UknKYGgSuaoL"
      }
    },
    {
      "cell_type": "markdown",
      "source": [
        "원-핫 인코딩 : 사과 배 수박 가 있다면.\n",
        "\n",
        "사과 [ 1, 0, 0]\n",
        "배 [0, 1, 0]\n",
        "수박 [0, 0, 1]\n",
        "\n",
        "---\n",
        "\n",
        "이렇게 되면 되면 적은 단어나 문장을 원-핫 인코딩 하기엔 좋지만.. 문장이 길어지거나 단어가 많아진걸 원-핫 인코딩 하면 0이 무수히 많아진다.\n",
        "\n",
        "단어 10,000개 가 있다고 한다면..\n",
        "\n",
        "사과 [0,0,0,0,0,0, ....0,1]\n",
        "이런걸 '희소'라고 한다.\n",
        "\n",
        "이렇게 표현하면 데이터관리가 힘들어진다. 이 걸 희소표현(Sparse Matrix) 문제라고 한다.\n",
        "\n",
        "---\n",
        "\n",
        "\n"
      ],
      "metadata": {
        "id": "j3bs4c8DGUg8"
      }
    },
    {
      "cell_type": "markdown",
      "source": [
        "BoW : 단어의 등장 순서는 고려하지 않고, 단어들의 출현 빈도에만 집중하는 텍스트 데이터의 수치화 표현 방법.\n",
        "\n",
        "---"
      ],
      "metadata": {
        "id": "vWjzQcM7uakO"
      }
    },
    {
      "cell_type": "markdown",
      "source": [
        "DTM : 다수의 문서에서 등장하는 각 단어들의 빈도를 행렬로 표현한 것.\n",
        "\n",
        "---"
      ],
      "metadata": {
        "id": "0iuZL5viBrgq"
      }
    },
    {
      "cell_type": "markdown",
      "source": [
        "TF-IDF : 전체 코퍼스와 비교하여 문서에 있는 각 단어의 중요치 계산.\n",
        "\n",
        "문서 내 단어의 빈도수가 높더라도 다른 문서에서도 많이 등장하는 단어라면 TF-IDF 값은 낮게 나옴.\n",
        "\n",
        "문서 내 단어의 빈도수가 높은 단어들 가운데, 다른 문서에서는 잘 등장하지 않는 단어의 TF-IDF 값이 높게 나옴.\n",
        "\n",
        "---"
      ],
      "metadata": {
        "id": "wVIgYcK4uamE"
      }
    },
    {
      "cell_type": "markdown",
      "source": [
        "Word Embedding : 희소표현 문제를 개선하여 나온 것.\n",
        "\n",
        "대표적으로 word2vec, GloVe 등이 있다.\n",
        "\n",
        "희소표현 대신 밀집표현(Dense Matrix)을 하며. 값은 실수가 된다. 단어의 관계 학습이 필요한 방식이다.\n",
        "\n",
        "자세한건 뒤에.. 실습 쪽에서 보여줌.\n",
        "\n",
        "---\n",
        "\n"
      ],
      "metadata": {
        "id": "f01ihOt5uaXd"
      }
    },
    {
      "cell_type": "markdown",
      "source": [
        "N-gram : n개의 연속된 단어를 새로운 하나의 단어로 정의\n",
        "\n",
        "2개의 단어를 하나로 묶으면 2-gram (=bi-gram)\n",
        "\n",
        "3개의 단어를 하나로 묶으면 3-gram (=tri-gram)\n",
        "\n",
        "그 이상의 단어를 하나로 묶으면 :벡터 크기가 커지고 희소문제가 생길 수 있어서 2~3 정도만 사용한다.\n",
        "\n",
        "N-gram 목적 : 단어들의 순서를 고려할 수 있게 하기 위한 방법이다. 완벽하진 않지만, 부분적으로 단어의 순서 정보를 반영하여 분석할 수 있다.\n",
        "\n",
        "---\n",
        "\n"
      ],
      "metadata": {
        "id": "mN6l0kEaJkCV"
      }
    },
    {
      "cell_type": "markdown",
      "source": [
        "# 텍스트 마이닝 배워보기"
      ],
      "metadata": {
        "id": "lVYdM8ZvLCg2"
      }
    },
    {
      "cell_type": "markdown",
      "source": [
        "텍스트마이닝 과정은\n",
        "\n",
        "텍스트데이터수집 -> 텍스트 전처리 -> 분석 -> 결과\n",
        "\n",
        "텍스트데이터가 있다고 가정하고 그 다음 단계인 텍스트 전처리(가공)부터 알아보겠다.\n",
        "\n",
        "텍스트 전처리는 다양한 방법이 있으니 각각 천천히 알아보자.\n",
        "\n",
        "\n",
        "---\n",
        "\n"
      ],
      "metadata": {
        "id": "PtEev2UrNy8X"
      }
    },
    {
      "cell_type": "markdown",
      "source": [
        "\n",
        "\n",
        "> 작성하고 더 쉽게 학습 할 수 있도록 목차 순서를 수정을 하다보니 코드 실행 중 에러가 발생할 수 있다.\n",
        "패키지 설치 및 import가 잘 되었는지 확인해보거나 테스트에 사용 될 변수가 없진 않은지 확인해보자. 에러를 고치는 것도 나름 공부가 되고 흥미로울 것이다. 화이팅\n"
      ],
      "metadata": {
        "id": "ebKcMrWQuoeW"
      }
    },
    {
      "cell_type": "markdown",
      "source": [
        "## spaCy 토큰화 맛보기\n"
      ],
      "metadata": {
        "id": "bo0qGl3nLElu"
      }
    },
    {
      "cell_type": "markdown",
      "source": [
        "\n",
        "토큰화에 사용해볼 패키지 : spaCy\n",
        "\n",
        "spaCy : 고급 자연어를 위한 다양한 패키지 中 하나!! (굉장히 많은 패키지가 있음)\n",
        "\n",
        "spaCy의 자세한 정보 : https://spacy.io\n",
        "\n",
        "spaCy로 실습 해보는 이유 : 서론에서 나온 토큰화, 품사태깅, 표제어처리 기능이 있어서 한 번 사용해보려고. (작성한 기능 외에도 다양한 기능을 제공함.)"
      ],
      "metadata": {
        "id": "f6uSWUm1RLde"
      }
    },
    {
      "cell_type": "code",
      "source": [
        "# 텍스트 전처리 실습에 필요한 패키지(spaCy) 설치 방법\n",
        "# 코랩은 리눅스 환경이다. 때문에 커맨드 맨 앞에 '!'를 붙이면 리눅스 커맨드라고 명시하는 것 임.\n",
        "!pip install spacy\n",
        "# 즉, pip install 명령라인으로 spacy를 설치하라는 것."
      ],
      "metadata": {
        "id": "BcAtJGojpA1J",
        "colab": {
          "base_uri": "https://localhost:8080/"
        },
        "outputId": "ef36bb4d-c8d4-4572-bd8e-5f5a174a8a92"
      },
      "execution_count": null,
      "outputs": [
        {
          "output_type": "stream",
          "name": "stdout",
          "text": [
            "Requirement already satisfied: spacy in /usr/local/lib/python3.10/dist-packages (3.7.4)\n",
            "Requirement already satisfied: spacy-legacy<3.1.0,>=3.0.11 in /usr/local/lib/python3.10/dist-packages (from spacy) (3.0.12)\n",
            "Requirement already satisfied: spacy-loggers<2.0.0,>=1.0.0 in /usr/local/lib/python3.10/dist-packages (from spacy) (1.0.5)\n",
            "Requirement already satisfied: murmurhash<1.1.0,>=0.28.0 in /usr/local/lib/python3.10/dist-packages (from spacy) (1.0.10)\n",
            "Requirement already satisfied: cymem<2.1.0,>=2.0.2 in /usr/local/lib/python3.10/dist-packages (from spacy) (2.0.8)\n",
            "Requirement already satisfied: preshed<3.1.0,>=3.0.2 in /usr/local/lib/python3.10/dist-packages (from spacy) (3.0.9)\n",
            "Requirement already satisfied: thinc<8.3.0,>=8.2.2 in /usr/local/lib/python3.10/dist-packages (from spacy) (8.2.3)\n",
            "Requirement already satisfied: wasabi<1.2.0,>=0.9.1 in /usr/local/lib/python3.10/dist-packages (from spacy) (1.1.2)\n",
            "Requirement already satisfied: srsly<3.0.0,>=2.4.3 in /usr/local/lib/python3.10/dist-packages (from spacy) (2.4.8)\n",
            "Requirement already satisfied: catalogue<2.1.0,>=2.0.6 in /usr/local/lib/python3.10/dist-packages (from spacy) (2.0.10)\n",
            "Requirement already satisfied: weasel<0.4.0,>=0.1.0 in /usr/local/lib/python3.10/dist-packages (from spacy) (0.3.4)\n",
            "Requirement already satisfied: typer<0.10.0,>=0.3.0 in /usr/local/lib/python3.10/dist-packages (from spacy) (0.9.4)\n",
            "Requirement already satisfied: smart-open<7.0.0,>=5.2.1 in /usr/local/lib/python3.10/dist-packages (from spacy) (6.4.0)\n",
            "Requirement already satisfied: tqdm<5.0.0,>=4.38.0 in /usr/local/lib/python3.10/dist-packages (from spacy) (4.66.2)\n",
            "Requirement already satisfied: requests<3.0.0,>=2.13.0 in /usr/local/lib/python3.10/dist-packages (from spacy) (2.31.0)\n",
            "Requirement already satisfied: pydantic!=1.8,!=1.8.1,<3.0.0,>=1.7.4 in /usr/local/lib/python3.10/dist-packages (from spacy) (2.6.4)\n",
            "Requirement already satisfied: jinja2 in /usr/local/lib/python3.10/dist-packages (from spacy) (3.1.3)\n",
            "Requirement already satisfied: setuptools in /usr/local/lib/python3.10/dist-packages (from spacy) (67.7.2)\n",
            "Requirement already satisfied: packaging>=20.0 in /usr/local/lib/python3.10/dist-packages (from spacy) (24.0)\n",
            "Requirement already satisfied: langcodes<4.0.0,>=3.2.0 in /usr/local/lib/python3.10/dist-packages (from spacy) (3.3.0)\n",
            "Requirement already satisfied: numpy>=1.19.0 in /usr/local/lib/python3.10/dist-packages (from spacy) (1.25.2)\n",
            "Requirement already satisfied: annotated-types>=0.4.0 in /usr/local/lib/python3.10/dist-packages (from pydantic!=1.8,!=1.8.1,<3.0.0,>=1.7.4->spacy) (0.6.0)\n",
            "Requirement already satisfied: pydantic-core==2.16.3 in /usr/local/lib/python3.10/dist-packages (from pydantic!=1.8,!=1.8.1,<3.0.0,>=1.7.4->spacy) (2.16.3)\n",
            "Requirement already satisfied: typing-extensions>=4.6.1 in /usr/local/lib/python3.10/dist-packages (from pydantic!=1.8,!=1.8.1,<3.0.0,>=1.7.4->spacy) (4.10.0)\n",
            "Requirement already satisfied: charset-normalizer<4,>=2 in /usr/local/lib/python3.10/dist-packages (from requests<3.0.0,>=2.13.0->spacy) (3.3.2)\n",
            "Requirement already satisfied: idna<4,>=2.5 in /usr/local/lib/python3.10/dist-packages (from requests<3.0.0,>=2.13.0->spacy) (3.6)\n",
            "Requirement already satisfied: urllib3<3,>=1.21.1 in /usr/local/lib/python3.10/dist-packages (from requests<3.0.0,>=2.13.0->spacy) (2.0.7)\n",
            "Requirement already satisfied: certifi>=2017.4.17 in /usr/local/lib/python3.10/dist-packages (from requests<3.0.0,>=2.13.0->spacy) (2024.2.2)\n",
            "Requirement already satisfied: blis<0.8.0,>=0.7.8 in /usr/local/lib/python3.10/dist-packages (from thinc<8.3.0,>=8.2.2->spacy) (0.7.11)\n",
            "Requirement already satisfied: confection<1.0.0,>=0.0.1 in /usr/local/lib/python3.10/dist-packages (from thinc<8.3.0,>=8.2.2->spacy) (0.1.4)\n",
            "Requirement already satisfied: click<9.0.0,>=7.1.1 in /usr/local/lib/python3.10/dist-packages (from typer<0.10.0,>=0.3.0->spacy) (8.1.7)\n",
            "Requirement already satisfied: cloudpathlib<0.17.0,>=0.7.0 in /usr/local/lib/python3.10/dist-packages (from weasel<0.4.0,>=0.1.0->spacy) (0.16.0)\n",
            "Requirement already satisfied: MarkupSafe>=2.0 in /usr/local/lib/python3.10/dist-packages (from jinja2->spacy) (2.1.5)\n"
          ]
        }
      ]
    },
    {
      "cell_type": "code",
      "source": [
        "# 패키지 설치 완료 확인\n",
        "!pip show spacy"
      ],
      "metadata": {
        "id": "VRwCbwlc4TnQ",
        "colab": {
          "base_uri": "https://localhost:8080/"
        },
        "outputId": "eefa4d99-2b20-4b4e-ee70-6dbca265eb61"
      },
      "execution_count": null,
      "outputs": [
        {
          "output_type": "stream",
          "name": "stdout",
          "text": [
            "Name: spacy\n",
            "Version: 3.7.4\n",
            "Summary: Industrial-strength Natural Language Processing (NLP) in Python\n",
            "Home-page: https://spacy.io\n",
            "Author: Explosion\n",
            "Author-email: contact@explosion.ai\n",
            "License: MIT\n",
            "Location: /usr/local/lib/python3.10/dist-packages\n",
            "Requires: catalogue, cymem, jinja2, langcodes, murmurhash, numpy, packaging, preshed, pydantic, requests, setuptools, smart-open, spacy-legacy, spacy-loggers, srsly, thinc, tqdm, typer, wasabi, weasel\n",
            "Required-by: en-core-web-sm, fastai\n"
          ]
        }
      ]
    },
    {
      "cell_type": "code",
      "source": [
        "# spacy 패키지에서 제공하는 토큰화에 필요한 도구 다운로드\n",
        "# 아래 명령라인은 도구를 다운로드하는 코드일 뿐! 그냥 따라 치면 다운 받아짐.\n",
        "!python -m spacy download en_core_web_sm"
      ],
      "metadata": {
        "id": "zkpAzsyG48H_",
        "colab": {
          "base_uri": "https://localhost:8080/"
        },
        "outputId": "72550964-83af-41dd-872c-3fb9feb6ec8c"
      },
      "execution_count": null,
      "outputs": [
        {
          "output_type": "stream",
          "name": "stdout",
          "text": [
            "Collecting en-core-web-sm==3.7.1\n",
            "  Downloading https://github.com/explosion/spacy-models/releases/download/en_core_web_sm-3.7.1/en_core_web_sm-3.7.1-py3-none-any.whl (12.8 MB)\n",
            "\u001b[2K     \u001b[90m━━━━━━━━━━━━━━━━━━━━━━━━━━━━━━━━━━━━━━━━\u001b[0m \u001b[32m12.8/12.8 MB\u001b[0m \u001b[31m15.2 MB/s\u001b[0m eta \u001b[36m0:00:00\u001b[0m\n",
            "\u001b[?25hRequirement already satisfied: spacy<3.8.0,>=3.7.2 in /usr/local/lib/python3.10/dist-packages (from en-core-web-sm==3.7.1) (3.7.4)\n",
            "Requirement already satisfied: spacy-legacy<3.1.0,>=3.0.11 in /usr/local/lib/python3.10/dist-packages (from spacy<3.8.0,>=3.7.2->en-core-web-sm==3.7.1) (3.0.12)\n",
            "Requirement already satisfied: spacy-loggers<2.0.0,>=1.0.0 in /usr/local/lib/python3.10/dist-packages (from spacy<3.8.0,>=3.7.2->en-core-web-sm==3.7.1) (1.0.5)\n",
            "Requirement already satisfied: murmurhash<1.1.0,>=0.28.0 in /usr/local/lib/python3.10/dist-packages (from spacy<3.8.0,>=3.7.2->en-core-web-sm==3.7.1) (1.0.10)\n",
            "Requirement already satisfied: cymem<2.1.0,>=2.0.2 in /usr/local/lib/python3.10/dist-packages (from spacy<3.8.0,>=3.7.2->en-core-web-sm==3.7.1) (2.0.8)\n",
            "Requirement already satisfied: preshed<3.1.0,>=3.0.2 in /usr/local/lib/python3.10/dist-packages (from spacy<3.8.0,>=3.7.2->en-core-web-sm==3.7.1) (3.0.9)\n",
            "Requirement already satisfied: thinc<8.3.0,>=8.2.2 in /usr/local/lib/python3.10/dist-packages (from spacy<3.8.0,>=3.7.2->en-core-web-sm==3.7.1) (8.2.3)\n",
            "Requirement already satisfied: wasabi<1.2.0,>=0.9.1 in /usr/local/lib/python3.10/dist-packages (from spacy<3.8.0,>=3.7.2->en-core-web-sm==3.7.1) (1.1.2)\n",
            "Requirement already satisfied: srsly<3.0.0,>=2.4.3 in /usr/local/lib/python3.10/dist-packages (from spacy<3.8.0,>=3.7.2->en-core-web-sm==3.7.1) (2.4.8)\n",
            "Requirement already satisfied: catalogue<2.1.0,>=2.0.6 in /usr/local/lib/python3.10/dist-packages (from spacy<3.8.0,>=3.7.2->en-core-web-sm==3.7.1) (2.0.10)\n",
            "Requirement already satisfied: weasel<0.4.0,>=0.1.0 in /usr/local/lib/python3.10/dist-packages (from spacy<3.8.0,>=3.7.2->en-core-web-sm==3.7.1) (0.3.4)\n",
            "Requirement already satisfied: typer<0.10.0,>=0.3.0 in /usr/local/lib/python3.10/dist-packages (from spacy<3.8.0,>=3.7.2->en-core-web-sm==3.7.1) (0.9.4)\n",
            "Requirement already satisfied: smart-open<7.0.0,>=5.2.1 in /usr/local/lib/python3.10/dist-packages (from spacy<3.8.0,>=3.7.2->en-core-web-sm==3.7.1) (6.4.0)\n",
            "Requirement already satisfied: tqdm<5.0.0,>=4.38.0 in /usr/local/lib/python3.10/dist-packages (from spacy<3.8.0,>=3.7.2->en-core-web-sm==3.7.1) (4.66.2)\n",
            "Requirement already satisfied: requests<3.0.0,>=2.13.0 in /usr/local/lib/python3.10/dist-packages (from spacy<3.8.0,>=3.7.2->en-core-web-sm==3.7.1) (2.31.0)\n",
            "Requirement already satisfied: pydantic!=1.8,!=1.8.1,<3.0.0,>=1.7.4 in /usr/local/lib/python3.10/dist-packages (from spacy<3.8.0,>=3.7.2->en-core-web-sm==3.7.1) (2.6.4)\n",
            "Requirement already satisfied: jinja2 in /usr/local/lib/python3.10/dist-packages (from spacy<3.8.0,>=3.7.2->en-core-web-sm==3.7.1) (3.1.3)\n",
            "Requirement already satisfied: setuptools in /usr/local/lib/python3.10/dist-packages (from spacy<3.8.0,>=3.7.2->en-core-web-sm==3.7.1) (67.7.2)\n",
            "Requirement already satisfied: packaging>=20.0 in /usr/local/lib/python3.10/dist-packages (from spacy<3.8.0,>=3.7.2->en-core-web-sm==3.7.1) (24.0)\n",
            "Requirement already satisfied: langcodes<4.0.0,>=3.2.0 in /usr/local/lib/python3.10/dist-packages (from spacy<3.8.0,>=3.7.2->en-core-web-sm==3.7.1) (3.3.0)\n",
            "Requirement already satisfied: numpy>=1.19.0 in /usr/local/lib/python3.10/dist-packages (from spacy<3.8.0,>=3.7.2->en-core-web-sm==3.7.1) (1.25.2)\n",
            "Requirement already satisfied: annotated-types>=0.4.0 in /usr/local/lib/python3.10/dist-packages (from pydantic!=1.8,!=1.8.1,<3.0.0,>=1.7.4->spacy<3.8.0,>=3.7.2->en-core-web-sm==3.7.1) (0.6.0)\n",
            "Requirement already satisfied: pydantic-core==2.16.3 in /usr/local/lib/python3.10/dist-packages (from pydantic!=1.8,!=1.8.1,<3.0.0,>=1.7.4->spacy<3.8.0,>=3.7.2->en-core-web-sm==3.7.1) (2.16.3)\n",
            "Requirement already satisfied: typing-extensions>=4.6.1 in /usr/local/lib/python3.10/dist-packages (from pydantic!=1.8,!=1.8.1,<3.0.0,>=1.7.4->spacy<3.8.0,>=3.7.2->en-core-web-sm==3.7.1) (4.10.0)\n",
            "Requirement already satisfied: charset-normalizer<4,>=2 in /usr/local/lib/python3.10/dist-packages (from requests<3.0.0,>=2.13.0->spacy<3.8.0,>=3.7.2->en-core-web-sm==3.7.1) (3.3.2)\n",
            "Requirement already satisfied: idna<4,>=2.5 in /usr/local/lib/python3.10/dist-packages (from requests<3.0.0,>=2.13.0->spacy<3.8.0,>=3.7.2->en-core-web-sm==3.7.1) (3.6)\n",
            "Requirement already satisfied: urllib3<3,>=1.21.1 in /usr/local/lib/python3.10/dist-packages (from requests<3.0.0,>=2.13.0->spacy<3.8.0,>=3.7.2->en-core-web-sm==3.7.1) (2.0.7)\n",
            "Requirement already satisfied: certifi>=2017.4.17 in /usr/local/lib/python3.10/dist-packages (from requests<3.0.0,>=2.13.0->spacy<3.8.0,>=3.7.2->en-core-web-sm==3.7.1) (2024.2.2)\n",
            "Requirement already satisfied: blis<0.8.0,>=0.7.8 in /usr/local/lib/python3.10/dist-packages (from thinc<8.3.0,>=8.2.2->spacy<3.8.0,>=3.7.2->en-core-web-sm==3.7.1) (0.7.11)\n",
            "Requirement already satisfied: confection<1.0.0,>=0.0.1 in /usr/local/lib/python3.10/dist-packages (from thinc<8.3.0,>=8.2.2->spacy<3.8.0,>=3.7.2->en-core-web-sm==3.7.1) (0.1.4)\n",
            "Requirement already satisfied: click<9.0.0,>=7.1.1 in /usr/local/lib/python3.10/dist-packages (from typer<0.10.0,>=0.3.0->spacy<3.8.0,>=3.7.2->en-core-web-sm==3.7.1) (8.1.7)\n",
            "Requirement already satisfied: cloudpathlib<0.17.0,>=0.7.0 in /usr/local/lib/python3.10/dist-packages (from weasel<0.4.0,>=0.1.0->spacy<3.8.0,>=3.7.2->en-core-web-sm==3.7.1) (0.16.0)\n",
            "Requirement already satisfied: MarkupSafe>=2.0 in /usr/local/lib/python3.10/dist-packages (from jinja2->spacy<3.8.0,>=3.7.2->en-core-web-sm==3.7.1) (2.1.5)\n",
            "\u001b[38;5;2m✔ Download and installation successful\u001b[0m\n",
            "You can now load the package via spacy.load('en_core_web_sm')\n",
            "\u001b[38;5;3m⚠ Restart to reload dependencies\u001b[0m\n",
            "If you are in a Jupyter or Colab notebook, you may need to restart Python in\n",
            "order to load all the package's dependencies. You can do this by selecting the\n",
            "'Restart kernel' or 'Restart runtime' option.\n"
          ]
        }
      ]
    },
    {
      "cell_type": "code",
      "source": [
        "# 토큰화에 필요한 도구 불러온다.\n",
        "import spacy\n",
        "spacy_en = spacy.load(\"en_core_web_sm\")"
      ],
      "metadata": {
        "id": "bluo2weN5lFm"
      },
      "execution_count": null,
      "outputs": []
    },
    {
      "cell_type": "code",
      "source": [
        "# 토큰화 해 볼 문장을 적어보자\n",
        "text = \"David's book wasn't famous, but his family loved his book\""
      ],
      "metadata": {
        "id": "3Q67ywqD6AUm"
      },
      "execution_count": null,
      "outputs": []
    },
    {
      "cell_type": "code",
      "source": [
        "# 토큰화 도구로 토큰화 해보고 토큰된 단어를 출력해보자\n",
        "for token in spacy_en.tokenizer(text): # .tokenizer 단어 토큰화\n",
        "    print(token)\n",
        "# 출력된 print를 보고 문장의 단어가 어떻게 토큰화가 되었는지 본다.\n",
        "# spacy의 en_core_web_sm 토큰화는 출력처럼 나오지만, 또 다른 다양한 언어처리 패키지의 다양한 토큰 도구들은 각각 다른 방식으로 토큰화 한다는 점 기억하자."
      ],
      "metadata": {
        "id": "zkzFm7YQ6g44",
        "colab": {
          "base_uri": "https://localhost:8080/"
        },
        "outputId": "a01b76b2-10e3-45f6-8082-86b1e0de3545"
      },
      "execution_count": null,
      "outputs": [
        {
          "output_type": "stream",
          "name": "stdout",
          "text": [
            "David\n",
            "'s\n",
            "book\n",
            "was\n",
            "n't\n",
            "famous\n",
            ",\n",
            "but\n",
            "his\n",
            "family\n",
            "loved\n",
            "his\n",
            "book\n"
          ]
        }
      ]
    },
    {
      "cell_type": "markdown",
      "source": [
        "\n",
        "\n",
        "---\n",
        "\n"
      ],
      "metadata": {
        "id": "g2ad3OTU7iqq"
      }
    },
    {
      "cell_type": "markdown",
      "source": [
        "## spaCy 텍스트 품사 태깅 및 표제어 추출 맛보기\n",
        "\n"
      ],
      "metadata": {
        "id": "6HHR2xfv7kbq"
      }
    },
    {
      "cell_type": "markdown",
      "source": [
        "토큰화에 사용해볼 패키지 : spaCy\n",
        "\n",
        "사용하는 이유 : 앞에 사용한 spaCy에도 품사태깅, 표제어추출 도구가 있어서 써보기."
      ],
      "metadata": {
        "id": "x3DVfIdjROXo"
      }
    },
    {
      "cell_type": "code",
      "source": [
        "for token in spacy_en(text):\n",
        "    print(\"토큰 / 품사 / 세분화 된 품사 / 표제어\")\n",
        "    print(f\" {token.text} / {token.pos_} / {token.tag_} / {token.lemma_}\")\n",
        "    print(\"\\n\")"
      ],
      "metadata": {
        "id": "T5hQFRrf6yM5",
        "colab": {
          "base_uri": "https://localhost:8080/"
        },
        "outputId": "dd2c1fd0-23e8-4774-8985-eb07b783acab"
      },
      "execution_count": null,
      "outputs": [
        {
          "output_type": "stream",
          "name": "stdout",
          "text": [
            "토큰 / 품사 / 세분화 된 품사 / 표제어\n",
            " David / PROPN / NNP / David\n",
            "\n",
            "\n",
            "토큰 / 품사 / 세분화 된 품사 / 표제어\n",
            " 's / PART / POS / 's\n",
            "\n",
            "\n",
            "토큰 / 품사 / 세분화 된 품사 / 표제어\n",
            " book / NOUN / NN / book\n",
            "\n",
            "\n",
            "토큰 / 품사 / 세분화 된 품사 / 표제어\n",
            " was / AUX / VBD / be\n",
            "\n",
            "\n",
            "토큰 / 품사 / 세분화 된 품사 / 표제어\n",
            " n't / PART / RB / not\n",
            "\n",
            "\n",
            "토큰 / 품사 / 세분화 된 품사 / 표제어\n",
            " famous / ADJ / JJ / famous\n",
            "\n",
            "\n",
            "토큰 / 품사 / 세분화 된 품사 / 표제어\n",
            " , / PUNCT / , / ,\n",
            "\n",
            "\n",
            "토큰 / 품사 / 세분화 된 품사 / 표제어\n",
            " but / CCONJ / CC / but\n",
            "\n",
            "\n",
            "토큰 / 품사 / 세분화 된 품사 / 표제어\n",
            " his / PRON / PRP$ / his\n",
            "\n",
            "\n",
            "토큰 / 품사 / 세분화 된 품사 / 표제어\n",
            " family / NOUN / NN / family\n",
            "\n",
            "\n",
            "토큰 / 품사 / 세분화 된 품사 / 표제어\n",
            " loved / VERB / VBD / love\n",
            "\n",
            "\n",
            "토큰 / 품사 / 세분화 된 품사 / 표제어\n",
            " his / PRON / PRP$ / his\n",
            "\n",
            "\n",
            "토큰 / 품사 / 세분화 된 품사 / 표제어\n",
            " book / NOUN / NN / book\n",
            "\n",
            "\n"
          ]
        }
      ]
    },
    {
      "cell_type": "markdown",
      "source": [
        "\n",
        "\n",
        "---\n",
        "\n"
      ],
      "metadata": {
        "id": "r6PqSmDL_m1_"
      }
    },
    {
      "cell_type": "markdown",
      "source": [
        "## spaCy 불용어 처리 맛보기"
      ],
      "metadata": {
        "id": "YvFxD_OB_oX6"
      }
    },
    {
      "cell_type": "markdown",
      "source": [
        "실습에 사용할 패키지 : spaCy\n",
        "\n",
        "사용한 이유 : 패키지 spaCy는 불용어 사전이 미리 만들어져 있으니 한번 연습삼아 써보기"
      ],
      "metadata": {
        "id": "kZxU6H7aRABa"
      }
    },
    {
      "cell_type": "code",
      "source": [
        "#우선 spacy가 제공하는 불용어 사전을 불러오자\n",
        "spacy_stop_words = spacy.lang.en.stop_words.STOP_WORDS\n",
        "\n",
        "# 불러온 불용어 사전에서 어떤것들이 있는지 5개만 확인해보자\n",
        "temp_stop_words = [] #임시 불용어 사전\n",
        "for i, stop_word in enumerate(spacy_stop_words): #enumerate는 인덱스를 부여하는 것임 테스트 편의상 써봄\n",
        "    if i == 5 :break\n",
        "    print(stop_word)\n",
        "    temp_stop_words.append(stop_word) # 지금 확인된 불용어는 regarding nobody below over am 이렇게 5가지를 확인했다.. 분명 더 많겠지만! 이것만 임시 불용어 사전에 담아보자"
      ],
      "metadata": {
        "id": "GKxBsZXT8yJz",
        "colab": {
          "base_uri": "https://localhost:8080/"
        },
        "outputId": "8f948173-3b32-40c2-fe29-35ae78b16a58"
      },
      "execution_count": null,
      "outputs": [
        {
          "output_type": "stream",
          "name": "stdout",
          "text": [
            "your\n",
            "sometimes\n",
            "to\n",
            "latterly\n",
            "could\n"
          ]
        }
      ]
    },
    {
      "cell_type": "code",
      "source": [
        "# 임시 불용어는 출력되지 않게 해보자\n",
        "text = \"나는 책을 regarding 하는것이 너무 귀찮아 혹시 nobody 날 도와줄 below 는 없을까? 그럼 이 순간이 over 될 텐뎅\" #영어를 몰라서 그냥 막 써본 텍스트임..\n",
        "filtered_tokens = ' '.join([token.text for token in spacy_en(text) if token.text not in temp_stop_words]) #텍스트를 토큰한 단어들이 불용어 사전에 없으면 토큰을 출력하자.\n",
        "print(filtered_tokens)"
      ],
      "metadata": {
        "id": "RlFu4j8HBDf-",
        "colab": {
          "base_uri": "https://localhost:8080/"
        },
        "outputId": "4a7ac064-c35a-4ba4-fddf-ad9c826ae35b"
      },
      "execution_count": null,
      "outputs": [
        {
          "output_type": "stream",
          "name": "stdout",
          "text": [
            "나는 책을 regarding 하는것이 너무 귀찮아 혹시 nobody 날 도와줄 below 는 없을까 ? 그럼 이 순간이 over 될 텐뎅\n"
          ]
        }
      ]
    },
    {
      "cell_type": "markdown",
      "source": [
        "\n",
        "\n",
        "---\n",
        "\n"
      ],
      "metadata": {
        "id": "tSNU8c5WF5_J"
      }
    },
    {
      "cell_type": "markdown",
      "source": [
        "## NLTK 토큰화 맛보기\n"
      ],
      "metadata": {
        "id": "c_a7pjd3F7U0"
      }
    },
    {
      "cell_type": "markdown",
      "source": [
        "NLTK(Natural Language Toolkit): 교육용으로 문서 분석을 비롯해 자연어 처리까지 경험해 볼 수 있는 파이썬 패키지\n",
        "\n",
        "사용해보는 이유 : spacy 말고도 다양한 언어 처리 도구들이 있으니 한번 써보자\n",
        "\n",
        "자세한 정보는 : https://www.lntk.org"
      ],
      "metadata": {
        "id": "gr4oK_gsQ6SR"
      }
    },
    {
      "cell_type": "code",
      "source": [
        "# NLTK 설치\n",
        "!pip install nltk"
      ],
      "metadata": {
        "id": "y825jHEICd9-",
        "colab": {
          "base_uri": "https://localhost:8080/"
        },
        "outputId": "6d9d0381-7f44-402b-8555-5bc4b213ca2c"
      },
      "execution_count": null,
      "outputs": [
        {
          "output_type": "stream",
          "name": "stdout",
          "text": [
            "Requirement already satisfied: nltk in /usr/local/lib/python3.10/dist-packages (3.8.1)\n",
            "Requirement already satisfied: click in /usr/local/lib/python3.10/dist-packages (from nltk) (8.1.7)\n",
            "Requirement already satisfied: joblib in /usr/local/lib/python3.10/dist-packages (from nltk) (1.3.2)\n",
            "Requirement already satisfied: regex>=2021.8.3 in /usr/local/lib/python3.10/dist-packages (from nltk) (2023.12.25)\n",
            "Requirement already satisfied: tqdm in /usr/local/lib/python3.10/dist-packages (from nltk) (4.66.2)\n"
          ]
        }
      ]
    },
    {
      "cell_type": "code",
      "source": [
        "# nltk 설치 확인\n",
        "!pip show nltk"
      ],
      "metadata": {
        "id": "V_5epuQWGhG2",
        "colab": {
          "base_uri": "https://localhost:8080/"
        },
        "outputId": "a49290c2-0c49-4dce-def0-690125600bbd"
      },
      "execution_count": null,
      "outputs": [
        {
          "output_type": "stream",
          "name": "stdout",
          "text": [
            "Name: nltk\n",
            "Version: 3.8.1\n",
            "Summary: Natural Language Toolkit\n",
            "Home-page: https://www.nltk.org/\n",
            "Author: NLTK Team\n",
            "Author-email: nltk.team@gmail.com\n",
            "License: Apache License, Version 2.0\n",
            "Location: /usr/local/lib/python3.10/dist-packages\n",
            "Requires: click, joblib, regex, tqdm\n",
            "Required-by: textblob\n"
          ]
        }
      ]
    },
    {
      "cell_type": "code",
      "source": [
        "# nltk에서 사용해볼 도구들 다운로드\n",
        "import nltk\n",
        "nltk.download('popular') # nltk에 인기있는 도구 모음. (nltk 버전에 따라 인기도구가 다르니 홈페이지 확인 해보자)\n",
        "# 만약 popular 대신 all 를 입력하면 모든 도구를 받아오기 때문에 오래걸린다."
      ],
      "metadata": {
        "id": "EzGBExyoGm-d",
        "colab": {
          "base_uri": "https://localhost:8080/"
        },
        "outputId": "12f2d00a-1227-4a03-a188-f9458c4fe5cf"
      },
      "execution_count": null,
      "outputs": [
        {
          "output_type": "stream",
          "name": "stderr",
          "text": [
            "[nltk_data] Downloading collection 'popular'\n",
            "[nltk_data]    | \n",
            "[nltk_data]    | Downloading package cmudict to /root/nltk_data...\n",
            "[nltk_data]    |   Unzipping corpora/cmudict.zip.\n",
            "[nltk_data]    | Downloading package gazetteers to /root/nltk_data...\n",
            "[nltk_data]    |   Unzipping corpora/gazetteers.zip.\n",
            "[nltk_data]    | Downloading package genesis to /root/nltk_data...\n",
            "[nltk_data]    |   Unzipping corpora/genesis.zip.\n",
            "[nltk_data]    | Downloading package gutenberg to /root/nltk_data...\n",
            "[nltk_data]    |   Unzipping corpora/gutenberg.zip.\n",
            "[nltk_data]    | Downloading package inaugural to /root/nltk_data...\n",
            "[nltk_data]    |   Unzipping corpora/inaugural.zip.\n",
            "[nltk_data]    | Downloading package movie_reviews to\n",
            "[nltk_data]    |     /root/nltk_data...\n",
            "[nltk_data]    |   Unzipping corpora/movie_reviews.zip.\n",
            "[nltk_data]    | Downloading package names to /root/nltk_data...\n",
            "[nltk_data]    |   Unzipping corpora/names.zip.\n",
            "[nltk_data]    | Downloading package shakespeare to /root/nltk_data...\n",
            "[nltk_data]    |   Unzipping corpora/shakespeare.zip.\n",
            "[nltk_data]    | Downloading package stopwords to /root/nltk_data...\n",
            "[nltk_data]    |   Unzipping corpora/stopwords.zip.\n",
            "[nltk_data]    | Downloading package treebank to /root/nltk_data...\n",
            "[nltk_data]    |   Unzipping corpora/treebank.zip.\n",
            "[nltk_data]    | Downloading package twitter_samples to\n",
            "[nltk_data]    |     /root/nltk_data...\n",
            "[nltk_data]    |   Unzipping corpora/twitter_samples.zip.\n",
            "[nltk_data]    | Downloading package omw to /root/nltk_data...\n",
            "[nltk_data]    | Downloading package omw-1.4 to /root/nltk_data...\n",
            "[nltk_data]    | Downloading package wordnet to /root/nltk_data...\n",
            "[nltk_data]    | Downloading package wordnet2021 to /root/nltk_data...\n",
            "[nltk_data]    | Downloading package wordnet31 to /root/nltk_data...\n",
            "[nltk_data]    | Downloading package wordnet_ic to /root/nltk_data...\n",
            "[nltk_data]    |   Unzipping corpora/wordnet_ic.zip.\n",
            "[nltk_data]    | Downloading package words to /root/nltk_data...\n",
            "[nltk_data]    |   Unzipping corpora/words.zip.\n",
            "[nltk_data]    | Downloading package maxent_ne_chunker to\n",
            "[nltk_data]    |     /root/nltk_data...\n",
            "[nltk_data]    |   Unzipping chunkers/maxent_ne_chunker.zip.\n",
            "[nltk_data]    | Downloading package punkt to /root/nltk_data...\n",
            "[nltk_data]    |   Unzipping tokenizers/punkt.zip.\n",
            "[nltk_data]    | Downloading package snowball_data to\n",
            "[nltk_data]    |     /root/nltk_data...\n",
            "[nltk_data]    | Downloading package averaged_perceptron_tagger to\n",
            "[nltk_data]    |     /root/nltk_data...\n",
            "[nltk_data]    |   Unzipping taggers/averaged_perceptron_tagger.zip.\n",
            "[nltk_data]    | \n",
            "[nltk_data]  Done downloading collection popular\n"
          ]
        },
        {
          "output_type": "execute_result",
          "data": {
            "text/plain": [
              "True"
            ]
          },
          "metadata": {},
          "execution_count": 55
        }
      ]
    },
    {
      "cell_type": "code",
      "source": [
        "# 토큰화에 사용해볼 공통 텍스트\n",
        "# text = \"Can't wait for the summer-sun! :) #excited\"\n",
        "text = \"Looking forward to the summer-sunshine,😎 can't-miss the beach-days & BBQ-nights! #SummerVibes ✨\"\n",
        "# text = \"Can't wait for the summer-break party at John's place! 😊 It's going to be epic - sun, sea, and surf. #SummerVibes 🌞🏄‍♂️\"\n",
        "# text = \"his sentence incorporates a variety of elements that can challenge different tokenizers, including contractions (\\\"Can't\\\"), possessives (\\\"John's\\\"), hyphens (\\\"summer-break\\\"), emoticons (\\\"😊\\\"), and hashtags (\\\"#SummerVibes\\\")\""
      ],
      "metadata": {
        "id": "4jfpcAu4KSaF"
      },
      "execution_count": null,
      "outputs": []
    },
    {
      "cell_type": "code",
      "source": [
        "from nltk import word_tokenize #nltk에서 word_tokenize 불러오기\n",
        "print(text)\n",
        "print(word_tokenize(text)) # nltk의 word_tokenize는 쉼표도 하나의 단어로 토큰화 하고있다. I'm에서 'm 도 하나의 단어로 묶어서 처리하고있다."
      ],
      "metadata": {
        "colab": {
          "base_uri": "https://localhost:8080/"
        },
        "id": "ep3_5OzBJBHo",
        "outputId": "3e978806-555a-407b-fac8-789e652d9c80"
      },
      "execution_count": null,
      "outputs": [
        {
          "output_type": "stream",
          "name": "stdout",
          "text": [
            "Looking forward to the summer-sunshine,😎 can't-miss the beach-days & BBQ-nights! #SummerVibes ✨\n",
            "['Looking', 'forward', 'to', 'the', 'summer-sunshine', ',', '😎', \"can't-miss\", 'the', 'beach-days', '&', 'BBQ-nights', '!', '#', 'SummerVibes', '✨']\n"
          ]
        }
      ]
    },
    {
      "cell_type": "code",
      "source": [
        "from nltk import WordPunctTokenizer #nltk에서 WordPunctTokenize 불러오기\n",
        "print(text)\n",
        "print(WordPunctTokenizer().tokenize(text)) # WordPuctTokenize는 쉼표, 어퍼스트로피 를 하나의 토큰으로 인지해준다. I'm 을 [i, ', m] 이렇게"
      ],
      "metadata": {
        "colab": {
          "base_uri": "https://localhost:8080/"
        },
        "id": "VBfYrgTxKF3I",
        "outputId": "23771c98-620e-4d66-ba4d-91a16e9422fe"
      },
      "execution_count": null,
      "outputs": [
        {
          "output_type": "stream",
          "name": "stdout",
          "text": [
            "Looking forward to the summer-sunshine,😎 can't-miss the beach-days & BBQ-nights! #SummerVibes ✨\n",
            "['Looking', 'forward', 'to', 'the', 'summer', '-', 'sunshine', ',😎', 'can', \"'\", 't', '-', 'miss', 'the', 'beach', '-', 'days', '&', 'BBQ', '-', 'nights', '!', '#', 'SummerVibes', '✨']\n"
          ]
        }
      ]
    },
    {
      "cell_type": "code",
      "source": [
        "# 어퍼스트로피를 다르게 처리한 텐서플로우의 케라스의 어떤 도구가 있는데 잠깐 소개 해보겠다. 가볍게 이해하자!\n",
        "from tensorflow.keras.preprocessing.text import text_to_word_sequence\n",
        "print(text)\n",
        "print(text_to_word_sequence(text)) #어퍼스트로피로 단어를 연결한걸 하나의 토큰으로 인지한다는 점.\n",
        "# 여기서 말하고자 하는건 다양한 토큰 방식이 있으니 도메인마다 필요에 맞게 여러 도구를 탐색해보라는 의미이다."
      ],
      "metadata": {
        "colab": {
          "base_uri": "https://localhost:8080/"
        },
        "id": "m7JJA9z8LhP_",
        "outputId": "ff69018f-dcd8-461e-e3ac-3e69dbe4fc0a"
      },
      "execution_count": null,
      "outputs": [
        {
          "output_type": "stream",
          "name": "stdout",
          "text": [
            "Looking forward to the summer-sunshine,😎 can't-miss the beach-days & BBQ-nights! #SummerVibes ✨\n",
            "['looking', 'forward', 'to', 'the', 'summer', 'sunshine', '😎', \"can't\", 'miss', 'the', 'beach', 'days', 'bbq', 'nights', 'summervibes', '✨']\n"
          ]
        }
      ]
    },
    {
      "cell_type": "code",
      "source": [
        "from nltk import TreebankWordTokenizer #표준으로 쓰이고 있는 토큰화 방법 중 하나.\n",
        "print(text)\n",
        "print(TreebankWordTokenizer().tokenize(text))"
      ],
      "metadata": {
        "colab": {
          "base_uri": "https://localhost:8080/"
        },
        "id": "8RYjhvuWPxtl",
        "outputId": "e3ba68a0-da58-4959-d618-082ccdab673c"
      },
      "execution_count": null,
      "outputs": [
        {
          "output_type": "stream",
          "name": "stdout",
          "text": [
            "Looking forward to the summer-sunshine,😎 can't-miss the beach-days & BBQ-nights! #SummerVibes ✨\n",
            "['Looking', 'forward', 'to', 'the', 'summer-sunshine', ',', '😎', \"can't-miss\", 'the', 'beach-days', '&', 'BBQ-nights', '!', '#', 'SummerVibes', '✨']\n"
          ]
        }
      ]
    },
    {
      "cell_type": "code",
      "source": [
        "from nltk import TweetTokenizer #이모티콘 인식해주는 토크나이저\n",
        "print(text)\n",
        "print(TweetTokenizer().tokenize(text))"
      ],
      "metadata": {
        "colab": {
          "base_uri": "https://localhost:8080/"
        },
        "id": "dtjQyFkpUF-A",
        "outputId": "254579b7-424d-4709-be64-1c38dbcde8f0"
      },
      "execution_count": null,
      "outputs": [
        {
          "output_type": "stream",
          "name": "stdout",
          "text": [
            "Looking forward to the summer-sunshine,😎 can't-miss the beach-days & BBQ-nights! #SummerVibes ✨\n",
            "['Looking', 'forward', 'to', 'the', 'summer-sunshine', ',', '😎', \"can't-miss\", 'the', 'beach-days', '&', 'BBQ-nights', '!', '#SummerVibes', '✨']\n"
          ]
        }
      ]
    },
    {
      "cell_type": "code",
      "source": [
        "from nltk import sent_tokenize #nltk 패키지 중 sent_tokenize 불러오기\n",
        "print(text)\n",
        "print(sent_tokenize(text)) # nltk의 sent_tokenize는 문장의 마침표를 기준으로 문장 토큰화 하고있다."
      ],
      "metadata": {
        "colab": {
          "base_uri": "https://localhost:8080/"
        },
        "id": "NZZ3Fq6jIPkx",
        "outputId": "e0b40b63-9da5-4f13-84e2-470e637952c8"
      },
      "execution_count": null,
      "outputs": [
        {
          "output_type": "stream",
          "name": "stdout",
          "text": [
            "Looking forward to the summer-sunshine,😎 can't-miss the beach-days & BBQ-nights! #SummerVibes ✨\n",
            "[\"Looking forward to the summer-sunshine,😎 can't-miss the beach-days & BBQ-nights!\", '#SummerVibes ✨']\n"
          ]
        }
      ]
    },
    {
      "cell_type": "markdown",
      "source": [
        "## NLTK 불용어 처리 맛보기"
      ],
      "metadata": {
        "id": "31HjNYUhNQDs"
      }
    },
    {
      "cell_type": "code",
      "source": [
        "# nltk에서 제공하는 불용어 사전 다운로드\n",
        "nltk.download('stopwords')\n",
        "\n",
        "print(\"nltk 영어 불용어 갯수 : \" , len(nltk.corpus.stopwords.words('english'))) #179개\n",
        "print(nltk.corpus.stopwords.words('english')[:40]) #40개만 보기\n",
        "# 영어의 전치사, 한국어의 조사 등은 분석에 필요하지 않은 경우가 많음\n",
        "# 길이가 짧거나 등장 빈도수가 적은 단어들도 분석에 큰 영향이 없음.\n",
        "# 여러 패키지에서 불용어 코퍼스가 있긴하지만 완벽하진 않음.\n",
        "# 도메인에 맞게 코퍼스를 만들어 사용하는게 가장 좋음. (기존 도구들이 걸러주지 못하는 단어를 추가 하라는 의미)"
      ],
      "metadata": {
        "colab": {
          "base_uri": "https://localhost:8080/"
        },
        "id": "OS8lHY4hgt6b",
        "outputId": "4bbc484b-29da-4557-b92b-04970d4c4428"
      },
      "execution_count": null,
      "outputs": [
        {
          "output_type": "stream",
          "name": "stdout",
          "text": [
            "nltk 영어 불용어 갯수 :  179\n",
            "['i', 'me', 'my', 'myself', 'we', 'our', 'ours', 'ourselves', 'you', \"you're\", \"you've\", \"you'll\", \"you'd\", 'your', 'yours', 'yourself', 'yourselves', 'he', 'him', 'his', 'himself', 'she', \"she's\", 'her', 'hers', 'herself', 'it', \"it's\", 'its', 'itself', 'they', 'them', 'their', 'theirs', 'themselves', 'what', 'which', 'who', 'whom', 'this']\n"
          ]
        },
        {
          "output_type": "stream",
          "name": "stderr",
          "text": [
            "[nltk_data] Downloading package stopwords to /root/nltk_data...\n",
            "[nltk_data]   Package stopwords is already up-to-date!\n"
          ]
        }
      ]
    },
    {
      "cell_type": "code",
      "source": [
        "# nltk는 한국어 불용어 코퍼스를 만들지 않았음.\n",
        "# 한번 간단하게 직접 한국어 불용어 코퍼스를 만들어보자\n",
        "\n",
        "ko_text = \"오늘은 4월 4일 텍스트마이닝 개인 과제를 제출해야한다. 난 지금 밤새 작성중이다. 요즘 벚꽃 폈는데 이쁘더라 첫사랑이 떠오르네\"\n",
        "ko_stop =\"오늘은 개인 난 지금 밤새 요즘 폈는데\"\n",
        "\n",
        "ko_tokens = word_tokenize(ko_text)\n",
        "ko_stop_words = ko_stop.split(' ')\n",
        "\n",
        "result = []\n",
        "for w in ko_tokens:\n",
        "    if w not in ko_stop_words:\n",
        "        result.append(w)\n",
        "\n",
        "print(ko_tokens,'\\t')\n",
        "print(result)"
      ],
      "metadata": {
        "colab": {
          "base_uri": "https://localhost:8080/"
        },
        "id": "J79olFl8kK88",
        "outputId": "ab0ee067-8685-45fe-e28b-a418bab550ee"
      },
      "execution_count": null,
      "outputs": [
        {
          "output_type": "stream",
          "name": "stdout",
          "text": [
            "['오늘은', '4월', '4일', '텍스트마이닝', '개인', '과제를', '제출해야한다', '.', '난', '지금', '밤새', '작성중이다', '.', '요즘', '벚꽃', '폈는데', '이쁘더라', '첫사랑이', '떠오르네'] \t\n",
            "['4월', '4일', '텍스트마이닝', '과제를', '제출해야한다', '.', '작성중이다', '.', '벚꽃', '이쁘더라', '첫사랑이', '떠오르네']\n"
          ]
        }
      ]
    },
    {
      "cell_type": "markdown",
      "source": [
        "사실 한국어는 토큰화가 어렵다.'\n",
        "\n",
        "우선 한국어는 띄어쓰기가 잘 안이루어 진다. 맞춤법도 잘 안이루어진다. 영어랑 다르게 독립적인 단어가 아닌 조사가 붙어 있는 경우가 많다. 그렇기 때문에 한국어 분석을 하려거든 형태소 개념을 파악하고 한국어의 자립형태소와 의존형태소를 고려해 토큰화 해야한다.\n",
        "\n",
        "쉽게말해 어절토큰화가 아니라 형태소 토큰화 해라.\n",
        "\n",
        "---\n",
        "\n"
      ],
      "metadata": {
        "id": "mkwayLDroHt4"
      }
    },
    {
      "cell_type": "markdown",
      "source": [
        "## NLTK로 어간 추출(Stemming) 맛보기\n",
        "\n"
      ],
      "metadata": {
        "id": "ubXXZlgTekQz"
      }
    },
    {
      "cell_type": "markdown",
      "source": [
        "다양한 어간 추출기가 존재하지만 앞에서 사용해본 NLTK에서 제공하는 스테머로 학습해보자."
      ],
      "metadata": {
        "id": "Kk42X9LAQ1xI"
      }
    },
    {
      "cell_type": "code",
      "source": [
        "from nltk import PorterStemmer # 단순 규칙에 의해 나눠진 것이므로 사전에 없는 단어가 찍힐 수있음.\n",
        "stemmer = PorterStemmer() #여러번 테스트 하기위해 스테머  객체 하나 생성해서 stemmer 라는 변수에 담아서 재사용하자.\n",
        "\n",
        "print(stemmer.stem('working'), stemmer.stem('works'), stemmer.stem('worked'))\n",
        "print(stemmer.stem('amusing'), stemmer.stem('amuses'), stemmer.stem('amused'))\n",
        "print(stemmer.stem('happier'), stemmer.stem('happiest'), stemmer.stem('happying'))\n",
        "print(stemmer.stem('was'), stemmer.stem('loving'))\n"
      ],
      "metadata": {
        "colab": {
          "base_uri": "https://localhost:8080/"
        },
        "id": "iXzZbofDulzq",
        "outputId": "f9144de7-4290-4770-bee8-c299176ae6dd"
      },
      "execution_count": null,
      "outputs": [
        {
          "output_type": "stream",
          "name": "stdout",
          "text": [
            "work work work\n",
            "amus amus amus\n",
            "happier happiest happi\n",
            "wa love\n"
          ]
        }
      ]
    },
    {
      "cell_type": "code",
      "source": [
        "from nltk import LancasterStemmer # 또 다른 스테머 Porter랑 결과 다름 왜 다른지는 nltk 홈페이지를 참고하자\n",
        "stemmer = LancasterStemmer()\n",
        "print(stemmer.stem('working'), stemmer.stem('works'), stemmer.stem('worked'))\n",
        "print(stemmer.stem('amusing'), stemmer.stem('amuses'), stemmer.stem('amused'))\n",
        "print(stemmer.stem('happier'), stemmer.stem('happiest'), stemmer.stem('happying'))\n",
        "print(stemmer.stem('was'), stemmer.stem('loving'))"
      ],
      "metadata": {
        "colab": {
          "base_uri": "https://localhost:8080/"
        },
        "id": "XULMFXyjwNMn",
        "outputId": "a43eae30-f8fc-4969-f9ed-0466c2eea456"
      },
      "execution_count": null,
      "outputs": [
        {
          "output_type": "stream",
          "name": "stdout",
          "text": [
            "work work work\n",
            "amus amus amus\n",
            "happy happiest happy\n",
            "was lov\n"
          ]
        }
      ]
    },
    {
      "cell_type": "code",
      "source": [
        "from nltk import RegexpStemmer # 사용자가 지정한 정규 표현 방식으로 어간 추출함\n",
        "stemmer = RegexpStemmer('ing') #ing 처리\n",
        "print(stemmer.stem('amusing'), stemmer.stem('amuses'), stemmer.stem('amused'))\n",
        "print(stemmer.stem('happier'), stemmer.stem('happiest'), stemmer.stem('happying'))\n",
        "print(stemmer.stem('was'), stemmer.stem('loving'), stemmer.stem('sing')) #sing 에서 ing 를 빼니 s만 남음 ㅋ"
      ],
      "metadata": {
        "colab": {
          "base_uri": "https://localhost:8080/"
        },
        "id": "BZzUg1kRxFJ9",
        "outputId": "db59f815-8d73-4402-ab78-4941e75f9bb0"
      },
      "execution_count": null,
      "outputs": [
        {
          "output_type": "stream",
          "name": "stdout",
          "text": [
            "amus amuses amused\n",
            "happier happiest happy\n",
            "was lov s\n"
          ]
        }
      ]
    },
    {
      "cell_type": "code",
      "source": [
        "from nltk import SnowballStemmer # 영어 외 13개 국어 stemming\n",
        "stemmer = SnowballStemmer('spanish') #스페인어\n",
        "print(stemmer.stem('hola')) #홀라의 어간은 hol 인가?"
      ],
      "metadata": {
        "colab": {
          "base_uri": "https://localhost:8080/"
        },
        "id": "TEVolr7TxnZ8",
        "outputId": "d1a35ada-b5a1-4170-d5f7-cb4cae7ffe84"
      },
      "execution_count": null,
      "outputs": [
        {
          "output_type": "stream",
          "name": "stdout",
          "text": [
            "hol\n"
          ]
        }
      ]
    },
    {
      "cell_type": "code",
      "source": [
        "from nltk import SnowballStemmer\n",
        "stemmer = SnowballStemmer('english')\n",
        "print(stemmer.stem('fishing'),stemmer.stem('fished'),stemmer.stem('fishs'))"
      ],
      "metadata": {
        "colab": {
          "base_uri": "https://localhost:8080/"
        },
        "id": "uqSZEO9VyGCR",
        "outputId": "94926803-15f1-471b-d7c1-c00b82d6adab"
      },
      "execution_count": null,
      "outputs": [
        {
          "output_type": "stream",
          "name": "stdout",
          "text": [
            "fish fish fish\n"
          ]
        }
      ]
    },
    {
      "cell_type": "markdown",
      "source": [
        "\n",
        "\n",
        "---\n",
        "\n"
      ],
      "metadata": {
        "id": "S3k9MtJx3FDh"
      }
    },
    {
      "cell_type": "markdown",
      "source": [],
      "metadata": {
        "id": "89tP0u1hQpN7"
      }
    },
    {
      "cell_type": "markdown",
      "source": [
        "## NLTK 표제어 추출(Lemmatization) 맛보기\n",
        "\n"
      ],
      "metadata": {
        "id": "6zs8budQyojV"
      }
    },
    {
      "cell_type": "markdown",
      "source": [
        "\n",
        "표제어(Lemma)는 한글로 '기본 사전형 단어' 정도의 의미를 갖는다.\n",
        "\n",
        "am are is 는 다른 형태를 가졌지만 뿌리는 be 로 같습니다.\n",
        "\n",
        "* 형태소: 의미를 가진 가장 작은 단위!! 혼동하지 말것. (난 좀 자주 헷갈린다)\n"
      ],
      "metadata": {
        "id": "VjlDQNVQQuXv"
      }
    },
    {
      "cell_type": "code",
      "source": [
        "from nltk import WordNetLemmatizer\n",
        "# 표제어 추출에 필요한 데이터 다운로드\n",
        "nltk.download('wordnet')\n",
        "nltk.download('omw-1.4')"
      ],
      "metadata": {
        "colab": {
          "base_uri": "https://localhost:8080/"
        },
        "id": "QA7cJpGiymoR",
        "outputId": "bfd50342-d34b-4466-8b47-ff7abcf280c8"
      },
      "execution_count": null,
      "outputs": [
        {
          "output_type": "stream",
          "name": "stderr",
          "text": [
            "[nltk_data] Downloading package wordnet to /root/nltk_data...\n",
            "[nltk_data]   Package wordnet is already up-to-date!\n",
            "[nltk_data] Downloading package omw-1.4 to /root/nltk_data...\n",
            "[nltk_data]   Package omw-1.4 is already up-to-date!\n"
          ]
        },
        {
          "output_type": "execute_result",
          "data": {
            "text/plain": [
              "True"
            ]
          },
          "metadata": {},
          "execution_count": 72
        }
      ]
    },
    {
      "cell_type": "code",
      "source": [
        "lemma = WordNetLemmatizer()\n",
        "# v는 단어가 동사일 때 동사의 기본형을 얻는다.\n",
        "# a는 단어가 형용사일 때 형용사의 기본형을 얻는다.\n",
        "print(lemma.lemmatize('amusing'),lemma.lemmatize('amuses'),lemma.lemmatize('amused'))\n",
        "print(lemma.lemmatize('happier'),lemma.lemmatize('happiest'))\n",
        "print(lemma.lemmatize('fancier'),lemma.lemmatize('fanciest'))\n",
        "print(lemma.lemmatize('was'), lemma.lemmatize('love'))\n",
        "print(lemma.lemmatize('amusing','v'),lemma.lemmatize('amuses','v'),lemma.lemmatize('amused','v'))\n",
        "print(lemma.lemmatize('happier','a'),lemma.lemmatize('happiest','a'))\n",
        "print(lemma.lemmatize('fancier','a'),lemma.lemmatize('fanciest','a'))\n",
        "print(lemma.lemmatize('was', 'v'), lemma.lemmatize('love', 'v'))\n",
        "print(lemma.lemmatize('dies','v'))\n",
        "print(lemma.lemmatize('watched', 'v'))\n",
        "print(lemma.lemmatize('has', 'v'))"
      ],
      "metadata": {
        "colab": {
          "base_uri": "https://localhost:8080/"
        },
        "id": "xGBHyuP80dZQ",
        "outputId": "528a52b4-9df6-4ad3-af51-5ae967146fa4"
      },
      "execution_count": null,
      "outputs": [
        {
          "output_type": "stream",
          "name": "stdout",
          "text": [
            "amusing amuses amused\n",
            "happier happiest\n",
            "fancier fanciest\n",
            "wa love\n",
            "amuse amuse amuse\n",
            "happy happy\n",
            "fancy fancy\n",
            "be love\n",
            "die\n",
            "watch\n",
            "have\n"
          ]
        }
      ]
    },
    {
      "cell_type": "markdown",
      "source": [
        "\n",
        "\n",
        "---\n",
        "\n"
      ],
      "metadata": {
        "id": "zFMwsu0uWL_D"
      }
    },
    {
      "cell_type": "markdown",
      "source": [
        "## NLTK 품사태깅 맛보기"
      ],
      "metadata": {
        "id": "ebCWVOCLTggk"
      }
    },
    {
      "cell_type": "markdown",
      "source": [
        "품사 : 품사는 명사, 대명사, 수사, 조사, 동사, 형용사, 관형사, 부사, 감탄사와 같이 공통된 성질을 지닌 낱말끼리 모아 놓은 낱말의 갈래\n",
        "\n",
        "---\n",
        "\n"
      ],
      "metadata": {
        "id": "mYEvQo3Lciu9"
      }
    },
    {
      "cell_type": "markdown",
      "source": [
        "품사태깅 : 문장을 형태소 단위로 분리 한 후, 해당 형태소의 품사를 태깅하는 것을 의미한다.\n",
        "\n",
        "---\n"
      ],
      "metadata": {
        "id": "z73aV2FQcbJl"
      }
    },
    {
      "cell_type": "markdown",
      "source": [
        "예) \"정말 재미없는 영화다\"\n",
        "\n",
        " [('정말', '일반부사'),\n",
        "\n",
        " ('재미없다', '형용사'),\n",
        "\n",
        " ('영화', '보통 명사'),\n",
        "\n",
        " ('이다', '긍정 지정사')]\n",
        "\n",
        "\n",
        "---\n",
        "\n",
        "\n"
      ],
      "metadata": {
        "id": "_mJ9NNzMcycc"
      }
    },
    {
      "cell_type": "markdown",
      "source": [
        "품사 태깅 목적 : 품사 태깅을 적용한 후, 필요한 품사 만 추출.\n",
        "\n",
        "명사만 추출하거나 주요 품사만 추출해 데이터로 사용\n",
        "\n",
        "---\n",
        "\n"
      ],
      "metadata": {
        "id": "tQ7Y_FJNdAaF"
      }
    },
    {
      "cell_type": "code",
      "source": [
        "import nltk # 품사 태깅 연습용 데이타 다운로드\n",
        "nltk.download('popular')\n",
        "nltk.download('averaged_perceptron_tagger')"
      ],
      "metadata": {
        "colab": {
          "base_uri": "https://localhost:8080/"
        },
        "id": "W2RadYA9dNWl",
        "outputId": "d9e7c888-b3f8-409e-d6a1-dbba5d48a4d3"
      },
      "execution_count": 5,
      "outputs": [
        {
          "output_type": "stream",
          "name": "stderr",
          "text": [
            "[nltk_data] Downloading collection 'popular'\n",
            "[nltk_data]    | \n",
            "[nltk_data]    | Downloading package cmudict to /root/nltk_data...\n",
            "[nltk_data]    |   Unzipping corpora/cmudict.zip.\n",
            "[nltk_data]    | Downloading package gazetteers to /root/nltk_data...\n",
            "[nltk_data]    |   Unzipping corpora/gazetteers.zip.\n",
            "[nltk_data]    | Downloading package genesis to /root/nltk_data...\n",
            "[nltk_data]    |   Unzipping corpora/genesis.zip.\n",
            "[nltk_data]    | Downloading package gutenberg to /root/nltk_data...\n",
            "[nltk_data]    |   Unzipping corpora/gutenberg.zip.\n",
            "[nltk_data]    | Downloading package inaugural to /root/nltk_data...\n",
            "[nltk_data]    |   Unzipping corpora/inaugural.zip.\n",
            "[nltk_data]    | Downloading package movie_reviews to\n",
            "[nltk_data]    |     /root/nltk_data...\n",
            "[nltk_data]    |   Unzipping corpora/movie_reviews.zip.\n",
            "[nltk_data]    | Downloading package names to /root/nltk_data...\n",
            "[nltk_data]    |   Unzipping corpora/names.zip.\n",
            "[nltk_data]    | Downloading package shakespeare to /root/nltk_data...\n",
            "[nltk_data]    |   Unzipping corpora/shakespeare.zip.\n",
            "[nltk_data]    | Downloading package stopwords to /root/nltk_data...\n",
            "[nltk_data]    |   Unzipping corpora/stopwords.zip.\n",
            "[nltk_data]    | Downloading package treebank to /root/nltk_data...\n",
            "[nltk_data]    |   Unzipping corpora/treebank.zip.\n",
            "[nltk_data]    | Downloading package twitter_samples to\n",
            "[nltk_data]    |     /root/nltk_data...\n",
            "[nltk_data]    |   Unzipping corpora/twitter_samples.zip.\n",
            "[nltk_data]    | Downloading package omw to /root/nltk_data...\n",
            "[nltk_data]    | Downloading package omw-1.4 to /root/nltk_data...\n",
            "[nltk_data]    | Downloading package wordnet to /root/nltk_data...\n",
            "[nltk_data]    | Downloading package wordnet2021 to /root/nltk_data...\n",
            "[nltk_data]    | Downloading package wordnet31 to /root/nltk_data...\n",
            "[nltk_data]    | Downloading package wordnet_ic to /root/nltk_data...\n",
            "[nltk_data]    |   Unzipping corpora/wordnet_ic.zip.\n",
            "[nltk_data]    | Downloading package words to /root/nltk_data...\n",
            "[nltk_data]    |   Unzipping corpora/words.zip.\n",
            "[nltk_data]    | Downloading package maxent_ne_chunker to\n",
            "[nltk_data]    |     /root/nltk_data...\n",
            "[nltk_data]    |   Unzipping chunkers/maxent_ne_chunker.zip.\n",
            "[nltk_data]    | Downloading package punkt to /root/nltk_data...\n",
            "[nltk_data]    |   Unzipping tokenizers/punkt.zip.\n",
            "[nltk_data]    | Downloading package snowball_data to\n",
            "[nltk_data]    |     /root/nltk_data...\n",
            "[nltk_data]    | Downloading package averaged_perceptron_tagger to\n",
            "[nltk_data]    |     /root/nltk_data...\n",
            "[nltk_data]    |   Package averaged_perceptron_tagger is already up-\n",
            "[nltk_data]    |       to-date!\n",
            "[nltk_data]    | \n",
            "[nltk_data]  Done downloading collection popular\n",
            "[nltk_data] Downloading package averaged_perceptron_tagger to\n",
            "[nltk_data]     /root/nltk_data...\n",
            "[nltk_data]   Package averaged_perceptron_tagger is already up-to-\n",
            "[nltk_data]       date!\n"
          ]
        },
        {
          "output_type": "execute_result",
          "data": {
            "text/plain": [
              "True"
            ]
          },
          "metadata": {},
          "execution_count": 5
        }
      ]
    },
    {
      "cell_type": "code",
      "source": [
        "text=\"I am actively looking for Ph.D. students. and you are a Ph.D. student.\""
      ],
      "metadata": {
        "id": "N7U-CfsedmWU"
      },
      "execution_count": 3,
      "outputs": []
    },
    {
      "cell_type": "code",
      "source": [
        "from nltk import word_tokenize\n",
        "x=word_tokenize(text)\n",
        "print(x) #문장 토큰화"
      ],
      "metadata": {
        "colab": {
          "base_uri": "https://localhost:8080/"
        },
        "id": "213Go7s9dKAD",
        "outputId": "eef98731-acb7-4a75-9fff-11c0aa53e4dc"
      },
      "execution_count": 9,
      "outputs": [
        {
          "output_type": "stream",
          "name": "stdout",
          "text": [
            "['I', 'am', 'actively', 'looking', 'for', 'Ph.D.', 'students', '.', 'and', 'you', 'are', 'a', 'Ph.D.', 'student', '.']\n"
          ]
        }
      ]
    },
    {
      "cell_type": "code",
      "source": [
        "from nltk import pos_tag\n",
        "pos_tag(x) #토큰에 품사 태깅"
      ],
      "metadata": {
        "colab": {
          "base_uri": "https://localhost:8080/"
        },
        "id": "xABV5pzYdWGc",
        "outputId": "245c4c84-24d9-41fa-a27e-76f01cace186"
      },
      "execution_count": 10,
      "outputs": [
        {
          "output_type": "execute_result",
          "data": {
            "text/plain": [
              "[('I', 'PRP'),\n",
              " ('am', 'VBP'),\n",
              " ('actively', 'RB'),\n",
              " ('looking', 'VBG'),\n",
              " ('for', 'IN'),\n",
              " ('Ph.D.', 'NNP'),\n",
              " ('students', 'NNS'),\n",
              " ('.', '.'),\n",
              " ('and', 'CC'),\n",
              " ('you', 'PRP'),\n",
              " ('are', 'VBP'),\n",
              " ('a', 'DT'),\n",
              " ('Ph.D.', 'NNP'),\n",
              " ('student', 'NN'),\n",
              " ('.', '.')]"
            ]
          },
          "metadata": {},
          "execution_count": 10
        }
      ]
    },
    {
      "cell_type": "markdown",
      "source": [],
      "metadata": {
        "id": "IwDjv9ZPe6t1"
      }
    },
    {
      "cell_type": "markdown",
      "source": [
        "## NLTK ngram 맛보기\n",
        "\n"
      ],
      "metadata": {
        "id": "nOnridWoN54Y"
      }
    },
    {
      "cell_type": "markdown",
      "source": [
        "ngram : n개의 어절이나 음절을 연쇄적으로 분류\n",
        "\n",
        "부분 단어 자체가 유용한 정보를 전달한다면 문자 n-그램을 생성할 수 있음.\n",
        "\n",
        "우선 아래 코드를 실행하고 토큰화 된 결과만 보자."
      ],
      "metadata": {
        "id": "KIbJ2Hv8OKy8"
      }
    },
    {
      "cell_type": "code",
      "source": [
        "from nltk import ngrams # n개의 어절이나 음절을 연쇄적으로 분류\n",
        "text = \"There is no royal road to learning\""
      ],
      "metadata": {
        "colab": {
          "base_uri": "https://localhost:8080/"
        },
        "id": "Z72rBIfufZcF",
        "outputId": "ebaa369d-5595-410c-f90b-628d93c59698"
      },
      "execution_count": null,
      "outputs": [
        {
          "output_type": "stream",
          "name": "stdout",
          "text": [
            "[('There', 'is'), ('is', 'no'), ('no', 'royal'), ('royal', 'road'), ('road', 'to'), ('to', 'learning')]\n"
          ]
        }
      ]
    },
    {
      "cell_type": "code",
      "source": [
        "bigram = list(ngrams(text.split(),2)) #2개를 묶으면 바이그램\n",
        "print(bigram)"
      ],
      "metadata": {
        "colab": {
          "base_uri": "https://localhost:8080/"
        },
        "id": "-QPtwrSnzDnm",
        "outputId": "2f5fe6d6-0f82-46ba-9566-5f53fa6f1e9b"
      },
      "execution_count": null,
      "outputs": [
        {
          "output_type": "stream",
          "name": "stdout",
          "text": [
            "[('Today', 'is'), ('is', 'Monday.'), ('Monday.', 'Tomorrow'), ('Tomorrow', 'is'), ('is', 'Tuesday.'), ('Tuesday.', 'Yesterday'), ('Yesterday', 'was'), ('was', 'Sunday.')]\n"
          ]
        }
      ]
    },
    {
      "cell_type": "code",
      "source": [
        "trigram = list(ngrams(text.split(),3)) #3개를 묶으면 트리그램 보통 trigram 까지만 한다.\n",
        "print(trigram)"
      ],
      "metadata": {
        "colab": {
          "base_uri": "https://localhost:8080/"
        },
        "id": "cd9MVALUf7CG",
        "outputId": "3d50f4ad-bef2-4902-b463-c8e631d0d8ab"
      },
      "execution_count": null,
      "outputs": [
        {
          "output_type": "stream",
          "name": "stdout",
          "text": [
            "[('Today', 'is', 'Monday.'), ('is', 'Monday.', 'Tomorrow'), ('Monday.', 'Tomorrow', 'is'), ('Tomorrow', 'is', 'Tuesday.'), ('is', 'Tuesday.', 'Yesterday'), ('Tuesday.', 'Yesterday', 'was'), ('Yesterday', 'was', 'Sunday.')]\n"
          ]
        }
      ]
    },
    {
      "cell_type": "markdown",
      "source": [
        "## 한국어 NLP 맛보기"
      ],
      "metadata": {
        "id": "eCHr4lw6TgYD"
      }
    },
    {
      "cell_type": "markdown",
      "source": [
        "한국어 자연어 처리를 위해서는 KoNLPy(\"코엔엘파이\")라는 파이썬 패키지를 사용할 수 있다.\n",
        "\n",
        "코엔엘파이를 통해서 사용할 수 있는 형태소 분석기로 Okt(Open Korea Text), 메캅(Mecab), 코모란(Komoran), 한나눔(Hannanum), 꼬꼬마(Kkma)가 있다.\n",
        "\n",
        "한국어 NLP에서 형태소 분석기를 사용한다는 것은 단어 토큰화가 아니라 정확히는 형태소(morpheme) 단위로 형태소 토큰화(morpheme tokenization)를 수행하게 됨을 뜻한다.\n",
        "\n",
        "여기선 이 중에서 Okt와 꼬꼬마를 통해서 토큰화를 수행해보도록 하겠다.\n",
        "\n",
        "(Okt는 기존에는 Twitter라는 이름을 갖고있었으나 0.5.0 버전부터 이름이 변경되어 인터넷에는 아직 Twitter로 많이 알려져있으므로 학습 시 참고.)\n",
        "\n",
        "---\n",
        "\n"
      ],
      "metadata": {
        "id": "nvdjXkpSgAhV"
      }
    },
    {
      "cell_type": "markdown",
      "source": [
        "KoNLPy는 다음과 같은 다양한 형태소 분석, 태깅 라이브러리를 파이썬에서 쉽게 사용할 수 있도록 모아놓았다.\n",
        "\n",
        "Hannanum: 한나눔. KAIST Semantic Web Research Center 개발.\n",
        "http://semanticweb.kaist.ac.kr/hannanum/\n",
        "\n",
        "Kkma: 꼬꼬마. 서울대학교 IDS(Intelligent Data Systems) 연구실 개발.\n",
        "http://kkma.snu.ac.kr/\n",
        "\n",
        "Komoran: 코모란. Shineware에서 개발.\n",
        "https://github.com/shin285/KOMORAN\n",
        "\n",
        "Mecab: 메카브. 일본어용 형태소 분석기를 한국어를 사용할 수 있도록 수정.\n",
        "https://bitbucket.org/eunjeon/mecab-ko\n",
        "\n",
        "Open Korean Text: 오픈 소스 한국어 분석기. 과거 트위터 형태소 분석기.\n",
        "https://github.com/open-korean-text/open-korean-text\n",
        "\n",
        "---\n",
        "\n"
      ],
      "metadata": {
        "id": "yVBIdjfpgZDi"
      }
    },
    {
      "cell_type": "code",
      "source": [
        "!pip install konlpy"
      ],
      "metadata": {
        "colab": {
          "base_uri": "https://localhost:8080/"
        },
        "id": "HN4ukAdxgu9B",
        "outputId": "293cc2c3-5dbd-4beb-a550-739c915744db"
      },
      "execution_count": 11,
      "outputs": [
        {
          "output_type": "stream",
          "name": "stdout",
          "text": [
            "Collecting konlpy\n",
            "  Downloading konlpy-0.6.0-py2.py3-none-any.whl (19.4 MB)\n",
            "\u001b[2K     \u001b[90m━━━━━━━━━━━━━━━━━━━━━━━━━━━━━━━━━━━━━━━━\u001b[0m \u001b[32m19.4/19.4 MB\u001b[0m \u001b[31m24.0 MB/s\u001b[0m eta \u001b[36m0:00:00\u001b[0m\n",
            "\u001b[?25hCollecting JPype1>=0.7.0 (from konlpy)\n",
            "  Downloading JPype1-1.5.0-cp310-cp310-manylinux_2_17_x86_64.manylinux2014_x86_64.whl (488 kB)\n",
            "\u001b[2K     \u001b[90m━━━━━━━━━━━━━━━━━━━━━━━━━━━━━━━━━━━━━━━━\u001b[0m \u001b[32m488.6/488.6 kB\u001b[0m \u001b[31m38.3 MB/s\u001b[0m eta \u001b[36m0:00:00\u001b[0m\n",
            "\u001b[?25hRequirement already satisfied: lxml>=4.1.0 in /usr/local/lib/python3.10/dist-packages (from konlpy) (4.9.4)\n",
            "Requirement already satisfied: numpy>=1.6 in /usr/local/lib/python3.10/dist-packages (from konlpy) (1.25.2)\n",
            "Requirement already satisfied: packaging in /usr/local/lib/python3.10/dist-packages (from JPype1>=0.7.0->konlpy) (24.0)\n",
            "Installing collected packages: JPype1, konlpy\n",
            "Successfully installed JPype1-1.5.0 konlpy-0.6.0\n"
          ]
        }
      ]
    },
    {
      "cell_type": "code",
      "source": [
        "from konlpy.tag import Okt\n",
        "okt=Okt()\n",
        "print(okt.morphs(\"열심히 코딩한 당신, 연휴에는 여행을 가봐요\"))\n",
        "# 텍스트를 형태로 단위로 나누는데,이때 각 단어에서 어간을 추출"
      ],
      "metadata": {
        "colab": {
          "base_uri": "https://localhost:8080/"
        },
        "id": "wyrFNfM1gwAB",
        "outputId": "e10dd517-539e-4181-8c92-473b4855d069"
      },
      "execution_count": 12,
      "outputs": [
        {
          "output_type": "stream",
          "name": "stdout",
          "text": [
            "['열심히', '코딩', '한', '당신', ',', '연휴', '에는', '여행', '을', '가봐요']\n"
          ]
        }
      ]
    },
    {
      "cell_type": "code",
      "source": [
        "print(okt.pos('열심히 코딩한 당신, 연휴에는 여행을 가봐요'))\n",
        "# 품사추출."
      ],
      "metadata": {
        "colab": {
          "base_uri": "https://localhost:8080/"
        },
        "id": "BBdZw3VTg0Up",
        "outputId": "23cd3ab9-3991-46b4-92d4-49d540ad9036"
      },
      "execution_count": 13,
      "outputs": [
        {
          "output_type": "stream",
          "name": "stdout",
          "text": [
            "[('열심히', 'Adverb'), ('코딩', 'Noun'), ('한', 'Josa'), ('당신', 'Noun'), (',', 'Punctuation'), ('연휴', 'Noun'), ('에는', 'Josa'), ('여행', 'Noun'), ('을', 'Josa'), ('가봐요', 'Verb')]\n"
          ]
        }
      ]
    },
    {
      "cell_type": "code",
      "source": [
        "print(okt.nouns('열심히 코딩한 당신, 연휴에는 여행을 가봐요'))\n",
        "# 명사추출."
      ],
      "metadata": {
        "colab": {
          "base_uri": "https://localhost:8080/"
        },
        "id": "a5JzHHNng1wL",
        "outputId": "4d79f53e-2b1d-40f8-9e18-f0fbf8774c4c"
      },
      "execution_count": 14,
      "outputs": [
        {
          "output_type": "stream",
          "name": "stdout",
          "text": [
            "['코딩', '당신', '연휴', '여행']\n"
          ]
        }
      ]
    },
    {
      "cell_type": "markdown",
      "source": [
        "한국어 추출 후 품사 맵핑을 해봤다.\n",
        "\n",
        "품사 별칭은 각각 사이트를 찾아보도록 하자.\n",
        "\n",
        "---\n",
        "\n"
      ],
      "metadata": {
        "id": "glNsRwUxg7MM"
      }
    },
    {
      "cell_type": "markdown",
      "source": [
        "## 한국어 처리 도구들 비교 맛보기 1"
      ],
      "metadata": {
        "id": "cA4NFndjopJ5"
      }
    },
    {
      "cell_type": "code",
      "source": [
        "# 한국어 처리 도구들을 설치한다.\n",
        "# 설치 좀 걸릴 수 있음. 3분 정도 걸렸음.\n",
        "# 설치 완료 후 런타임 재시작 해야 함\n",
        "!pip install konlpy #코엔엘파이 : 한국어 자연어 처리 패키지\n",
        "!pip install mecab-python #메캡 : 일본어용 형태소 분석기를 한국 버전으로 수정한 것\n",
        "!pip install install curl git\n",
        "!bash <(curl -s https://raw.githubusercontent.com/konlpy/konlpy/master/scripts/mecab.sh)"
      ],
      "metadata": {
        "colab": {
          "base_uri": "https://localhost:8080/"
        },
        "id": "Z0YTtCplkD6X",
        "outputId": "48a470e7-0e1e-416d-dedc-c35dd3b72561"
      },
      "execution_count": 17,
      "outputs": [
        {
          "output_type": "stream",
          "name": "stdout",
          "text": [
            "Requirement already satisfied: konlpy in /usr/local/lib/python3.10/dist-packages (0.6.0)\n",
            "Requirement already satisfied: JPype1>=0.7.0 in /usr/local/lib/python3.10/dist-packages (from konlpy) (1.5.0)\n",
            "Requirement already satisfied: lxml>=4.1.0 in /usr/local/lib/python3.10/dist-packages (from konlpy) (4.9.4)\n",
            "Requirement already satisfied: numpy>=1.6 in /usr/local/lib/python3.10/dist-packages (from konlpy) (1.25.2)\n",
            "Requirement already satisfied: packaging in /usr/local/lib/python3.10/dist-packages (from JPype1>=0.7.0->konlpy) (24.0)\n",
            "Requirement already satisfied: mecab-python in /usr/local/lib/python3.10/dist-packages (1.0.0)\n",
            "Requirement already satisfied: mecab-python3 in /usr/local/lib/python3.10/dist-packages (from mecab-python) (1.0.8)\n",
            "Collecting install\n",
            "  Downloading install-1.3.5-py3-none-any.whl (3.2 kB)\n",
            "\u001b[31mERROR: Could not find a version that satisfies the requirement curl (from versions: none)\u001b[0m\u001b[31m\n",
            "\u001b[0m\u001b[31mERROR: No matching distribution found for curl\u001b[0m\u001b[31m\n",
            "\u001b[0mInstall mecab-ko\n",
            "  % Total    % Received % Xferd  Average Speed   Time    Time     Time  Current\n",
            "                                 Dload  Upload   Total   Spent    Left  Speed\n",
            "  0     0    0     0    0     0      0      0 --:--:-- --:--:-- --:--:--     0\n",
            "100 1381k  100 1381k    0     0  1157k      0  0:00:01  0:00:01 --:--:-- 4789k\n",
            "mecab-0.996-ko-0.9.2/\n",
            "mecab-0.996-ko-0.9.2/example/\n",
            "mecab-0.996-ko-0.9.2/example/example.cpp\n",
            "mecab-0.996-ko-0.9.2/example/example_lattice.cpp\n",
            "mecab-0.996-ko-0.9.2/example/example_lattice.c\n",
            "mecab-0.996-ko-0.9.2/example/example.c\n",
            "mecab-0.996-ko-0.9.2/example/thread_test.cpp\n",
            "mecab-0.996-ko-0.9.2/mecab-config.in\n",
            "mecab-0.996-ko-0.9.2/man/\n",
            "mecab-0.996-ko-0.9.2/man/Makefile.am\n",
            "mecab-0.996-ko-0.9.2/man/mecab.1\n",
            "mecab-0.996-ko-0.9.2/man/Makefile.in\n",
            "mecab-0.996-ko-0.9.2/mecab.iss.in\n",
            "mecab-0.996-ko-0.9.2/config.guess\n",
            "mecab-0.996-ko-0.9.2/README\n",
            "mecab-0.996-ko-0.9.2/COPYING\n",
            "mecab-0.996-ko-0.9.2/CHANGES.md\n",
            "mecab-0.996-ko-0.9.2/README.md\n",
            "mecab-0.996-ko-0.9.2/INSTALL\n",
            "mecab-0.996-ko-0.9.2/config.sub\n",
            "mecab-0.996-ko-0.9.2/configure.in\n",
            "mecab-0.996-ko-0.9.2/swig/\n",
            "mecab-0.996-ko-0.9.2/swig/Makefile\n",
            "mecab-0.996-ko-0.9.2/swig/version.h.in\n",
            "mecab-0.996-ko-0.9.2/swig/version.h\n",
            "mecab-0.996-ko-0.9.2/swig/MeCab.i\n",
            "mecab-0.996-ko-0.9.2/aclocal.m4\n",
            "mecab-0.996-ko-0.9.2/LGPL\n",
            "mecab-0.996-ko-0.9.2/Makefile.am\n",
            "mecab-0.996-ko-0.9.2/configure\n",
            "mecab-0.996-ko-0.9.2/tests/\n",
            "mecab-0.996-ko-0.9.2/tests/autolink/\n",
            "mecab-0.996-ko-0.9.2/tests/autolink/unk.def\n",
            "mecab-0.996-ko-0.9.2/tests/autolink/dicrc\n",
            "mecab-0.996-ko-0.9.2/tests/autolink/dic.csv\n",
            "mecab-0.996-ko-0.9.2/tests/autolink/test\n",
            "mecab-0.996-ko-0.9.2/tests/autolink/char.def\n",
            "mecab-0.996-ko-0.9.2/tests/autolink/matrix.def\n",
            "mecab-0.996-ko-0.9.2/tests/autolink/test.gld\n",
            "mecab-0.996-ko-0.9.2/tests/t9/\n",
            "mecab-0.996-ko-0.9.2/tests/t9/unk.def\n",
            "mecab-0.996-ko-0.9.2/tests/t9/ipadic.pl\n",
            "mecab-0.996-ko-0.9.2/tests/t9/dicrc\n",
            "mecab-0.996-ko-0.9.2/tests/t9/dic.csv\n",
            "mecab-0.996-ko-0.9.2/tests/t9/test\n",
            "mecab-0.996-ko-0.9.2/tests/t9/char.def\n",
            "mecab-0.996-ko-0.9.2/tests/t9/matrix.def\n",
            "mecab-0.996-ko-0.9.2/tests/t9/mkdic.pl\n",
            "mecab-0.996-ko-0.9.2/tests/t9/test.gld\n",
            "mecab-0.996-ko-0.9.2/tests/cost-train/\n",
            "mecab-0.996-ko-0.9.2/tests/cost-train/ipa.train\n",
            "mecab-0.996-ko-0.9.2/tests/cost-train/ipa.test\n",
            "mecab-0.996-ko-0.9.2/tests/cost-train/seed/\n",
            "mecab-0.996-ko-0.9.2/tests/cost-train/seed/rewrite.def\n",
            "mecab-0.996-ko-0.9.2/tests/cost-train/seed/feature.def\n",
            "mecab-0.996-ko-0.9.2/tests/cost-train/seed/unk.def\n",
            "mecab-0.996-ko-0.9.2/tests/cost-train/seed/dicrc\n",
            "mecab-0.996-ko-0.9.2/tests/cost-train/seed/dic.csv\n",
            "mecab-0.996-ko-0.9.2/tests/cost-train/seed/char.def\n",
            "mecab-0.996-ko-0.9.2/tests/cost-train/seed/matrix.def\n",
            "mecab-0.996-ko-0.9.2/tests/run-eval.sh\n",
            "mecab-0.996-ko-0.9.2/tests/run-cost-train.sh\n",
            "mecab-0.996-ko-0.9.2/tests/Makefile.am\n",
            "mecab-0.996-ko-0.9.2/tests/katakana/\n",
            "mecab-0.996-ko-0.9.2/tests/katakana/unk.def\n",
            "mecab-0.996-ko-0.9.2/tests/katakana/dicrc\n",
            "mecab-0.996-ko-0.9.2/tests/katakana/dic.csv\n",
            "mecab-0.996-ko-0.9.2/tests/katakana/test\n",
            "mecab-0.996-ko-0.9.2/tests/katakana/char.def\n",
            "mecab-0.996-ko-0.9.2/tests/katakana/matrix.def\n",
            "mecab-0.996-ko-0.9.2/tests/katakana/test.gld\n",
            "mecab-0.996-ko-0.9.2/tests/eval/\n",
            "mecab-0.996-ko-0.9.2/tests/eval/answer\n",
            "mecab-0.996-ko-0.9.2/tests/eval/system\n",
            "mecab-0.996-ko-0.9.2/tests/eval/test.gld\n",
            "mecab-0.996-ko-0.9.2/tests/shiin/\n",
            "mecab-0.996-ko-0.9.2/tests/shiin/unk.def\n",
            "mecab-0.996-ko-0.9.2/tests/shiin/dicrc\n",
            "mecab-0.996-ko-0.9.2/tests/shiin/dic.csv\n",
            "mecab-0.996-ko-0.9.2/tests/shiin/test\n",
            "mecab-0.996-ko-0.9.2/tests/shiin/char.def\n",
            "mecab-0.996-ko-0.9.2/tests/shiin/matrix.def\n",
            "mecab-0.996-ko-0.9.2/tests/shiin/mkdic.pl\n",
            "mecab-0.996-ko-0.9.2/tests/shiin/test.gld\n",
            "mecab-0.996-ko-0.9.2/tests/latin/\n",
            "mecab-0.996-ko-0.9.2/tests/latin/unk.def\n",
            "mecab-0.996-ko-0.9.2/tests/latin/dicrc\n",
            "mecab-0.996-ko-0.9.2/tests/latin/dic.csv\n",
            "mecab-0.996-ko-0.9.2/tests/latin/test\n",
            "mecab-0.996-ko-0.9.2/tests/latin/char.def\n",
            "mecab-0.996-ko-0.9.2/tests/latin/matrix.def\n",
            "mecab-0.996-ko-0.9.2/tests/latin/test.gld\n",
            "mecab-0.996-ko-0.9.2/tests/chartype/\n",
            "mecab-0.996-ko-0.9.2/tests/chartype/unk.def\n",
            "mecab-0.996-ko-0.9.2/tests/chartype/dicrc\n",
            "mecab-0.996-ko-0.9.2/tests/chartype/dic.csv\n",
            "mecab-0.996-ko-0.9.2/tests/chartype/test\n",
            "mecab-0.996-ko-0.9.2/tests/chartype/char.def\n",
            "mecab-0.996-ko-0.9.2/tests/chartype/matrix.def\n",
            "mecab-0.996-ko-0.9.2/tests/chartype/test.gld\n",
            "mecab-0.996-ko-0.9.2/tests/run-dics.sh\n",
            "mecab-0.996-ko-0.9.2/tests/ngram/\n",
            "mecab-0.996-ko-0.9.2/tests/ngram/unk.def\n",
            "mecab-0.996-ko-0.9.2/tests/ngram/dicrc\n",
            "mecab-0.996-ko-0.9.2/tests/ngram/dic.csv\n",
            "mecab-0.996-ko-0.9.2/tests/ngram/test\n",
            "mecab-0.996-ko-0.9.2/tests/ngram/char.def\n",
            "mecab-0.996-ko-0.9.2/tests/ngram/matrix.def\n",
            "mecab-0.996-ko-0.9.2/tests/ngram/test.gld\n",
            "mecab-0.996-ko-0.9.2/tests/Makefile.in\n",
            "mecab-0.996-ko-0.9.2/ltmain.sh\n",
            "mecab-0.996-ko-0.9.2/config.rpath\n",
            "mecab-0.996-ko-0.9.2/config.h.in\n",
            "mecab-0.996-ko-0.9.2/mecabrc.in\n",
            "mecab-0.996-ko-0.9.2/GPL\n",
            "mecab-0.996-ko-0.9.2/Makefile.train\n",
            "mecab-0.996-ko-0.9.2/ChangeLog\n",
            "mecab-0.996-ko-0.9.2/install-sh\n",
            "mecab-0.996-ko-0.9.2/AUTHORS\n",
            "mecab-0.996-ko-0.9.2/doc/\n",
            "mecab-0.996-ko-0.9.2/doc/bindings.html\n",
            "mecab-0.996-ko-0.9.2/doc/posid.html\n",
            "mecab-0.996-ko-0.9.2/doc/unk.html\n",
            "mecab-0.996-ko-0.9.2/doc/learn.html\n",
            "mecab-0.996-ko-0.9.2/doc/format.html\n",
            "mecab-0.996-ko-0.9.2/doc/libmecab.html\n",
            "mecab-0.996-ko-0.9.2/doc/mecab.css\n",
            "mecab-0.996-ko-0.9.2/doc/feature.html\n",
            "mecab-0.996-ko-0.9.2/doc/Makefile.am\n",
            "mecab-0.996-ko-0.9.2/doc/soft.html\n",
            "mecab-0.996-ko-0.9.2/doc/en/\n",
            "mecab-0.996-ko-0.9.2/doc/en/bindings.html\n",
            "mecab-0.996-ko-0.9.2/doc/dic-detail.html\n",
            "mecab-0.996-ko-0.9.2/doc/flow.png\n",
            "mecab-0.996-ko-0.9.2/doc/mecab.html\n",
            "mecab-0.996-ko-0.9.2/doc/index.html\n",
            "mecab-0.996-ko-0.9.2/doc/result.png\n",
            "mecab-0.996-ko-0.9.2/doc/doxygen/\n",
            "mecab-0.996-ko-0.9.2/doc/doxygen/tab_a.png\n",
            "mecab-0.996-ko-0.9.2/doc/doxygen/globals_eval.html\n",
            "mecab-0.996-ko-0.9.2/doc/doxygen/classMeCab_1_1Tagger-members.html\n",
            "mecab-0.996-ko-0.9.2/doc/doxygen/functions_vars.html\n",
            "mecab-0.996-ko-0.9.2/doc/doxygen/doxygen.css\n",
            "mecab-0.996-ko-0.9.2/doc/doxygen/tab_r.gif\n",
            "mecab-0.996-ko-0.9.2/doc/doxygen/classMeCab_1_1Lattice.html\n",
            "mecab-0.996-ko-0.9.2/doc/doxygen/functions.html\n",
            "mecab-0.996-ko-0.9.2/doc/doxygen/classMeCab_1_1Tagger.html\n",
            "mecab-0.996-ko-0.9.2/doc/doxygen/mecab_8h_source.html\n",
            "mecab-0.996-ko-0.9.2/doc/doxygen/tabs.css\n",
            "mecab-0.996-ko-0.9.2/doc/doxygen/nav_f.png\n",
            "mecab-0.996-ko-0.9.2/doc/doxygen/tab_b.png\n",
            "mecab-0.996-ko-0.9.2/doc/doxygen/globals.html\n",
            "mecab-0.996-ko-0.9.2/doc/doxygen/nav_h.png\n",
            "mecab-0.996-ko-0.9.2/doc/doxygen/tab_h.png\n",
            "mecab-0.996-ko-0.9.2/doc/doxygen/classMeCab_1_1Model.html\n",
            "mecab-0.996-ko-0.9.2/doc/doxygen/globals_func.html\n",
            "mecab-0.996-ko-0.9.2/doc/doxygen/closed.png\n",
            "mecab-0.996-ko-0.9.2/doc/doxygen/tab_l.gif\n",
            "mecab-0.996-ko-0.9.2/doc/doxygen/structmecab__path__t-members.html\n",
            "mecab-0.996-ko-0.9.2/doc/doxygen/functions_func.html\n",
            "mecab-0.996-ko-0.9.2/doc/doxygen/globals_type.html\n",
            "mecab-0.996-ko-0.9.2/doc/doxygen/classMeCab_1_1Lattice-members.html\n",
            "mecab-0.996-ko-0.9.2/doc/doxygen/structmecab__node__t.html\n",
            "mecab-0.996-ko-0.9.2/doc/doxygen/namespacemembers_func.html\n",
            "mecab-0.996-ko-0.9.2/doc/doxygen/tab_s.png\n",
            "mecab-0.996-ko-0.9.2/doc/doxygen/structmecab__dictionary__info__t-members.html\n",
            "mecab-0.996-ko-0.9.2/doc/doxygen/namespacemembers_type.html\n",
            "mecab-0.996-ko-0.9.2/doc/doxygen/classMeCab_1_1Model-members.html\n",
            "mecab-0.996-ko-0.9.2/doc/doxygen/structmecab__dictionary__info__t.html\n",
            "mecab-0.996-ko-0.9.2/doc/doxygen/namespaces.html\n",
            "mecab-0.996-ko-0.9.2/doc/doxygen/namespacemembers.html\n",
            "mecab-0.996-ko-0.9.2/doc/doxygen/namespaceMeCab.html\n",
            "mecab-0.996-ko-0.9.2/doc/doxygen/structmecab__path__t.html\n",
            "mecab-0.996-ko-0.9.2/doc/doxygen/files.html\n",
            "mecab-0.996-ko-0.9.2/doc/doxygen/structmecab__node__t-members.html\n",
            "mecab-0.996-ko-0.9.2/doc/doxygen/index.html\n",
            "mecab-0.996-ko-0.9.2/doc/doxygen/annotated.html\n",
            "mecab-0.996-ko-0.9.2/doc/doxygen/globals_defs.html\n",
            "mecab-0.996-ko-0.9.2/doc/doxygen/classes.html\n",
            "mecab-0.996-ko-0.9.2/doc/doxygen/mecab_8h-source.html\n",
            "mecab-0.996-ko-0.9.2/doc/doxygen/doxygen.png\n",
            "mecab-0.996-ko-0.9.2/doc/doxygen/tab_b.gif\n",
            "mecab-0.996-ko-0.9.2/doc/doxygen/bc_s.png\n",
            "mecab-0.996-ko-0.9.2/doc/doxygen/open.png\n",
            "mecab-0.996-ko-0.9.2/doc/doxygen/mecab_8h.html\n",
            "mecab-0.996-ko-0.9.2/doc/dic.html\n",
            "mecab-0.996-ko-0.9.2/doc/partial.html\n",
            "mecab-0.996-ko-0.9.2/doc/feature.png\n",
            "mecab-0.996-ko-0.9.2/doc/Makefile.in\n",
            "mecab-0.996-ko-0.9.2/missing\n",
            "mecab-0.996-ko-0.9.2/BSD\n",
            "mecab-0.996-ko-0.9.2/NEWS\n",
            "mecab-0.996-ko-0.9.2/mkinstalldirs\n",
            "mecab-0.996-ko-0.9.2/src/\n",
            "mecab-0.996-ko-0.9.2/src/dictionary.h\n",
            "mecab-0.996-ko-0.9.2/src/writer.h\n",
            "mecab-0.996-ko-0.9.2/src/utils.h\n",
            "mecab-0.996-ko-0.9.2/src/string_buffer.cpp\n",
            "mecab-0.996-ko-0.9.2/src/tokenizer.cpp\n",
            "mecab-0.996-ko-0.9.2/src/make.bat\n",
            "mecab-0.996-ko-0.9.2/src/mecab.h\n",
            "mecab-0.996-ko-0.9.2/src/freelist.h\n",
            "mecab-0.996-ko-0.9.2/src/string_buffer.h\n",
            "mecab-0.996-ko-0.9.2/src/learner_tagger.h\n",
            "mecab-0.996-ko-0.9.2/src/dictionary_compiler.cpp\n",
            "mecab-0.996-ko-0.9.2/src/eval.cpp\n",
            "mecab-0.996-ko-0.9.2/src/mecab-system-eval.cpp\n",
            "mecab-0.996-ko-0.9.2/src/darts.h\n",
            "mecab-0.996-ko-0.9.2/src/param.h\n",
            "mecab-0.996-ko-0.9.2/src/char_property.h\n",
            "mecab-0.996-ko-0.9.2/src/learner_node.h\n",
            "mecab-0.996-ko-0.9.2/src/mecab-dict-gen.cpp\n",
            "mecab-0.996-ko-0.9.2/src/mecab-dict-index.cpp\n",
            "mecab-0.996-ko-0.9.2/src/winmain.h\n",
            "mecab-0.996-ko-0.9.2/src/thread.h\n",
            "mecab-0.996-ko-0.9.2/src/context_id.cpp\n",
            "mecab-0.996-ko-0.9.2/src/Makefile.am\n",
            "mecab-0.996-ko-0.9.2/src/connector.h\n",
            "mecab-0.996-ko-0.9.2/src/common.h\n",
            "mecab-0.996-ko-0.9.2/src/dictionary_rewriter.cpp\n",
            "mecab-0.996-ko-0.9.2/src/Makefile.msvc.in\n",
            "mecab-0.996-ko-0.9.2/src/dictionary_rewriter.h\n",
            "mecab-0.996-ko-0.9.2/src/feature_index.h\n",
            "mecab-0.996-ko-0.9.2/src/iconv_utils.cpp\n",
            "mecab-0.996-ko-0.9.2/src/char_property.cpp\n",
            "mecab-0.996-ko-0.9.2/src/mecab-test-gen.cpp\n",
            "mecab-0.996-ko-0.9.2/src/tagger.cpp\n",
            "mecab-0.996-ko-0.9.2/src/mecab-cost-train.cpp\n",
            "mecab-0.996-ko-0.9.2/src/learner.cpp\n",
            "mecab-0.996-ko-0.9.2/src/dictionary.cpp\n",
            "mecab-0.996-ko-0.9.2/src/lbfgs.cpp\n",
            "mecab-0.996-ko-0.9.2/src/ucs.h\n",
            "mecab-0.996-ko-0.9.2/src/writer.cpp\n",
            "mecab-0.996-ko-0.9.2/src/learner_tagger.cpp\n",
            "mecab-0.996-ko-0.9.2/src/lbfgs.h\n",
            "mecab-0.996-ko-0.9.2/src/libmecab.cpp\n",
            "mecab-0.996-ko-0.9.2/src/tokenizer.h\n",
            "mecab-0.996-ko-0.9.2/src/mecab.cpp\n",
            "mecab-0.996-ko-0.9.2/src/utils.cpp\n",
            "mecab-0.996-ko-0.9.2/src/dictionary_generator.cpp\n",
            "mecab-0.996-ko-0.9.2/src/param.cpp\n",
            "mecab-0.996-ko-0.9.2/src/context_id.h\n",
            "mecab-0.996-ko-0.9.2/src/mmap.h\n",
            "mecab-0.996-ko-0.9.2/src/viterbi.h\n",
            "mecab-0.996-ko-0.9.2/src/viterbi.cpp\n",
            "mecab-0.996-ko-0.9.2/src/stream_wrapper.h\n",
            "mecab-0.996-ko-0.9.2/src/feature_index.cpp\n",
            "mecab-0.996-ko-0.9.2/src/nbest_generator.h\n",
            "mecab-0.996-ko-0.9.2/src/ucstable.h\n",
            "mecab-0.996-ko-0.9.2/src/nbest_generator.cpp\n",
            "mecab-0.996-ko-0.9.2/src/iconv_utils.h\n",
            "mecab-0.996-ko-0.9.2/src/connector.cpp\n",
            "mecab-0.996-ko-0.9.2/src/Makefile.in\n",
            "mecab-0.996-ko-0.9.2/src/scoped_ptr.h\n",
            "mecab-0.996-ko-0.9.2/Makefile.in\n",
            "checking for a BSD-compatible install... /usr/bin/install -c\n",
            "checking whether build environment is sane... yes\n",
            "checking for a thread-safe mkdir -p... /usr/bin/mkdir -p\n",
            "checking for gawk... no\n",
            "checking for mawk... mawk\n",
            "checking whether make sets $(MAKE)... yes\n",
            "checking for gcc... gcc\n",
            "checking whether the C compiler works... yes\n",
            "checking for C compiler default output file name... a.out\n",
            "checking for suffix of executables... \n",
            "checking whether we are cross compiling... no\n",
            "checking for suffix of object files... o\n",
            "checking whether we are using the GNU C compiler... yes\n",
            "checking whether gcc accepts -g... yes\n",
            "checking for gcc option to accept ISO C89... none needed\n",
            "checking for style of include used by make... GNU\n",
            "checking dependency style of gcc... none\n",
            "checking for g++... g++\n",
            "checking whether we are using the GNU C++ compiler... yes\n",
            "checking whether g++ accepts -g... yes\n",
            "checking dependency style of g++... none\n",
            "checking how to run the C preprocessor... gcc -E\n",
            "checking for grep that handles long lines and -e... /usr/bin/grep\n",
            "checking for egrep... /usr/bin/grep -E\n",
            "checking whether gcc needs -traditional... no\n",
            "checking whether make sets $(MAKE)... (cached) yes\n",
            "checking build system type... x86_64-unknown-linux-gnu\n",
            "checking host system type... x86_64-unknown-linux-gnu\n",
            "checking how to print strings... printf\n",
            "checking for a sed that does not truncate output... /usr/bin/sed\n",
            "checking for fgrep... /usr/bin/grep -F\n",
            "checking for ld used by gcc... /usr/bin/ld\n",
            "checking if the linker (/usr/bin/ld) is GNU ld... yes\n",
            "checking for BSD- or MS-compatible name lister (nm)... /usr/bin/nm -B\n",
            "checking the name lister (/usr/bin/nm -B) interface... BSD nm\n",
            "checking whether ln -s works... yes\n",
            "checking the maximum length of command line arguments... 1572864\n",
            "checking whether the shell understands some XSI constructs... yes\n",
            "checking whether the shell understands \"+=\"... yes\n",
            "checking how to convert x86_64-unknown-linux-gnu file names to x86_64-unknown-linux-gnu format... func_convert_file_noop\n",
            "checking how to convert x86_64-unknown-linux-gnu file names to toolchain format... func_convert_file_noop\n",
            "checking for /usr/bin/ld option to reload object files... -r\n",
            "checking for objdump... objdump\n",
            "checking how to recognize dependent libraries... pass_all\n",
            "checking for dlltool... dlltool\n",
            "checking how to associate runtime and link libraries... printf %s\\n\n",
            "checking for ar... ar\n",
            "checking for archiver @FILE support... @\n",
            "checking for strip... strip\n",
            "checking for ranlib... ranlib\n",
            "checking command to parse /usr/bin/nm -B output from gcc object... ok\n",
            "checking for sysroot... no\n",
            "checking for mt... no\n",
            "checking if : is a manifest tool... no\n",
            "checking for ANSI C header files... yes\n",
            "checking for sys/types.h... yes\n",
            "checking for sys/stat.h... yes\n",
            "checking for stdlib.h... yes\n",
            "checking for string.h... yes\n",
            "checking for memory.h... yes\n",
            "checking for strings.h... yes\n",
            "checking for inttypes.h... yes\n",
            "checking for stdint.h... yes\n",
            "checking for unistd.h... yes\n",
            "checking for dlfcn.h... yes\n",
            "checking for objdir... .libs\n",
            "checking if gcc supports -fno-rtti -fno-exceptions... no\n",
            "checking for gcc option to produce PIC... -fPIC -DPIC\n",
            "checking if gcc PIC flag -fPIC -DPIC works... yes\n",
            "checking if gcc static flag -static works... yes\n",
            "checking if gcc supports -c -o file.o... yes\n",
            "checking if gcc supports -c -o file.o... (cached) yes\n",
            "checking whether the gcc linker (/usr/bin/ld -m elf_x86_64) supports shared libraries... yes\n",
            "checking whether -lc should be explicitly linked in... no\n",
            "checking dynamic linker characteristics... GNU/Linux ld.so\n",
            "checking how to hardcode library paths into programs... immediate\n",
            "checking whether stripping libraries is possible... yes\n",
            "checking if libtool supports shared libraries... yes\n",
            "checking whether to build shared libraries... yes\n",
            "checking whether to build static libraries... yes\n",
            "checking how to run the C++ preprocessor... g++ -E\n",
            "checking for ld used by g++... /usr/bin/ld -m elf_x86_64\n",
            "checking if the linker (/usr/bin/ld -m elf_x86_64) is GNU ld... yes\n",
            "checking whether the g++ linker (/usr/bin/ld -m elf_x86_64) supports shared libraries... yes\n",
            "checking for g++ option to produce PIC... -fPIC -DPIC\n",
            "checking if g++ PIC flag -fPIC -DPIC works... yes\n",
            "checking if g++ static flag -static works... yes\n",
            "checking if g++ supports -c -o file.o... yes\n",
            "checking if g++ supports -c -o file.o... (cached) yes\n",
            "checking whether the g++ linker (/usr/bin/ld -m elf_x86_64) supports shared libraries... yes\n",
            "checking dynamic linker characteristics... (cached) GNU/Linux ld.so\n",
            "checking how to hardcode library paths into programs... immediate\n",
            "checking for library containing strerror... none required\n",
            "checking whether byte ordering is bigendian... no\n",
            "checking for ld used by GCC... /usr/bin/ld -m elf_x86_64\n",
            "checking if the linker (/usr/bin/ld -m elf_x86_64) is GNU ld... yes\n",
            "checking for shared library run path origin... done\n",
            "checking for iconv... yes\n",
            "checking for working iconv... yes\n",
            "checking for iconv declaration... \n",
            "         extern size_t iconv (iconv_t cd, char * *inbuf, size_t *inbytesleft, char * *outbuf, size_t *outbytesleft);\n",
            "checking for ANSI C header files... (cached) yes\n",
            "checking for an ANSI C-conforming const... yes\n",
            "checking whether byte ordering is bigendian... (cached) no\n",
            "checking for string.h... (cached) yes\n",
            "checking for stdlib.h... (cached) yes\n",
            "checking for unistd.h... (cached) yes\n",
            "checking fcntl.h usability... yes\n",
            "checking fcntl.h presence... yes\n",
            "checking for fcntl.h... yes\n",
            "checking for stdint.h... (cached) yes\n",
            "checking for sys/stat.h... (cached) yes\n",
            "checking sys/mman.h usability... yes\n",
            "checking sys/mman.h presence... yes\n",
            "checking for sys/mman.h... yes\n",
            "checking sys/times.h usability... yes\n",
            "checking sys/times.h presence... yes\n",
            "checking for sys/times.h... yes\n",
            "checking for sys/types.h... (cached) yes\n",
            "checking dirent.h usability... yes\n",
            "checking dirent.h presence... yes\n",
            "checking for dirent.h... yes\n",
            "checking ctype.h usability... yes\n",
            "checking ctype.h presence... yes\n",
            "checking for ctype.h... yes\n",
            "checking for sys/types.h... (cached) yes\n",
            "checking io.h usability... no\n",
            "checking io.h presence... no\n",
            "checking for io.h... no\n",
            "checking windows.h usability... no\n",
            "checking windows.h presence... no\n",
            "checking for windows.h... no\n",
            "checking pthread.h usability... yes\n",
            "checking pthread.h presence... yes\n",
            "checking for pthread.h... yes\n",
            "checking for off_t... yes\n",
            "checking for size_t... yes\n",
            "checking size of char... 1\n",
            "checking size of short... 2\n",
            "checking size of int... 4\n",
            "checking size of long... 8\n",
            "checking size of long long... 8\n",
            "checking size of size_t... 8\n",
            "checking for size_t... (cached) yes\n",
            "checking for unsigned long long int... yes\n",
            "checking for stdlib.h... (cached) yes\n",
            "checking for unistd.h... (cached) yes\n",
            "checking for sys/param.h... yes\n",
            "checking for getpagesize... yes\n",
            "checking for working mmap... yes\n",
            "checking for main in -lstdc++... yes\n",
            "checking for pthread_create in -lpthread... yes\n",
            "checking for pthread_join in -lpthread... yes\n",
            "checking for getenv... yes\n",
            "checking for opendir... yes\n",
            "checking whether make is GNU Make... yes\n",
            "checking if g++ supports stl <vector> (required)... yes\n",
            "checking if g++ supports stl <list> (required)... yes\n",
            "checking if g++ supports stl <map> (required)... yes\n",
            "checking if g++ supports stl <set> (required)... yes\n",
            "checking if g++ supports stl <queue> (required)... yes\n",
            "checking if g++ supports stl <functional> (required)... yes\n",
            "checking if g++ supports stl <algorithm> (required)... yes\n",
            "checking if g++ supports stl <string> (required)... yes\n",
            "checking if g++ supports stl <iostream> (required)... yes\n",
            "checking if g++ supports stl <sstream> (required)... yes\n",
            "checking if g++ supports stl <fstream> (required)... yes\n",
            "checking if g++ supports template <class T> (required)... yes\n",
            "checking if g++ supports const_cast<> (required)... yes\n",
            "checking if g++ supports static_cast<> (required)... yes\n",
            "checking if g++ supports reinterpret_cast<> (required)... yes\n",
            "checking if g++ supports namespaces (required) ... yes\n",
            "checking if g++ supports __thread (optional)... yes\n",
            "checking if g++ supports template <class T> (required)... yes\n",
            "checking if g++ supports GCC native atomic operations (optional)... yes\n",
            "checking if g++ supports OSX native atomic operations (optional)... no\n",
            "checking if g++ environment provides all required features... yes\n",
            "configure: creating ./config.status\n",
            "config.status: creating Makefile\n",
            "config.status: creating src/Makefile\n",
            "config.status: creating src/Makefile.msvc\n",
            "config.status: creating man/Makefile\n",
            "config.status: creating doc/Makefile\n",
            "config.status: creating tests/Makefile\n",
            "config.status: creating swig/version.h\n",
            "config.status: creating mecab.iss\n",
            "config.status: creating mecab-config\n",
            "config.status: creating mecabrc\n",
            "config.status: creating config.h\n",
            "config.status: executing depfiles commands\n",
            "config.status: executing libtool commands\n",
            "config.status: executing default commands\n",
            "make  all-recursive\n",
            "make[1]: Entering directory '/tmp/mecab-0.996-ko-0.9.2'\n",
            "Making all in src\n",
            "make[2]: Entering directory '/tmp/mecab-0.996-ko-0.9.2/src'\n",
            "/bin/bash ../libtool --tag=CXX   --mode=compile g++ -DHAVE_CONFIG_H -I. -I.. -DDIC_VERSION=102   -DMECAB_DEFAULT_RC=\"\\\"/usr/local/etc/mecabrc\\\"\"    -O3 -Wall  -c -o viterbi.lo viterbi.cpp\n",
            "libtool: compile:  g++ -DHAVE_CONFIG_H -I. -I.. -DDIC_VERSION=102 -DMECAB_DEFAULT_RC=\\\"/usr/local/etc/mecabrc\\\" -O3 -Wall -c viterbi.cpp  -fPIC -DPIC -o .libs/viterbi.o\n",
            "In file included from \u001b[01m\u001b[Kdictionary.h:11\u001b[m\u001b[K,\n",
            "                 from \u001b[01m\u001b[Ktokenizer.h:11\u001b[m\u001b[K,\n",
            "                 from \u001b[01m\u001b[Kviterbi.cpp:18\u001b[m\u001b[K:\n",
            "\u001b[01m\u001b[Kdarts.h:\u001b[m\u001b[K In member function ‘\u001b[01m\u001b[KT MeCab::Darts::DoubleArrayImpl<node_type_, node_u_type_, array_type_, array_u_type_, length_func_>::exactMatchSearch(const key_type*, size_t, size_t) const\u001b[m\u001b[K’:\n",
            "\u001b[01m\u001b[Kdarts.h:407:27:\u001b[m\u001b[K \u001b[01;35m\u001b[Kwarning: \u001b[m\u001b[KISO C++17 does not allow ‘\u001b[01m\u001b[Kregister\u001b[m\u001b[K’ storage class specifier [\u001b[01;35m\u001b[K\u001b]8;;https://gcc.gnu.org/onlinedocs/gcc/Warning-Options.html#index-Wregister\u0007-Wregister\u001b]8;;\u0007\u001b[m\u001b[K]\n",
            "  407 |     register array_type_  \u001b[01;35m\u001b[Kb\u001b[m\u001b[K = array_[node_pos].base;\n",
            "      |                           \u001b[01;35m\u001b[K^\u001b[m\u001b[K\n",
            "\u001b[01m\u001b[Kdarts.h:408:28:\u001b[m\u001b[K \u001b[01;35m\u001b[Kwarning: \u001b[m\u001b[KISO C++17 does not allow ‘\u001b[01m\u001b[Kregister\u001b[m\u001b[K’ storage class specifier [\u001b[01;35m\u001b[K\u001b]8;;https://gcc.gnu.org/onlinedocs/gcc/Warning-Options.html#index-Wregister\u0007-Wregister\u001b]8;;\u0007\u001b[m\u001b[K]\n",
            "  408 |     register array_u_type_ \u001b[01;35m\u001b[Kp\u001b[m\u001b[K;\n",
            "      |                            \u001b[01;35m\u001b[K^\u001b[m\u001b[K\n",
            "\u001b[01m\u001b[Kdarts.h:410:26:\u001b[m\u001b[K \u001b[01;35m\u001b[Kwarning: \u001b[m\u001b[KISO C++17 does not allow ‘\u001b[01m\u001b[Kregister\u001b[m\u001b[K’ storage class specifier [\u001b[01;35m\u001b[K\u001b]8;;https://gcc.gnu.org/onlinedocs/gcc/Warning-Options.html#index-Wregister\u0007-Wregister\u001b]8;;\u0007\u001b[m\u001b[K]\n",
            "  410 |     for (register size_t \u001b[01;35m\u001b[Ki\u001b[m\u001b[K = 0; i < len; ++i) {\n",
            "      |                          \u001b[01;35m\u001b[K^\u001b[m\u001b[K\n",
            "\u001b[01m\u001b[Kdarts.h:\u001b[m\u001b[K In member function ‘\u001b[01m\u001b[Ksize_t MeCab::Darts::DoubleArrayImpl<node_type_, node_u_type_, array_type_, array_u_type_, length_func_>::commonPrefixSearch(const key_type*, T*, size_t, size_t, size_t) const\u001b[m\u001b[K’:\n",
            "\u001b[01m\u001b[Kdarts.h:434:27:\u001b[m\u001b[K \u001b[01;35m\u001b[Kwarning: \u001b[m\u001b[KISO C++17 does not allow ‘\u001b[01m\u001b[Kregister\u001b[m\u001b[K’ storage class specifier [\u001b[01;35m\u001b[K\u001b]8;;https://gcc.gnu.org/onlinedocs/gcc/Warning-Options.html#index-Wregister\u0007-Wregister\u001b]8;;\u0007\u001b[m\u001b[K]\n",
            "  434 |     register array_type_  \u001b[01;35m\u001b[Kb\u001b[m\u001b[K   = array_[node_pos].base;\n",
            "      |                           \u001b[01;35m\u001b[K^\u001b[m\u001b[K\n",
            "\u001b[01m\u001b[Kdarts.h:435:25:\u001b[m\u001b[K \u001b[01;35m\u001b[Kwarning: \u001b[m\u001b[KISO C++17 does not allow ‘\u001b[01m\u001b[Kregister\u001b[m\u001b[K’ storage class specifier [\u001b[01;35m\u001b[K\u001b]8;;https://gcc.gnu.org/onlinedocs/gcc/Warning-Options.html#index-Wregister\u0007-Wregister\u001b]8;;\u0007\u001b[m\u001b[K]\n",
            "  435 |     register size_t     \u001b[01;35m\u001b[Knum\u001b[m\u001b[K = 0;\n",
            "      |                         \u001b[01;35m\u001b[K^~~\u001b[m\u001b[K\n",
            "\u001b[01m\u001b[Kdarts.h:436:27:\u001b[m\u001b[K \u001b[01;35m\u001b[Kwarning: \u001b[m\u001b[KISO C++17 does not allow ‘\u001b[01m\u001b[Kregister\u001b[m\u001b[K’ storage class specifier [\u001b[01;35m\u001b[K\u001b]8;;https://gcc.gnu.org/onlinedocs/gcc/Warning-Options.html#index-Wregister\u0007-Wregister\u001b]8;;\u0007\u001b[m\u001b[K]\n",
            "  436 |     register array_type_  \u001b[01;35m\u001b[Kn\u001b[m\u001b[K;\n",
            "      |                           \u001b[01;35m\u001b[K^\u001b[m\u001b[K\n",
            "\u001b[01m\u001b[Kdarts.h:437:28:\u001b[m\u001b[K \u001b[01;35m\u001b[Kwarning: \u001b[m\u001b[KISO C++17 does not allow ‘\u001b[01m\u001b[Kregister\u001b[m\u001b[K’ storage class specifier [\u001b[01;35m\u001b[K\u001b]8;;https://gcc.gnu.org/onlinedocs/gcc/Warning-Options.html#index-Wregister\u0007-Wregister\u001b]8;;\u0007\u001b[m\u001b[K]\n",
            "  437 |     register array_u_type_ \u001b[01;35m\u001b[Kp\u001b[m\u001b[K;\n",
            "      |                            \u001b[01;35m\u001b[K^\u001b[m\u001b[K\n",
            "\u001b[01m\u001b[Kdarts.h:439:26:\u001b[m\u001b[K \u001b[01;35m\u001b[Kwarning: \u001b[m\u001b[KISO C++17 does not allow ‘\u001b[01m\u001b[Kregister\u001b[m\u001b[K’ storage class specifier [\u001b[01;35m\u001b[K\u001b]8;;https://gcc.gnu.org/onlinedocs/gcc/Warning-Options.html#index-Wregister\u0007-Wregister\u001b]8;;\u0007\u001b[m\u001b[K]\n",
            "  439 |     for (register size_t \u001b[01;35m\u001b[Ki\u001b[m\u001b[K = 0; i < len; ++i) {\n",
            "      |                          \u001b[01;35m\u001b[K^\u001b[m\u001b[K\n",
            "\u001b[01m\u001b[Kdarts.h:\u001b[m\u001b[K In member function ‘\u001b[01m\u001b[KMeCab::Darts::DoubleArrayImpl<node_type_, node_u_type_, array_type_, array_u_type_, length_func_>::value_type MeCab::Darts::DoubleArrayImpl<node_type_, node_u_type_, array_type_, array_u_type_, length_func_>::traverse(const key_type*, size_t&, size_t&, size_t) const\u001b[m\u001b[K’:\n",
            "\u001b[01m\u001b[Kdarts.h:472:27:\u001b[m\u001b[K \u001b[01;35m\u001b[Kwarning: \u001b[m\u001b[KISO C++17 does not allow ‘\u001b[01m\u001b[Kregister\u001b[m\u001b[K’ storage class specifier [\u001b[01;35m\u001b[K\u001b]8;;https://gcc.gnu.org/onlinedocs/gcc/Warning-Options.html#index-Wregister\u0007-Wregister\u001b]8;;\u0007\u001b[m\u001b[K]\n",
            "  472 |     register array_type_  \u001b[01;35m\u001b[Kb\u001b[m\u001b[K = array_[node_pos].base;\n",
            "      |                           \u001b[01;35m\u001b[K^\u001b[m\u001b[K\n",
            "\u001b[01m\u001b[Kdarts.h:473:28:\u001b[m\u001b[K \u001b[01;35m\u001b[Kwarning: \u001b[m\u001b[KISO C++17 does not allow ‘\u001b[01m\u001b[Kregister\u001b[m\u001b[K’ storage class specifier [\u001b[01;35m\u001b[K\u001b]8;;https://gcc.gnu.org/onlinedocs/gcc/Warning-Options.html#index-Wregister\u0007-Wregister\u001b]8;;\u0007\u001b[m\u001b[K]\n",
            "  473 |     register array_u_type_ \u001b[01;35m\u001b[Kp\u001b[m\u001b[K;\n",
            "      |                            \u001b[01;35m\u001b[K^\u001b[m\u001b[K\n",
            "In file included from \u001b[01m\u001b[Kdictionary.h:12\u001b[m\u001b[K,\n",
            "                 from \u001b[01m\u001b[Ktokenizer.h:11\u001b[m\u001b[K,\n",
            "                 from \u001b[01m\u001b[Kviterbi.cpp:18\u001b[m\u001b[K:\n",
            "\u001b[01m\u001b[Kchar_property.h:\u001b[m\u001b[K In member function ‘\u001b[01m\u001b[Kconst char* MeCab::CharProperty::seekToOtherType(const char*, const char*, MeCab::CharInfo, MeCab::CharInfo*, size_t*, size_t*) const\u001b[m\u001b[K’:\n",
            "\u001b[01m\u001b[Kchar_property.h:40:26:\u001b[m\u001b[K \u001b[01;35m\u001b[Kwarning: \u001b[m\u001b[KISO C++17 does not allow ‘\u001b[01m\u001b[Kregister\u001b[m\u001b[K’ storage class specifier [\u001b[01;35m\u001b[K\u001b]8;;https://gcc.gnu.org/onlinedocs/gcc/Warning-Options.html#index-Wregister\u0007-Wregister\u001b]8;;\u0007\u001b[m\u001b[K]\n",
            "   40 |     register const char *\u001b[01;35m\u001b[Kp\u001b[m\u001b[K =  begin;\n",
            "      |                          \u001b[01;35m\u001b[K^\u001b[m\u001b[K\n",
            "\u001b[01m\u001b[Kviterbi.cpp:\u001b[m\u001b[K In function ‘\u001b[01m\u001b[Kbool MeCab::{anonymous}::connect(size_t, MeCab::Node*, MeCab::Node**, MeCab::Node**, const MeCab::Connector*, MeCab::Allocator<mecab_node_t, mecab_path_t>*)\u001b[m\u001b[K’:\n",
            "\u001b[01m\u001b[Kviterbi.cpp:321:19:\u001b[m\u001b[K \u001b[01;35m\u001b[Kwarning: \u001b[m\u001b[KISO C++17 does not allow ‘\u001b[01m\u001b[Kregister\u001b[m\u001b[K’ storage class specifier [\u001b[01;35m\u001b[K\u001b]8;;https://gcc.gnu.org/onlinedocs/gcc/Warning-Options.html#index-Wregister\u0007-Wregister\u001b]8;;\u0007\u001b[m\u001b[K]\n",
            "  321 |     register long \u001b[01;35m\u001b[Kbest_cost\u001b[m\u001b[K = 2147483647;\n",
            "      |                   \u001b[01;35m\u001b[K^~~~~~~~~\u001b[m\u001b[K\n",
            "\u001b[01m\u001b[Kviterbi.cpp:324:20:\u001b[m\u001b[K \u001b[01;35m\u001b[Kwarning: \u001b[m\u001b[KISO C++17 does not allow ‘\u001b[01m\u001b[Kregister\u001b[m\u001b[K’ storage class specifier [\u001b[01;35m\u001b[K\u001b]8;;https://gcc.gnu.org/onlinedocs/gcc/Warning-Options.html#index-Wregister\u0007-Wregister\u001b]8;;\u0007\u001b[m\u001b[K]\n",
            "  324 |       register int \u001b[01;35m\u001b[Klcost\u001b[m\u001b[K = connector->cost(lnode, rnode);  // local cost\n",
            "      |                    \u001b[01;35m\u001b[K^~~~~\u001b[m\u001b[K\n",
            "\u001b[01m\u001b[Kviterbi.cpp:325:21:\u001b[m\u001b[K \u001b[01;35m\u001b[Kwarning: \u001b[m\u001b[KISO C++17 does not allow ‘\u001b[01m\u001b[Kregister\u001b[m\u001b[K’ storage class specifier [\u001b[01;35m\u001b[K\u001b]8;;https://gcc.gnu.org/onlinedocs/gcc/Warning-Options.html#index-Wregister\u0007-Wregister\u001b]8;;\u0007\u001b[m\u001b[K]\n",
            "  325 |       register long \u001b[01;35m\u001b[Kcost\u001b[m\u001b[K = lnode->cost + lcost;\n",
            "      |                     \u001b[01;35m\u001b[K^~~~\u001b[m\u001b[K\n",
            "In file included from \u001b[01m\u001b[Kdictionary.h:11\u001b[m\u001b[K,\n",
            "                 from \u001b[01m\u001b[Ktokenizer.h:11\u001b[m\u001b[K,\n",
            "                 from \u001b[01m\u001b[Kviterbi.cpp:18\u001b[m\u001b[K:\n",
            "darts.h: In instantiation of ‘\u001b[01m\u001b[Ksize_t MeCab::Darts::DoubleArrayImpl<node_type_, node_u_type_, array_type_, array_u_type_, length_func_>::commonPrefixSearch(const key_type*, T*, size_t, size_t, size_t) const [with T = MeCab::Darts::DoubleArrayImpl<char, unsigned char, int, unsigned int>::result_pair_type; node_type_ = char; node_u_type_ = unsigned char; array_type_ = int; array_u_type_ = unsigned int; length_func_ = MeCab::Darts::Length<char>; size_t = long unsigned int; MeCab::Darts::DoubleArrayImpl<node_type_, node_u_type_, array_type_, array_u_type_, length_func_>::key_type = char]\u001b[m\u001b[K’:\n",
            "\u001b[01m\u001b[Kdictionary.h:37:34:\u001b[m\u001b[K   required from here\n",
            "\u001b[01m\u001b[Kdarts.h:434:27:\u001b[m\u001b[K \u001b[01;35m\u001b[Kwarning: \u001b[m\u001b[KISO C++17 does not allow ‘\u001b[01m\u001b[Kregister\u001b[m\u001b[K’ storage class specifier [\u001b[01;35m\u001b[K\u001b]8;;https://gcc.gnu.org/onlinedocs/gcc/Warning-Options.html#index-Wregister\u0007-Wregister\u001b]8;;\u0007\u001b[m\u001b[K]\n",
            "  434 |     register array_type_  \u001b[01;35m\u001b[Kb\u001b[m\u001b[K   = array_[node_pos].base;\n",
            "      |                           \u001b[01;35m\u001b[K^\u001b[m\u001b[K\n",
            "\u001b[01m\u001b[Kdarts.h:435:25:\u001b[m\u001b[K \u001b[01;35m\u001b[Kwarning: \u001b[m\u001b[KISO C++17 does not allow ‘\u001b[01m\u001b[Kregister\u001b[m\u001b[K’ storage class specifier [\u001b[01;35m\u001b[K\u001b]8;;https://gcc.gnu.org/onlinedocs/gcc/Warning-Options.html#index-Wregister\u0007-Wregister\u001b]8;;\u0007\u001b[m\u001b[K]\n",
            "  435 |     register size_t     \u001b[01;35m\u001b[Knum\u001b[m\u001b[K = 0;\n",
            "      |                         \u001b[01;35m\u001b[K^~~\u001b[m\u001b[K\n",
            "\u001b[01m\u001b[Kdarts.h:436:27:\u001b[m\u001b[K \u001b[01;35m\u001b[Kwarning: \u001b[m\u001b[KISO C++17 does not allow ‘\u001b[01m\u001b[Kregister\u001b[m\u001b[K’ storage class specifier [\u001b[01;35m\u001b[K\u001b]8;;https://gcc.gnu.org/onlinedocs/gcc/Warning-Options.html#index-Wregister\u0007-Wregister\u001b]8;;\u0007\u001b[m\u001b[K]\n",
            "  436 |     register array_type_  \u001b[01;35m\u001b[Kn\u001b[m\u001b[K;\n",
            "      |                           \u001b[01;35m\u001b[K^\u001b[m\u001b[K\n",
            "\u001b[01m\u001b[Kdarts.h:437:28:\u001b[m\u001b[K \u001b[01;35m\u001b[Kwarning: \u001b[m\u001b[KISO C++17 does not allow ‘\u001b[01m\u001b[Kregister\u001b[m\u001b[K’ storage class specifier [\u001b[01;35m\u001b[K\u001b]8;;https://gcc.gnu.org/onlinedocs/gcc/Warning-Options.html#index-Wregister\u0007-Wregister\u001b]8;;\u0007\u001b[m\u001b[K]\n",
            "  437 |     register array_u_type_ \u001b[01;35m\u001b[Kp\u001b[m\u001b[K;\n",
            "      |                            \u001b[01;35m\u001b[K^\u001b[m\u001b[K\n",
            "\u001b[01m\u001b[Kdarts.h:439:26:\u001b[m\u001b[K \u001b[01;35m\u001b[Kwarning: \u001b[m\u001b[KISO C++17 does not allow ‘\u001b[01m\u001b[Kregister\u001b[m\u001b[K’ storage class specifier [\u001b[01;35m\u001b[K\u001b]8;;https://gcc.gnu.org/onlinedocs/gcc/Warning-Options.html#index-Wregister\u0007-Wregister\u001b]8;;\u0007\u001b[m\u001b[K]\n",
            "  439 |     for (register size_t \u001b[01;35m\u001b[Ki\u001b[m\u001b[K = 0; i < len; ++i) {\n",
            "      |                          \u001b[01;35m\u001b[K^\u001b[m\u001b[K\n",
            "darts.h: In instantiation of ‘\u001b[01m\u001b[KT MeCab::Darts::DoubleArrayImpl<node_type_, node_u_type_, array_type_, array_u_type_, length_func_>::exactMatchSearch(const key_type*, size_t, size_t) const [with T = MeCab::Darts::DoubleArrayImpl<char, unsigned char, int, unsigned int>::result_pair_type; node_type_ = char; node_u_type_ = unsigned char; array_type_ = int; array_u_type_ = unsigned int; length_func_ = MeCab::Darts::Length<char>; MeCab::Darts::DoubleArrayImpl<node_type_, node_u_type_, array_type_, array_u_type_, length_func_>::key_type = char; size_t = long unsigned int]\u001b[m\u001b[K’:\n",
            "\u001b[01m\u001b[Kdarts.h:394:33:\u001b[m\u001b[K   required from ‘\u001b[01m\u001b[Kvoid MeCab::Darts::DoubleArrayImpl<node_type_, node_u_type_, array_type_, array_u_type_, length_func_>::exactMatchSearch(const key_type*, T&, size_t, size_t) const [with T = MeCab::Darts::DoubleArrayImpl<char, unsigned char, int, unsigned int>::result_pair_type; node_type_ = char; node_u_type_ = unsigned char; array_type_ = int; array_u_type_ = unsigned int; length_func_ = MeCab::Darts::Length<char>; MeCab::Darts::DoubleArrayImpl<node_type_, node_u_type_, array_type_, array_u_type_, length_func_>::key_type = char; size_t = long unsigned int]\u001b[m\u001b[K’\n",
            "\u001b[01m\u001b[Kdictionary.h:42:25:\u001b[m\u001b[K   required from here\n",
            "\u001b[01m\u001b[Kdarts.h:407:27:\u001b[m\u001b[K \u001b[01;35m\u001b[Kwarning: \u001b[m\u001b[KISO C++17 does not allow ‘\u001b[01m\u001b[Kregister\u001b[m\u001b[K’ storage class specifier [\u001b[01;35m\u001b[K\u001b]8;;https://gcc.gnu.org/onlinedocs/gcc/Warning-Options.html#index-Wregister\u0007-Wregister\u001b]8;;\u0007\u001b[m\u001b[K]\n",
            "  407 |     register array_type_  \u001b[01;35m\u001b[Kb\u001b[m\u001b[K = array_[node_pos].base;\n",
            "      |                           \u001b[01;35m\u001b[K^\u001b[m\u001b[K\n",
            "\u001b[01m\u001b[Kdarts.h:408:28:\u001b[m\u001b[K \u001b[01;35m\u001b[Kwarning: \u001b[m\u001b[KISO C++17 does not allow ‘\u001b[01m\u001b[Kregister\u001b[m\u001b[K’ storage class specifier [\u001b[01;35m\u001b[K\u001b]8;;https://gcc.gnu.org/onlinedocs/gcc/Warning-Options.html#index-Wregister\u0007-Wregister\u001b]8;;\u0007\u001b[m\u001b[K]\n",
            "  408 |     register array_u_type_ \u001b[01;35m\u001b[Kp\u001b[m\u001b[K;\n",
            "      |                            \u001b[01;35m\u001b[K^\u001b[m\u001b[K\n",
            "\u001b[01m\u001b[Kdarts.h:410:26:\u001b[m\u001b[K \u001b[01;35m\u001b[Kwarning: \u001b[m\u001b[KISO C++17 does not allow ‘\u001b[01m\u001b[Kregister\u001b[m\u001b[K’ storage class specifier [\u001b[01;35m\u001b[K\u001b]8;;https://gcc.gnu.org/onlinedocs/gcc/Warning-Options.html#index-Wregister\u0007-Wregister\u001b]8;;\u0007\u001b[m\u001b[K]\n",
            "  410 |     for (register size_t \u001b[01;35m\u001b[Ki\u001b[m\u001b[K = 0; i < len; ++i) {\n",
            "      |                          \u001b[01;35m\u001b[K^\u001b[m\u001b[K\n",
            "viterbi.cpp: In instantiation of ‘\u001b[01m\u001b[Kbool MeCab::{anonymous}::connect(size_t, MeCab::Node*, MeCab::Node**, MeCab::Node**, const MeCab::Connector*, MeCab::Allocator<mecab_node_t, mecab_path_t>*) [with bool IsAllPath = true; size_t = long unsigned int; MeCab::Node = mecab_node_t]\u001b[m\u001b[K’:\n",
            "\u001b[01m\u001b[Kviterbi.cpp:379:30:\u001b[m\u001b[K   required from ‘\u001b[01m\u001b[Kbool MeCab::Viterbi::viterbi(MeCab::Lattice*) const [with bool IsAllPath = true; bool IsPartial = true]\u001b[m\u001b[K’\n",
            "\u001b[01m\u001b[Kviterbi.cpp:84:35:\u001b[m\u001b[K   required from here\n",
            "\u001b[01m\u001b[Kviterbi.cpp:321:19:\u001b[m\u001b[K \u001b[01;35m\u001b[Kwarning: \u001b[m\u001b[KISO C++17 does not allow ‘\u001b[01m\u001b[Kregister\u001b[m\u001b[K’ storage class specifier [\u001b[01;35m\u001b[K\u001b]8;;https://gcc.gnu.org/onlinedocs/gcc/Warning-Options.html#index-Wregister\u0007-Wregister\u001b]8;;\u0007\u001b[m\u001b[K]\n",
            "  321 |     register long \u001b[01;35m\u001b[Kbest_cost\u001b[m\u001b[K = 2147483647;\n",
            "      |                   \u001b[01;35m\u001b[K^~~~~~~~~\u001b[m\u001b[K\n",
            "\u001b[01m\u001b[Kviterbi.cpp:324:20:\u001b[m\u001b[K \u001b[01;35m\u001b[Kwarning: \u001b[m\u001b[KISO C++17 does not allow ‘\u001b[01m\u001b[Kregister\u001b[m\u001b[K’ storage class specifier [\u001b[01;35m\u001b[K\u001b]8;;https://gcc.gnu.org/onlinedocs/gcc/Warning-Options.html#index-Wregister\u0007-Wregister\u001b]8;;\u0007\u001b[m\u001b[K]\n",
            "  324 |       register int \u001b[01;35m\u001b[Klcost\u001b[m\u001b[K = connector->cost(lnode, rnode);  // local cost\n",
            "      |                    \u001b[01;35m\u001b[K^~~~~\u001b[m\u001b[K\n",
            "\u001b[01m\u001b[Kviterbi.cpp:325:21:\u001b[m\u001b[K \u001b[01;35m\u001b[Kwarning: \u001b[m\u001b[KISO C++17 does not allow ‘\u001b[01m\u001b[Kregister\u001b[m\u001b[K’ storage class specifier [\u001b[01;35m\u001b[K\u001b]8;;https://gcc.gnu.org/onlinedocs/gcc/Warning-Options.html#index-Wregister\u0007-Wregister\u001b]8;;\u0007\u001b[m\u001b[K]\n",
            "  325 |       register long \u001b[01;35m\u001b[Kcost\u001b[m\u001b[K = lnode->cost + lcost;\n",
            "      |                     \u001b[01;35m\u001b[K^~~~\u001b[m\u001b[K\n",
            "viterbi.cpp: In instantiation of ‘\u001b[01m\u001b[Kbool MeCab::{anonymous}::connect(size_t, MeCab::Node*, MeCab::Node**, MeCab::Node**, const MeCab::Connector*, MeCab::Allocator<mecab_node_t, mecab_path_t>*) [with bool IsAllPath = false; size_t = long unsigned int; MeCab::Node = mecab_node_t]\u001b[m\u001b[K’:\n",
            "\u001b[01m\u001b[Kviterbi.cpp:379:30:\u001b[m\u001b[K   required from ‘\u001b[01m\u001b[Kbool MeCab::Viterbi::viterbi(MeCab::Lattice*) const [with bool IsAllPath = false; bool IsPartial = true]\u001b[m\u001b[K’\n",
            "\u001b[01m\u001b[Kviterbi.cpp:91:36:\u001b[m\u001b[K   required from here\n",
            "\u001b[01m\u001b[Kviterbi.cpp:321:19:\u001b[m\u001b[K \u001b[01;35m\u001b[Kwarning: \u001b[m\u001b[KISO C++17 does not allow ‘\u001b[01m\u001b[Kregister\u001b[m\u001b[K’ storage class specifier [\u001b[01;35m\u001b[K\u001b]8;;https://gcc.gnu.org/onlinedocs/gcc/Warning-Options.html#index-Wregister\u0007-Wregister\u001b]8;;\u0007\u001b[m\u001b[K]\n",
            "  321 |     register long \u001b[01;35m\u001b[Kbest_cost\u001b[m\u001b[K = 2147483647;\n",
            "      |                   \u001b[01;35m\u001b[K^~~~~~~~~\u001b[m\u001b[K\n",
            "\u001b[01m\u001b[Kviterbi.cpp:324:20:\u001b[m\u001b[K \u001b[01;35m\u001b[Kwarning: \u001b[m\u001b[KISO C++17 does not allow ‘\u001b[01m\u001b[Kregister\u001b[m\u001b[K’ storage class specifier [\u001b[01;35m\u001b[K\u001b]8;;https://gcc.gnu.org/onlinedocs/gcc/Warning-Options.html#index-Wregister\u0007-Wregister\u001b]8;;\u0007\u001b[m\u001b[K]\n",
            "  324 |       register int \u001b[01;35m\u001b[Klcost\u001b[m\u001b[K = connector->cost(lnode, rnode);  // local cost\n",
            "      |                    \u001b[01;35m\u001b[K^~~~~\u001b[m\u001b[K\n",
            "\u001b[01m\u001b[Kviterbi.cpp:325:21:\u001b[m\u001b[K \u001b[01;35m\u001b[Kwarning: \u001b[m\u001b[KISO C++17 does not allow ‘\u001b[01m\u001b[Kregister\u001b[m\u001b[K’ storage class specifier [\u001b[01;35m\u001b[K\u001b]8;;https://gcc.gnu.org/onlinedocs/gcc/Warning-Options.html#index-Wregister\u0007-Wregister\u001b]8;;\u0007\u001b[m\u001b[K]\n",
            "  325 |       register long \u001b[01;35m\u001b[Kcost\u001b[m\u001b[K = lnode->cost + lcost;\n",
            "      |                     \u001b[01;35m\u001b[K^~~~\u001b[m\u001b[K\n",
            "In file included from \u001b[01m\u001b[Kviterbi.cpp:14\u001b[m\u001b[K:\n",
            "\u001b[01m\u001b[Kparam.h:\u001b[m\u001b[K At global scope:\n",
            "\u001b[01m\u001b[Kparam.h:30:13:\u001b[m\u001b[K \u001b[01;35m\u001b[Kwarning: \u001b[m\u001b[K‘\u001b[01m\u001b[KTarget {anonymous}::lexical_cast(Source) [with Target = std::__cxx11::basic_string<char>; Source = std::__cxx11::basic_string<char>]\u001b[m\u001b[K’ defined but not used [\u001b[01;35m\u001b[K\u001b]8;;https://gcc.gnu.org/onlinedocs/gcc/Warning-Options.html#index-Wunused-function\u0007-Wunused-function\u001b]8;;\u0007\u001b[m\u001b[K]\n",
            "   30 | std::string \u001b[01;35m\u001b[Klexical_cast<std::string, std::string>\u001b[m\u001b[K(std::string arg) {\n",
            "      |             \u001b[01;35m\u001b[K^~~~~~~~~~~~~~~~~~~~~~~~~~~~~~~~~~~~~~\u001b[m\u001b[K\n",
            "libtool: compile:  g++ -DHAVE_CONFIG_H -I. -I.. -DDIC_VERSION=102 -DMECAB_DEFAULT_RC=\\\"/usr/local/etc/mecabrc\\\" -O3 -Wall -c viterbi.cpp -o viterbi.o >/dev/null 2>&1\n",
            "/bin/bash ../libtool --tag=CXX   --mode=compile g++ -DHAVE_CONFIG_H -I. -I.. -DDIC_VERSION=102   -DMECAB_DEFAULT_RC=\"\\\"/usr/local/etc/mecabrc\\\"\"    -O3 -Wall  -c -o tagger.lo tagger.cpp\n",
            "libtool: compile:  g++ -DHAVE_CONFIG_H -I. -I.. -DDIC_VERSION=102 -DMECAB_DEFAULT_RC=\\\"/usr/local/etc/mecabrc\\\" -O3 -Wall -c tagger.cpp  -fPIC -DPIC -o .libs/tagger.o\n",
            "In file included from \u001b[01m\u001b[Kdictionary.h:11\u001b[m\u001b[K,\n",
            "                 from \u001b[01m\u001b[Ktokenizer.h:11\u001b[m\u001b[K,\n",
            "                 from \u001b[01m\u001b[Ktagger.cpp:18\u001b[m\u001b[K:\n",
            "\u001b[01m\u001b[Kdarts.h:\u001b[m\u001b[K In member function ‘\u001b[01m\u001b[KT MeCab::Darts::DoubleArrayImpl<node_type_, node_u_type_, array_type_, array_u_type_, length_func_>::exactMatchSearch(const key_type*, size_t, size_t) const\u001b[m\u001b[K’:\n",
            "\u001b[01m\u001b[Kdarts.h:407:27:\u001b[m\u001b[K \u001b[01;35m\u001b[Kwarning: \u001b[m\u001b[KISO C++17 does not allow ‘\u001b[01m\u001b[Kregister\u001b[m\u001b[K’ storage class specifier [\u001b[01;35m\u001b[K\u001b]8;;https://gcc.gnu.org/onlinedocs/gcc/Warning-Options.html#index-Wregister\u0007-Wregister\u001b]8;;\u0007\u001b[m\u001b[K]\n",
            "  407 |     register array_type_  \u001b[01;35m\u001b[Kb\u001b[m\u001b[K = array_[node_pos].base;\n",
            "      |                           \u001b[01;35m\u001b[K^\u001b[m\u001b[K\n",
            "\u001b[01m\u001b[Kdarts.h:408:28:\u001b[m\u001b[K \u001b[01;35m\u001b[Kwarning: \u001b[m\u001b[KISO C++17 does not allow ‘\u001b[01m\u001b[Kregister\u001b[m\u001b[K’ storage class specifier [\u001b[01;35m\u001b[K\u001b]8;;https://gcc.gnu.org/onlinedocs/gcc/Warning-Options.html#index-Wregister\u0007-Wregister\u001b]8;;\u0007\u001b[m\u001b[K]\n",
            "  408 |     register array_u_type_ \u001b[01;35m\u001b[Kp\u001b[m\u001b[K;\n",
            "      |                            \u001b[01;35m\u001b[K^\u001b[m\u001b[K\n",
            "\u001b[01m\u001b[Kdarts.h:410:26:\u001b[m\u001b[K \u001b[01;35m\u001b[Kwarning: \u001b[m\u001b[KISO C++17 does not allow ‘\u001b[01m\u001b[Kregister\u001b[m\u001b[K’ storage class specifier [\u001b[01;35m\u001b[K\u001b]8;;https://gcc.gnu.org/onlinedocs/gcc/Warning-Options.html#index-Wregister\u0007-Wregister\u001b]8;;\u0007\u001b[m\u001b[K]\n",
            "  410 |     for (register size_t \u001b[01;35m\u001b[Ki\u001b[m\u001b[K = 0; i < len; ++i) {\n",
            "      |                          \u001b[01;35m\u001b[K^\u001b[m\u001b[K\n",
            "\u001b[01m\u001b[Kdarts.h:\u001b[m\u001b[K In member function ‘\u001b[01m\u001b[Ksize_t MeCab::Darts::DoubleArrayImpl<node_type_, node_u_type_, array_type_, array_u_type_, length_func_>::commonPrefixSearch(const key_type*, T*, size_t, size_t, size_t) const\u001b[m\u001b[K’:\n",
            "\u001b[01m\u001b[Kdarts.h:434:27:\u001b[m\u001b[K \u001b[01;35m\u001b[Kwarning: \u001b[m\u001b[KISO C++17 does not allow ‘\u001b[01m\u001b[Kregister\u001b[m\u001b[K’ storage class specifier [\u001b[01;35m\u001b[K\u001b]8;;https://gcc.gnu.org/onlinedocs/gcc/Warning-Options.html#index-Wregister\u0007-Wregister\u001b]8;;\u0007\u001b[m\u001b[K]\n",
            "  434 |     register array_type_  \u001b[01;35m\u001b[Kb\u001b[m\u001b[K   = array_[node_pos].base;\n",
            "      |                           \u001b[01;35m\u001b[K^\u001b[m\u001b[K\n",
            "\u001b[01m\u001b[Kdarts.h:435:25:\u001b[m\u001b[K \u001b[01;35m\u001b[Kwarning: \u001b[m\u001b[KISO C++17 does not allow ‘\u001b[01m\u001b[Kregister\u001b[m\u001b[K’ storage class specifier [\u001b[01;35m\u001b[K\u001b]8;;https://gcc.gnu.org/onlinedocs/gcc/Warning-Options.html#index-Wregister\u0007-Wregister\u001b]8;;\u0007\u001b[m\u001b[K]\n",
            "  435 |     register size_t     \u001b[01;35m\u001b[Knum\u001b[m\u001b[K = 0;\n",
            "      |                         \u001b[01;35m\u001b[K^~~\u001b[m\u001b[K\n",
            "\u001b[01m\u001b[Kdarts.h:436:27:\u001b[m\u001b[K \u001b[01;35m\u001b[Kwarning: \u001b[m\u001b[KISO C++17 does not allow ‘\u001b[01m\u001b[Kregister\u001b[m\u001b[K’ storage class specifier [\u001b[01;35m\u001b[K\u001b]8;;https://gcc.gnu.org/onlinedocs/gcc/Warning-Options.html#index-Wregister\u0007-Wregister\u001b]8;;\u0007\u001b[m\u001b[K]\n",
            "  436 |     register array_type_  \u001b[01;35m\u001b[Kn\u001b[m\u001b[K;\n",
            "      |                           \u001b[01;35m\u001b[K^\u001b[m\u001b[K\n",
            "\u001b[01m\u001b[Kdarts.h:437:28:\u001b[m\u001b[K \u001b[01;35m\u001b[Kwarning: \u001b[m\u001b[KISO C++17 does not allow ‘\u001b[01m\u001b[Kregister\u001b[m\u001b[K’ storage class specifier [\u001b[01;35m\u001b[K\u001b]8;;https://gcc.gnu.org/onlinedocs/gcc/Warning-Options.html#index-Wregister\u0007-Wregister\u001b]8;;\u0007\u001b[m\u001b[K]\n",
            "  437 |     register array_u_type_ \u001b[01;35m\u001b[Kp\u001b[m\u001b[K;\n",
            "      |                            \u001b[01;35m\u001b[K^\u001b[m\u001b[K\n",
            "\u001b[01m\u001b[Kdarts.h:439:26:\u001b[m\u001b[K \u001b[01;35m\u001b[Kwarning: \u001b[m\u001b[KISO C++17 does not allow ‘\u001b[01m\u001b[Kregister\u001b[m\u001b[K’ storage class specifier [\u001b[01;35m\u001b[K\u001b]8;;https://gcc.gnu.org/onlinedocs/gcc/Warning-Options.html#index-Wregister\u0007-Wregister\u001b]8;;\u0007\u001b[m\u001b[K]\n",
            "  439 |     for (register size_t \u001b[01;35m\u001b[Ki\u001b[m\u001b[K = 0; i < len; ++i) {\n",
            "      |                          \u001b[01;35m\u001b[K^\u001b[m\u001b[K\n",
            "\u001b[01m\u001b[Kdarts.h:\u001b[m\u001b[K In member function ‘\u001b[01m\u001b[KMeCab::Darts::DoubleArrayImpl<node_type_, node_u_type_, array_type_, array_u_type_, length_func_>::value_type MeCab::Darts::DoubleArrayImpl<node_type_, node_u_type_, array_type_, array_u_type_, length_func_>::traverse(const key_type*, size_t&, size_t&, size_t) const\u001b[m\u001b[K’:\n",
            "\u001b[01m\u001b[Kdarts.h:472:27:\u001b[m\u001b[K \u001b[01;35m\u001b[Kwarning: \u001b[m\u001b[KISO C++17 does not allow ‘\u001b[01m\u001b[Kregister\u001b[m\u001b[K’ storage class specifier [\u001b[01;35m\u001b[K\u001b]8;;https://gcc.gnu.org/onlinedocs/gcc/Warning-Options.html#index-Wregister\u0007-Wregister\u001b]8;;\u0007\u001b[m\u001b[K]\n",
            "  472 |     register array_type_  \u001b[01;35m\u001b[Kb\u001b[m\u001b[K = array_[node_pos].base;\n",
            "      |                           \u001b[01;35m\u001b[K^\u001b[m\u001b[K\n",
            "\u001b[01m\u001b[Kdarts.h:473:28:\u001b[m\u001b[K \u001b[01;35m\u001b[Kwarning: \u001b[m\u001b[KISO C++17 does not allow ‘\u001b[01m\u001b[Kregister\u001b[m\u001b[K’ storage class specifier [\u001b[01;35m\u001b[K\u001b]8;;https://gcc.gnu.org/onlinedocs/gcc/Warning-Options.html#index-Wregister\u0007-Wregister\u001b]8;;\u0007\u001b[m\u001b[K]\n",
            "  473 |     register array_u_type_ \u001b[01;35m\u001b[Kp\u001b[m\u001b[K;\n",
            "      |                            \u001b[01;35m\u001b[K^\u001b[m\u001b[K\n",
            "In file included from \u001b[01m\u001b[Kdictionary.h:12\u001b[m\u001b[K,\n",
            "                 from \u001b[01m\u001b[Ktokenizer.h:11\u001b[m\u001b[K,\n",
            "                 from \u001b[01m\u001b[Ktagger.cpp:18\u001b[m\u001b[K:\n",
            "\u001b[01m\u001b[Kchar_property.h:\u001b[m\u001b[K In member function ‘\u001b[01m\u001b[Kconst char* MeCab::CharProperty::seekToOtherType(const char*, const char*, MeCab::CharInfo, MeCab::CharInfo*, size_t*, size_t*) const\u001b[m\u001b[K’:\n",
            "\u001b[01m\u001b[Kchar_property.h:40:26:\u001b[m\u001b[K \u001b[01;35m\u001b[Kwarning: \u001b[m\u001b[KISO C++17 does not allow ‘\u001b[01m\u001b[Kregister\u001b[m\u001b[K’ storage class specifier [\u001b[01;35m\u001b[K\u001b]8;;https://gcc.gnu.org/onlinedocs/gcc/Warning-Options.html#index-Wregister\u0007-Wregister\u001b]8;;\u0007\u001b[m\u001b[K]\n",
            "   40 |     register const char *\u001b[01;35m\u001b[Kp\u001b[m\u001b[K =  begin;\n",
            "      |                          \u001b[01;35m\u001b[K^\u001b[m\u001b[K\n",
            "In file included from \u001b[01m\u001b[Kdictionary.h:11\u001b[m\u001b[K,\n",
            "                 from \u001b[01m\u001b[Ktokenizer.h:11\u001b[m\u001b[K,\n",
            "                 from \u001b[01m\u001b[Ktagger.cpp:18\u001b[m\u001b[K:\n",
            "darts.h: In instantiation of ‘\u001b[01m\u001b[Ksize_t MeCab::Darts::DoubleArrayImpl<node_type_, node_u_type_, array_type_, array_u_type_, length_func_>::commonPrefixSearch(const key_type*, T*, size_t, size_t, size_t) const [with T = MeCab::Darts::DoubleArrayImpl<char, unsigned char, int, unsigned int>::result_pair_type; node_type_ = char; node_u_type_ = unsigned char; array_type_ = int; array_u_type_ = unsigned int; length_func_ = MeCab::Darts::Length<char>; size_t = long unsigned int; MeCab::Darts::DoubleArrayImpl<node_type_, node_u_type_, array_type_, array_u_type_, length_func_>::key_type = char]\u001b[m\u001b[K’:\n",
            "\u001b[01m\u001b[Kdictionary.h:37:34:\u001b[m\u001b[K   required from here\n",
            "\u001b[01m\u001b[Kdarts.h:434:27:\u001b[m\u001b[K \u001b[01;35m\u001b[Kwarning: \u001b[m\u001b[KISO C++17 does not allow ‘\u001b[01m\u001b[Kregister\u001b[m\u001b[K’ storage class specifier [\u001b[01;35m\u001b[K\u001b]8;;https://gcc.gnu.org/onlinedocs/gcc/Warning-Options.html#index-Wregister\u0007-Wregister\u001b]8;;\u0007\u001b[m\u001b[K]\n",
            "  434 |     register array_type_  \u001b[01;35m\u001b[Kb\u001b[m\u001b[K   = array_[node_pos].base;\n",
            "      |                           \u001b[01;35m\u001b[K^\u001b[m\u001b[K\n",
            "\u001b[01m\u001b[Kdarts.h:435:25:\u001b[m\u001b[K \u001b[01;35m\u001b[Kwarning: \u001b[m\u001b[KISO C++17 does not allow ‘\u001b[01m\u001b[Kregister\u001b[m\u001b[K’ storage class specifier [\u001b[01;35m\u001b[K\u001b]8;;https://gcc.gnu.org/onlinedocs/gcc/Warning-Options.html#index-Wregister\u0007-Wregister\u001b]8;;\u0007\u001b[m\u001b[K]\n",
            "  435 |     register size_t     \u001b[01;35m\u001b[Knum\u001b[m\u001b[K = 0;\n",
            "      |                         \u001b[01;35m\u001b[K^~~\u001b[m\u001b[K\n",
            "\u001b[01m\u001b[Kdarts.h:436:27:\u001b[m\u001b[K \u001b[01;35m\u001b[Kwarning: \u001b[m\u001b[KISO C++17 does not allow ‘\u001b[01m\u001b[Kregister\u001b[m\u001b[K’ storage class specifier [\u001b[01;35m\u001b[K\u001b]8;;https://gcc.gnu.org/onlinedocs/gcc/Warning-Options.html#index-Wregister\u0007-Wregister\u001b]8;;\u0007\u001b[m\u001b[K]\n",
            "  436 |     register array_type_  \u001b[01;35m\u001b[Kn\u001b[m\u001b[K;\n",
            "      |                           \u001b[01;35m\u001b[K^\u001b[m\u001b[K\n",
            "\u001b[01m\u001b[Kdarts.h:437:28:\u001b[m\u001b[K \u001b[01;35m\u001b[Kwarning: \u001b[m\u001b[KISO C++17 does not allow ‘\u001b[01m\u001b[Kregister\u001b[m\u001b[K’ storage class specifier [\u001b[01;35m\u001b[K\u001b]8;;https://gcc.gnu.org/onlinedocs/gcc/Warning-Options.html#index-Wregister\u0007-Wregister\u001b]8;;\u0007\u001b[m\u001b[K]\n",
            "  437 |     register array_u_type_ \u001b[01;35m\u001b[Kp\u001b[m\u001b[K;\n",
            "      |                            \u001b[01;35m\u001b[K^\u001b[m\u001b[K\n",
            "\u001b[01m\u001b[Kdarts.h:439:26:\u001b[m\u001b[K \u001b[01;35m\u001b[Kwarning: \u001b[m\u001b[KISO C++17 does not allow ‘\u001b[01m\u001b[Kregister\u001b[m\u001b[K’ storage class specifier [\u001b[01;35m\u001b[K\u001b]8;;https://gcc.gnu.org/onlinedocs/gcc/Warning-Options.html#index-Wregister\u0007-Wregister\u001b]8;;\u0007\u001b[m\u001b[K]\n",
            "  439 |     for (register size_t \u001b[01;35m\u001b[Ki\u001b[m\u001b[K = 0; i < len; ++i) {\n",
            "      |                          \u001b[01;35m\u001b[K^\u001b[m\u001b[K\n",
            "darts.h: In instantiation of ‘\u001b[01m\u001b[KT MeCab::Darts::DoubleArrayImpl<node_type_, node_u_type_, array_type_, array_u_type_, length_func_>::exactMatchSearch(const key_type*, size_t, size_t) const [with T = MeCab::Darts::DoubleArrayImpl<char, unsigned char, int, unsigned int>::result_pair_type; node_type_ = char; node_u_type_ = unsigned char; array_type_ = int; array_u_type_ = unsigned int; length_func_ = MeCab::Darts::Length<char>; MeCab::Darts::DoubleArrayImpl<node_type_, node_u_type_, array_type_, array_u_type_, length_func_>::key_type = char; size_t = long unsigned int]\u001b[m\u001b[K’:\n",
            "\u001b[01m\u001b[Kdarts.h:394:33:\u001b[m\u001b[K   required from ‘\u001b[01m\u001b[Kvoid MeCab::Darts::DoubleArrayImpl<node_type_, node_u_type_, array_type_, array_u_type_, length_func_>::exactMatchSearch(const key_type*, T&, size_t, size_t) const [with T = MeCab::Darts::DoubleArrayImpl<char, unsigned char, int, unsigned int>::result_pair_type; node_type_ = char; node_u_type_ = unsigned char; array_type_ = int; array_u_type_ = unsigned int; length_func_ = MeCab::Darts::Length<char>; MeCab::Darts::DoubleArrayImpl<node_type_, node_u_type_, array_type_, array_u_type_, length_func_>::key_type = char; size_t = long unsigned int]\u001b[m\u001b[K’\n",
            "\u001b[01m\u001b[Kdictionary.h:42:25:\u001b[m\u001b[K   required from here\n",
            "\u001b[01m\u001b[Kdarts.h:407:27:\u001b[m\u001b[K \u001b[01;35m\u001b[Kwarning: \u001b[m\u001b[KISO C++17 does not allow ‘\u001b[01m\u001b[Kregister\u001b[m\u001b[K’ storage class specifier [\u001b[01;35m\u001b[K\u001b]8;;https://gcc.gnu.org/onlinedocs/gcc/Warning-Options.html#index-Wregister\u0007-Wregister\u001b]8;;\u0007\u001b[m\u001b[K]\n",
            "  407 |     register array_type_  \u001b[01;35m\u001b[Kb\u001b[m\u001b[K = array_[node_pos].base;\n",
            "      |                           \u001b[01;35m\u001b[K^\u001b[m\u001b[K\n",
            "\u001b[01m\u001b[Kdarts.h:408:28:\u001b[m\u001b[K \u001b[01;35m\u001b[Kwarning: \u001b[m\u001b[KISO C++17 does not allow ‘\u001b[01m\u001b[Kregister\u001b[m\u001b[K’ storage class specifier [\u001b[01;35m\u001b[K\u001b]8;;https://gcc.gnu.org/onlinedocs/gcc/Warning-Options.html#index-Wregister\u0007-Wregister\u001b]8;;\u0007\u001b[m\u001b[K]\n",
            "  408 |     register array_u_type_ \u001b[01;35m\u001b[Kp\u001b[m\u001b[K;\n",
            "      |                            \u001b[01;35m\u001b[K^\u001b[m\u001b[K\n",
            "\u001b[01m\u001b[Kdarts.h:410:26:\u001b[m\u001b[K \u001b[01;35m\u001b[Kwarning: \u001b[m\u001b[KISO C++17 does not allow ‘\u001b[01m\u001b[Kregister\u001b[m\u001b[K’ storage class specifier [\u001b[01;35m\u001b[K\u001b]8;;https://gcc.gnu.org/onlinedocs/gcc/Warning-Options.html#index-Wregister\u0007-Wregister\u001b]8;;\u0007\u001b[m\u001b[K]\n",
            "  410 |     for (register size_t \u001b[01;35m\u001b[Ki\u001b[m\u001b[K = 0; i < len; ++i) {\n",
            "      |                          \u001b[01;35m\u001b[K^\u001b[m\u001b[K\n",
            "libtool: compile:  g++ -DHAVE_CONFIG_H -I. -I.. -DDIC_VERSION=102 -DMECAB_DEFAULT_RC=\\\"/usr/local/etc/mecabrc\\\" -O3 -Wall -c tagger.cpp -o tagger.o >/dev/null 2>&1\n",
            "/bin/bash ../libtool --tag=CXX   --mode=compile g++ -DHAVE_CONFIG_H -I. -I.. -DDIC_VERSION=102   -DMECAB_DEFAULT_RC=\"\\\"/usr/local/etc/mecabrc\\\"\"    -O3 -Wall  -c -o utils.lo utils.cpp\n",
            "libtool: compile:  g++ -DHAVE_CONFIG_H -I. -I.. -DDIC_VERSION=102 -DMECAB_DEFAULT_RC=\\\"/usr/local/etc/mecabrc\\\" -O3 -Wall -c utils.cpp  -fPIC -DPIC -o .libs/utils.o\n",
            "libtool: compile:  g++ -DHAVE_CONFIG_H -I. -I.. -DDIC_VERSION=102 -DMECAB_DEFAULT_RC=\\\"/usr/local/etc/mecabrc\\\" -O3 -Wall -c utils.cpp -o utils.o >/dev/null 2>&1\n",
            "/bin/bash ../libtool --tag=CXX   --mode=compile g++ -DHAVE_CONFIG_H -I. -I.. -DDIC_VERSION=102   -DMECAB_DEFAULT_RC=\"\\\"/usr/local/etc/mecabrc\\\"\"    -O3 -Wall  -c -o eval.lo eval.cpp\n",
            "libtool: compile:  g++ -DHAVE_CONFIG_H -I. -I.. -DDIC_VERSION=102 -DMECAB_DEFAULT_RC=\\\"/usr/local/etc/mecabrc\\\" -O3 -Wall -c eval.cpp  -fPIC -DPIC -o .libs/eval.o\n",
            "In file included from \u001b[01m\u001b[K/usr/include/string.h:535\u001b[m\u001b[K,\n",
            "                 from \u001b[01m\u001b[K/usr/include/c++/11/cstring:42\u001b[m\u001b[K,\n",
            "                 from \u001b[01m\u001b[Kcommon.h:13\u001b[m\u001b[K,\n",
            "                 from \u001b[01m\u001b[Keval.cpp:11\u001b[m\u001b[K:\n",
            "In function ‘\u001b[01m\u001b[Kchar* strncpy(char*, const char*, size_t)\u001b[m\u001b[K’,\n",
            "    inlined from ‘\u001b[01m\u001b[Kstatic bool MeCab::Eval::parseLevel(const char*, std::vector<int>*)\u001b[m\u001b[K’ at \u001b[01m\u001b[Keval.cpp:63:17\u001b[m\u001b[K,\n",
            "    inlined from ‘\u001b[01m\u001b[Kstatic bool MeCab::Eval::eval(int, char**)\u001b[m\u001b[K’ at \u001b[01m\u001b[Keval.cpp:134:15\u001b[m\u001b[K:\n",
            "\u001b[01m\u001b[K/usr/include/x86_64-linux-gnu/bits/string_fortified.h:95:34:\u001b[m\u001b[K \u001b[01;35m\u001b[Kwarning: \u001b[m\u001b[K‘\u001b[01m\u001b[Kchar* __builtin_strncpy(char*, const char*, long unsigned int)\u001b[m\u001b[K’ specified bound 8192 equals destination size [\u001b[01;35m\u001b[K\u001b]8;;https://gcc.gnu.org/onlinedocs/gcc/Warning-Options.html#index-Wstringop-truncation\u0007-Wstringop-truncation\u001b]8;;\u0007\u001b[m\u001b[K]\n",
            "   95 |   return \u001b[01;35m\u001b[K__builtin___strncpy_chk (__dest, __src, __len,\u001b[m\u001b[K\n",
            "      |          \u001b[01;35m\u001b[K~~~~~~~~~~~~~~~~~~~~~~~~^~~~~~~~~~~~~~~~~~~~~~\u001b[m\u001b[K\n",
            "   96 | \u001b[01;35m\u001b[K                                  __glibc_objsize (__dest))\u001b[m\u001b[K;\n",
            "      |                                   \u001b[01;35m\u001b[K~~~~~~~~~~~~~~~~~~~~~~~~~\u001b[m\u001b[K\n",
            "libtool: compile:  g++ -DHAVE_CONFIG_H -I. -I.. -DDIC_VERSION=102 -DMECAB_DEFAULT_RC=\\\"/usr/local/etc/mecabrc\\\" -O3 -Wall -c eval.cpp -o eval.o >/dev/null 2>&1\n",
            "/bin/bash ../libtool --tag=CXX   --mode=compile g++ -DHAVE_CONFIG_H -I. -I.. -DDIC_VERSION=102   -DMECAB_DEFAULT_RC=\"\\\"/usr/local/etc/mecabrc\\\"\"    -O3 -Wall  -c -o iconv_utils.lo iconv_utils.cpp\n",
            "libtool: compile:  g++ -DHAVE_CONFIG_H -I. -I.. -DDIC_VERSION=102 -DMECAB_DEFAULT_RC=\\\"/usr/local/etc/mecabrc\\\" -O3 -Wall -c iconv_utils.cpp  -fPIC -DPIC -o .libs/iconv_utils.o\n",
            "In file included from \u001b[01m\u001b[Kiconv_utils.cpp:18\u001b[m\u001b[K:\n",
            "\u001b[01m\u001b[Kchar_property.h:\u001b[m\u001b[K In member function ‘\u001b[01m\u001b[Kconst char* MeCab::CharProperty::seekToOtherType(const char*, const char*, MeCab::CharInfo, MeCab::CharInfo*, size_t*, size_t*) const\u001b[m\u001b[K’:\n",
            "\u001b[01m\u001b[Kchar_property.h:40:26:\u001b[m\u001b[K \u001b[01;35m\u001b[Kwarning: \u001b[m\u001b[KISO C++17 does not allow ‘\u001b[01m\u001b[Kregister\u001b[m\u001b[K’ storage class specifier [\u001b[01;35m\u001b[K\u001b]8;;https://gcc.gnu.org/onlinedocs/gcc/Warning-Options.html#index-Wregister\u0007-Wregister\u001b]8;;\u0007\u001b[m\u001b[K]\n",
            "   40 |     register const char *\u001b[01;35m\u001b[Kp\u001b[m\u001b[K =  begin;\n",
            "      |                          \u001b[01;35m\u001b[K^\u001b[m\u001b[K\n",
            "libtool: compile:  g++ -DHAVE_CONFIG_H -I. -I.. -DDIC_VERSION=102 -DMECAB_DEFAULT_RC=\\\"/usr/local/etc/mecabrc\\\" -O3 -Wall -c iconv_utils.cpp -o iconv_utils.o >/dev/null 2>&1\n",
            "/bin/bash ../libtool --tag=CXX   --mode=compile g++ -DHAVE_CONFIG_H -I. -I.. -DDIC_VERSION=102   -DMECAB_DEFAULT_RC=\"\\\"/usr/local/etc/mecabrc\\\"\"    -O3 -Wall  -c -o dictionary_rewriter.lo dictionary_rewriter.cpp\n",
            "libtool: compile:  g++ -DHAVE_CONFIG_H -I. -I.. -DDIC_VERSION=102 -DMECAB_DEFAULT_RC=\\\"/usr/local/etc/mecabrc\\\" -O3 -Wall -c dictionary_rewriter.cpp  -fPIC -DPIC -o .libs/dictionary_rewriter.o\n",
            "In file included from \u001b[01m\u001b[K/usr/include/string.h:535\u001b[m\u001b[K,\n",
            "                 from \u001b[01m\u001b[K/usr/include/c++/11/cstring:42\u001b[m\u001b[K,\n",
            "                 from \u001b[01m\u001b[Kdictionary_rewriter.cpp:6\u001b[m\u001b[K:\n",
            "In function ‘\u001b[01m\u001b[Kchar* strncpy(char*, const char*, size_t)\u001b[m\u001b[K’,\n",
            "    inlined from ‘\u001b[01m\u001b[Kbool {anonymous}::match_rewrite_pattern(const char*, const char*)\u001b[m\u001b[K’ at \u001b[01m\u001b[Kdictionary_rewriter.cpp:47:17\u001b[m\u001b[K,\n",
            "    inlined from ‘\u001b[01m\u001b[Kbool MeCab::RewritePattern::rewrite(size_t, const char**, std::string*) const\u001b[m\u001b[K’ at \u001b[01m\u001b[Kdictionary_rewriter.cpp:81:31\u001b[m\u001b[K:\n",
            "\u001b[01m\u001b[K/usr/include/x86_64-linux-gnu/bits/string_fortified.h:95:34:\u001b[m\u001b[K \u001b[01;35m\u001b[Kwarning: \u001b[m\u001b[K‘\u001b[01m\u001b[Kchar* __builtin_strncpy(char*, const char*, long unsigned int)\u001b[m\u001b[K’ specified bound 8192 equals destination size [\u001b[01;35m\u001b[K\u001b]8;;https://gcc.gnu.org/onlinedocs/gcc/Warning-Options.html#index-Wstringop-truncation\u0007-Wstringop-truncation\u001b]8;;\u0007\u001b[m\u001b[K]\n",
            "   95 |   return \u001b[01;35m\u001b[K__builtin___strncpy_chk (__dest, __src, __len,\u001b[m\u001b[K\n",
            "      |          \u001b[01;35m\u001b[K~~~~~~~~~~~~~~~~~~~~~~~~^~~~~~~~~~~~~~~~~~~~~~\u001b[m\u001b[K\n",
            "   96 | \u001b[01;35m\u001b[K                                  __glibc_objsize (__dest))\u001b[m\u001b[K;\n",
            "      |                                   \u001b[01;35m\u001b[K~~~~~~~~~~~~~~~~~~~~~~~~~\u001b[m\u001b[K\n",
            "In function ‘\u001b[01m\u001b[Kchar* strncpy(char*, const char*, size_t)\u001b[m\u001b[K’,\n",
            "    inlined from ‘\u001b[01m\u001b[Kbool MeCab::RewritePattern::set_pattern(const char*, const char*)\u001b[m\u001b[K’ at \u001b[01m\u001b[Kdictionary_rewriter.cpp:67:15\u001b[m\u001b[K:\n",
            "\u001b[01m\u001b[K/usr/include/x86_64-linux-gnu/bits/string_fortified.h:95:34:\u001b[m\u001b[K \u001b[01;35m\u001b[Kwarning: \u001b[m\u001b[K‘\u001b[01m\u001b[Kchar* __builtin_strncpy(char*, const char*, long unsigned int)\u001b[m\u001b[K’ specified bound 8192 equals destination size [\u001b[01;35m\u001b[K\u001b]8;;https://gcc.gnu.org/onlinedocs/gcc/Warning-Options.html#index-Wstringop-truncation\u0007-Wstringop-truncation\u001b]8;;\u0007\u001b[m\u001b[K]\n",
            "   95 |   return \u001b[01;35m\u001b[K__builtin___strncpy_chk (__dest, __src, __len,\u001b[m\u001b[K\n",
            "      |          \u001b[01;35m\u001b[K~~~~~~~~~~~~~~~~~~~~~~~~^~~~~~~~~~~~~~~~~~~~~~\u001b[m\u001b[K\n",
            "   96 | \u001b[01;35m\u001b[K                                  __glibc_objsize (__dest))\u001b[m\u001b[K;\n",
            "      |                                   \u001b[01;35m\u001b[K~~~~~~~~~~~~~~~~~~~~~~~~~\u001b[m\u001b[K\n",
            "In function ‘\u001b[01m\u001b[Kchar* strncpy(char*, const char*, size_t)\u001b[m\u001b[K’,\n",
            "    inlined from ‘\u001b[01m\u001b[Kbool MeCab::RewritePattern::set_pattern(const char*, const char*)\u001b[m\u001b[K’ at \u001b[01m\u001b[Kdictionary_rewriter.cpp:70:15\u001b[m\u001b[K:\n",
            "\u001b[01m\u001b[K/usr/include/x86_64-linux-gnu/bits/string_fortified.h:95:34:\u001b[m\u001b[K \u001b[01;35m\u001b[Kwarning: \u001b[m\u001b[K‘\u001b[01m\u001b[Kchar* __builtin_strncpy(char*, const char*, long unsigned int)\u001b[m\u001b[K’ specified bound 8192 equals destination size [\u001b[01;35m\u001b[K\u001b]8;;https://gcc.gnu.org/onlinedocs/gcc/Warning-Options.html#index-Wstringop-truncation\u0007-Wstringop-truncation\u001b]8;;\u0007\u001b[m\u001b[K]\n",
            "   95 |   return \u001b[01;35m\u001b[K__builtin___strncpy_chk (__dest, __src, __len,\u001b[m\u001b[K\n",
            "      |          \u001b[01;35m\u001b[K~~~~~~~~~~~~~~~~~~~~~~~~^~~~~~~~~~~~~~~~~~~~~~\u001b[m\u001b[K\n",
            "   96 | \u001b[01;35m\u001b[K                                  __glibc_objsize (__dest))\u001b[m\u001b[K;\n",
            "      |                                   \u001b[01;35m\u001b[K~~~~~~~~~~~~~~~~~~~~~~~~~\u001b[m\u001b[K\n",
            "libtool: compile:  g++ -DHAVE_CONFIG_H -I. -I.. -DDIC_VERSION=102 -DMECAB_DEFAULT_RC=\\\"/usr/local/etc/mecabrc\\\" -O3 -Wall -c dictionary_rewriter.cpp -o dictionary_rewriter.o >/dev/null 2>&1\n",
            "/bin/bash ../libtool --tag=CXX   --mode=compile g++ -DHAVE_CONFIG_H -I. -I.. -DDIC_VERSION=102   -DMECAB_DEFAULT_RC=\"\\\"/usr/local/etc/mecabrc\\\"\"    -O3 -Wall  -c -o dictionary_generator.lo dictionary_generator.cpp\n",
            "libtool: compile:  g++ -DHAVE_CONFIG_H -I. -I.. -DDIC_VERSION=102 -DMECAB_DEFAULT_RC=\\\"/usr/local/etc/mecabrc\\\" -O3 -Wall -c dictionary_generator.cpp  -fPIC -DPIC -o .libs/dictionary_generator.o\n",
            "In file included from \u001b[01m\u001b[Kdictionary_generator.cpp:11\u001b[m\u001b[K:\n",
            "\u001b[01m\u001b[Kchar_property.h:\u001b[m\u001b[K In member function ‘\u001b[01m\u001b[Kconst char* MeCab::CharProperty::seekToOtherType(const char*, const char*, MeCab::CharInfo, MeCab::CharInfo*, size_t*, size_t*) const\u001b[m\u001b[K’:\n",
            "\u001b[01m\u001b[Kchar_property.h:40:26:\u001b[m\u001b[K \u001b[01;35m\u001b[Kwarning: \u001b[m\u001b[KISO C++17 does not allow ‘\u001b[01m\u001b[Kregister\u001b[m\u001b[K’ storage class specifier [\u001b[01;35m\u001b[K\u001b]8;;https://gcc.gnu.org/onlinedocs/gcc/Warning-Options.html#index-Wregister\u0007-Wregister\u001b]8;;\u0007\u001b[m\u001b[K]\n",
            "   40 |     register const char *\u001b[01;35m\u001b[Kp\u001b[m\u001b[K =  begin;\n",
            "      |                          \u001b[01;35m\u001b[K^\u001b[m\u001b[K\n",
            "In file included from \u001b[01m\u001b[Kdictionary.h:11\u001b[m\u001b[K,\n",
            "                 from \u001b[01m\u001b[Kdictionary_generator.cpp:14\u001b[m\u001b[K:\n",
            "\u001b[01m\u001b[Kdarts.h:\u001b[m\u001b[K In member function ‘\u001b[01m\u001b[KT MeCab::Darts::DoubleArrayImpl<node_type_, node_u_type_, array_type_, array_u_type_, length_func_>::exactMatchSearch(const key_type*, size_t, size_t) const\u001b[m\u001b[K’:\n",
            "\u001b[01m\u001b[Kdarts.h:407:27:\u001b[m\u001b[K \u001b[01;35m\u001b[Kwarning: \u001b[m\u001b[KISO C++17 does not allow ‘\u001b[01m\u001b[Kregister\u001b[m\u001b[K’ storage class specifier [\u001b[01;35m\u001b[K\u001b]8;;https://gcc.gnu.org/onlinedocs/gcc/Warning-Options.html#index-Wregister\u0007-Wregister\u001b]8;;\u0007\u001b[m\u001b[K]\n",
            "  407 |     register array_type_  \u001b[01;35m\u001b[Kb\u001b[m\u001b[K = array_[node_pos].base;\n",
            "      |                           \u001b[01;35m\u001b[K^\u001b[m\u001b[K\n",
            "\u001b[01m\u001b[Kdarts.h:408:28:\u001b[m\u001b[K \u001b[01;35m\u001b[Kwarning: \u001b[m\u001b[KISO C++17 does not allow ‘\u001b[01m\u001b[Kregister\u001b[m\u001b[K’ storage class specifier [\u001b[01;35m\u001b[K\u001b]8;;https://gcc.gnu.org/onlinedocs/gcc/Warning-Options.html#index-Wregister\u0007-Wregister\u001b]8;;\u0007\u001b[m\u001b[K]\n",
            "  408 |     register array_u_type_ \u001b[01;35m\u001b[Kp\u001b[m\u001b[K;\n",
            "      |                            \u001b[01;35m\u001b[K^\u001b[m\u001b[K\n",
            "\u001b[01m\u001b[Kdarts.h:410:26:\u001b[m\u001b[K \u001b[01;35m\u001b[Kwarning: \u001b[m\u001b[KISO C++17 does not allow ‘\u001b[01m\u001b[Kregister\u001b[m\u001b[K’ storage class specifier [\u001b[01;35m\u001b[K\u001b]8;;https://gcc.gnu.org/onlinedocs/gcc/Warning-Options.html#index-Wregister\u0007-Wregister\u001b]8;;\u0007\u001b[m\u001b[K]\n",
            "  410 |     for (register size_t \u001b[01;35m\u001b[Ki\u001b[m\u001b[K = 0; i < len; ++i) {\n",
            "      |                          \u001b[01;35m\u001b[K^\u001b[m\u001b[K\n",
            "\u001b[01m\u001b[Kdarts.h:\u001b[m\u001b[K In member function ‘\u001b[01m\u001b[Ksize_t MeCab::Darts::DoubleArrayImpl<node_type_, node_u_type_, array_type_, array_u_type_, length_func_>::commonPrefixSearch(const key_type*, T*, size_t, size_t, size_t) const\u001b[m\u001b[K’:\n",
            "\u001b[01m\u001b[Kdarts.h:434:27:\u001b[m\u001b[K \u001b[01;35m\u001b[Kwarning: \u001b[m\u001b[KISO C++17 does not allow ‘\u001b[01m\u001b[Kregister\u001b[m\u001b[K’ storage class specifier [\u001b[01;35m\u001b[K\u001b]8;;https://gcc.gnu.org/onlinedocs/gcc/Warning-Options.html#index-Wregister\u0007-Wregister\u001b]8;;\u0007\u001b[m\u001b[K]\n",
            "  434 |     register array_type_  \u001b[01;35m\u001b[Kb\u001b[m\u001b[K   = array_[node_pos].base;\n",
            "      |                           \u001b[01;35m\u001b[K^\u001b[m\u001b[K\n",
            "\u001b[01m\u001b[Kdarts.h:435:25:\u001b[m\u001b[K \u001b[01;35m\u001b[Kwarning: \u001b[m\u001b[KISO C++17 does not allow ‘\u001b[01m\u001b[Kregister\u001b[m\u001b[K’ storage class specifier [\u001b[01;35m\u001b[K\u001b]8;;https://gcc.gnu.org/onlinedocs/gcc/Warning-Options.html#index-Wregister\u0007-Wregister\u001b]8;;\u0007\u001b[m\u001b[K]\n",
            "  435 |     register size_t     \u001b[01;35m\u001b[Knum\u001b[m\u001b[K = 0;\n",
            "      |                         \u001b[01;35m\u001b[K^~~\u001b[m\u001b[K\n",
            "\u001b[01m\u001b[Kdarts.h:436:27:\u001b[m\u001b[K \u001b[01;35m\u001b[Kwarning: \u001b[m\u001b[KISO C++17 does not allow ‘\u001b[01m\u001b[Kregister\u001b[m\u001b[K’ storage class specifier [\u001b[01;35m\u001b[K\u001b]8;;https://gcc.gnu.org/onlinedocs/gcc/Warning-Options.html#index-Wregister\u0007-Wregister\u001b]8;;\u0007\u001b[m\u001b[K]\n",
            "  436 |     register array_type_  \u001b[01;35m\u001b[Kn\u001b[m\u001b[K;\n",
            "      |                           \u001b[01;35m\u001b[K^\u001b[m\u001b[K\n",
            "\u001b[01m\u001b[Kdarts.h:437:28:\u001b[m\u001b[K \u001b[01;35m\u001b[Kwarning: \u001b[m\u001b[KISO C++17 does not allow ‘\u001b[01m\u001b[Kregister\u001b[m\u001b[K’ storage class specifier [\u001b[01;35m\u001b[K\u001b]8;;https://gcc.gnu.org/onlinedocs/gcc/Warning-Options.html#index-Wregister\u0007-Wregister\u001b]8;;\u0007\u001b[m\u001b[K]\n",
            "  437 |     register array_u_type_ \u001b[01;35m\u001b[Kp\u001b[m\u001b[K;\n",
            "      |                            \u001b[01;35m\u001b[K^\u001b[m\u001b[K\n",
            "\u001b[01m\u001b[Kdarts.h:439:26:\u001b[m\u001b[K \u001b[01;35m\u001b[Kwarning: \u001b[m\u001b[KISO C++17 does not allow ‘\u001b[01m\u001b[Kregister\u001b[m\u001b[K’ storage class specifier [\u001b[01;35m\u001b[K\u001b]8;;https://gcc.gnu.org/onlinedocs/gcc/Warning-Options.html#index-Wregister\u0007-Wregister\u001b]8;;\u0007\u001b[m\u001b[K]\n",
            "  439 |     for (register size_t \u001b[01;35m\u001b[Ki\u001b[m\u001b[K = 0; i < len; ++i) {\n",
            "      |                          \u001b[01;35m\u001b[K^\u001b[m\u001b[K\n",
            "\u001b[01m\u001b[Kdarts.h:\u001b[m\u001b[K In member function ‘\u001b[01m\u001b[KMeCab::Darts::DoubleArrayImpl<node_type_, node_u_type_, array_type_, array_u_type_, length_func_>::value_type MeCab::Darts::DoubleArrayImpl<node_type_, node_u_type_, array_type_, array_u_type_, length_func_>::traverse(const key_type*, size_t&, size_t&, size_t) const\u001b[m\u001b[K’:\n",
            "\u001b[01m\u001b[Kdarts.h:472:27:\u001b[m\u001b[K \u001b[01;35m\u001b[Kwarning: \u001b[m\u001b[KISO C++17 does not allow ‘\u001b[01m\u001b[Kregister\u001b[m\u001b[K’ storage class specifier [\u001b[01;35m\u001b[K\u001b]8;;https://gcc.gnu.org/onlinedocs/gcc/Warning-Options.html#index-Wregister\u0007-Wregister\u001b]8;;\u0007\u001b[m\u001b[K]\n",
            "  472 |     register array_type_  \u001b[01;35m\u001b[Kb\u001b[m\u001b[K = array_[node_pos].base;\n",
            "      |                           \u001b[01;35m\u001b[K^\u001b[m\u001b[K\n",
            "\u001b[01m\u001b[Kdarts.h:473:28:\u001b[m\u001b[K \u001b[01;35m\u001b[Kwarning: \u001b[m\u001b[KISO C++17 does not allow ‘\u001b[01m\u001b[Kregister\u001b[m\u001b[K’ storage class specifier [\u001b[01;35m\u001b[K\u001b]8;;https://gcc.gnu.org/onlinedocs/gcc/Warning-Options.html#index-Wregister\u0007-Wregister\u001b]8;;\u0007\u001b[m\u001b[K]\n",
            "  473 |     register array_u_type_ \u001b[01;35m\u001b[Kp\u001b[m\u001b[K;\n",
            "      |                            \u001b[01;35m\u001b[K^\u001b[m\u001b[K\n",
            "darts.h: In instantiation of ‘\u001b[01m\u001b[Ksize_t MeCab::Darts::DoubleArrayImpl<node_type_, node_u_type_, array_type_, array_u_type_, length_func_>::commonPrefixSearch(const key_type*, T*, size_t, size_t, size_t) const [with T = MeCab::Darts::DoubleArrayImpl<char, unsigned char, int, unsigned int>::result_pair_type; node_type_ = char; node_u_type_ = unsigned char; array_type_ = int; array_u_type_ = unsigned int; length_func_ = MeCab::Darts::Length<char>; size_t = long unsigned int; MeCab::Darts::DoubleArrayImpl<node_type_, node_u_type_, array_type_, array_u_type_, length_func_>::key_type = char]\u001b[m\u001b[K’:\n",
            "\u001b[01m\u001b[Kdictionary.h:37:34:\u001b[m\u001b[K   required from here\n",
            "\u001b[01m\u001b[Kdarts.h:434:27:\u001b[m\u001b[K \u001b[01;35m\u001b[Kwarning: \u001b[m\u001b[KISO C++17 does not allow ‘\u001b[01m\u001b[Kregister\u001b[m\u001b[K’ storage class specifier [\u001b[01;35m\u001b[K\u001b]8;;https://gcc.gnu.org/onlinedocs/gcc/Warning-Options.html#index-Wregister\u0007-Wregister\u001b]8;;\u0007\u001b[m\u001b[K]\n",
            "  434 |     register array_type_  \u001b[01;35m\u001b[Kb\u001b[m\u001b[K   = array_[node_pos].base;\n",
            "      |                           \u001b[01;35m\u001b[K^\u001b[m\u001b[K\n",
            "\u001b[01m\u001b[Kdarts.h:435:25:\u001b[m\u001b[K \u001b[01;35m\u001b[Kwarning: \u001b[m\u001b[KISO C++17 does not allow ‘\u001b[01m\u001b[Kregister\u001b[m\u001b[K’ storage class specifier [\u001b[01;35m\u001b[K\u001b]8;;https://gcc.gnu.org/onlinedocs/gcc/Warning-Options.html#index-Wregister\u0007-Wregister\u001b]8;;\u0007\u001b[m\u001b[K]\n",
            "  435 |     register size_t     \u001b[01;35m\u001b[Knum\u001b[m\u001b[K = 0;\n",
            "      |                         \u001b[01;35m\u001b[K^~~\u001b[m\u001b[K\n",
            "\u001b[01m\u001b[Kdarts.h:436:27:\u001b[m\u001b[K \u001b[01;35m\u001b[Kwarning: \u001b[m\u001b[KISO C++17 does not allow ‘\u001b[01m\u001b[Kregister\u001b[m\u001b[K’ storage class specifier [\u001b[01;35m\u001b[K\u001b]8;;https://gcc.gnu.org/onlinedocs/gcc/Warning-Options.html#index-Wregister\u0007-Wregister\u001b]8;;\u0007\u001b[m\u001b[K]\n",
            "  436 |     register array_type_  \u001b[01;35m\u001b[Kn\u001b[m\u001b[K;\n",
            "      |                           \u001b[01;35m\u001b[K^\u001b[m\u001b[K\n",
            "\u001b[01m\u001b[Kdarts.h:437:28:\u001b[m\u001b[K \u001b[01;35m\u001b[Kwarning: \u001b[m\u001b[KISO C++17 does not allow ‘\u001b[01m\u001b[Kregister\u001b[m\u001b[K’ storage class specifier [\u001b[01;35m\u001b[K\u001b]8;;https://gcc.gnu.org/onlinedocs/gcc/Warning-Options.html#index-Wregister\u0007-Wregister\u001b]8;;\u0007\u001b[m\u001b[K]\n",
            "  437 |     register array_u_type_ \u001b[01;35m\u001b[Kp\u001b[m\u001b[K;\n",
            "      |                            \u001b[01;35m\u001b[K^\u001b[m\u001b[K\n",
            "\u001b[01m\u001b[Kdarts.h:439:26:\u001b[m\u001b[K \u001b[01;35m\u001b[Kwarning: \u001b[m\u001b[KISO C++17 does not allow ‘\u001b[01m\u001b[Kregister\u001b[m\u001b[K’ storage class specifier [\u001b[01;35m\u001b[K\u001b]8;;https://gcc.gnu.org/onlinedocs/gcc/Warning-Options.html#index-Wregister\u0007-Wregister\u001b]8;;\u0007\u001b[m\u001b[K]\n",
            "  439 |     for (register size_t \u001b[01;35m\u001b[Ki\u001b[m\u001b[K = 0; i < len; ++i) {\n",
            "      |                          \u001b[01;35m\u001b[K^\u001b[m\u001b[K\n",
            "darts.h: In instantiation of ‘\u001b[01m\u001b[KT MeCab::Darts::DoubleArrayImpl<node_type_, node_u_type_, array_type_, array_u_type_, length_func_>::exactMatchSearch(const key_type*, size_t, size_t) const [with T = MeCab::Darts::DoubleArrayImpl<char, unsigned char, int, unsigned int>::result_pair_type; node_type_ = char; node_u_type_ = unsigned char; array_type_ = int; array_u_type_ = unsigned int; length_func_ = MeCab::Darts::Length<char>; MeCab::Darts::DoubleArrayImpl<node_type_, node_u_type_, array_type_, array_u_type_, length_func_>::key_type = char; size_t = long unsigned int]\u001b[m\u001b[K’:\n",
            "\u001b[01m\u001b[Kdarts.h:394:33:\u001b[m\u001b[K   required from ‘\u001b[01m\u001b[Kvoid MeCab::Darts::DoubleArrayImpl<node_type_, node_u_type_, array_type_, array_u_type_, length_func_>::exactMatchSearch(const key_type*, T&, size_t, size_t) const [with T = MeCab::Darts::DoubleArrayImpl<char, unsigned char, int, unsigned int>::result_pair_type; node_type_ = char; node_u_type_ = unsigned char; array_type_ = int; array_u_type_ = unsigned int; length_func_ = MeCab::Darts::Length<char>; MeCab::Darts::DoubleArrayImpl<node_type_, node_u_type_, array_type_, array_u_type_, length_func_>::key_type = char; size_t = long unsigned int]\u001b[m\u001b[K’\n",
            "\u001b[01m\u001b[Kdictionary.h:42:25:\u001b[m\u001b[K   required from here\n",
            "\u001b[01m\u001b[Kdarts.h:407:27:\u001b[m\u001b[K \u001b[01;35m\u001b[Kwarning: \u001b[m\u001b[KISO C++17 does not allow ‘\u001b[01m\u001b[Kregister\u001b[m\u001b[K’ storage class specifier [\u001b[01;35m\u001b[K\u001b]8;;https://gcc.gnu.org/onlinedocs/gcc/Warning-Options.html#index-Wregister\u0007-Wregister\u001b]8;;\u0007\u001b[m\u001b[K]\n",
            "  407 |     register array_type_  \u001b[01;35m\u001b[Kb\u001b[m\u001b[K = array_[node_pos].base;\n",
            "      |                           \u001b[01;35m\u001b[K^\u001b[m\u001b[K\n",
            "\u001b[01m\u001b[Kdarts.h:408:28:\u001b[m\u001b[K \u001b[01;35m\u001b[Kwarning: \u001b[m\u001b[KISO C++17 does not allow ‘\u001b[01m\u001b[Kregister\u001b[m\u001b[K’ storage class specifier [\u001b[01;35m\u001b[K\u001b]8;;https://gcc.gnu.org/onlinedocs/gcc/Warning-Options.html#index-Wregister\u0007-Wregister\u001b]8;;\u0007\u001b[m\u001b[K]\n",
            "  408 |     register array_u_type_ \u001b[01;35m\u001b[Kp\u001b[m\u001b[K;\n",
            "      |                            \u001b[01;35m\u001b[K^\u001b[m\u001b[K\n",
            "\u001b[01m\u001b[Kdarts.h:410:26:\u001b[m\u001b[K \u001b[01;35m\u001b[Kwarning: \u001b[m\u001b[KISO C++17 does not allow ‘\u001b[01m\u001b[Kregister\u001b[m\u001b[K’ storage class specifier [\u001b[01;35m\u001b[K\u001b]8;;https://gcc.gnu.org/onlinedocs/gcc/Warning-Options.html#index-Wregister\u0007-Wregister\u001b]8;;\u0007\u001b[m\u001b[K]\n",
            "  410 |     for (register size_t \u001b[01;35m\u001b[Ki\u001b[m\u001b[K = 0; i < len; ++i) {\n",
            "      |                          \u001b[01;35m\u001b[K^\u001b[m\u001b[K\n",
            "libtool: compile:  g++ -DHAVE_CONFIG_H -I. -I.. -DDIC_VERSION=102 -DMECAB_DEFAULT_RC=\\\"/usr/local/etc/mecabrc\\\" -O3 -Wall -c dictionary_generator.cpp -o dictionary_generator.o >/dev/null 2>&1\n",
            "/bin/bash ../libtool --tag=CXX   --mode=compile g++ -DHAVE_CONFIG_H -I. -I.. -DDIC_VERSION=102   -DMECAB_DEFAULT_RC=\"\\\"/usr/local/etc/mecabrc\\\"\"    -O3 -Wall  -c -o dictionary_compiler.lo dictionary_compiler.cpp\n",
            "libtool: compile:  g++ -DHAVE_CONFIG_H -I. -I.. -DDIC_VERSION=102 -DMECAB_DEFAULT_RC=\\\"/usr/local/etc/mecabrc\\\" -O3 -Wall -c dictionary_compiler.cpp  -fPIC -DPIC -o .libs/dictionary_compiler.o\n",
            "In file included from \u001b[01m\u001b[Kdictionary_compiler.cpp:9\u001b[m\u001b[K:\n",
            "\u001b[01m\u001b[Kchar_property.h:\u001b[m\u001b[K In member function ‘\u001b[01m\u001b[Kconst char* MeCab::CharProperty::seekToOtherType(const char*, const char*, MeCab::CharInfo, MeCab::CharInfo*, size_t*, size_t*) const\u001b[m\u001b[K’:\n",
            "\u001b[01m\u001b[Kchar_property.h:40:26:\u001b[m\u001b[K \u001b[01;35m\u001b[Kwarning: \u001b[m\u001b[KISO C++17 does not allow ‘\u001b[01m\u001b[Kregister\u001b[m\u001b[K’ storage class specifier [\u001b[01;35m\u001b[K\u001b]8;;https://gcc.gnu.org/onlinedocs/gcc/Warning-Options.html#index-Wregister\u0007-Wregister\u001b]8;;\u0007\u001b[m\u001b[K]\n",
            "   40 |     register const char *\u001b[01;35m\u001b[Kp\u001b[m\u001b[K =  begin;\n",
            "      |                          \u001b[01;35m\u001b[K^\u001b[m\u001b[K\n",
            "In file included from \u001b[01m\u001b[Kdictionary.h:11\u001b[m\u001b[K,\n",
            "                 from \u001b[01m\u001b[Kdictionary_compiler.cpp:11\u001b[m\u001b[K:\n",
            "\u001b[01m\u001b[Kdarts.h:\u001b[m\u001b[K In member function ‘\u001b[01m\u001b[KT MeCab::Darts::DoubleArrayImpl<node_type_, node_u_type_, array_type_, array_u_type_, length_func_>::exactMatchSearch(const key_type*, size_t, size_t) const\u001b[m\u001b[K’:\n",
            "\u001b[01m\u001b[Kdarts.h:407:27:\u001b[m\u001b[K \u001b[01;35m\u001b[Kwarning: \u001b[m\u001b[KISO C++17 does not allow ‘\u001b[01m\u001b[Kregister\u001b[m\u001b[K’ storage class specifier [\u001b[01;35m\u001b[K\u001b]8;;https://gcc.gnu.org/onlinedocs/gcc/Warning-Options.html#index-Wregister\u0007-Wregister\u001b]8;;\u0007\u001b[m\u001b[K]\n",
            "  407 |     register array_type_  \u001b[01;35m\u001b[Kb\u001b[m\u001b[K = array_[node_pos].base;\n",
            "      |                           \u001b[01;35m\u001b[K^\u001b[m\u001b[K\n",
            "\u001b[01m\u001b[Kdarts.h:408:28:\u001b[m\u001b[K \u001b[01;35m\u001b[Kwarning: \u001b[m\u001b[KISO C++17 does not allow ‘\u001b[01m\u001b[Kregister\u001b[m\u001b[K’ storage class specifier [\u001b[01;35m\u001b[K\u001b]8;;https://gcc.gnu.org/onlinedocs/gcc/Warning-Options.html#index-Wregister\u0007-Wregister\u001b]8;;\u0007\u001b[m\u001b[K]\n",
            "  408 |     register array_u_type_ \u001b[01;35m\u001b[Kp\u001b[m\u001b[K;\n",
            "      |                            \u001b[01;35m\u001b[K^\u001b[m\u001b[K\n",
            "\u001b[01m\u001b[Kdarts.h:410:26:\u001b[m\u001b[K \u001b[01;35m\u001b[Kwarning: \u001b[m\u001b[KISO C++17 does not allow ‘\u001b[01m\u001b[Kregister\u001b[m\u001b[K’ storage class specifier [\u001b[01;35m\u001b[K\u001b]8;;https://gcc.gnu.org/onlinedocs/gcc/Warning-Options.html#index-Wregister\u0007-Wregister\u001b]8;;\u0007\u001b[m\u001b[K]\n",
            "  410 |     for (register size_t \u001b[01;35m\u001b[Ki\u001b[m\u001b[K = 0; i < len; ++i) {\n",
            "      |                          \u001b[01;35m\u001b[K^\u001b[m\u001b[K\n",
            "\u001b[01m\u001b[Kdarts.h:\u001b[m\u001b[K In member function ‘\u001b[01m\u001b[Ksize_t MeCab::Darts::DoubleArrayImpl<node_type_, node_u_type_, array_type_, array_u_type_, length_func_>::commonPrefixSearch(const key_type*, T*, size_t, size_t, size_t) const\u001b[m\u001b[K’:\n",
            "\u001b[01m\u001b[Kdarts.h:434:27:\u001b[m\u001b[K \u001b[01;35m\u001b[Kwarning: \u001b[m\u001b[KISO C++17 does not allow ‘\u001b[01m\u001b[Kregister\u001b[m\u001b[K’ storage class specifier [\u001b[01;35m\u001b[K\u001b]8;;https://gcc.gnu.org/onlinedocs/gcc/Warning-Options.html#index-Wregister\u0007-Wregister\u001b]8;;\u0007\u001b[m\u001b[K]\n",
            "  434 |     register array_type_  \u001b[01;35m\u001b[Kb\u001b[m\u001b[K   = array_[node_pos].base;\n",
            "      |                           \u001b[01;35m\u001b[K^\u001b[m\u001b[K\n",
            "\u001b[01m\u001b[Kdarts.h:435:25:\u001b[m\u001b[K \u001b[01;35m\u001b[Kwarning: \u001b[m\u001b[KISO C++17 does not allow ‘\u001b[01m\u001b[Kregister\u001b[m\u001b[K’ storage class specifier [\u001b[01;35m\u001b[K\u001b]8;;https://gcc.gnu.org/onlinedocs/gcc/Warning-Options.html#index-Wregister\u0007-Wregister\u001b]8;;\u0007\u001b[m\u001b[K]\n",
            "  435 |     register size_t     \u001b[01;35m\u001b[Knum\u001b[m\u001b[K = 0;\n",
            "      |                         \u001b[01;35m\u001b[K^~~\u001b[m\u001b[K\n",
            "\u001b[01m\u001b[Kdarts.h:436:27:\u001b[m\u001b[K \u001b[01;35m\u001b[Kwarning: \u001b[m\u001b[KISO C++17 does not allow ‘\u001b[01m\u001b[Kregister\u001b[m\u001b[K’ storage class specifier [\u001b[01;35m\u001b[K\u001b]8;;https://gcc.gnu.org/onlinedocs/gcc/Warning-Options.html#index-Wregister\u0007-Wregister\u001b]8;;\u0007\u001b[m\u001b[K]\n",
            "  436 |     register array_type_  \u001b[01;35m\u001b[Kn\u001b[m\u001b[K;\n",
            "      |                           \u001b[01;35m\u001b[K^\u001b[m\u001b[K\n",
            "\u001b[01m\u001b[Kdarts.h:437:28:\u001b[m\u001b[K \u001b[01;35m\u001b[Kwarning: \u001b[m\u001b[KISO C++17 does not allow ‘\u001b[01m\u001b[Kregister\u001b[m\u001b[K’ storage class specifier [\u001b[01;35m\u001b[K\u001b]8;;https://gcc.gnu.org/onlinedocs/gcc/Warning-Options.html#index-Wregister\u0007-Wregister\u001b]8;;\u0007\u001b[m\u001b[K]\n",
            "  437 |     register array_u_type_ \u001b[01;35m\u001b[Kp\u001b[m\u001b[K;\n",
            "      |                            \u001b[01;35m\u001b[K^\u001b[m\u001b[K\n",
            "\u001b[01m\u001b[Kdarts.h:439:26:\u001b[m\u001b[K \u001b[01;35m\u001b[Kwarning: \u001b[m\u001b[KISO C++17 does not allow ‘\u001b[01m\u001b[Kregister\u001b[m\u001b[K’ storage class specifier [\u001b[01;35m\u001b[K\u001b]8;;https://gcc.gnu.org/onlinedocs/gcc/Warning-Options.html#index-Wregister\u0007-Wregister\u001b]8;;\u0007\u001b[m\u001b[K]\n",
            "  439 |     for (register size_t \u001b[01;35m\u001b[Ki\u001b[m\u001b[K = 0; i < len; ++i) {\n",
            "      |                          \u001b[01;35m\u001b[K^\u001b[m\u001b[K\n",
            "\u001b[01m\u001b[Kdarts.h:\u001b[m\u001b[K In member function ‘\u001b[01m\u001b[KMeCab::Darts::DoubleArrayImpl<node_type_, node_u_type_, array_type_, array_u_type_, length_func_>::value_type MeCab::Darts::DoubleArrayImpl<node_type_, node_u_type_, array_type_, array_u_type_, length_func_>::traverse(const key_type*, size_t&, size_t&, size_t) const\u001b[m\u001b[K’:\n",
            "\u001b[01m\u001b[Kdarts.h:472:27:\u001b[m\u001b[K \u001b[01;35m\u001b[Kwarning: \u001b[m\u001b[KISO C++17 does not allow ‘\u001b[01m\u001b[Kregister\u001b[m\u001b[K’ storage class specifier [\u001b[01;35m\u001b[K\u001b]8;;https://gcc.gnu.org/onlinedocs/gcc/Warning-Options.html#index-Wregister\u0007-Wregister\u001b]8;;\u0007\u001b[m\u001b[K]\n",
            "  472 |     register array_type_  \u001b[01;35m\u001b[Kb\u001b[m\u001b[K = array_[node_pos].base;\n",
            "      |                           \u001b[01;35m\u001b[K^\u001b[m\u001b[K\n",
            "\u001b[01m\u001b[Kdarts.h:473:28:\u001b[m\u001b[K \u001b[01;35m\u001b[Kwarning: \u001b[m\u001b[KISO C++17 does not allow ‘\u001b[01m\u001b[Kregister\u001b[m\u001b[K’ storage class specifier [\u001b[01;35m\u001b[K\u001b]8;;https://gcc.gnu.org/onlinedocs/gcc/Warning-Options.html#index-Wregister\u0007-Wregister\u001b]8;;\u0007\u001b[m\u001b[K]\n",
            "  473 |     register array_u_type_ \u001b[01;35m\u001b[Kp\u001b[m\u001b[K;\n",
            "      |                            \u001b[01;35m\u001b[K^\u001b[m\u001b[K\n",
            "darts.h: In instantiation of ‘\u001b[01m\u001b[Ksize_t MeCab::Darts::DoubleArrayImpl<node_type_, node_u_type_, array_type_, array_u_type_, length_func_>::commonPrefixSearch(const key_type*, T*, size_t, size_t, size_t) const [with T = MeCab::Darts::DoubleArrayImpl<char, unsigned char, int, unsigned int>::result_pair_type; node_type_ = char; node_u_type_ = unsigned char; array_type_ = int; array_u_type_ = unsigned int; length_func_ = MeCab::Darts::Length<char>; size_t = long unsigned int; MeCab::Darts::DoubleArrayImpl<node_type_, node_u_type_, array_type_, array_u_type_, length_func_>::key_type = char]\u001b[m\u001b[K’:\n",
            "\u001b[01m\u001b[Kdictionary.h:37:34:\u001b[m\u001b[K   required from here\n",
            "\u001b[01m\u001b[Kdarts.h:434:27:\u001b[m\u001b[K \u001b[01;35m\u001b[Kwarning: \u001b[m\u001b[KISO C++17 does not allow ‘\u001b[01m\u001b[Kregister\u001b[m\u001b[K’ storage class specifier [\u001b[01;35m\u001b[K\u001b]8;;https://gcc.gnu.org/onlinedocs/gcc/Warning-Options.html#index-Wregister\u0007-Wregister\u001b]8;;\u0007\u001b[m\u001b[K]\n",
            "  434 |     register array_type_  \u001b[01;35m\u001b[Kb\u001b[m\u001b[K   = array_[node_pos].base;\n",
            "      |                           \u001b[01;35m\u001b[K^\u001b[m\u001b[K\n",
            "\u001b[01m\u001b[Kdarts.h:435:25:\u001b[m\u001b[K \u001b[01;35m\u001b[Kwarning: \u001b[m\u001b[KISO C++17 does not allow ‘\u001b[01m\u001b[Kregister\u001b[m\u001b[K’ storage class specifier [\u001b[01;35m\u001b[K\u001b]8;;https://gcc.gnu.org/onlinedocs/gcc/Warning-Options.html#index-Wregister\u0007-Wregister\u001b]8;;\u0007\u001b[m\u001b[K]\n",
            "  435 |     register size_t     \u001b[01;35m\u001b[Knum\u001b[m\u001b[K = 0;\n",
            "      |                         \u001b[01;35m\u001b[K^~~\u001b[m\u001b[K\n",
            "\u001b[01m\u001b[Kdarts.h:436:27:\u001b[m\u001b[K \u001b[01;35m\u001b[Kwarning: \u001b[m\u001b[KISO C++17 does not allow ‘\u001b[01m\u001b[Kregister\u001b[m\u001b[K’ storage class specifier [\u001b[01;35m\u001b[K\u001b]8;;https://gcc.gnu.org/onlinedocs/gcc/Warning-Options.html#index-Wregister\u0007-Wregister\u001b]8;;\u0007\u001b[m\u001b[K]\n",
            "  436 |     register array_type_  \u001b[01;35m\u001b[Kn\u001b[m\u001b[K;\n",
            "      |                           \u001b[01;35m\u001b[K^\u001b[m\u001b[K\n",
            "\u001b[01m\u001b[Kdarts.h:437:28:\u001b[m\u001b[K \u001b[01;35m\u001b[Kwarning: \u001b[m\u001b[KISO C++17 does not allow ‘\u001b[01m\u001b[Kregister\u001b[m\u001b[K’ storage class specifier [\u001b[01;35m\u001b[K\u001b]8;;https://gcc.gnu.org/onlinedocs/gcc/Warning-Options.html#index-Wregister\u0007-Wregister\u001b]8;;\u0007\u001b[m\u001b[K]\n",
            "  437 |     register array_u_type_ \u001b[01;35m\u001b[Kp\u001b[m\u001b[K;\n",
            "      |                            \u001b[01;35m\u001b[K^\u001b[m\u001b[K\n",
            "\u001b[01m\u001b[Kdarts.h:439:26:\u001b[m\u001b[K \u001b[01;35m\u001b[Kwarning: \u001b[m\u001b[KISO C++17 does not allow ‘\u001b[01m\u001b[Kregister\u001b[m\u001b[K’ storage class specifier [\u001b[01;35m\u001b[K\u001b]8;;https://gcc.gnu.org/onlinedocs/gcc/Warning-Options.html#index-Wregister\u0007-Wregister\u001b]8;;\u0007\u001b[m\u001b[K]\n",
            "  439 |     for (register size_t \u001b[01;35m\u001b[Ki\u001b[m\u001b[K = 0; i < len; ++i) {\n",
            "      |                          \u001b[01;35m\u001b[K^\u001b[m\u001b[K\n",
            "darts.h: In instantiation of ‘\u001b[01m\u001b[KT MeCab::Darts::DoubleArrayImpl<node_type_, node_u_type_, array_type_, array_u_type_, length_func_>::exactMatchSearch(const key_type*, size_t, size_t) const [with T = MeCab::Darts::DoubleArrayImpl<char, unsigned char, int, unsigned int>::result_pair_type; node_type_ = char; node_u_type_ = unsigned char; array_type_ = int; array_u_type_ = unsigned int; length_func_ = MeCab::Darts::Length<char>; MeCab::Darts::DoubleArrayImpl<node_type_, node_u_type_, array_type_, array_u_type_, length_func_>::key_type = char; size_t = long unsigned int]\u001b[m\u001b[K’:\n",
            "\u001b[01m\u001b[Kdarts.h:394:33:\u001b[m\u001b[K   required from ‘\u001b[01m\u001b[Kvoid MeCab::Darts::DoubleArrayImpl<node_type_, node_u_type_, array_type_, array_u_type_, length_func_>::exactMatchSearch(const key_type*, T&, size_t, size_t) const [with T = MeCab::Darts::DoubleArrayImpl<char, unsigned char, int, unsigned int>::result_pair_type; node_type_ = char; node_u_type_ = unsigned char; array_type_ = int; array_u_type_ = unsigned int; length_func_ = MeCab::Darts::Length<char>; MeCab::Darts::DoubleArrayImpl<node_type_, node_u_type_, array_type_, array_u_type_, length_func_>::key_type = char; size_t = long unsigned int]\u001b[m\u001b[K’\n",
            "\u001b[01m\u001b[Kdictionary.h:42:25:\u001b[m\u001b[K   required from here\n",
            "\u001b[01m\u001b[Kdarts.h:407:27:\u001b[m\u001b[K \u001b[01;35m\u001b[Kwarning: \u001b[m\u001b[KISO C++17 does not allow ‘\u001b[01m\u001b[Kregister\u001b[m\u001b[K’ storage class specifier [\u001b[01;35m\u001b[K\u001b]8;;https://gcc.gnu.org/onlinedocs/gcc/Warning-Options.html#index-Wregister\u0007-Wregister\u001b]8;;\u0007\u001b[m\u001b[K]\n",
            "  407 |     register array_type_  \u001b[01;35m\u001b[Kb\u001b[m\u001b[K = array_[node_pos].base;\n",
            "      |                           \u001b[01;35m\u001b[K^\u001b[m\u001b[K\n",
            "\u001b[01m\u001b[Kdarts.h:408:28:\u001b[m\u001b[K \u001b[01;35m\u001b[Kwarning: \u001b[m\u001b[KISO C++17 does not allow ‘\u001b[01m\u001b[Kregister\u001b[m\u001b[K’ storage class specifier [\u001b[01;35m\u001b[K\u001b]8;;https://gcc.gnu.org/onlinedocs/gcc/Warning-Options.html#index-Wregister\u0007-Wregister\u001b]8;;\u0007\u001b[m\u001b[K]\n",
            "  408 |     register array_u_type_ \u001b[01;35m\u001b[Kp\u001b[m\u001b[K;\n",
            "      |                            \u001b[01;35m\u001b[K^\u001b[m\u001b[K\n",
            "\u001b[01m\u001b[Kdarts.h:410:26:\u001b[m\u001b[K \u001b[01;35m\u001b[Kwarning: \u001b[m\u001b[KISO C++17 does not allow ‘\u001b[01m\u001b[Kregister\u001b[m\u001b[K’ storage class specifier [\u001b[01;35m\u001b[K\u001b]8;;https://gcc.gnu.org/onlinedocs/gcc/Warning-Options.html#index-Wregister\u0007-Wregister\u001b]8;;\u0007\u001b[m\u001b[K]\n",
            "  410 |     for (register size_t \u001b[01;35m\u001b[Ki\u001b[m\u001b[K = 0; i < len; ++i) {\n",
            "      |                          \u001b[01;35m\u001b[K^\u001b[m\u001b[K\n",
            "libtool: compile:  g++ -DHAVE_CONFIG_H -I. -I.. -DDIC_VERSION=102 -DMECAB_DEFAULT_RC=\\\"/usr/local/etc/mecabrc\\\" -O3 -Wall -c dictionary_compiler.cpp -o dictionary_compiler.o >/dev/null 2>&1\n",
            "/bin/bash ../libtool --tag=CXX   --mode=compile g++ -DHAVE_CONFIG_H -I. -I.. -DDIC_VERSION=102   -DMECAB_DEFAULT_RC=\"\\\"/usr/local/etc/mecabrc\\\"\"    -O3 -Wall  -c -o context_id.lo context_id.cpp\n",
            "libtool: compile:  g++ -DHAVE_CONFIG_H -I. -I.. -DDIC_VERSION=102 -DMECAB_DEFAULT_RC=\\\"/usr/local/etc/mecabrc\\\" -O3 -Wall -c context_id.cpp  -fPIC -DPIC -o .libs/context_id.o\n",
            "libtool: compile:  g++ -DHAVE_CONFIG_H -I. -I.. -DDIC_VERSION=102 -DMECAB_DEFAULT_RC=\\\"/usr/local/etc/mecabrc\\\" -O3 -Wall -c context_id.cpp -o context_id.o >/dev/null 2>&1\n",
            "/bin/bash ../libtool --tag=CXX   --mode=compile g++ -DHAVE_CONFIG_H -I. -I.. -DDIC_VERSION=102   -DMECAB_DEFAULT_RC=\"\\\"/usr/local/etc/mecabrc\\\"\"    -O3 -Wall  -c -o connector.lo connector.cpp\n",
            "libtool: compile:  g++ -DHAVE_CONFIG_H -I. -I.. -DDIC_VERSION=102 -DMECAB_DEFAULT_RC=\\\"/usr/local/etc/mecabrc\\\" -O3 -Wall -c connector.cpp  -fPIC -DPIC -o .libs/connector.o\n",
            "libtool: compile:  g++ -DHAVE_CONFIG_H -I. -I.. -DDIC_VERSION=102 -DMECAB_DEFAULT_RC=\\\"/usr/local/etc/mecabrc\\\" -O3 -Wall -c connector.cpp -o connector.o >/dev/null 2>&1\n",
            "/bin/bash ../libtool --tag=CXX   --mode=compile g++ -DHAVE_CONFIG_H -I. -I.. -DDIC_VERSION=102   -DMECAB_DEFAULT_RC=\"\\\"/usr/local/etc/mecabrc\\\"\"    -O3 -Wall  -c -o nbest_generator.lo nbest_generator.cpp\n",
            "libtool: compile:  g++ -DHAVE_CONFIG_H -I. -I.. -DDIC_VERSION=102 -DMECAB_DEFAULT_RC=\\\"/usr/local/etc/mecabrc\\\" -O3 -Wall -c nbest_generator.cpp  -fPIC -DPIC -o .libs/nbest_generator.o\n",
            "libtool: compile:  g++ -DHAVE_CONFIG_H -I. -I.. -DDIC_VERSION=102 -DMECAB_DEFAULT_RC=\\\"/usr/local/etc/mecabrc\\\" -O3 -Wall -c nbest_generator.cpp -o nbest_generator.o >/dev/null 2>&1\n",
            "/bin/bash ../libtool --tag=CXX   --mode=compile g++ -DHAVE_CONFIG_H -I. -I.. -DDIC_VERSION=102   -DMECAB_DEFAULT_RC=\"\\\"/usr/local/etc/mecabrc\\\"\"    -O3 -Wall  -c -o writer.lo writer.cpp\n",
            "libtool: compile:  g++ -DHAVE_CONFIG_H -I. -I.. -DDIC_VERSION=102 -DMECAB_DEFAULT_RC=\\\"/usr/local/etc/mecabrc\\\" -O3 -Wall -c writer.cpp  -fPIC -DPIC -o .libs/writer.o\n",
            "In file included from \u001b[01m\u001b[K/usr/include/string.h:535\u001b[m\u001b[K,\n",
            "                 from \u001b[01m\u001b[K/usr/include/c++/11/cstring:42\u001b[m\u001b[K,\n",
            "                 from \u001b[01m\u001b[Kwriter.cpp:7\u001b[m\u001b[K:\n",
            "In function ‘\u001b[01m\u001b[Kchar* strncpy(char*, const char*, size_t)\u001b[m\u001b[K’,\n",
            "    inlined from ‘\u001b[01m\u001b[Kbool MeCab::Writer::writeNode(MeCab::Lattice*, const char*, const Node*, MeCab::StringBuffer*) const\u001b[m\u001b[K’ at \u001b[01m\u001b[Kwriter.cpp:352:27\u001b[m\u001b[K:\n",
            "\u001b[01m\u001b[K/usr/include/x86_64-linux-gnu/bits/string_fortified.h:95:34:\u001b[m\u001b[K \u001b[01;35m\u001b[Kwarning: \u001b[m\u001b[K‘\u001b[01m\u001b[Kchar* __builtin_strncpy(char*, const char*, long unsigned int)\u001b[m\u001b[K’ specified bound 8192 equals destination size [\u001b[01;35m\u001b[K\u001b]8;;https://gcc.gnu.org/onlinedocs/gcc/Warning-Options.html#index-Wstringop-truncation\u0007-Wstringop-truncation\u001b]8;;\u0007\u001b[m\u001b[K]\n",
            "   95 |   return \u001b[01;35m\u001b[K__builtin___strncpy_chk (__dest, __src, __len,\u001b[m\u001b[K\n",
            "      |          \u001b[01;35m\u001b[K~~~~~~~~~~~~~~~~~~~~~~~~^~~~~~~~~~~~~~~~~~~~~~\u001b[m\u001b[K\n",
            "   96 | \u001b[01;35m\u001b[K                                  __glibc_objsize (__dest))\u001b[m\u001b[K;\n",
            "      |                                   \u001b[01;35m\u001b[K~~~~~~~~~~~~~~~~~~~~~~~~~\u001b[m\u001b[K\n",
            "libtool: compile:  g++ -DHAVE_CONFIG_H -I. -I.. -DDIC_VERSION=102 -DMECAB_DEFAULT_RC=\\\"/usr/local/etc/mecabrc\\\" -O3 -Wall -c writer.cpp -o writer.o >/dev/null 2>&1\n",
            "/bin/bash ../libtool --tag=CXX   --mode=compile g++ -DHAVE_CONFIG_H -I. -I.. -DDIC_VERSION=102   -DMECAB_DEFAULT_RC=\"\\\"/usr/local/etc/mecabrc\\\"\"    -O3 -Wall  -c -o string_buffer.lo string_buffer.cpp\n",
            "libtool: compile:  g++ -DHAVE_CONFIG_H -I. -I.. -DDIC_VERSION=102 -DMECAB_DEFAULT_RC=\\\"/usr/local/etc/mecabrc\\\" -O3 -Wall -c string_buffer.cpp  -fPIC -DPIC -o .libs/string_buffer.o\n",
            "libtool: compile:  g++ -DHAVE_CONFIG_H -I. -I.. -DDIC_VERSION=102 -DMECAB_DEFAULT_RC=\\\"/usr/local/etc/mecabrc\\\" -O3 -Wall -c string_buffer.cpp -o string_buffer.o >/dev/null 2>&1\n",
            "/bin/bash ../libtool --tag=CXX   --mode=compile g++ -DHAVE_CONFIG_H -I. -I.. -DDIC_VERSION=102   -DMECAB_DEFAULT_RC=\"\\\"/usr/local/etc/mecabrc\\\"\"    -O3 -Wall  -c -o param.lo param.cpp\n",
            "libtool: compile:  g++ -DHAVE_CONFIG_H -I. -I.. -DDIC_VERSION=102 -DMECAB_DEFAULT_RC=\\\"/usr/local/etc/mecabrc\\\" -O3 -Wall -c param.cpp  -fPIC -DPIC -o .libs/param.o\n",
            "In file included from \u001b[01m\u001b[K/usr/include/string.h:535\u001b[m\u001b[K,\n",
            "                 from \u001b[01m\u001b[K/usr/include/c++/11/cstring:42\u001b[m\u001b[K,\n",
            "                 from \u001b[01m\u001b[Kcommon.h:13\u001b[m\u001b[K,\n",
            "                 from \u001b[01m\u001b[Kparam.cpp:8\u001b[m\u001b[K:\n",
            "In function ‘\u001b[01m\u001b[Kchar* strncpy(char*, const char*, size_t)\u001b[m\u001b[K’,\n",
            "    inlined from ‘\u001b[01m\u001b[Kbool MeCab::Param::open(const char*, const MeCab::Option*)\u001b[m\u001b[K’ at \u001b[01m\u001b[Kparam.cpp:194:15\u001b[m\u001b[K:\n",
            "\u001b[01m\u001b[K/usr/include/x86_64-linux-gnu/bits/string_fortified.h:95:34:\u001b[m\u001b[K \u001b[01;35m\u001b[Kwarning: \u001b[m\u001b[K‘\u001b[01m\u001b[Kchar* __builtin_strncpy(char*, const char*, long unsigned int)\u001b[m\u001b[K’ specified bound 8192 equals destination size [\u001b[01;35m\u001b[K\u001b]8;;https://gcc.gnu.org/onlinedocs/gcc/Warning-Options.html#index-Wstringop-truncation\u0007-Wstringop-truncation\u001b]8;;\u0007\u001b[m\u001b[K]\n",
            "   95 |   return \u001b[01;35m\u001b[K__builtin___strncpy_chk (__dest, __src, __len,\u001b[m\u001b[K\n",
            "      |          \u001b[01;35m\u001b[K~~~~~~~~~~~~~~~~~~~~~~~~^~~~~~~~~~~~~~~~~~~~~~\u001b[m\u001b[K\n",
            "   96 | \u001b[01;35m\u001b[K                                  __glibc_objsize (__dest))\u001b[m\u001b[K;\n",
            "      |                                   \u001b[01;35m\u001b[K~~~~~~~~~~~~~~~~~~~~~~~~~\u001b[m\u001b[K\n",
            "libtool: compile:  g++ -DHAVE_CONFIG_H -I. -I.. -DDIC_VERSION=102 -DMECAB_DEFAULT_RC=\\\"/usr/local/etc/mecabrc\\\" -O3 -Wall -c param.cpp -o param.o >/dev/null 2>&1\n",
            "/bin/bash ../libtool --tag=CXX   --mode=compile g++ -DHAVE_CONFIG_H -I. -I.. -DDIC_VERSION=102   -DMECAB_DEFAULT_RC=\"\\\"/usr/local/etc/mecabrc\\\"\"    -O3 -Wall  -c -o tokenizer.lo tokenizer.cpp\n",
            "libtool: compile:  g++ -DHAVE_CONFIG_H -I. -I.. -DDIC_VERSION=102 -DMECAB_DEFAULT_RC=\\\"/usr/local/etc/mecabrc\\\" -O3 -Wall -c tokenizer.cpp  -fPIC -DPIC -o .libs/tokenizer.o\n",
            "In file included from \u001b[01m\u001b[Ktokenizer.cpp:8\u001b[m\u001b[K:\n",
            "\u001b[01m\u001b[Kdarts.h:\u001b[m\u001b[K In member function ‘\u001b[01m\u001b[KT MeCab::Darts::DoubleArrayImpl<node_type_, node_u_type_, array_type_, array_u_type_, length_func_>::exactMatchSearch(const key_type*, size_t, size_t) const\u001b[m\u001b[K’:\n",
            "\u001b[01m\u001b[Kdarts.h:407:27:\u001b[m\u001b[K \u001b[01;35m\u001b[Kwarning: \u001b[m\u001b[KISO C++17 does not allow ‘\u001b[01m\u001b[Kregister\u001b[m\u001b[K’ storage class specifier [\u001b[01;35m\u001b[K\u001b]8;;https://gcc.gnu.org/onlinedocs/gcc/Warning-Options.html#index-Wregister\u0007-Wregister\u001b]8;;\u0007\u001b[m\u001b[K]\n",
            "  407 |     register array_type_  \u001b[01;35m\u001b[Kb\u001b[m\u001b[K = array_[node_pos].base;\n",
            "      |                           \u001b[01;35m\u001b[K^\u001b[m\u001b[K\n",
            "\u001b[01m\u001b[Kdarts.h:408:28:\u001b[m\u001b[K \u001b[01;35m\u001b[Kwarning: \u001b[m\u001b[KISO C++17 does not allow ‘\u001b[01m\u001b[Kregister\u001b[m\u001b[K’ storage class specifier [\u001b[01;35m\u001b[K\u001b]8;;https://gcc.gnu.org/onlinedocs/gcc/Warning-Options.html#index-Wregister\u0007-Wregister\u001b]8;;\u0007\u001b[m\u001b[K]\n",
            "  408 |     register array_u_type_ \u001b[01;35m\u001b[Kp\u001b[m\u001b[K;\n",
            "      |                            \u001b[01;35m\u001b[K^\u001b[m\u001b[K\n",
            "\u001b[01m\u001b[Kdarts.h:410:26:\u001b[m\u001b[K \u001b[01;35m\u001b[Kwarning: \u001b[m\u001b[KISO C++17 does not allow ‘\u001b[01m\u001b[Kregister\u001b[m\u001b[K’ storage class specifier [\u001b[01;35m\u001b[K\u001b]8;;https://gcc.gnu.org/onlinedocs/gcc/Warning-Options.html#index-Wregister\u0007-Wregister\u001b]8;;\u0007\u001b[m\u001b[K]\n",
            "  410 |     for (register size_t \u001b[01;35m\u001b[Ki\u001b[m\u001b[K = 0; i < len; ++i) {\n",
            "      |                          \u001b[01;35m\u001b[K^\u001b[m\u001b[K\n",
            "\u001b[01m\u001b[Kdarts.h:\u001b[m\u001b[K In member function ‘\u001b[01m\u001b[Ksize_t MeCab::Darts::DoubleArrayImpl<node_type_, node_u_type_, array_type_, array_u_type_, length_func_>::commonPrefixSearch(const key_type*, T*, size_t, size_t, size_t) const\u001b[m\u001b[K’:\n",
            "\u001b[01m\u001b[Kdarts.h:434:27:\u001b[m\u001b[K \u001b[01;35m\u001b[Kwarning: \u001b[m\u001b[KISO C++17 does not allow ‘\u001b[01m\u001b[Kregister\u001b[m\u001b[K’ storage class specifier [\u001b[01;35m\u001b[K\u001b]8;;https://gcc.gnu.org/onlinedocs/gcc/Warning-Options.html#index-Wregister\u0007-Wregister\u001b]8;;\u0007\u001b[m\u001b[K]\n",
            "  434 |     register array_type_  \u001b[01;35m\u001b[Kb\u001b[m\u001b[K   = array_[node_pos].base;\n",
            "      |                           \u001b[01;35m\u001b[K^\u001b[m\u001b[K\n",
            "\u001b[01m\u001b[Kdarts.h:435:25:\u001b[m\u001b[K \u001b[01;35m\u001b[Kwarning: \u001b[m\u001b[KISO C++17 does not allow ‘\u001b[01m\u001b[Kregister\u001b[m\u001b[K’ storage class specifier [\u001b[01;35m\u001b[K\u001b]8;;https://gcc.gnu.org/onlinedocs/gcc/Warning-Options.html#index-Wregister\u0007-Wregister\u001b]8;;\u0007\u001b[m\u001b[K]\n",
            "  435 |     register size_t     \u001b[01;35m\u001b[Knum\u001b[m\u001b[K = 0;\n",
            "      |                         \u001b[01;35m\u001b[K^~~\u001b[m\u001b[K\n",
            "\u001b[01m\u001b[Kdarts.h:436:27:\u001b[m\u001b[K \u001b[01;35m\u001b[Kwarning: \u001b[m\u001b[KISO C++17 does not allow ‘\u001b[01m\u001b[Kregister\u001b[m\u001b[K’ storage class specifier [\u001b[01;35m\u001b[K\u001b]8;;https://gcc.gnu.org/onlinedocs/gcc/Warning-Options.html#index-Wregister\u0007-Wregister\u001b]8;;\u0007\u001b[m\u001b[K]\n",
            "  436 |     register array_type_  \u001b[01;35m\u001b[Kn\u001b[m\u001b[K;\n",
            "      |                           \u001b[01;35m\u001b[K^\u001b[m\u001b[K\n",
            "\u001b[01m\u001b[Kdarts.h:437:28:\u001b[m\u001b[K \u001b[01;35m\u001b[Kwarning: \u001b[m\u001b[KISO C++17 does not allow ‘\u001b[01m\u001b[Kregister\u001b[m\u001b[K’ storage class specifier [\u001b[01;35m\u001b[K\u001b]8;;https://gcc.gnu.org/onlinedocs/gcc/Warning-Options.html#index-Wregister\u0007-Wregister\u001b]8;;\u0007\u001b[m\u001b[K]\n",
            "  437 |     register array_u_type_ \u001b[01;35m\u001b[Kp\u001b[m\u001b[K;\n",
            "      |                            \u001b[01;35m\u001b[K^\u001b[m\u001b[K\n",
            "\u001b[01m\u001b[Kdarts.h:439:26:\u001b[m\u001b[K \u001b[01;35m\u001b[Kwarning: \u001b[m\u001b[KISO C++17 does not allow ‘\u001b[01m\u001b[Kregister\u001b[m\u001b[K’ storage class specifier [\u001b[01;35m\u001b[K\u001b]8;;https://gcc.gnu.org/onlinedocs/gcc/Warning-Options.html#index-Wregister\u0007-Wregister\u001b]8;;\u0007\u001b[m\u001b[K]\n",
            "  439 |     for (register size_t \u001b[01;35m\u001b[Ki\u001b[m\u001b[K = 0; i < len; ++i) {\n",
            "      |                          \u001b[01;35m\u001b[K^\u001b[m\u001b[K\n",
            "\u001b[01m\u001b[Kdarts.h:\u001b[m\u001b[K In member function ‘\u001b[01m\u001b[KMeCab::Darts::DoubleArrayImpl<node_type_, node_u_type_, array_type_, array_u_type_, length_func_>::value_type MeCab::Darts::DoubleArrayImpl<node_type_, node_u_type_, array_type_, array_u_type_, length_func_>::traverse(const key_type*, size_t&, size_t&, size_t) const\u001b[m\u001b[K’:\n",
            "\u001b[01m\u001b[Kdarts.h:472:27:\u001b[m\u001b[K \u001b[01;35m\u001b[Kwarning: \u001b[m\u001b[KISO C++17 does not allow ‘\u001b[01m\u001b[Kregister\u001b[m\u001b[K’ storage class specifier [\u001b[01;35m\u001b[K\u001b]8;;https://gcc.gnu.org/onlinedocs/gcc/Warning-Options.html#index-Wregister\u0007-Wregister\u001b]8;;\u0007\u001b[m\u001b[K]\n",
            "  472 |     register array_type_  \u001b[01;35m\u001b[Kb\u001b[m\u001b[K = array_[node_pos].base;\n",
            "      |                           \u001b[01;35m\u001b[K^\u001b[m\u001b[K\n",
            "\u001b[01m\u001b[Kdarts.h:473:28:\u001b[m\u001b[K \u001b[01;35m\u001b[Kwarning: \u001b[m\u001b[KISO C++17 does not allow ‘\u001b[01m\u001b[Kregister\u001b[m\u001b[K’ storage class specifier [\u001b[01;35m\u001b[K\u001b]8;;https://gcc.gnu.org/onlinedocs/gcc/Warning-Options.html#index-Wregister\u0007-Wregister\u001b]8;;\u0007\u001b[m\u001b[K]\n",
            "  473 |     register array_u_type_ \u001b[01;35m\u001b[Kp\u001b[m\u001b[K;\n",
            "      |                            \u001b[01;35m\u001b[K^\u001b[m\u001b[K\n",
            "In file included from \u001b[01m\u001b[Kdictionary.h:12\u001b[m\u001b[K,\n",
            "                 from \u001b[01m\u001b[Ktokenizer.h:11\u001b[m\u001b[K,\n",
            "                 from \u001b[01m\u001b[Ktokenizer.cpp:12\u001b[m\u001b[K:\n",
            "\u001b[01m\u001b[Kchar_property.h:\u001b[m\u001b[K In member function ‘\u001b[01m\u001b[Kconst char* MeCab::CharProperty::seekToOtherType(const char*, const char*, MeCab::CharInfo, MeCab::CharInfo*, size_t*, size_t*) const\u001b[m\u001b[K’:\n",
            "\u001b[01m\u001b[Kchar_property.h:40:26:\u001b[m\u001b[K \u001b[01;35m\u001b[Kwarning: \u001b[m\u001b[KISO C++17 does not allow ‘\u001b[01m\u001b[Kregister\u001b[m\u001b[K’ storage class specifier [\u001b[01;35m\u001b[K\u001b]8;;https://gcc.gnu.org/onlinedocs/gcc/Warning-Options.html#index-Wregister\u0007-Wregister\u001b]8;;\u0007\u001b[m\u001b[K]\n",
            "   40 |     register const char *\u001b[01;35m\u001b[Kp\u001b[m\u001b[K =  begin;\n",
            "      |                          \u001b[01;35m\u001b[K^\u001b[m\u001b[K\n",
            "In file included from \u001b[01m\u001b[Ktokenizer.cpp:8\u001b[m\u001b[K:\n",
            "darts.h: In instantiation of ‘\u001b[01m\u001b[Ksize_t MeCab::Darts::DoubleArrayImpl<node_type_, node_u_type_, array_type_, array_u_type_, length_func_>::commonPrefixSearch(const key_type*, T*, size_t, size_t, size_t) const [with T = MeCab::Darts::DoubleArrayImpl<char, unsigned char, int, unsigned int>::result_pair_type; node_type_ = char; node_u_type_ = unsigned char; array_type_ = int; array_u_type_ = unsigned int; length_func_ = MeCab::Darts::Length<char>; size_t = long unsigned int; MeCab::Darts::DoubleArrayImpl<node_type_, node_u_type_, array_type_, array_u_type_, length_func_>::key_type = char]\u001b[m\u001b[K’:\n",
            "\u001b[01m\u001b[Kdictionary.h:37:34:\u001b[m\u001b[K   required from here\n",
            "\u001b[01m\u001b[Kdarts.h:434:27:\u001b[m\u001b[K \u001b[01;35m\u001b[Kwarning: \u001b[m\u001b[KISO C++17 does not allow ‘\u001b[01m\u001b[Kregister\u001b[m\u001b[K’ storage class specifier [\u001b[01;35m\u001b[K\u001b]8;;https://gcc.gnu.org/onlinedocs/gcc/Warning-Options.html#index-Wregister\u0007-Wregister\u001b]8;;\u0007\u001b[m\u001b[K]\n",
            "  434 |     register array_type_  \u001b[01;35m\u001b[Kb\u001b[m\u001b[K   = array_[node_pos].base;\n",
            "      |                           \u001b[01;35m\u001b[K^\u001b[m\u001b[K\n",
            "\u001b[01m\u001b[Kdarts.h:435:25:\u001b[m\u001b[K \u001b[01;35m\u001b[Kwarning: \u001b[m\u001b[KISO C++17 does not allow ‘\u001b[01m\u001b[Kregister\u001b[m\u001b[K’ storage class specifier [\u001b[01;35m\u001b[K\u001b]8;;https://gcc.gnu.org/onlinedocs/gcc/Warning-Options.html#index-Wregister\u0007-Wregister\u001b]8;;\u0007\u001b[m\u001b[K]\n",
            "  435 |     register size_t     \u001b[01;35m\u001b[Knum\u001b[m\u001b[K = 0;\n",
            "      |                         \u001b[01;35m\u001b[K^~~\u001b[m\u001b[K\n",
            "\u001b[01m\u001b[Kdarts.h:436:27:\u001b[m\u001b[K \u001b[01;35m\u001b[Kwarning: \u001b[m\u001b[KISO C++17 does not allow ‘\u001b[01m\u001b[Kregister\u001b[m\u001b[K’ storage class specifier [\u001b[01;35m\u001b[K\u001b]8;;https://gcc.gnu.org/onlinedocs/gcc/Warning-Options.html#index-Wregister\u0007-Wregister\u001b]8;;\u0007\u001b[m\u001b[K]\n",
            "  436 |     register array_type_  \u001b[01;35m\u001b[Kn\u001b[m\u001b[K;\n",
            "      |                           \u001b[01;35m\u001b[K^\u001b[m\u001b[K\n",
            "\u001b[01m\u001b[Kdarts.h:437:28:\u001b[m\u001b[K \u001b[01;35m\u001b[Kwarning: \u001b[m\u001b[KISO C++17 does not allow ‘\u001b[01m\u001b[Kregister\u001b[m\u001b[K’ storage class specifier [\u001b[01;35m\u001b[K\u001b]8;;https://gcc.gnu.org/onlinedocs/gcc/Warning-Options.html#index-Wregister\u0007-Wregister\u001b]8;;\u0007\u001b[m\u001b[K]\n",
            "  437 |     register array_u_type_ \u001b[01;35m\u001b[Kp\u001b[m\u001b[K;\n",
            "      |                            \u001b[01;35m\u001b[K^\u001b[m\u001b[K\n",
            "\u001b[01m\u001b[Kdarts.h:439:26:\u001b[m\u001b[K \u001b[01;35m\u001b[Kwarning: \u001b[m\u001b[KISO C++17 does not allow ‘\u001b[01m\u001b[Kregister\u001b[m\u001b[K’ storage class specifier [\u001b[01;35m\u001b[K\u001b]8;;https://gcc.gnu.org/onlinedocs/gcc/Warning-Options.html#index-Wregister\u0007-Wregister\u001b]8;;\u0007\u001b[m\u001b[K]\n",
            "  439 |     for (register size_t \u001b[01;35m\u001b[Ki\u001b[m\u001b[K = 0; i < len; ++i) {\n",
            "      |                          \u001b[01;35m\u001b[K^\u001b[m\u001b[K\n",
            "darts.h: In instantiation of ‘\u001b[01m\u001b[KT MeCab::Darts::DoubleArrayImpl<node_type_, node_u_type_, array_type_, array_u_type_, length_func_>::exactMatchSearch(const key_type*, size_t, size_t) const [with T = MeCab::Darts::DoubleArrayImpl<char, unsigned char, int, unsigned int>::result_pair_type; node_type_ = char; node_u_type_ = unsigned char; array_type_ = int; array_u_type_ = unsigned int; length_func_ = MeCab::Darts::Length<char>; MeCab::Darts::DoubleArrayImpl<node_type_, node_u_type_, array_type_, array_u_type_, length_func_>::key_type = char; size_t = long unsigned int]\u001b[m\u001b[K’:\n",
            "\u001b[01m\u001b[Kdarts.h:394:33:\u001b[m\u001b[K   required from ‘\u001b[01m\u001b[Kvoid MeCab::Darts::DoubleArrayImpl<node_type_, node_u_type_, array_type_, array_u_type_, length_func_>::exactMatchSearch(const key_type*, T&, size_t, size_t) const [with T = MeCab::Darts::DoubleArrayImpl<char, unsigned char, int, unsigned int>::result_pair_type; node_type_ = char; node_u_type_ = unsigned char; array_type_ = int; array_u_type_ = unsigned int; length_func_ = MeCab::Darts::Length<char>; MeCab::Darts::DoubleArrayImpl<node_type_, node_u_type_, array_type_, array_u_type_, length_func_>::key_type = char; size_t = long unsigned int]\u001b[m\u001b[K’\n",
            "\u001b[01m\u001b[Kdictionary.h:42:25:\u001b[m\u001b[K   required from here\n",
            "\u001b[01m\u001b[Kdarts.h:407:27:\u001b[m\u001b[K \u001b[01;35m\u001b[Kwarning: \u001b[m\u001b[KISO C++17 does not allow ‘\u001b[01m\u001b[Kregister\u001b[m\u001b[K’ storage class specifier [\u001b[01;35m\u001b[K\u001b]8;;https://gcc.gnu.org/onlinedocs/gcc/Warning-Options.html#index-Wregister\u0007-Wregister\u001b]8;;\u0007\u001b[m\u001b[K]\n",
            "  407 |     register array_type_  \u001b[01;35m\u001b[Kb\u001b[m\u001b[K = array_[node_pos].base;\n",
            "      |                           \u001b[01;35m\u001b[K^\u001b[m\u001b[K\n",
            "\u001b[01m\u001b[Kdarts.h:408:28:\u001b[m\u001b[K \u001b[01;35m\u001b[Kwarning: \u001b[m\u001b[KISO C++17 does not allow ‘\u001b[01m\u001b[Kregister\u001b[m\u001b[K’ storage class specifier [\u001b[01;35m\u001b[K\u001b]8;;https://gcc.gnu.org/onlinedocs/gcc/Warning-Options.html#index-Wregister\u0007-Wregister\u001b]8;;\u0007\u001b[m\u001b[K]\n",
            "  408 |     register array_u_type_ \u001b[01;35m\u001b[Kp\u001b[m\u001b[K;\n",
            "      |                            \u001b[01;35m\u001b[K^\u001b[m\u001b[K\n",
            "\u001b[01m\u001b[Kdarts.h:410:26:\u001b[m\u001b[K \u001b[01;35m\u001b[Kwarning: \u001b[m\u001b[KISO C++17 does not allow ‘\u001b[01m\u001b[Kregister\u001b[m\u001b[K’ storage class specifier [\u001b[01;35m\u001b[K\u001b]8;;https://gcc.gnu.org/onlinedocs/gcc/Warning-Options.html#index-Wregister\u0007-Wregister\u001b]8;;\u0007\u001b[m\u001b[K]\n",
            "  410 |     for (register size_t \u001b[01;35m\u001b[Ki\u001b[m\u001b[K = 0; i < len; ++i) {\n",
            "      |                          \u001b[01;35m\u001b[K^\u001b[m\u001b[K\n",
            "In file included from \u001b[01m\u001b[K/usr/include/string.h:535\u001b[m\u001b[K,\n",
            "                 from \u001b[01m\u001b[K/usr/include/c++/11/cstring:42\u001b[m\u001b[K,\n",
            "                 from \u001b[01m\u001b[Kcommon.h:13\u001b[m\u001b[K,\n",
            "                 from \u001b[01m\u001b[Ktokenizer.cpp:6\u001b[m\u001b[K:\n",
            "In function ‘\u001b[01m\u001b[Kchar* strncpy(char*, const char*, size_t)\u001b[m\u001b[K’,\n",
            "    inlined from ‘\u001b[01m\u001b[Kbool MeCab::{anonymous}::partial_match(const char*, const char*)\u001b[m\u001b[K’ at \u001b[01m\u001b[Ktokenizer.cpp:193:15\u001b[m\u001b[K,\n",
            "    inlined from ‘\u001b[01m\u001b[Kbool MeCab::{anonymous}::is_valid_node(const MeCab::Lattice*, N*) [with N = mecab_node_t]\u001b[m\u001b[K’ at \u001b[01m\u001b[Ktokenizer.cpp:224:20\u001b[m\u001b[K:\n",
            "\u001b[01m\u001b[K/usr/include/x86_64-linux-gnu/bits/string_fortified.h:95:34:\u001b[m\u001b[K \u001b[01;35m\u001b[Kwarning: \u001b[m\u001b[K‘\u001b[01m\u001b[Kchar* __builtin_strncpy(char*, const char*, long unsigned int)\u001b[m\u001b[K’ specified bound 8192 equals destination size [\u001b[01;35m\u001b[K\u001b]8;;https://gcc.gnu.org/onlinedocs/gcc/Warning-Options.html#index-Wstringop-truncation\u0007-Wstringop-truncation\u001b]8;;\u0007\u001b[m\u001b[K]\n",
            "   95 |   return \u001b[01;35m\u001b[K__builtin___strncpy_chk (__dest, __src, __len,\u001b[m\u001b[K\n",
            "      |          \u001b[01;35m\u001b[K~~~~~~~~~~~~~~~~~~~~~~~~^~~~~~~~~~~~~~~~~~~~~~\u001b[m\u001b[K\n",
            "   96 | \u001b[01;35m\u001b[K                                  __glibc_objsize (__dest))\u001b[m\u001b[K;\n",
            "      |                                   \u001b[01;35m\u001b[K~~~~~~~~~~~~~~~~~~~~~~~~~\u001b[m\u001b[K\n",
            "In function ‘\u001b[01m\u001b[Kchar* strncpy(char*, const char*, size_t)\u001b[m\u001b[K’,\n",
            "    inlined from ‘\u001b[01m\u001b[Kbool MeCab::{anonymous}::partial_match(const char*, const char*)\u001b[m\u001b[K’ at \u001b[01m\u001b[Ktokenizer.cpp:194:15\u001b[m\u001b[K,\n",
            "    inlined from ‘\u001b[01m\u001b[Kbool MeCab::{anonymous}::is_valid_node(const MeCab::Lattice*, N*) [with N = mecab_node_t]\u001b[m\u001b[K’ at \u001b[01m\u001b[Ktokenizer.cpp:224:20\u001b[m\u001b[K:\n",
            "\u001b[01m\u001b[K/usr/include/x86_64-linux-gnu/bits/string_fortified.h:95:34:\u001b[m\u001b[K \u001b[01;35m\u001b[Kwarning: \u001b[m\u001b[K‘\u001b[01m\u001b[Kchar* __builtin_strncpy(char*, const char*, long unsigned int)\u001b[m\u001b[K’ specified bound 8192 equals destination size [\u001b[01;35m\u001b[K\u001b]8;;https://gcc.gnu.org/onlinedocs/gcc/Warning-Options.html#index-Wstringop-truncation\u0007-Wstringop-truncation\u001b]8;;\u0007\u001b[m\u001b[K]\n",
            "   95 |   return \u001b[01;35m\u001b[K__builtin___strncpy_chk (__dest, __src, __len,\u001b[m\u001b[K\n",
            "      |          \u001b[01;35m\u001b[K~~~~~~~~~~~~~~~~~~~~~~~~^~~~~~~~~~~~~~~~~~~~~~\u001b[m\u001b[K\n",
            "   96 | \u001b[01;35m\u001b[K                                  __glibc_objsize (__dest))\u001b[m\u001b[K;\n",
            "      |                                   \u001b[01;35m\u001b[K~~~~~~~~~~~~~~~~~~~~~~~~~\u001b[m\u001b[K\n",
            "In function ‘\u001b[01m\u001b[Kchar* strncpy(char*, const char*, size_t)\u001b[m\u001b[K’,\n",
            "    inlined from ‘\u001b[01m\u001b[Kbool MeCab::Tokenizer<N, P>::open(const MeCab::Param&) [with N = mecab_learner_node_t; P = mecab_learner_path_t]\u001b[m\u001b[K’ at \u001b[01m\u001b[Ktokenizer.cpp:123:17\u001b[m\u001b[K:\n",
            "\u001b[01m\u001b[K/usr/include/x86_64-linux-gnu/bits/string_fortified.h:95:34:\u001b[m\u001b[K \u001b[01;35m\u001b[Kwarning: \u001b[m\u001b[K‘\u001b[01m\u001b[Kchar* __builtin_strncpy(char*, const char*, long unsigned int)\u001b[m\u001b[K’ specified bound 8192 equals destination size [\u001b[01;35m\u001b[K\u001b]8;;https://gcc.gnu.org/onlinedocs/gcc/Warning-Options.html#index-Wstringop-truncation\u0007-Wstringop-truncation\u001b]8;;\u0007\u001b[m\u001b[K]\n",
            "   95 |   return \u001b[01;35m\u001b[K__builtin___strncpy_chk (__dest, __src, __len,\u001b[m\u001b[K\n",
            "      |          \u001b[01;35m\u001b[K~~~~~~~~~~~~~~~~~~~~~~~~^~~~~~~~~~~~~~~~~~~~~~\u001b[m\u001b[K\n",
            "   96 | \u001b[01;35m\u001b[K                                  __glibc_objsize (__dest))\u001b[m\u001b[K;\n",
            "      |                                   \u001b[01;35m\u001b[K~~~~~~~~~~~~~~~~~~~~~~~~~\u001b[m\u001b[K\n",
            "In function ‘\u001b[01m\u001b[Kchar* strncpy(char*, const char*, size_t)\u001b[m\u001b[K’,\n",
            "    inlined from ‘\u001b[01m\u001b[Kbool MeCab::Tokenizer<N, P>::open(const MeCab::Param&) [with N = mecab_node_t; P = mecab_path_t]\u001b[m\u001b[K’ at \u001b[01m\u001b[Ktokenizer.cpp:123:17\u001b[m\u001b[K:\n",
            "\u001b[01m\u001b[K/usr/include/x86_64-linux-gnu/bits/string_fortified.h:95:34:\u001b[m\u001b[K \u001b[01;35m\u001b[Kwarning: \u001b[m\u001b[K‘\u001b[01m\u001b[Kchar* __builtin_strncpy(char*, const char*, long unsigned int)\u001b[m\u001b[K’ specified bound 8192 equals destination size [\u001b[01;35m\u001b[K\u001b]8;;https://gcc.gnu.org/onlinedocs/gcc/Warning-Options.html#index-Wstringop-truncation\u0007-Wstringop-truncation\u001b]8;;\u0007\u001b[m\u001b[K]\n",
            "   95 |   return \u001b[01;35m\u001b[K__builtin___strncpy_chk (__dest, __src, __len,\u001b[m\u001b[K\n",
            "      |          \u001b[01;35m\u001b[K~~~~~~~~~~~~~~~~~~~~~~~~^~~~~~~~~~~~~~~~~~~~~~\u001b[m\u001b[K\n",
            "   96 | \u001b[01;35m\u001b[K                                  __glibc_objsize (__dest))\u001b[m\u001b[K;\n",
            "      |                                   \u001b[01;35m\u001b[K~~~~~~~~~~~~~~~~~~~~~~~~~\u001b[m\u001b[K\n",
            "libtool: compile:  g++ -DHAVE_CONFIG_H -I. -I.. -DDIC_VERSION=102 -DMECAB_DEFAULT_RC=\\\"/usr/local/etc/mecabrc\\\" -O3 -Wall -c tokenizer.cpp -o tokenizer.o >/dev/null 2>&1\n",
            "/bin/bash ../libtool --tag=CXX   --mode=compile g++ -DHAVE_CONFIG_H -I. -I.. -DDIC_VERSION=102   -DMECAB_DEFAULT_RC=\"\\\"/usr/local/etc/mecabrc\\\"\"    -O3 -Wall  -c -o char_property.lo char_property.cpp\n",
            "libtool: compile:  g++ -DHAVE_CONFIG_H -I. -I.. -DDIC_VERSION=102 -DMECAB_DEFAULT_RC=\\\"/usr/local/etc/mecabrc\\\" -O3 -Wall -c char_property.cpp  -fPIC -DPIC -o .libs/char_property.o\n",
            "In file included from \u001b[01m\u001b[Kchar_property.cpp:11\u001b[m\u001b[K:\n",
            "\u001b[01m\u001b[Kchar_property.h:\u001b[m\u001b[K In member function ‘\u001b[01m\u001b[Kconst char* MeCab::CharProperty::seekToOtherType(const char*, const char*, MeCab::CharInfo, MeCab::CharInfo*, size_t*, size_t*) const\u001b[m\u001b[K’:\n",
            "\u001b[01m\u001b[Kchar_property.h:40:26:\u001b[m\u001b[K \u001b[01;35m\u001b[Kwarning: \u001b[m\u001b[KISO C++17 does not allow ‘\u001b[01m\u001b[Kregister\u001b[m\u001b[K’ storage class specifier [\u001b[01;35m\u001b[K\u001b]8;;https://gcc.gnu.org/onlinedocs/gcc/Warning-Options.html#index-Wregister\u0007-Wregister\u001b]8;;\u0007\u001b[m\u001b[K]\n",
            "   40 |     register const char *\u001b[01;35m\u001b[Kp\u001b[m\u001b[K =  begin;\n",
            "      |                          \u001b[01;35m\u001b[K^\u001b[m\u001b[K\n",
            "\u001b[01m\u001b[Kchar_property.cpp:\u001b[m\u001b[K In static member function ‘\u001b[01m\u001b[Kstatic bool MeCab::CharProperty::compile(const char*, const char*, const char*)\u001b[m\u001b[K’:\n",
            "\u001b[01m\u001b[Kchar_property.cpp:194:18:\u001b[m\u001b[K \u001b[01;35m\u001b[Kwarning: \u001b[m\u001b[K‘\u001b[01m\u001b[Kvoid* memset(void*, int, size_t)\u001b[m\u001b[K’ clearing an object of non-trivial type ‘\u001b[01m\u001b[Kstruct MeCab::CharInfo\u001b[m\u001b[K’; use assignment or value-initialization instead [\u001b[01;35m\u001b[K\u001b]8;;https://gcc.gnu.org/onlinedocs/gcc/Warning-Options.html#index-Wclass-memaccess\u0007-Wclass-memaccess\u001b]8;;\u0007\u001b[m\u001b[K]\n",
            "  194 |       \u001b[01;35m\u001b[Kstd::memset(&c, 0, sizeof(c))\u001b[m\u001b[K;\n",
            "      |       \u001b[01;35m\u001b[K~~~~~~~~~~~^~~~~~~~~~~~~~~~~~\u001b[m\u001b[K\n",
            "In file included from \u001b[01m\u001b[Kchar_property.cpp:11\u001b[m\u001b[K:\n",
            "\u001b[01m\u001b[Kchar_property.h:16:8:\u001b[m\u001b[K \u001b[01;36m\u001b[Knote: \u001b[m\u001b[K‘\u001b[01m\u001b[Kstruct MeCab::CharInfo\u001b[m\u001b[K’ declared here\n",
            "   16 | struct \u001b[01;36m\u001b[KCharInfo\u001b[m\u001b[K {\n",
            "      |        \u001b[01;36m\u001b[K^~~~~~~~\u001b[m\u001b[K\n",
            "libtool: compile:  g++ -DHAVE_CONFIG_H -I. -I.. -DDIC_VERSION=102 -DMECAB_DEFAULT_RC=\\\"/usr/local/etc/mecabrc\\\" -O3 -Wall -c char_property.cpp -o char_property.o >/dev/null 2>&1\n",
            "/bin/bash ../libtool --tag=CXX   --mode=compile g++ -DHAVE_CONFIG_H -I. -I.. -DDIC_VERSION=102   -DMECAB_DEFAULT_RC=\"\\\"/usr/local/etc/mecabrc\\\"\"    -O3 -Wall  -c -o dictionary.lo dictionary.cpp\n",
            "libtool: compile:  g++ -DHAVE_CONFIG_H -I. -I.. -DDIC_VERSION=102 -DMECAB_DEFAULT_RC=\\\"/usr/local/etc/mecabrc\\\" -O3 -Wall -c dictionary.cpp  -fPIC -DPIC -o .libs/dictionary.o\n",
            "In file included from \u001b[01m\u001b[Kdictionary.cpp:10\u001b[m\u001b[K:\n",
            "\u001b[01m\u001b[Kchar_property.h:\u001b[m\u001b[K In member function ‘\u001b[01m\u001b[Kconst char* MeCab::CharProperty::seekToOtherType(const char*, const char*, MeCab::CharInfo, MeCab::CharInfo*, size_t*, size_t*) const\u001b[m\u001b[K’:\n",
            "\u001b[01m\u001b[Kchar_property.h:40:26:\u001b[m\u001b[K \u001b[01;35m\u001b[Kwarning: \u001b[m\u001b[KISO C++17 does not allow ‘\u001b[01m\u001b[Kregister\u001b[m\u001b[K’ storage class specifier [\u001b[01;35m\u001b[K\u001b]8;;https://gcc.gnu.org/onlinedocs/gcc/Warning-Options.html#index-Wregister\u0007-Wregister\u001b]8;;\u0007\u001b[m\u001b[K]\n",
            "   40 |     register const char *\u001b[01;35m\u001b[Kp\u001b[m\u001b[K =  begin;\n",
            "      |                          \u001b[01;35m\u001b[K^\u001b[m\u001b[K\n",
            "In file included from \u001b[01m\u001b[Kdictionary.h:11\u001b[m\u001b[K,\n",
            "                 from \u001b[01m\u001b[Kdictionary.cpp:12\u001b[m\u001b[K:\n",
            "\u001b[01m\u001b[Kdarts.h:\u001b[m\u001b[K In member function ‘\u001b[01m\u001b[KT MeCab::Darts::DoubleArrayImpl<node_type_, node_u_type_, array_type_, array_u_type_, length_func_>::exactMatchSearch(const key_type*, size_t, size_t) const\u001b[m\u001b[K’:\n",
            "\u001b[01m\u001b[Kdarts.h:407:27:\u001b[m\u001b[K \u001b[01;35m\u001b[Kwarning: \u001b[m\u001b[KISO C++17 does not allow ‘\u001b[01m\u001b[Kregister\u001b[m\u001b[K’ storage class specifier [\u001b[01;35m\u001b[K\u001b]8;;https://gcc.gnu.org/onlinedocs/gcc/Warning-Options.html#index-Wregister\u0007-Wregister\u001b]8;;\u0007\u001b[m\u001b[K]\n",
            "  407 |     register array_type_  \u001b[01;35m\u001b[Kb\u001b[m\u001b[K = array_[node_pos].base;\n",
            "      |                           \u001b[01;35m\u001b[K^\u001b[m\u001b[K\n",
            "\u001b[01m\u001b[Kdarts.h:408:28:\u001b[m\u001b[K \u001b[01;35m\u001b[Kwarning: \u001b[m\u001b[KISO C++17 does not allow ‘\u001b[01m\u001b[Kregister\u001b[m\u001b[K’ storage class specifier [\u001b[01;35m\u001b[K\u001b]8;;https://gcc.gnu.org/onlinedocs/gcc/Warning-Options.html#index-Wregister\u0007-Wregister\u001b]8;;\u0007\u001b[m\u001b[K]\n",
            "  408 |     register array_u_type_ \u001b[01;35m\u001b[Kp\u001b[m\u001b[K;\n",
            "      |                            \u001b[01;35m\u001b[K^\u001b[m\u001b[K\n",
            "\u001b[01m\u001b[Kdarts.h:410:26:\u001b[m\u001b[K \u001b[01;35m\u001b[Kwarning: \u001b[m\u001b[KISO C++17 does not allow ‘\u001b[01m\u001b[Kregister\u001b[m\u001b[K’ storage class specifier [\u001b[01;35m\u001b[K\u001b]8;;https://gcc.gnu.org/onlinedocs/gcc/Warning-Options.html#index-Wregister\u0007-Wregister\u001b]8;;\u0007\u001b[m\u001b[K]\n",
            "  410 |     for (register size_t \u001b[01;35m\u001b[Ki\u001b[m\u001b[K = 0; i < len; ++i) {\n",
            "      |                          \u001b[01;35m\u001b[K^\u001b[m\u001b[K\n",
            "\u001b[01m\u001b[Kdarts.h:\u001b[m\u001b[K In member function ‘\u001b[01m\u001b[Ksize_t MeCab::Darts::DoubleArrayImpl<node_type_, node_u_type_, array_type_, array_u_type_, length_func_>::commonPrefixSearch(const key_type*, T*, size_t, size_t, size_t) const\u001b[m\u001b[K’:\n",
            "\u001b[01m\u001b[Kdarts.h:434:27:\u001b[m\u001b[K \u001b[01;35m\u001b[Kwarning: \u001b[m\u001b[KISO C++17 does not allow ‘\u001b[01m\u001b[Kregister\u001b[m\u001b[K’ storage class specifier [\u001b[01;35m\u001b[K\u001b]8;;https://gcc.gnu.org/onlinedocs/gcc/Warning-Options.html#index-Wregister\u0007-Wregister\u001b]8;;\u0007\u001b[m\u001b[K]\n",
            "  434 |     register array_type_  \u001b[01;35m\u001b[Kb\u001b[m\u001b[K   = array_[node_pos].base;\n",
            "      |                           \u001b[01;35m\u001b[K^\u001b[m\u001b[K\n",
            "\u001b[01m\u001b[Kdarts.h:435:25:\u001b[m\u001b[K \u001b[01;35m\u001b[Kwarning: \u001b[m\u001b[KISO C++17 does not allow ‘\u001b[01m\u001b[Kregister\u001b[m\u001b[K’ storage class specifier [\u001b[01;35m\u001b[K\u001b]8;;https://gcc.gnu.org/onlinedocs/gcc/Warning-Options.html#index-Wregister\u0007-Wregister\u001b]8;;\u0007\u001b[m\u001b[K]\n",
            "  435 |     register size_t     \u001b[01;35m\u001b[Knum\u001b[m\u001b[K = 0;\n",
            "      |                         \u001b[01;35m\u001b[K^~~\u001b[m\u001b[K\n",
            "\u001b[01m\u001b[Kdarts.h:436:27:\u001b[m\u001b[K \u001b[01;35m\u001b[Kwarning: \u001b[m\u001b[KISO C++17 does not allow ‘\u001b[01m\u001b[Kregister\u001b[m\u001b[K’ storage class specifier [\u001b[01;35m\u001b[K\u001b]8;;https://gcc.gnu.org/onlinedocs/gcc/Warning-Options.html#index-Wregister\u0007-Wregister\u001b]8;;\u0007\u001b[m\u001b[K]\n",
            "  436 |     register array_type_  \u001b[01;35m\u001b[Kn\u001b[m\u001b[K;\n",
            "      |                           \u001b[01;35m\u001b[K^\u001b[m\u001b[K\n",
            "\u001b[01m\u001b[Kdarts.h:437:28:\u001b[m\u001b[K \u001b[01;35m\u001b[Kwarning: \u001b[m\u001b[KISO C++17 does not allow ‘\u001b[01m\u001b[Kregister\u001b[m\u001b[K’ storage class specifier [\u001b[01;35m\u001b[K\u001b]8;;https://gcc.gnu.org/onlinedocs/gcc/Warning-Options.html#index-Wregister\u0007-Wregister\u001b]8;;\u0007\u001b[m\u001b[K]\n",
            "  437 |     register array_u_type_ \u001b[01;35m\u001b[Kp\u001b[m\u001b[K;\n",
            "      |                            \u001b[01;35m\u001b[K^\u001b[m\u001b[K\n",
            "\u001b[01m\u001b[Kdarts.h:439:26:\u001b[m\u001b[K \u001b[01;35m\u001b[Kwarning: \u001b[m\u001b[KISO C++17 does not allow ‘\u001b[01m\u001b[Kregister\u001b[m\u001b[K’ storage class specifier [\u001b[01;35m\u001b[K\u001b]8;;https://gcc.gnu.org/onlinedocs/gcc/Warning-Options.html#index-Wregister\u0007-Wregister\u001b]8;;\u0007\u001b[m\u001b[K]\n",
            "  439 |     for (register size_t \u001b[01;35m\u001b[Ki\u001b[m\u001b[K = 0; i < len; ++i) {\n",
            "      |                          \u001b[01;35m\u001b[K^\u001b[m\u001b[K\n",
            "\u001b[01m\u001b[Kdarts.h:\u001b[m\u001b[K In member function ‘\u001b[01m\u001b[KMeCab::Darts::DoubleArrayImpl<node_type_, node_u_type_, array_type_, array_u_type_, length_func_>::value_type MeCab::Darts::DoubleArrayImpl<node_type_, node_u_type_, array_type_, array_u_type_, length_func_>::traverse(const key_type*, size_t&, size_t&, size_t) const\u001b[m\u001b[K’:\n",
            "\u001b[01m\u001b[Kdarts.h:472:27:\u001b[m\u001b[K \u001b[01;35m\u001b[Kwarning: \u001b[m\u001b[KISO C++17 does not allow ‘\u001b[01m\u001b[Kregister\u001b[m\u001b[K’ storage class specifier [\u001b[01;35m\u001b[K\u001b]8;;https://gcc.gnu.org/onlinedocs/gcc/Warning-Options.html#index-Wregister\u0007-Wregister\u001b]8;;\u0007\u001b[m\u001b[K]\n",
            "  472 |     register array_type_  \u001b[01;35m\u001b[Kb\u001b[m\u001b[K = array_[node_pos].base;\n",
            "      |                           \u001b[01;35m\u001b[K^\u001b[m\u001b[K\n",
            "\u001b[01m\u001b[Kdarts.h:473:28:\u001b[m\u001b[K \u001b[01;35m\u001b[Kwarning: \u001b[m\u001b[KISO C++17 does not allow ‘\u001b[01m\u001b[Kregister\u001b[m\u001b[K’ storage class specifier [\u001b[01;35m\u001b[K\u001b]8;;https://gcc.gnu.org/onlinedocs/gcc/Warning-Options.html#index-Wregister\u0007-Wregister\u001b]8;;\u0007\u001b[m\u001b[K]\n",
            "  473 |     register array_u_type_ \u001b[01;35m\u001b[Kp\u001b[m\u001b[K;\n",
            "      |                            \u001b[01;35m\u001b[K^\u001b[m\u001b[K\n",
            "darts.h: In instantiation of ‘\u001b[01m\u001b[Ksize_t MeCab::Darts::DoubleArrayImpl<node_type_, node_u_type_, array_type_, array_u_type_, length_func_>::commonPrefixSearch(const key_type*, T*, size_t, size_t, size_t) const [with T = MeCab::Darts::DoubleArrayImpl<char, unsigned char, int, unsigned int>::result_pair_type; node_type_ = char; node_u_type_ = unsigned char; array_type_ = int; array_u_type_ = unsigned int; length_func_ = MeCab::Darts::Length<char>; size_t = long unsigned int; MeCab::Darts::DoubleArrayImpl<node_type_, node_u_type_, array_type_, array_u_type_, length_func_>::key_type = char]\u001b[m\u001b[K’:\n",
            "\u001b[01m\u001b[Kdictionary.h:37:34:\u001b[m\u001b[K   required from here\n",
            "\u001b[01m\u001b[Kdarts.h:434:27:\u001b[m\u001b[K \u001b[01;35m\u001b[Kwarning: \u001b[m\u001b[KISO C++17 does not allow ‘\u001b[01m\u001b[Kregister\u001b[m\u001b[K’ storage class specifier [\u001b[01;35m\u001b[K\u001b]8;;https://gcc.gnu.org/onlinedocs/gcc/Warning-Options.html#index-Wregister\u0007-Wregister\u001b]8;;\u0007\u001b[m\u001b[K]\n",
            "  434 |     register array_type_  \u001b[01;35m\u001b[Kb\u001b[m\u001b[K   = array_[node_pos].base;\n",
            "      |                           \u001b[01;35m\u001b[K^\u001b[m\u001b[K\n",
            "\u001b[01m\u001b[Kdarts.h:435:25:\u001b[m\u001b[K \u001b[01;35m\u001b[Kwarning: \u001b[m\u001b[KISO C++17 does not allow ‘\u001b[01m\u001b[Kregister\u001b[m\u001b[K’ storage class specifier [\u001b[01;35m\u001b[K\u001b]8;;https://gcc.gnu.org/onlinedocs/gcc/Warning-Options.html#index-Wregister\u0007-Wregister\u001b]8;;\u0007\u001b[m\u001b[K]\n",
            "  435 |     register size_t     \u001b[01;35m\u001b[Knum\u001b[m\u001b[K = 0;\n",
            "      |                         \u001b[01;35m\u001b[K^~~\u001b[m\u001b[K\n",
            "\u001b[01m\u001b[Kdarts.h:436:27:\u001b[m\u001b[K \u001b[01;35m\u001b[Kwarning: \u001b[m\u001b[KISO C++17 does not allow ‘\u001b[01m\u001b[Kregister\u001b[m\u001b[K’ storage class specifier [\u001b[01;35m\u001b[K\u001b]8;;https://gcc.gnu.org/onlinedocs/gcc/Warning-Options.html#index-Wregister\u0007-Wregister\u001b]8;;\u0007\u001b[m\u001b[K]\n",
            "  436 |     register array_type_  \u001b[01;35m\u001b[Kn\u001b[m\u001b[K;\n",
            "      |                           \u001b[01;35m\u001b[K^\u001b[m\u001b[K\n",
            "\u001b[01m\u001b[Kdarts.h:437:28:\u001b[m\u001b[K \u001b[01;35m\u001b[Kwarning: \u001b[m\u001b[KISO C++17 does not allow ‘\u001b[01m\u001b[Kregister\u001b[m\u001b[K’ storage class specifier [\u001b[01;35m\u001b[K\u001b]8;;https://gcc.gnu.org/onlinedocs/gcc/Warning-Options.html#index-Wregister\u0007-Wregister\u001b]8;;\u0007\u001b[m\u001b[K]\n",
            "  437 |     register array_u_type_ \u001b[01;35m\u001b[Kp\u001b[m\u001b[K;\n",
            "      |                            \u001b[01;35m\u001b[K^\u001b[m\u001b[K\n",
            "\u001b[01m\u001b[Kdarts.h:439:26:\u001b[m\u001b[K \u001b[01;35m\u001b[Kwarning: \u001b[m\u001b[KISO C++17 does not allow ‘\u001b[01m\u001b[Kregister\u001b[m\u001b[K’ storage class specifier [\u001b[01;35m\u001b[K\u001b]8;;https://gcc.gnu.org/onlinedocs/gcc/Warning-Options.html#index-Wregister\u0007-Wregister\u001b]8;;\u0007\u001b[m\u001b[K]\n",
            "  439 |     for (register size_t \u001b[01;35m\u001b[Ki\u001b[m\u001b[K = 0; i < len; ++i) {\n",
            "      |                          \u001b[01;35m\u001b[K^\u001b[m\u001b[K\n",
            "darts.h: In instantiation of ‘\u001b[01m\u001b[KT MeCab::Darts::DoubleArrayImpl<node_type_, node_u_type_, array_type_, array_u_type_, length_func_>::exactMatchSearch(const key_type*, size_t, size_t) const [with T = MeCab::Darts::DoubleArrayImpl<char, unsigned char, int, unsigned int>::result_pair_type; node_type_ = char; node_u_type_ = unsigned char; array_type_ = int; array_u_type_ = unsigned int; length_func_ = MeCab::Darts::Length<char>; MeCab::Darts::DoubleArrayImpl<node_type_, node_u_type_, array_type_, array_u_type_, length_func_>::key_type = char; size_t = long unsigned int]\u001b[m\u001b[K’:\n",
            "\u001b[01m\u001b[Kdarts.h:394:33:\u001b[m\u001b[K   required from ‘\u001b[01m\u001b[Kvoid MeCab::Darts::DoubleArrayImpl<node_type_, node_u_type_, array_type_, array_u_type_, length_func_>::exactMatchSearch(const key_type*, T&, size_t, size_t) const [with T = MeCab::Darts::DoubleArrayImpl<char, unsigned char, int, unsigned int>::result_pair_type; node_type_ = char; node_u_type_ = unsigned char; array_type_ = int; array_u_type_ = unsigned int; length_func_ = MeCab::Darts::Length<char>; MeCab::Darts::DoubleArrayImpl<node_type_, node_u_type_, array_type_, array_u_type_, length_func_>::key_type = char; size_t = long unsigned int]\u001b[m\u001b[K’\n",
            "\u001b[01m\u001b[Kdictionary.h:42:25:\u001b[m\u001b[K   required from here\n",
            "\u001b[01m\u001b[Kdarts.h:407:27:\u001b[m\u001b[K \u001b[01;35m\u001b[Kwarning: \u001b[m\u001b[KISO C++17 does not allow ‘\u001b[01m\u001b[Kregister\u001b[m\u001b[K’ storage class specifier [\u001b[01;35m\u001b[K\u001b]8;;https://gcc.gnu.org/onlinedocs/gcc/Warning-Options.html#index-Wregister\u0007-Wregister\u001b]8;;\u0007\u001b[m\u001b[K]\n",
            "  407 |     register array_type_  \u001b[01;35m\u001b[Kb\u001b[m\u001b[K = array_[node_pos].base;\n",
            "      |                           \u001b[01;35m\u001b[K^\u001b[m\u001b[K\n",
            "\u001b[01m\u001b[Kdarts.h:408:28:\u001b[m\u001b[K \u001b[01;35m\u001b[Kwarning: \u001b[m\u001b[KISO C++17 does not allow ‘\u001b[01m\u001b[Kregister\u001b[m\u001b[K’ storage class specifier [\u001b[01;35m\u001b[K\u001b]8;;https://gcc.gnu.org/onlinedocs/gcc/Warning-Options.html#index-Wregister\u0007-Wregister\u001b]8;;\u0007\u001b[m\u001b[K]\n",
            "  408 |     register array_u_type_ \u001b[01;35m\u001b[Kp\u001b[m\u001b[K;\n",
            "      |                            \u001b[01;35m\u001b[K^\u001b[m\u001b[K\n",
            "\u001b[01m\u001b[Kdarts.h:410:26:\u001b[m\u001b[K \u001b[01;35m\u001b[Kwarning: \u001b[m\u001b[KISO C++17 does not allow ‘\u001b[01m\u001b[Kregister\u001b[m\u001b[K’ storage class specifier [\u001b[01;35m\u001b[K\u001b]8;;https://gcc.gnu.org/onlinedocs/gcc/Warning-Options.html#index-Wregister\u0007-Wregister\u001b]8;;\u0007\u001b[m\u001b[K]\n",
            "  410 |     for (register size_t \u001b[01;35m\u001b[Ki\u001b[m\u001b[K = 0; i < len; ++i) {\n",
            "      |                          \u001b[01;35m\u001b[K^\u001b[m\u001b[K\n",
            "libtool: compile:  g++ -DHAVE_CONFIG_H -I. -I.. -DDIC_VERSION=102 -DMECAB_DEFAULT_RC=\\\"/usr/local/etc/mecabrc\\\" -O3 -Wall -c dictionary.cpp -o dictionary.o >/dev/null 2>&1\n",
            "/bin/bash ../libtool --tag=CXX   --mode=compile g++ -DHAVE_CONFIG_H -I. -I.. -DDIC_VERSION=102   -DMECAB_DEFAULT_RC=\"\\\"/usr/local/etc/mecabrc\\\"\"    -O3 -Wall  -c -o feature_index.lo feature_index.cpp\n",
            "libtool: compile:  g++ -DHAVE_CONFIG_H -I. -I.. -DDIC_VERSION=102 -DMECAB_DEFAULT_RC=\\\"/usr/local/etc/mecabrc\\\" -O3 -Wall -c feature_index.cpp  -fPIC -DPIC -o .libs/feature_index.o\n",
            "In file included from \u001b[01m\u001b[Kfeature_index.h:13\u001b[m\u001b[K,\n",
            "                 from \u001b[01m\u001b[Kfeature_index.cpp:11\u001b[m\u001b[K:\n",
            "\u001b[01m\u001b[Kdarts.h:\u001b[m\u001b[K In member function ‘\u001b[01m\u001b[KT MeCab::Darts::DoubleArrayImpl<node_type_, node_u_type_, array_type_, array_u_type_, length_func_>::exactMatchSearch(const key_type*, size_t, size_t) const\u001b[m\u001b[K’:\n",
            "\u001b[01m\u001b[Kdarts.h:407:27:\u001b[m\u001b[K \u001b[01;35m\u001b[Kwarning: \u001b[m\u001b[KISO C++17 does not allow ‘\u001b[01m\u001b[Kregister\u001b[m\u001b[K’ storage class specifier [\u001b[01;35m\u001b[K\u001b]8;;https://gcc.gnu.org/onlinedocs/gcc/Warning-Options.html#index-Wregister\u0007-Wregister\u001b]8;;\u0007\u001b[m\u001b[K]\n",
            "  407 |     register array_type_  \u001b[01;35m\u001b[Kb\u001b[m\u001b[K = array_[node_pos].base;\n",
            "      |                           \u001b[01;35m\u001b[K^\u001b[m\u001b[K\n",
            "\u001b[01m\u001b[Kdarts.h:408:28:\u001b[m\u001b[K \u001b[01;35m\u001b[Kwarning: \u001b[m\u001b[KISO C++17 does not allow ‘\u001b[01m\u001b[Kregister\u001b[m\u001b[K’ storage class specifier [\u001b[01;35m\u001b[K\u001b]8;;https://gcc.gnu.org/onlinedocs/gcc/Warning-Options.html#index-Wregister\u0007-Wregister\u001b]8;;\u0007\u001b[m\u001b[K]\n",
            "  408 |     register array_u_type_ \u001b[01;35m\u001b[Kp\u001b[m\u001b[K;\n",
            "      |                            \u001b[01;35m\u001b[K^\u001b[m\u001b[K\n",
            "\u001b[01m\u001b[Kdarts.h:410:26:\u001b[m\u001b[K \u001b[01;35m\u001b[Kwarning: \u001b[m\u001b[KISO C++17 does not allow ‘\u001b[01m\u001b[Kregister\u001b[m\u001b[K’ storage class specifier [\u001b[01;35m\u001b[K\u001b]8;;https://gcc.gnu.org/onlinedocs/gcc/Warning-Options.html#index-Wregister\u0007-Wregister\u001b]8;;\u0007\u001b[m\u001b[K]\n",
            "  410 |     for (register size_t \u001b[01;35m\u001b[Ki\u001b[m\u001b[K = 0; i < len; ++i) {\n",
            "      |                          \u001b[01;35m\u001b[K^\u001b[m\u001b[K\n",
            "\u001b[01m\u001b[Kdarts.h:\u001b[m\u001b[K In member function ‘\u001b[01m\u001b[Ksize_t MeCab::Darts::DoubleArrayImpl<node_type_, node_u_type_, array_type_, array_u_type_, length_func_>::commonPrefixSearch(const key_type*, T*, size_t, size_t, size_t) const\u001b[m\u001b[K’:\n",
            "\u001b[01m\u001b[Kdarts.h:434:27:\u001b[m\u001b[K \u001b[01;35m\u001b[Kwarning: \u001b[m\u001b[KISO C++17 does not allow ‘\u001b[01m\u001b[Kregister\u001b[m\u001b[K’ storage class specifier [\u001b[01;35m\u001b[K\u001b]8;;https://gcc.gnu.org/onlinedocs/gcc/Warning-Options.html#index-Wregister\u0007-Wregister\u001b]8;;\u0007\u001b[m\u001b[K]\n",
            "  434 |     register array_type_  \u001b[01;35m\u001b[Kb\u001b[m\u001b[K   = array_[node_pos].base;\n",
            "      |                           \u001b[01;35m\u001b[K^\u001b[m\u001b[K\n",
            "\u001b[01m\u001b[Kdarts.h:435:25:\u001b[m\u001b[K \u001b[01;35m\u001b[Kwarning: \u001b[m\u001b[KISO C++17 does not allow ‘\u001b[01m\u001b[Kregister\u001b[m\u001b[K’ storage class specifier [\u001b[01;35m\u001b[K\u001b]8;;https://gcc.gnu.org/onlinedocs/gcc/Warning-Options.html#index-Wregister\u0007-Wregister\u001b]8;;\u0007\u001b[m\u001b[K]\n",
            "  435 |     register size_t     \u001b[01;35m\u001b[Knum\u001b[m\u001b[K = 0;\n",
            "      |                         \u001b[01;35m\u001b[K^~~\u001b[m\u001b[K\n",
            "\u001b[01m\u001b[Kdarts.h:436:27:\u001b[m\u001b[K \u001b[01;35m\u001b[Kwarning: \u001b[m\u001b[KISO C++17 does not allow ‘\u001b[01m\u001b[Kregister\u001b[m\u001b[K’ storage class specifier [\u001b[01;35m\u001b[K\u001b]8;;https://gcc.gnu.org/onlinedocs/gcc/Warning-Options.html#index-Wregister\u0007-Wregister\u001b]8;;\u0007\u001b[m\u001b[K]\n",
            "  436 |     register array_type_  \u001b[01;35m\u001b[Kn\u001b[m\u001b[K;\n",
            "      |                           \u001b[01;35m\u001b[K^\u001b[m\u001b[K\n",
            "\u001b[01m\u001b[Kdarts.h:437:28:\u001b[m\u001b[K \u001b[01;35m\u001b[Kwarning: \u001b[m\u001b[KISO C++17 does not allow ‘\u001b[01m\u001b[Kregister\u001b[m\u001b[K’ storage class specifier [\u001b[01;35m\u001b[K\u001b]8;;https://gcc.gnu.org/onlinedocs/gcc/Warning-Options.html#index-Wregister\u0007-Wregister\u001b]8;;\u0007\u001b[m\u001b[K]\n",
            "  437 |     register array_u_type_ \u001b[01;35m\u001b[Kp\u001b[m\u001b[K;\n",
            "      |                            \u001b[01;35m\u001b[K^\u001b[m\u001b[K\n",
            "\u001b[01m\u001b[Kdarts.h:439:26:\u001b[m\u001b[K \u001b[01;35m\u001b[Kwarning: \u001b[m\u001b[KISO C++17 does not allow ‘\u001b[01m\u001b[Kregister\u001b[m\u001b[K’ storage class specifier [\u001b[01;35m\u001b[K\u001b]8;;https://gcc.gnu.org/onlinedocs/gcc/Warning-Options.html#index-Wregister\u0007-Wregister\u001b]8;;\u0007\u001b[m\u001b[K]\n",
            "  439 |     for (register size_t \u001b[01;35m\u001b[Ki\u001b[m\u001b[K = 0; i < len; ++i) {\n",
            "      |                          \u001b[01;35m\u001b[K^\u001b[m\u001b[K\n",
            "\u001b[01m\u001b[Kdarts.h:\u001b[m\u001b[K In member function ‘\u001b[01m\u001b[KMeCab::Darts::DoubleArrayImpl<node_type_, node_u_type_, array_type_, array_u_type_, length_func_>::value_type MeCab::Darts::DoubleArrayImpl<node_type_, node_u_type_, array_type_, array_u_type_, length_func_>::traverse(const key_type*, size_t&, size_t&, size_t) const\u001b[m\u001b[K’:\n",
            "\u001b[01m\u001b[Kdarts.h:472:27:\u001b[m\u001b[K \u001b[01;35m\u001b[Kwarning: \u001b[m\u001b[KISO C++17 does not allow ‘\u001b[01m\u001b[Kregister\u001b[m\u001b[K’ storage class specifier [\u001b[01;35m\u001b[K\u001b]8;;https://gcc.gnu.org/onlinedocs/gcc/Warning-Options.html#index-Wregister\u0007-Wregister\u001b]8;;\u0007\u001b[m\u001b[K]\n",
            "  472 |     register array_type_  \u001b[01;35m\u001b[Kb\u001b[m\u001b[K = array_[node_pos].base;\n",
            "      |                           \u001b[01;35m\u001b[K^\u001b[m\u001b[K\n",
            "\u001b[01m\u001b[Kdarts.h:473:28:\u001b[m\u001b[K \u001b[01;35m\u001b[Kwarning: \u001b[m\u001b[KISO C++17 does not allow ‘\u001b[01m\u001b[Kregister\u001b[m\u001b[K’ storage class specifier [\u001b[01;35m\u001b[K\u001b]8;;https://gcc.gnu.org/onlinedocs/gcc/Warning-Options.html#index-Wregister\u0007-Wregister\u001b]8;;\u0007\u001b[m\u001b[K]\n",
            "  473 |     register array_u_type_ \u001b[01;35m\u001b[Kp\u001b[m\u001b[K;\n",
            "      |                            \u001b[01;35m\u001b[K^\u001b[m\u001b[K\n",
            "In file included from \u001b[01m\u001b[K/usr/include/string.h:535\u001b[m\u001b[K,\n",
            "                 from \u001b[01m\u001b[K/usr/include/c++/11/cstring:42\u001b[m\u001b[K,\n",
            "                 from \u001b[01m\u001b[Kfeature_index.cpp:7\u001b[m\u001b[K:\n",
            "In function ‘\u001b[01m\u001b[Kchar* strncpy(char*, const char*, size_t)\u001b[m\u001b[K’,\n",
            "    inlined from ‘\u001b[01m\u001b[Kbool MeCab::FeatureIndex::buildUnigramFeature(MeCab::LearnerPath*, const char*)\u001b[m\u001b[K’ at \u001b[01m\u001b[Kfeature_index.cpp:337:15\u001b[m\u001b[K:\n",
            "\u001b[01m\u001b[K/usr/include/x86_64-linux-gnu/bits/string_fortified.h:95:34:\u001b[m\u001b[K \u001b[01;35m\u001b[Kwarning: \u001b[m\u001b[K‘\u001b[01m\u001b[Kchar* __builtin_strncpy(char*, const char*, long unsigned int)\u001b[m\u001b[K’ specified bound 2048 equals destination size [\u001b[01;35m\u001b[K\u001b]8;;https://gcc.gnu.org/onlinedocs/gcc/Warning-Options.html#index-Wstringop-truncation\u0007-Wstringop-truncation\u001b]8;;\u0007\u001b[m\u001b[K]\n",
            "   95 |   return \u001b[01;35m\u001b[K__builtin___strncpy_chk (__dest, __src, __len,\u001b[m\u001b[K\n",
            "      |          \u001b[01;35m\u001b[K~~~~~~~~~~~~~~~~~~~~~~~~^~~~~~~~~~~~~~~~~~~~~~\u001b[m\u001b[K\n",
            "   96 | \u001b[01;35m\u001b[K                                  __glibc_objsize (__dest))\u001b[m\u001b[K;\n",
            "      |                                   \u001b[01;35m\u001b[K~~~~~~~~~~~~~~~~~~~~~~~~~\u001b[m\u001b[K\n",
            "In function ‘\u001b[01m\u001b[Kchar* strncpy(char*, const char*, size_t)\u001b[m\u001b[K’,\n",
            "    inlined from ‘\u001b[01m\u001b[Kbool MeCab::FeatureIndex::buildBigramFeature(MeCab::LearnerPath*, const char*, const char*)\u001b[m\u001b[K’ at \u001b[01m\u001b[Kfeature_index.cpp:389:15\u001b[m\u001b[K:\n",
            "\u001b[01m\u001b[K/usr/include/x86_64-linux-gnu/bits/string_fortified.h:95:34:\u001b[m\u001b[K \u001b[01;35m\u001b[Kwarning: \u001b[m\u001b[K‘\u001b[01m\u001b[Kchar* __builtin_strncpy(char*, const char*, long unsigned int)\u001b[m\u001b[K’ specified bound 2048 equals destination size [\u001b[01;35m\u001b[K\u001b]8;;https://gcc.gnu.org/onlinedocs/gcc/Warning-Options.html#index-Wstringop-truncation\u0007-Wstringop-truncation\u001b]8;;\u0007\u001b[m\u001b[K]\n",
            "   95 |   return \u001b[01;35m\u001b[K__builtin___strncpy_chk (__dest, __src, __len,\u001b[m\u001b[K\n",
            "      |          \u001b[01;35m\u001b[K~~~~~~~~~~~~~~~~~~~~~~~~^~~~~~~~~~~~~~~~~~~~~~\u001b[m\u001b[K\n",
            "   96 | \u001b[01;35m\u001b[K                                  __glibc_objsize (__dest))\u001b[m\u001b[K;\n",
            "      |                                   \u001b[01;35m\u001b[K~~~~~~~~~~~~~~~~~~~~~~~~~\u001b[m\u001b[K\n",
            "In function ‘\u001b[01m\u001b[Kchar* strncpy(char*, const char*, size_t)\u001b[m\u001b[K’,\n",
            "    inlined from ‘\u001b[01m\u001b[Kbool MeCab::FeatureIndex::buildBigramFeature(MeCab::LearnerPath*, const char*, const char*)\u001b[m\u001b[K’ at \u001b[01m\u001b[Kfeature_index.cpp:390:15\u001b[m\u001b[K:\n",
            "\u001b[01m\u001b[K/usr/include/x86_64-linux-gnu/bits/string_fortified.h:95:34:\u001b[m\u001b[K \u001b[01;35m\u001b[Kwarning: \u001b[m\u001b[K‘\u001b[01m\u001b[Kchar* __builtin_strncpy(char*, const char*, long unsigned int)\u001b[m\u001b[K’ specified bound 2048 equals destination size [\u001b[01;35m\u001b[K\u001b]8;;https://gcc.gnu.org/onlinedocs/gcc/Warning-Options.html#index-Wstringop-truncation\u0007-Wstringop-truncation\u001b]8;;\u0007\u001b[m\u001b[K]\n",
            "   95 |   return \u001b[01;35m\u001b[K__builtin___strncpy_chk (__dest, __src, __len,\u001b[m\u001b[K\n",
            "      |          \u001b[01;35m\u001b[K~~~~~~~~~~~~~~~~~~~~~~~~^~~~~~~~~~~~~~~~~~~~~~\u001b[m\u001b[K\n",
            "   96 | \u001b[01;35m\u001b[K                                  __glibc_objsize (__dest))\u001b[m\u001b[K;\n",
            "      |                                   \u001b[01;35m\u001b[K~~~~~~~~~~~~~~~~~~~~~~~~~\u001b[m\u001b[K\n",
            "libtool: compile:  g++ -DHAVE_CONFIG_H -I. -I.. -DDIC_VERSION=102 -DMECAB_DEFAULT_RC=\\\"/usr/local/etc/mecabrc\\\" -O3 -Wall -c feature_index.cpp -o feature_index.o >/dev/null 2>&1\n",
            "/bin/bash ../libtool --tag=CXX   --mode=compile g++ -DHAVE_CONFIG_H -I. -I.. -DDIC_VERSION=102   -DMECAB_DEFAULT_RC=\"\\\"/usr/local/etc/mecabrc\\\"\"    -O3 -Wall  -c -o lbfgs.lo lbfgs.cpp\n",
            "libtool: compile:  g++ -DHAVE_CONFIG_H -I. -I.. -DDIC_VERSION=102 -DMECAB_DEFAULT_RC=\\\"/usr/local/etc/mecabrc\\\" -O3 -Wall -c lbfgs.cpp  -fPIC -DPIC -o .libs/lbfgs.o\n",
            "libtool: compile:  g++ -DHAVE_CONFIG_H -I. -I.. -DDIC_VERSION=102 -DMECAB_DEFAULT_RC=\\\"/usr/local/etc/mecabrc\\\" -O3 -Wall -c lbfgs.cpp -o lbfgs.o >/dev/null 2>&1\n",
            "/bin/bash ../libtool --tag=CXX   --mode=compile g++ -DHAVE_CONFIG_H -I. -I.. -DDIC_VERSION=102   -DMECAB_DEFAULT_RC=\"\\\"/usr/local/etc/mecabrc\\\"\"    -O3 -Wall  -c -o learner_tagger.lo learner_tagger.cpp\n",
            "libtool: compile:  g++ -DHAVE_CONFIG_H -I. -I.. -DDIC_VERSION=102 -DMECAB_DEFAULT_RC=\\\"/usr/local/etc/mecabrc\\\" -O3 -Wall -c learner_tagger.cpp  -fPIC -DPIC -o .libs/learner_tagger.o\n",
            "In file included from \u001b[01m\u001b[Kfeature_index.h:13\u001b[m\u001b[K,\n",
            "                 from \u001b[01m\u001b[Klearner_tagger.h:12\u001b[m\u001b[K,\n",
            "                 from \u001b[01m\u001b[Klearner_tagger.cpp:13\u001b[m\u001b[K:\n",
            "\u001b[01m\u001b[Kdarts.h:\u001b[m\u001b[K In member function ‘\u001b[01m\u001b[KT MeCab::Darts::DoubleArrayImpl<node_type_, node_u_type_, array_type_, array_u_type_, length_func_>::exactMatchSearch(const key_type*, size_t, size_t) const\u001b[m\u001b[K’:\n",
            "\u001b[01m\u001b[Kdarts.h:407:27:\u001b[m\u001b[K \u001b[01;35m\u001b[Kwarning: \u001b[m\u001b[KISO C++17 does not allow ‘\u001b[01m\u001b[Kregister\u001b[m\u001b[K’ storage class specifier [\u001b[01;35m\u001b[K\u001b]8;;https://gcc.gnu.org/onlinedocs/gcc/Warning-Options.html#index-Wregister\u0007-Wregister\u001b]8;;\u0007\u001b[m\u001b[K]\n",
            "  407 |     register array_type_  \u001b[01;35m\u001b[Kb\u001b[m\u001b[K = array_[node_pos].base;\n",
            "      |                           \u001b[01;35m\u001b[K^\u001b[m\u001b[K\n",
            "\u001b[01m\u001b[Kdarts.h:408:28:\u001b[m\u001b[K \u001b[01;35m\u001b[Kwarning: \u001b[m\u001b[KISO C++17 does not allow ‘\u001b[01m\u001b[Kregister\u001b[m\u001b[K’ storage class specifier [\u001b[01;35m\u001b[K\u001b]8;;https://gcc.gnu.org/onlinedocs/gcc/Warning-Options.html#index-Wregister\u0007-Wregister\u001b]8;;\u0007\u001b[m\u001b[K]\n",
            "  408 |     register array_u_type_ \u001b[01;35m\u001b[Kp\u001b[m\u001b[K;\n",
            "      |                            \u001b[01;35m\u001b[K^\u001b[m\u001b[K\n",
            "\u001b[01m\u001b[Kdarts.h:410:26:\u001b[m\u001b[K \u001b[01;35m\u001b[Kwarning: \u001b[m\u001b[KISO C++17 does not allow ‘\u001b[01m\u001b[Kregister\u001b[m\u001b[K’ storage class specifier [\u001b[01;35m\u001b[K\u001b]8;;https://gcc.gnu.org/onlinedocs/gcc/Warning-Options.html#index-Wregister\u0007-Wregister\u001b]8;;\u0007\u001b[m\u001b[K]\n",
            "  410 |     for (register size_t \u001b[01;35m\u001b[Ki\u001b[m\u001b[K = 0; i < len; ++i) {\n",
            "      |                          \u001b[01;35m\u001b[K^\u001b[m\u001b[K\n",
            "\u001b[01m\u001b[Kdarts.h:\u001b[m\u001b[K In member function ‘\u001b[01m\u001b[Ksize_t MeCab::Darts::DoubleArrayImpl<node_type_, node_u_type_, array_type_, array_u_type_, length_func_>::commonPrefixSearch(const key_type*, T*, size_t, size_t, size_t) const\u001b[m\u001b[K’:\n",
            "\u001b[01m\u001b[Kdarts.h:434:27:\u001b[m\u001b[K \u001b[01;35m\u001b[Kwarning: \u001b[m\u001b[KISO C++17 does not allow ‘\u001b[01m\u001b[Kregister\u001b[m\u001b[K’ storage class specifier [\u001b[01;35m\u001b[K\u001b]8;;https://gcc.gnu.org/onlinedocs/gcc/Warning-Options.html#index-Wregister\u0007-Wregister\u001b]8;;\u0007\u001b[m\u001b[K]\n",
            "  434 |     register array_type_  \u001b[01;35m\u001b[Kb\u001b[m\u001b[K   = array_[node_pos].base;\n",
            "      |                           \u001b[01;35m\u001b[K^\u001b[m\u001b[K\n",
            "\u001b[01m\u001b[Kdarts.h:435:25:\u001b[m\u001b[K \u001b[01;35m\u001b[Kwarning: \u001b[m\u001b[KISO C++17 does not allow ‘\u001b[01m\u001b[Kregister\u001b[m\u001b[K’ storage class specifier [\u001b[01;35m\u001b[K\u001b]8;;https://gcc.gnu.org/onlinedocs/gcc/Warning-Options.html#index-Wregister\u0007-Wregister\u001b]8;;\u0007\u001b[m\u001b[K]\n",
            "  435 |     register size_t     \u001b[01;35m\u001b[Knum\u001b[m\u001b[K = 0;\n",
            "      |                         \u001b[01;35m\u001b[K^~~\u001b[m\u001b[K\n",
            "\u001b[01m\u001b[Kdarts.h:436:27:\u001b[m\u001b[K \u001b[01;35m\u001b[Kwarning: \u001b[m\u001b[KISO C++17 does not allow ‘\u001b[01m\u001b[Kregister\u001b[m\u001b[K’ storage class specifier [\u001b[01;35m\u001b[K\u001b]8;;https://gcc.gnu.org/onlinedocs/gcc/Warning-Options.html#index-Wregister\u0007-Wregister\u001b]8;;\u0007\u001b[m\u001b[K]\n",
            "  436 |     register array_type_  \u001b[01;35m\u001b[Kn\u001b[m\u001b[K;\n",
            "      |                           \u001b[01;35m\u001b[K^\u001b[m\u001b[K\n",
            "\u001b[01m\u001b[Kdarts.h:437:28:\u001b[m\u001b[K \u001b[01;35m\u001b[Kwarning: \u001b[m\u001b[KISO C++17 does not allow ‘\u001b[01m\u001b[Kregister\u001b[m\u001b[K’ storage class specifier [\u001b[01;35m\u001b[K\u001b]8;;https://gcc.gnu.org/onlinedocs/gcc/Warning-Options.html#index-Wregister\u0007-Wregister\u001b]8;;\u0007\u001b[m\u001b[K]\n",
            "  437 |     register array_u_type_ \u001b[01;35m\u001b[Kp\u001b[m\u001b[K;\n",
            "      |                            \u001b[01;35m\u001b[K^\u001b[m\u001b[K\n",
            "\u001b[01m\u001b[Kdarts.h:439:26:\u001b[m\u001b[K \u001b[01;35m\u001b[Kwarning: \u001b[m\u001b[KISO C++17 does not allow ‘\u001b[01m\u001b[Kregister\u001b[m\u001b[K’ storage class specifier [\u001b[01;35m\u001b[K\u001b]8;;https://gcc.gnu.org/onlinedocs/gcc/Warning-Options.html#index-Wregister\u0007-Wregister\u001b]8;;\u0007\u001b[m\u001b[K]\n",
            "  439 |     for (register size_t \u001b[01;35m\u001b[Ki\u001b[m\u001b[K = 0; i < len; ++i) {\n",
            "      |                          \u001b[01;35m\u001b[K^\u001b[m\u001b[K\n",
            "\u001b[01m\u001b[Kdarts.h:\u001b[m\u001b[K In member function ‘\u001b[01m\u001b[KMeCab::Darts::DoubleArrayImpl<node_type_, node_u_type_, array_type_, array_u_type_, length_func_>::value_type MeCab::Darts::DoubleArrayImpl<node_type_, node_u_type_, array_type_, array_u_type_, length_func_>::traverse(const key_type*, size_t&, size_t&, size_t) const\u001b[m\u001b[K’:\n",
            "\u001b[01m\u001b[Kdarts.h:472:27:\u001b[m\u001b[K \u001b[01;35m\u001b[Kwarning: \u001b[m\u001b[KISO C++17 does not allow ‘\u001b[01m\u001b[Kregister\u001b[m\u001b[K’ storage class specifier [\u001b[01;35m\u001b[K\u001b]8;;https://gcc.gnu.org/onlinedocs/gcc/Warning-Options.html#index-Wregister\u0007-Wregister\u001b]8;;\u0007\u001b[m\u001b[K]\n",
            "  472 |     register array_type_  \u001b[01;35m\u001b[Kb\u001b[m\u001b[K = array_[node_pos].base;\n",
            "      |                           \u001b[01;35m\u001b[K^\u001b[m\u001b[K\n",
            "\u001b[01m\u001b[Kdarts.h:473:28:\u001b[m\u001b[K \u001b[01;35m\u001b[Kwarning: \u001b[m\u001b[KISO C++17 does not allow ‘\u001b[01m\u001b[Kregister\u001b[m\u001b[K’ storage class specifier [\u001b[01;35m\u001b[K\u001b]8;;https://gcc.gnu.org/onlinedocs/gcc/Warning-Options.html#index-Wregister\u0007-Wregister\u001b]8;;\u0007\u001b[m\u001b[K]\n",
            "  473 |     register array_u_type_ \u001b[01;35m\u001b[Kp\u001b[m\u001b[K;\n",
            "      |                            \u001b[01;35m\u001b[K^\u001b[m\u001b[K\n",
            "In file included from \u001b[01m\u001b[Kdictionary.h:12\u001b[m\u001b[K,\n",
            "                 from \u001b[01m\u001b[Ktokenizer.h:11\u001b[m\u001b[K,\n",
            "                 from \u001b[01m\u001b[Klearner_tagger.h:13\u001b[m\u001b[K,\n",
            "                 from \u001b[01m\u001b[Klearner_tagger.cpp:13\u001b[m\u001b[K:\n",
            "\u001b[01m\u001b[Kchar_property.h:\u001b[m\u001b[K In member function ‘\u001b[01m\u001b[Kconst char* MeCab::CharProperty::seekToOtherType(const char*, const char*, MeCab::CharInfo, MeCab::CharInfo*, size_t*, size_t*) const\u001b[m\u001b[K’:\n",
            "\u001b[01m\u001b[Kchar_property.h:40:26:\u001b[m\u001b[K \u001b[01;35m\u001b[Kwarning: \u001b[m\u001b[KISO C++17 does not allow ‘\u001b[01m\u001b[Kregister\u001b[m\u001b[K’ storage class specifier [\u001b[01;35m\u001b[K\u001b]8;;https://gcc.gnu.org/onlinedocs/gcc/Warning-Options.html#index-Wregister\u0007-Wregister\u001b]8;;\u0007\u001b[m\u001b[K]\n",
            "   40 |     register const char *\u001b[01;35m\u001b[Kp\u001b[m\u001b[K =  begin;\n",
            "      |                          \u001b[01;35m\u001b[K^\u001b[m\u001b[K\n",
            "In file included from \u001b[01m\u001b[Kfeature_index.h:13\u001b[m\u001b[K,\n",
            "                 from \u001b[01m\u001b[Klearner_tagger.h:12\u001b[m\u001b[K,\n",
            "                 from \u001b[01m\u001b[Klearner_tagger.cpp:13\u001b[m\u001b[K:\n",
            "darts.h: In instantiation of ‘\u001b[01m\u001b[Ksize_t MeCab::Darts::DoubleArrayImpl<node_type_, node_u_type_, array_type_, array_u_type_, length_func_>::commonPrefixSearch(const key_type*, T*, size_t, size_t, size_t) const [with T = MeCab::Darts::DoubleArrayImpl<char, unsigned char, int, unsigned int>::result_pair_type; node_type_ = char; node_u_type_ = unsigned char; array_type_ = int; array_u_type_ = unsigned int; length_func_ = MeCab::Darts::Length<char>; size_t = long unsigned int; MeCab::Darts::DoubleArrayImpl<node_type_, node_u_type_, array_type_, array_u_type_, length_func_>::key_type = char]\u001b[m\u001b[K’:\n",
            "\u001b[01m\u001b[Kdictionary.h:37:34:\u001b[m\u001b[K   required from here\n",
            "\u001b[01m\u001b[Kdarts.h:434:27:\u001b[m\u001b[K \u001b[01;35m\u001b[Kwarning: \u001b[m\u001b[KISO C++17 does not allow ‘\u001b[01m\u001b[Kregister\u001b[m\u001b[K’ storage class specifier [\u001b[01;35m\u001b[K\u001b]8;;https://gcc.gnu.org/onlinedocs/gcc/Warning-Options.html#index-Wregister\u0007-Wregister\u001b]8;;\u0007\u001b[m\u001b[K]\n",
            "  434 |     register array_type_  \u001b[01;35m\u001b[Kb\u001b[m\u001b[K   = array_[node_pos].base;\n",
            "      |                           \u001b[01;35m\u001b[K^\u001b[m\u001b[K\n",
            "\u001b[01m\u001b[Kdarts.h:435:25:\u001b[m\u001b[K \u001b[01;35m\u001b[Kwarning: \u001b[m\u001b[KISO C++17 does not allow ‘\u001b[01m\u001b[Kregister\u001b[m\u001b[K’ storage class specifier [\u001b[01;35m\u001b[K\u001b]8;;https://gcc.gnu.org/onlinedocs/gcc/Warning-Options.html#index-Wregister\u0007-Wregister\u001b]8;;\u0007\u001b[m\u001b[K]\n",
            "  435 |     register size_t     \u001b[01;35m\u001b[Knum\u001b[m\u001b[K = 0;\n",
            "      |                         \u001b[01;35m\u001b[K^~~\u001b[m\u001b[K\n",
            "\u001b[01m\u001b[Kdarts.h:436:27:\u001b[m\u001b[K \u001b[01;35m\u001b[Kwarning: \u001b[m\u001b[KISO C++17 does not allow ‘\u001b[01m\u001b[Kregister\u001b[m\u001b[K’ storage class specifier [\u001b[01;35m\u001b[K\u001b]8;;https://gcc.gnu.org/onlinedocs/gcc/Warning-Options.html#index-Wregister\u0007-Wregister\u001b]8;;\u0007\u001b[m\u001b[K]\n",
            "  436 |     register array_type_  \u001b[01;35m\u001b[Kn\u001b[m\u001b[K;\n",
            "      |                           \u001b[01;35m\u001b[K^\u001b[m\u001b[K\n",
            "\u001b[01m\u001b[Kdarts.h:437:28:\u001b[m\u001b[K \u001b[01;35m\u001b[Kwarning: \u001b[m\u001b[KISO C++17 does not allow ‘\u001b[01m\u001b[Kregister\u001b[m\u001b[K’ storage class specifier [\u001b[01;35m\u001b[K\u001b]8;;https://gcc.gnu.org/onlinedocs/gcc/Warning-Options.html#index-Wregister\u0007-Wregister\u001b]8;;\u0007\u001b[m\u001b[K]\n",
            "  437 |     register array_u_type_ \u001b[01;35m\u001b[Kp\u001b[m\u001b[K;\n",
            "      |                            \u001b[01;35m\u001b[K^\u001b[m\u001b[K\n",
            "\u001b[01m\u001b[Kdarts.h:439:26:\u001b[m\u001b[K \u001b[01;35m\u001b[Kwarning: \u001b[m\u001b[KISO C++17 does not allow ‘\u001b[01m\u001b[Kregister\u001b[m\u001b[K’ storage class specifier [\u001b[01;35m\u001b[K\u001b]8;;https://gcc.gnu.org/onlinedocs/gcc/Warning-Options.html#index-Wregister\u0007-Wregister\u001b]8;;\u0007\u001b[m\u001b[K]\n",
            "  439 |     for (register size_t \u001b[01;35m\u001b[Ki\u001b[m\u001b[K = 0; i < len; ++i) {\n",
            "      |                          \u001b[01;35m\u001b[K^\u001b[m\u001b[K\n",
            "darts.h: In instantiation of ‘\u001b[01m\u001b[KT MeCab::Darts::DoubleArrayImpl<node_type_, node_u_type_, array_type_, array_u_type_, length_func_>::exactMatchSearch(const key_type*, size_t, size_t) const [with T = MeCab::Darts::DoubleArrayImpl<char, unsigned char, int, unsigned int>::result_pair_type; node_type_ = char; node_u_type_ = unsigned char; array_type_ = int; array_u_type_ = unsigned int; length_func_ = MeCab::Darts::Length<char>; MeCab::Darts::DoubleArrayImpl<node_type_, node_u_type_, array_type_, array_u_type_, length_func_>::key_type = char; size_t = long unsigned int]\u001b[m\u001b[K’:\n",
            "\u001b[01m\u001b[Kdarts.h:394:33:\u001b[m\u001b[K   required from ‘\u001b[01m\u001b[Kvoid MeCab::Darts::DoubleArrayImpl<node_type_, node_u_type_, array_type_, array_u_type_, length_func_>::exactMatchSearch(const key_type*, T&, size_t, size_t) const [with T = MeCab::Darts::DoubleArrayImpl<char, unsigned char, int, unsigned int>::result_pair_type; node_type_ = char; node_u_type_ = unsigned char; array_type_ = int; array_u_type_ = unsigned int; length_func_ = MeCab::Darts::Length<char>; MeCab::Darts::DoubleArrayImpl<node_type_, node_u_type_, array_type_, array_u_type_, length_func_>::key_type = char; size_t = long unsigned int]\u001b[m\u001b[K’\n",
            "\u001b[01m\u001b[Kdictionary.h:42:25:\u001b[m\u001b[K   required from here\n",
            "\u001b[01m\u001b[Kdarts.h:407:27:\u001b[m\u001b[K \u001b[01;35m\u001b[Kwarning: \u001b[m\u001b[KISO C++17 does not allow ‘\u001b[01m\u001b[Kregister\u001b[m\u001b[K’ storage class specifier [\u001b[01;35m\u001b[K\u001b]8;;https://gcc.gnu.org/onlinedocs/gcc/Warning-Options.html#index-Wregister\u0007-Wregister\u001b]8;;\u0007\u001b[m\u001b[K]\n",
            "  407 |     register array_type_  \u001b[01;35m\u001b[Kb\u001b[m\u001b[K = array_[node_pos].base;\n",
            "      |                           \u001b[01;35m\u001b[K^\u001b[m\u001b[K\n",
            "\u001b[01m\u001b[Kdarts.h:408:28:\u001b[m\u001b[K \u001b[01;35m\u001b[Kwarning: \u001b[m\u001b[KISO C++17 does not allow ‘\u001b[01m\u001b[Kregister\u001b[m\u001b[K’ storage class specifier [\u001b[01;35m\u001b[K\u001b]8;;https://gcc.gnu.org/onlinedocs/gcc/Warning-Options.html#index-Wregister\u0007-Wregister\u001b]8;;\u0007\u001b[m\u001b[K]\n",
            "  408 |     register array_u_type_ \u001b[01;35m\u001b[Kp\u001b[m\u001b[K;\n",
            "      |                            \u001b[01;35m\u001b[K^\u001b[m\u001b[K\n",
            "\u001b[01m\u001b[Kdarts.h:410:26:\u001b[m\u001b[K \u001b[01;35m\u001b[Kwarning: \u001b[m\u001b[KISO C++17 does not allow ‘\u001b[01m\u001b[Kregister\u001b[m\u001b[K’ storage class specifier [\u001b[01;35m\u001b[K\u001b]8;;https://gcc.gnu.org/onlinedocs/gcc/Warning-Options.html#index-Wregister\u0007-Wregister\u001b]8;;\u0007\u001b[m\u001b[K]\n",
            "  410 |     for (register size_t \u001b[01;35m\u001b[Ki\u001b[m\u001b[K = 0; i < len; ++i) {\n",
            "      |                          \u001b[01;35m\u001b[K^\u001b[m\u001b[K\n",
            "\u001b[01m\u001b[Klearner_tagger.cpp:\u001b[m\u001b[K At global scope:\n",
            "\u001b[01m\u001b[Klearner_tagger.cpp:25:7:\u001b[m\u001b[K \u001b[01;35m\u001b[Kwarning: \u001b[m\u001b[K‘\u001b[01m\u001b[Kchar* MeCab::{anonymous}::mystrdup(const string&)\u001b[m\u001b[K’ defined but not used [\u001b[01;35m\u001b[K\u001b]8;;https://gcc.gnu.org/onlinedocs/gcc/Warning-Options.html#index-Wunused-function\u0007-Wunused-function\u001b]8;;\u0007\u001b[m\u001b[K]\n",
            "   25 | char *\u001b[01;35m\u001b[Kmystrdup\u001b[m\u001b[K(const std::string &str) {\n",
            "      |       \u001b[01;35m\u001b[K^~~~~~~~\u001b[m\u001b[K\n",
            "libtool: compile:  g++ -DHAVE_CONFIG_H -I. -I.. -DDIC_VERSION=102 -DMECAB_DEFAULT_RC=\\\"/usr/local/etc/mecabrc\\\" -O3 -Wall -c learner_tagger.cpp -o learner_tagger.o >/dev/null 2>&1\n",
            "/bin/bash ../libtool --tag=CXX   --mode=compile g++ -DHAVE_CONFIG_H -I. -I.. -DDIC_VERSION=102   -DMECAB_DEFAULT_RC=\"\\\"/usr/local/etc/mecabrc\\\"\"    -O3 -Wall  -c -o learner.lo learner.cpp\n",
            "libtool: compile:  g++ -DHAVE_CONFIG_H -I. -I.. -DDIC_VERSION=102 -DMECAB_DEFAULT_RC=\\\"/usr/local/etc/mecabrc\\\" -O3 -Wall -c learner.cpp  -fPIC -DPIC -o .libs/learner.o\n",
            "In file included from \u001b[01m\u001b[Kfeature_index.h:13\u001b[m\u001b[K,\n",
            "                 from \u001b[01m\u001b[Klearner.cpp:10\u001b[m\u001b[K:\n",
            "\u001b[01m\u001b[Kdarts.h:\u001b[m\u001b[K In member function ‘\u001b[01m\u001b[KT MeCab::Darts::DoubleArrayImpl<node_type_, node_u_type_, array_type_, array_u_type_, length_func_>::exactMatchSearch(const key_type*, size_t, size_t) const\u001b[m\u001b[K’:\n",
            "\u001b[01m\u001b[Kdarts.h:407:27:\u001b[m\u001b[K \u001b[01;35m\u001b[Kwarning: \u001b[m\u001b[KISO C++17 does not allow ‘\u001b[01m\u001b[Kregister\u001b[m\u001b[K’ storage class specifier [\u001b[01;35m\u001b[K\u001b]8;;https://gcc.gnu.org/onlinedocs/gcc/Warning-Options.html#index-Wregister\u0007-Wregister\u001b]8;;\u0007\u001b[m\u001b[K]\n",
            "  407 |     register array_type_  \u001b[01;35m\u001b[Kb\u001b[m\u001b[K = array_[node_pos].base;\n",
            "      |                           \u001b[01;35m\u001b[K^\u001b[m\u001b[K\n",
            "\u001b[01m\u001b[Kdarts.h:408:28:\u001b[m\u001b[K \u001b[01;35m\u001b[Kwarning: \u001b[m\u001b[KISO C++17 does not allow ‘\u001b[01m\u001b[Kregister\u001b[m\u001b[K’ storage class specifier [\u001b[01;35m\u001b[K\u001b]8;;https://gcc.gnu.org/onlinedocs/gcc/Warning-Options.html#index-Wregister\u0007-Wregister\u001b]8;;\u0007\u001b[m\u001b[K]\n",
            "  408 |     register array_u_type_ \u001b[01;35m\u001b[Kp\u001b[m\u001b[K;\n",
            "      |                            \u001b[01;35m\u001b[K^\u001b[m\u001b[K\n",
            "\u001b[01m\u001b[Kdarts.h:410:26:\u001b[m\u001b[K \u001b[01;35m\u001b[Kwarning: \u001b[m\u001b[KISO C++17 does not allow ‘\u001b[01m\u001b[Kregister\u001b[m\u001b[K’ storage class specifier [\u001b[01;35m\u001b[K\u001b]8;;https://gcc.gnu.org/onlinedocs/gcc/Warning-Options.html#index-Wregister\u0007-Wregister\u001b]8;;\u0007\u001b[m\u001b[K]\n",
            "  410 |     for (register size_t \u001b[01;35m\u001b[Ki\u001b[m\u001b[K = 0; i < len; ++i) {\n",
            "      |                          \u001b[01;35m\u001b[K^\u001b[m\u001b[K\n",
            "\u001b[01m\u001b[Kdarts.h:\u001b[m\u001b[K In member function ‘\u001b[01m\u001b[Ksize_t MeCab::Darts::DoubleArrayImpl<node_type_, node_u_type_, array_type_, array_u_type_, length_func_>::commonPrefixSearch(const key_type*, T*, size_t, size_t, size_t) const\u001b[m\u001b[K’:\n",
            "\u001b[01m\u001b[Kdarts.h:434:27:\u001b[m\u001b[K \u001b[01;35m\u001b[Kwarning: \u001b[m\u001b[KISO C++17 does not allow ‘\u001b[01m\u001b[Kregister\u001b[m\u001b[K’ storage class specifier [\u001b[01;35m\u001b[K\u001b]8;;https://gcc.gnu.org/onlinedocs/gcc/Warning-Options.html#index-Wregister\u0007-Wregister\u001b]8;;\u0007\u001b[m\u001b[K]\n",
            "  434 |     register array_type_  \u001b[01;35m\u001b[Kb\u001b[m\u001b[K   = array_[node_pos].base;\n",
            "      |                           \u001b[01;35m\u001b[K^\u001b[m\u001b[K\n",
            "\u001b[01m\u001b[Kdarts.h:435:25:\u001b[m\u001b[K \u001b[01;35m\u001b[Kwarning: \u001b[m\u001b[KISO C++17 does not allow ‘\u001b[01m\u001b[Kregister\u001b[m\u001b[K’ storage class specifier [\u001b[01;35m\u001b[K\u001b]8;;https://gcc.gnu.org/onlinedocs/gcc/Warning-Options.html#index-Wregister\u0007-Wregister\u001b]8;;\u0007\u001b[m\u001b[K]\n",
            "  435 |     register size_t     \u001b[01;35m\u001b[Knum\u001b[m\u001b[K = 0;\n",
            "      |                         \u001b[01;35m\u001b[K^~~\u001b[m\u001b[K\n",
            "\u001b[01m\u001b[Kdarts.h:436:27:\u001b[m\u001b[K \u001b[01;35m\u001b[Kwarning: \u001b[m\u001b[KISO C++17 does not allow ‘\u001b[01m\u001b[Kregister\u001b[m\u001b[K’ storage class specifier [\u001b[01;35m\u001b[K\u001b]8;;https://gcc.gnu.org/onlinedocs/gcc/Warning-Options.html#index-Wregister\u0007-Wregister\u001b]8;;\u0007\u001b[m\u001b[K]\n",
            "  436 |     register array_type_  \u001b[01;35m\u001b[Kn\u001b[m\u001b[K;\n",
            "      |                           \u001b[01;35m\u001b[K^\u001b[m\u001b[K\n",
            "\u001b[01m\u001b[Kdarts.h:437:28:\u001b[m\u001b[K \u001b[01;35m\u001b[Kwarning: \u001b[m\u001b[KISO C++17 does not allow ‘\u001b[01m\u001b[Kregister\u001b[m\u001b[K’ storage class specifier [\u001b[01;35m\u001b[K\u001b]8;;https://gcc.gnu.org/onlinedocs/gcc/Warning-Options.html#index-Wregister\u0007-Wregister\u001b]8;;\u0007\u001b[m\u001b[K]\n",
            "  437 |     register array_u_type_ \u001b[01;35m\u001b[Kp\u001b[m\u001b[K;\n",
            "      |                            \u001b[01;35m\u001b[K^\u001b[m\u001b[K\n",
            "\u001b[01m\u001b[Kdarts.h:439:26:\u001b[m\u001b[K \u001b[01;35m\u001b[Kwarning: \u001b[m\u001b[KISO C++17 does not allow ‘\u001b[01m\u001b[Kregister\u001b[m\u001b[K’ storage class specifier [\u001b[01;35m\u001b[K\u001b]8;;https://gcc.gnu.org/onlinedocs/gcc/Warning-Options.html#index-Wregister\u0007-Wregister\u001b]8;;\u0007\u001b[m\u001b[K]\n",
            "  439 |     for (register size_t \u001b[01;35m\u001b[Ki\u001b[m\u001b[K = 0; i < len; ++i) {\n",
            "      |                          \u001b[01;35m\u001b[K^\u001b[m\u001b[K\n",
            "\u001b[01m\u001b[Kdarts.h:\u001b[m\u001b[K In member function ‘\u001b[01m\u001b[KMeCab::Darts::DoubleArrayImpl<node_type_, node_u_type_, array_type_, array_u_type_, length_func_>::value_type MeCab::Darts::DoubleArrayImpl<node_type_, node_u_type_, array_type_, array_u_type_, length_func_>::traverse(const key_type*, size_t&, size_t&, size_t) const\u001b[m\u001b[K’:\n",
            "\u001b[01m\u001b[Kdarts.h:472:27:\u001b[m\u001b[K \u001b[01;35m\u001b[Kwarning: \u001b[m\u001b[KISO C++17 does not allow ‘\u001b[01m\u001b[Kregister\u001b[m\u001b[K’ storage class specifier [\u001b[01;35m\u001b[K\u001b]8;;https://gcc.gnu.org/onlinedocs/gcc/Warning-Options.html#index-Wregister\u0007-Wregister\u001b]8;;\u0007\u001b[m\u001b[K]\n",
            "  472 |     register array_type_  \u001b[01;35m\u001b[Kb\u001b[m\u001b[K = array_[node_pos].base;\n",
            "      |                           \u001b[01;35m\u001b[K^\u001b[m\u001b[K\n",
            "\u001b[01m\u001b[Kdarts.h:473:28:\u001b[m\u001b[K \u001b[01;35m\u001b[Kwarning: \u001b[m\u001b[KISO C++17 does not allow ‘\u001b[01m\u001b[Kregister\u001b[m\u001b[K’ storage class specifier [\u001b[01;35m\u001b[K\u001b]8;;https://gcc.gnu.org/onlinedocs/gcc/Warning-Options.html#index-Wregister\u0007-Wregister\u001b]8;;\u0007\u001b[m\u001b[K]\n",
            "  473 |     register array_u_type_ \u001b[01;35m\u001b[Kp\u001b[m\u001b[K;\n",
            "      |                            \u001b[01;35m\u001b[K^\u001b[m\u001b[K\n",
            "In file included from \u001b[01m\u001b[Kdictionary.h:12\u001b[m\u001b[K,\n",
            "                 from \u001b[01m\u001b[Ktokenizer.h:11\u001b[m\u001b[K,\n",
            "                 from \u001b[01m\u001b[Klearner_tagger.h:13\u001b[m\u001b[K,\n",
            "                 from \u001b[01m\u001b[Klearner.cpp:13\u001b[m\u001b[K:\n",
            "\u001b[01m\u001b[Kchar_property.h:\u001b[m\u001b[K In member function ‘\u001b[01m\u001b[Kconst char* MeCab::CharProperty::seekToOtherType(const char*, const char*, MeCab::CharInfo, MeCab::CharInfo*, size_t*, size_t*) const\u001b[m\u001b[K’:\n",
            "\u001b[01m\u001b[Kchar_property.h:40:26:\u001b[m\u001b[K \u001b[01;35m\u001b[Kwarning: \u001b[m\u001b[KISO C++17 does not allow ‘\u001b[01m\u001b[Kregister\u001b[m\u001b[K’ storage class specifier [\u001b[01;35m\u001b[K\u001b]8;;https://gcc.gnu.org/onlinedocs/gcc/Warning-Options.html#index-Wregister\u0007-Wregister\u001b]8;;\u0007\u001b[m\u001b[K]\n",
            "   40 |     register const char *\u001b[01;35m\u001b[Kp\u001b[m\u001b[K =  begin;\n",
            "      |                          \u001b[01;35m\u001b[K^\u001b[m\u001b[K\n",
            "In file included from \u001b[01m\u001b[Kfeature_index.h:13\u001b[m\u001b[K,\n",
            "                 from \u001b[01m\u001b[Klearner.cpp:10\u001b[m\u001b[K:\n",
            "darts.h: In instantiation of ‘\u001b[01m\u001b[Ksize_t MeCab::Darts::DoubleArrayImpl<node_type_, node_u_type_, array_type_, array_u_type_, length_func_>::commonPrefixSearch(const key_type*, T*, size_t, size_t, size_t) const [with T = MeCab::Darts::DoubleArrayImpl<char, unsigned char, int, unsigned int>::result_pair_type; node_type_ = char; node_u_type_ = unsigned char; array_type_ = int; array_u_type_ = unsigned int; length_func_ = MeCab::Darts::Length<char>; size_t = long unsigned int; MeCab::Darts::DoubleArrayImpl<node_type_, node_u_type_, array_type_, array_u_type_, length_func_>::key_type = char]\u001b[m\u001b[K’:\n",
            "\u001b[01m\u001b[Kdictionary.h:37:34:\u001b[m\u001b[K   required from here\n",
            "\u001b[01m\u001b[Kdarts.h:434:27:\u001b[m\u001b[K \u001b[01;35m\u001b[Kwarning: \u001b[m\u001b[KISO C++17 does not allow ‘\u001b[01m\u001b[Kregister\u001b[m\u001b[K’ storage class specifier [\u001b[01;35m\u001b[K\u001b]8;;https://gcc.gnu.org/onlinedocs/gcc/Warning-Options.html#index-Wregister\u0007-Wregister\u001b]8;;\u0007\u001b[m\u001b[K]\n",
            "  434 |     register array_type_  \u001b[01;35m\u001b[Kb\u001b[m\u001b[K   = array_[node_pos].base;\n",
            "      |                           \u001b[01;35m\u001b[K^\u001b[m\u001b[K\n",
            "\u001b[01m\u001b[Kdarts.h:435:25:\u001b[m\u001b[K \u001b[01;35m\u001b[Kwarning: \u001b[m\u001b[KISO C++17 does not allow ‘\u001b[01m\u001b[Kregister\u001b[m\u001b[K’ storage class specifier [\u001b[01;35m\u001b[K\u001b]8;;https://gcc.gnu.org/onlinedocs/gcc/Warning-Options.html#index-Wregister\u0007-Wregister\u001b]8;;\u0007\u001b[m\u001b[K]\n",
            "  435 |     register size_t     \u001b[01;35m\u001b[Knum\u001b[m\u001b[K = 0;\n",
            "      |                         \u001b[01;35m\u001b[K^~~\u001b[m\u001b[K\n",
            "\u001b[01m\u001b[Kdarts.h:436:27:\u001b[m\u001b[K \u001b[01;35m\u001b[Kwarning: \u001b[m\u001b[KISO C++17 does not allow ‘\u001b[01m\u001b[Kregister\u001b[m\u001b[K’ storage class specifier [\u001b[01;35m\u001b[K\u001b]8;;https://gcc.gnu.org/onlinedocs/gcc/Warning-Options.html#index-Wregister\u0007-Wregister\u001b]8;;\u0007\u001b[m\u001b[K]\n",
            "  436 |     register array_type_  \u001b[01;35m\u001b[Kn\u001b[m\u001b[K;\n",
            "      |                           \u001b[01;35m\u001b[K^\u001b[m\u001b[K\n",
            "\u001b[01m\u001b[Kdarts.h:437:28:\u001b[m\u001b[K \u001b[01;35m\u001b[Kwarning: \u001b[m\u001b[KISO C++17 does not allow ‘\u001b[01m\u001b[Kregister\u001b[m\u001b[K’ storage class specifier [\u001b[01;35m\u001b[K\u001b]8;;https://gcc.gnu.org/onlinedocs/gcc/Warning-Options.html#index-Wregister\u0007-Wregister\u001b]8;;\u0007\u001b[m\u001b[K]\n",
            "  437 |     register array_u_type_ \u001b[01;35m\u001b[Kp\u001b[m\u001b[K;\n",
            "      |                            \u001b[01;35m\u001b[K^\u001b[m\u001b[K\n",
            "\u001b[01m\u001b[Kdarts.h:439:26:\u001b[m\u001b[K \u001b[01;35m\u001b[Kwarning: \u001b[m\u001b[KISO C++17 does not allow ‘\u001b[01m\u001b[Kregister\u001b[m\u001b[K’ storage class specifier [\u001b[01;35m\u001b[K\u001b]8;;https://gcc.gnu.org/onlinedocs/gcc/Warning-Options.html#index-Wregister\u0007-Wregister\u001b]8;;\u0007\u001b[m\u001b[K]\n",
            "  439 |     for (register size_t \u001b[01;35m\u001b[Ki\u001b[m\u001b[K = 0; i < len; ++i) {\n",
            "      |                          \u001b[01;35m\u001b[K^\u001b[m\u001b[K\n",
            "darts.h: In instantiation of ‘\u001b[01m\u001b[KT MeCab::Darts::DoubleArrayImpl<node_type_, node_u_type_, array_type_, array_u_type_, length_func_>::exactMatchSearch(const key_type*, size_t, size_t) const [with T = MeCab::Darts::DoubleArrayImpl<char, unsigned char, int, unsigned int>::result_pair_type; node_type_ = char; node_u_type_ = unsigned char; array_type_ = int; array_u_type_ = unsigned int; length_func_ = MeCab::Darts::Length<char>; MeCab::Darts::DoubleArrayImpl<node_type_, node_u_type_, array_type_, array_u_type_, length_func_>::key_type = char; size_t = long unsigned int]\u001b[m\u001b[K’:\n",
            "\u001b[01m\u001b[Kdarts.h:394:33:\u001b[m\u001b[K   required from ‘\u001b[01m\u001b[Kvoid MeCab::Darts::DoubleArrayImpl<node_type_, node_u_type_, array_type_, array_u_type_, length_func_>::exactMatchSearch(const key_type*, T&, size_t, size_t) const [with T = MeCab::Darts::DoubleArrayImpl<char, unsigned char, int, unsigned int>::result_pair_type; node_type_ = char; node_u_type_ = unsigned char; array_type_ = int; array_u_type_ = unsigned int; length_func_ = MeCab::Darts::Length<char>; MeCab::Darts::DoubleArrayImpl<node_type_, node_u_type_, array_type_, array_u_type_, length_func_>::key_type = char; size_t = long unsigned int]\u001b[m\u001b[K’\n",
            "\u001b[01m\u001b[Kdictionary.h:42:25:\u001b[m\u001b[K   required from here\n",
            "\u001b[01m\u001b[Kdarts.h:407:27:\u001b[m\u001b[K \u001b[01;35m\u001b[Kwarning: \u001b[m\u001b[KISO C++17 does not allow ‘\u001b[01m\u001b[Kregister\u001b[m\u001b[K’ storage class specifier [\u001b[01;35m\u001b[K\u001b]8;;https://gcc.gnu.org/onlinedocs/gcc/Warning-Options.html#index-Wregister\u0007-Wregister\u001b]8;;\u0007\u001b[m\u001b[K]\n",
            "  407 |     register array_type_  \u001b[01;35m\u001b[Kb\u001b[m\u001b[K = array_[node_pos].base;\n",
            "      |                           \u001b[01;35m\u001b[K^\u001b[m\u001b[K\n",
            "\u001b[01m\u001b[Kdarts.h:408:28:\u001b[m\u001b[K \u001b[01;35m\u001b[Kwarning: \u001b[m\u001b[KISO C++17 does not allow ‘\u001b[01m\u001b[Kregister\u001b[m\u001b[K’ storage class specifier [\u001b[01;35m\u001b[K\u001b]8;;https://gcc.gnu.org/onlinedocs/gcc/Warning-Options.html#index-Wregister\u0007-Wregister\u001b]8;;\u0007\u001b[m\u001b[K]\n",
            "  408 |     register array_u_type_ \u001b[01;35m\u001b[Kp\u001b[m\u001b[K;\n",
            "      |                            \u001b[01;35m\u001b[K^\u001b[m\u001b[K\n",
            "\u001b[01m\u001b[Kdarts.h:410:26:\u001b[m\u001b[K \u001b[01;35m\u001b[Kwarning: \u001b[m\u001b[KISO C++17 does not allow ‘\u001b[01m\u001b[Kregister\u001b[m\u001b[K’ storage class specifier [\u001b[01;35m\u001b[K\u001b]8;;https://gcc.gnu.org/onlinedocs/gcc/Warning-Options.html#index-Wregister\u0007-Wregister\u001b]8;;\u0007\u001b[m\u001b[K]\n",
            "  410 |     for (register size_t \u001b[01;35m\u001b[Ki\u001b[m\u001b[K = 0; i < len; ++i) {\n",
            "      |                          \u001b[01;35m\u001b[K^\u001b[m\u001b[K\n",
            "libtool: compile:  g++ -DHAVE_CONFIG_H -I. -I.. -DDIC_VERSION=102 -DMECAB_DEFAULT_RC=\\\"/usr/local/etc/mecabrc\\\" -O3 -Wall -c learner.cpp -o learner.o >/dev/null 2>&1\n",
            "/bin/bash ../libtool --tag=CXX   --mode=compile g++ -DHAVE_CONFIG_H -I. -I.. -DDIC_VERSION=102   -DMECAB_DEFAULT_RC=\"\\\"/usr/local/etc/mecabrc\\\"\"    -O3 -Wall  -c -o libmecab.lo libmecab.cpp\n",
            "libtool: compile:  g++ -DHAVE_CONFIG_H -I. -I.. -DDIC_VERSION=102 -DMECAB_DEFAULT_RC=\\\"/usr/local/etc/mecabrc\\\" -O3 -Wall -c libmecab.cpp  -fPIC -DPIC -o .libs/libmecab.o\n",
            "In file included from \u001b[01m\u001b[Kdictionary.h:11\u001b[m\u001b[K,\n",
            "                 from \u001b[01m\u001b[Ktokenizer.h:11\u001b[m\u001b[K,\n",
            "                 from \u001b[01m\u001b[Klibmecab.cpp:11\u001b[m\u001b[K:\n",
            "\u001b[01m\u001b[Kdarts.h:\u001b[m\u001b[K In member function ‘\u001b[01m\u001b[KT MeCab::Darts::DoubleArrayImpl<node_type_, node_u_type_, array_type_, array_u_type_, length_func_>::exactMatchSearch(const key_type*, size_t, size_t) const\u001b[m\u001b[K’:\n",
            "\u001b[01m\u001b[Kdarts.h:407:27:\u001b[m\u001b[K \u001b[01;35m\u001b[Kwarning: \u001b[m\u001b[KISO C++17 does not allow ‘\u001b[01m\u001b[Kregister\u001b[m\u001b[K’ storage class specifier [\u001b[01;35m\u001b[K\u001b]8;;https://gcc.gnu.org/onlinedocs/gcc/Warning-Options.html#index-Wregister\u0007-Wregister\u001b]8;;\u0007\u001b[m\u001b[K]\n",
            "  407 |     register array_type_  \u001b[01;35m\u001b[Kb\u001b[m\u001b[K = array_[node_pos].base;\n",
            "      |                           \u001b[01;35m\u001b[K^\u001b[m\u001b[K\n",
            "\u001b[01m\u001b[Kdarts.h:408:28:\u001b[m\u001b[K \u001b[01;35m\u001b[Kwarning: \u001b[m\u001b[KISO C++17 does not allow ‘\u001b[01m\u001b[Kregister\u001b[m\u001b[K’ storage class specifier [\u001b[01;35m\u001b[K\u001b]8;;https://gcc.gnu.org/onlinedocs/gcc/Warning-Options.html#index-Wregister\u0007-Wregister\u001b]8;;\u0007\u001b[m\u001b[K]\n",
            "  408 |     register array_u_type_ \u001b[01;35m\u001b[Kp\u001b[m\u001b[K;\n",
            "      |                            \u001b[01;35m\u001b[K^\u001b[m\u001b[K\n",
            "\u001b[01m\u001b[Kdarts.h:410:26:\u001b[m\u001b[K \u001b[01;35m\u001b[Kwarning: \u001b[m\u001b[KISO C++17 does not allow ‘\u001b[01m\u001b[Kregister\u001b[m\u001b[K’ storage class specifier [\u001b[01;35m\u001b[K\u001b]8;;https://gcc.gnu.org/onlinedocs/gcc/Warning-Options.html#index-Wregister\u0007-Wregister\u001b]8;;\u0007\u001b[m\u001b[K]\n",
            "  410 |     for (register size_t \u001b[01;35m\u001b[Ki\u001b[m\u001b[K = 0; i < len; ++i) {\n",
            "      |                          \u001b[01;35m\u001b[K^\u001b[m\u001b[K\n",
            "\u001b[01m\u001b[Kdarts.h:\u001b[m\u001b[K In member function ‘\u001b[01m\u001b[Ksize_t MeCab::Darts::DoubleArrayImpl<node_type_, node_u_type_, array_type_, array_u_type_, length_func_>::commonPrefixSearch(const key_type*, T*, size_t, size_t, size_t) const\u001b[m\u001b[K’:\n",
            "\u001b[01m\u001b[Kdarts.h:434:27:\u001b[m\u001b[K \u001b[01;35m\u001b[Kwarning: \u001b[m\u001b[KISO C++17 does not allow ‘\u001b[01m\u001b[Kregister\u001b[m\u001b[K’ storage class specifier [\u001b[01;35m\u001b[K\u001b]8;;https://gcc.gnu.org/onlinedocs/gcc/Warning-Options.html#index-Wregister\u0007-Wregister\u001b]8;;\u0007\u001b[m\u001b[K]\n",
            "  434 |     register array_type_  \u001b[01;35m\u001b[Kb\u001b[m\u001b[K   = array_[node_pos].base;\n",
            "      |                           \u001b[01;35m\u001b[K^\u001b[m\u001b[K\n",
            "\u001b[01m\u001b[Kdarts.h:435:25:\u001b[m\u001b[K \u001b[01;35m\u001b[Kwarning: \u001b[m\u001b[KISO C++17 does not allow ‘\u001b[01m\u001b[Kregister\u001b[m\u001b[K’ storage class specifier [\u001b[01;35m\u001b[K\u001b]8;;https://gcc.gnu.org/onlinedocs/gcc/Warning-Options.html#index-Wregister\u0007-Wregister\u001b]8;;\u0007\u001b[m\u001b[K]\n",
            "  435 |     register size_t     \u001b[01;35m\u001b[Knum\u001b[m\u001b[K = 0;\n",
            "      |                         \u001b[01;35m\u001b[K^~~\u001b[m\u001b[K\n",
            "\u001b[01m\u001b[Kdarts.h:436:27:\u001b[m\u001b[K \u001b[01;35m\u001b[Kwarning: \u001b[m\u001b[KISO C++17 does not allow ‘\u001b[01m\u001b[Kregister\u001b[m\u001b[K’ storage class specifier [\u001b[01;35m\u001b[K\u001b]8;;https://gcc.gnu.org/onlinedocs/gcc/Warning-Options.html#index-Wregister\u0007-Wregister\u001b]8;;\u0007\u001b[m\u001b[K]\n",
            "  436 |     register array_type_  \u001b[01;35m\u001b[Kn\u001b[m\u001b[K;\n",
            "      |                           \u001b[01;35m\u001b[K^\u001b[m\u001b[K\n",
            "\u001b[01m\u001b[Kdarts.h:437:28:\u001b[m\u001b[K \u001b[01;35m\u001b[Kwarning: \u001b[m\u001b[KISO C++17 does not allow ‘\u001b[01m\u001b[Kregister\u001b[m\u001b[K’ storage class specifier [\u001b[01;35m\u001b[K\u001b]8;;https://gcc.gnu.org/onlinedocs/gcc/Warning-Options.html#index-Wregister\u0007-Wregister\u001b]8;;\u0007\u001b[m\u001b[K]\n",
            "  437 |     register array_u_type_ \u001b[01;35m\u001b[Kp\u001b[m\u001b[K;\n",
            "      |                            \u001b[01;35m\u001b[K^\u001b[m\u001b[K\n",
            "\u001b[01m\u001b[Kdarts.h:439:26:\u001b[m\u001b[K \u001b[01;35m\u001b[Kwarning: \u001b[m\u001b[KISO C++17 does not allow ‘\u001b[01m\u001b[Kregister\u001b[m\u001b[K’ storage class specifier [\u001b[01;35m\u001b[K\u001b]8;;https://gcc.gnu.org/onlinedocs/gcc/Warning-Options.html#index-Wregister\u0007-Wregister\u001b]8;;\u0007\u001b[m\u001b[K]\n",
            "  439 |     for (register size_t \u001b[01;35m\u001b[Ki\u001b[m\u001b[K = 0; i < len; ++i) {\n",
            "      |                          \u001b[01;35m\u001b[K^\u001b[m\u001b[K\n",
            "\u001b[01m\u001b[Kdarts.h:\u001b[m\u001b[K In member function ‘\u001b[01m\u001b[KMeCab::Darts::DoubleArrayImpl<node_type_, node_u_type_, array_type_, array_u_type_, length_func_>::value_type MeCab::Darts::DoubleArrayImpl<node_type_, node_u_type_, array_type_, array_u_type_, length_func_>::traverse(const key_type*, size_t&, size_t&, size_t) const\u001b[m\u001b[K’:\n",
            "\u001b[01m\u001b[Kdarts.h:472:27:\u001b[m\u001b[K \u001b[01;35m\u001b[Kwarning: \u001b[m\u001b[KISO C++17 does not allow ‘\u001b[01m\u001b[Kregister\u001b[m\u001b[K’ storage class specifier [\u001b[01;35m\u001b[K\u001b]8;;https://gcc.gnu.org/onlinedocs/gcc/Warning-Options.html#index-Wregister\u0007-Wregister\u001b]8;;\u0007\u001b[m\u001b[K]\n",
            "  472 |     register array_type_  \u001b[01;35m\u001b[Kb\u001b[m\u001b[K = array_[node_pos].base;\n",
            "      |                           \u001b[01;35m\u001b[K^\u001b[m\u001b[K\n",
            "\u001b[01m\u001b[Kdarts.h:473:28:\u001b[m\u001b[K \u001b[01;35m\u001b[Kwarning: \u001b[m\u001b[KISO C++17 does not allow ‘\u001b[01m\u001b[Kregister\u001b[m\u001b[K’ storage class specifier [\u001b[01;35m\u001b[K\u001b]8;;https://gcc.gnu.org/onlinedocs/gcc/Warning-Options.html#index-Wregister\u0007-Wregister\u001b]8;;\u0007\u001b[m\u001b[K]\n",
            "  473 |     register array_u_type_ \u001b[01;35m\u001b[Kp\u001b[m\u001b[K;\n",
            "      |                            \u001b[01;35m\u001b[K^\u001b[m\u001b[K\n",
            "In file included from \u001b[01m\u001b[Kdictionary.h:12\u001b[m\u001b[K,\n",
            "                 from \u001b[01m\u001b[Ktokenizer.h:11\u001b[m\u001b[K,\n",
            "                 from \u001b[01m\u001b[Klibmecab.cpp:11\u001b[m\u001b[K:\n",
            "\u001b[01m\u001b[Kchar_property.h:\u001b[m\u001b[K In member function ‘\u001b[01m\u001b[Kconst char* MeCab::CharProperty::seekToOtherType(const char*, const char*, MeCab::CharInfo, MeCab::CharInfo*, size_t*, size_t*) const\u001b[m\u001b[K’:\n",
            "\u001b[01m\u001b[Kchar_property.h:40:26:\u001b[m\u001b[K \u001b[01;35m\u001b[Kwarning: \u001b[m\u001b[KISO C++17 does not allow ‘\u001b[01m\u001b[Kregister\u001b[m\u001b[K’ storage class specifier [\u001b[01;35m\u001b[K\u001b]8;;https://gcc.gnu.org/onlinedocs/gcc/Warning-Options.html#index-Wregister\u0007-Wregister\u001b]8;;\u0007\u001b[m\u001b[K]\n",
            "   40 |     register const char *\u001b[01;35m\u001b[Kp\u001b[m\u001b[K =  begin;\n",
            "      |                          \u001b[01;35m\u001b[K^\u001b[m\u001b[K\n",
            "In file included from \u001b[01m\u001b[Kdictionary.h:11\u001b[m\u001b[K,\n",
            "                 from \u001b[01m\u001b[Ktokenizer.h:11\u001b[m\u001b[K,\n",
            "                 from \u001b[01m\u001b[Klibmecab.cpp:11\u001b[m\u001b[K:\n",
            "darts.h: In instantiation of ‘\u001b[01m\u001b[Ksize_t MeCab::Darts::DoubleArrayImpl<node_type_, node_u_type_, array_type_, array_u_type_, length_func_>::commonPrefixSearch(const key_type*, T*, size_t, size_t, size_t) const [with T = MeCab::Darts::DoubleArrayImpl<char, unsigned char, int, unsigned int>::result_pair_type; node_type_ = char; node_u_type_ = unsigned char; array_type_ = int; array_u_type_ = unsigned int; length_func_ = MeCab::Darts::Length<char>; size_t = long unsigned int; MeCab::Darts::DoubleArrayImpl<node_type_, node_u_type_, array_type_, array_u_type_, length_func_>::key_type = char]\u001b[m\u001b[K’:\n",
            "\u001b[01m\u001b[Kdictionary.h:37:34:\u001b[m\u001b[K   required from here\n",
            "\u001b[01m\u001b[Kdarts.h:434:27:\u001b[m\u001b[K \u001b[01;35m\u001b[Kwarning: \u001b[m\u001b[KISO C++17 does not allow ‘\u001b[01m\u001b[Kregister\u001b[m\u001b[K’ storage class specifier [\u001b[01;35m\u001b[K\u001b]8;;https://gcc.gnu.org/onlinedocs/gcc/Warning-Options.html#index-Wregister\u0007-Wregister\u001b]8;;\u0007\u001b[m\u001b[K]\n",
            "  434 |     register array_type_  \u001b[01;35m\u001b[Kb\u001b[m\u001b[K   = array_[node_pos].base;\n",
            "      |                           \u001b[01;35m\u001b[K^\u001b[m\u001b[K\n",
            "\u001b[01m\u001b[Kdarts.h:435:25:\u001b[m\u001b[K \u001b[01;35m\u001b[Kwarning: \u001b[m\u001b[KISO C++17 does not allow ‘\u001b[01m\u001b[Kregister\u001b[m\u001b[K’ storage class specifier [\u001b[01;35m\u001b[K\u001b]8;;https://gcc.gnu.org/onlinedocs/gcc/Warning-Options.html#index-Wregister\u0007-Wregister\u001b]8;;\u0007\u001b[m\u001b[K]\n",
            "  435 |     register size_t     \u001b[01;35m\u001b[Knum\u001b[m\u001b[K = 0;\n",
            "      |                         \u001b[01;35m\u001b[K^~~\u001b[m\u001b[K\n",
            "\u001b[01m\u001b[Kdarts.h:436:27:\u001b[m\u001b[K \u001b[01;35m\u001b[Kwarning: \u001b[m\u001b[KISO C++17 does not allow ‘\u001b[01m\u001b[Kregister\u001b[m\u001b[K’ storage class specifier [\u001b[01;35m\u001b[K\u001b]8;;https://gcc.gnu.org/onlinedocs/gcc/Warning-Options.html#index-Wregister\u0007-Wregister\u001b]8;;\u0007\u001b[m\u001b[K]\n",
            "  436 |     register array_type_  \u001b[01;35m\u001b[Kn\u001b[m\u001b[K;\n",
            "      |                           \u001b[01;35m\u001b[K^\u001b[m\u001b[K\n",
            "\u001b[01m\u001b[Kdarts.h:437:28:\u001b[m\u001b[K \u001b[01;35m\u001b[Kwarning: \u001b[m\u001b[KISO C++17 does not allow ‘\u001b[01m\u001b[Kregister\u001b[m\u001b[K’ storage class specifier [\u001b[01;35m\u001b[K\u001b]8;;https://gcc.gnu.org/onlinedocs/gcc/Warning-Options.html#index-Wregister\u0007-Wregister\u001b]8;;\u0007\u001b[m\u001b[K]\n",
            "  437 |     register array_u_type_ \u001b[01;35m\u001b[Kp\u001b[m\u001b[K;\n",
            "      |                            \u001b[01;35m\u001b[K^\u001b[m\u001b[K\n",
            "\u001b[01m\u001b[Kdarts.h:439:26:\u001b[m\u001b[K \u001b[01;35m\u001b[Kwarning: \u001b[m\u001b[KISO C++17 does not allow ‘\u001b[01m\u001b[Kregister\u001b[m\u001b[K’ storage class specifier [\u001b[01;35m\u001b[K\u001b]8;;https://gcc.gnu.org/onlinedocs/gcc/Warning-Options.html#index-Wregister\u0007-Wregister\u001b]8;;\u0007\u001b[m\u001b[K]\n",
            "  439 |     for (register size_t \u001b[01;35m\u001b[Ki\u001b[m\u001b[K = 0; i < len; ++i) {\n",
            "      |                          \u001b[01;35m\u001b[K^\u001b[m\u001b[K\n",
            "darts.h: In instantiation of ‘\u001b[01m\u001b[KT MeCab::Darts::DoubleArrayImpl<node_type_, node_u_type_, array_type_, array_u_type_, length_func_>::exactMatchSearch(const key_type*, size_t, size_t) const [with T = MeCab::Darts::DoubleArrayImpl<char, unsigned char, int, unsigned int>::result_pair_type; node_type_ = char; node_u_type_ = unsigned char; array_type_ = int; array_u_type_ = unsigned int; length_func_ = MeCab::Darts::Length<char>; MeCab::Darts::DoubleArrayImpl<node_type_, node_u_type_, array_type_, array_u_type_, length_func_>::key_type = char; size_t = long unsigned int]\u001b[m\u001b[K’:\n",
            "\u001b[01m\u001b[Kdarts.h:394:33:\u001b[m\u001b[K   required from ‘\u001b[01m\u001b[Kvoid MeCab::Darts::DoubleArrayImpl<node_type_, node_u_type_, array_type_, array_u_type_, length_func_>::exactMatchSearch(const key_type*, T&, size_t, size_t) const [with T = MeCab::Darts::DoubleArrayImpl<char, unsigned char, int, unsigned int>::result_pair_type; node_type_ = char; node_u_type_ = unsigned char; array_type_ = int; array_u_type_ = unsigned int; length_func_ = MeCab::Darts::Length<char>; MeCab::Darts::DoubleArrayImpl<node_type_, node_u_type_, array_type_, array_u_type_, length_func_>::key_type = char; size_t = long unsigned int]\u001b[m\u001b[K’\n",
            "\u001b[01m\u001b[Kdictionary.h:42:25:\u001b[m\u001b[K   required from here\n",
            "\u001b[01m\u001b[Kdarts.h:407:27:\u001b[m\u001b[K \u001b[01;35m\u001b[Kwarning: \u001b[m\u001b[KISO C++17 does not allow ‘\u001b[01m\u001b[Kregister\u001b[m\u001b[K’ storage class specifier [\u001b[01;35m\u001b[K\u001b]8;;https://gcc.gnu.org/onlinedocs/gcc/Warning-Options.html#index-Wregister\u0007-Wregister\u001b]8;;\u0007\u001b[m\u001b[K]\n",
            "  407 |     register array_type_  \u001b[01;35m\u001b[Kb\u001b[m\u001b[K = array_[node_pos].base;\n",
            "      |                           \u001b[01;35m\u001b[K^\u001b[m\u001b[K\n",
            "\u001b[01m\u001b[Kdarts.h:408:28:\u001b[m\u001b[K \u001b[01;35m\u001b[Kwarning: \u001b[m\u001b[KISO C++17 does not allow ‘\u001b[01m\u001b[Kregister\u001b[m\u001b[K’ storage class specifier [\u001b[01;35m\u001b[K\u001b]8;;https://gcc.gnu.org/onlinedocs/gcc/Warning-Options.html#index-Wregister\u0007-Wregister\u001b]8;;\u0007\u001b[m\u001b[K]\n",
            "  408 |     register array_u_type_ \u001b[01;35m\u001b[Kp\u001b[m\u001b[K;\n",
            "      |                            \u001b[01;35m\u001b[K^\u001b[m\u001b[K\n",
            "\u001b[01m\u001b[Kdarts.h:410:26:\u001b[m\u001b[K \u001b[01;35m\u001b[Kwarning: \u001b[m\u001b[KISO C++17 does not allow ‘\u001b[01m\u001b[Kregister\u001b[m\u001b[K’ storage class specifier [\u001b[01;35m\u001b[K\u001b]8;;https://gcc.gnu.org/onlinedocs/gcc/Warning-Options.html#index-Wregister\u0007-Wregister\u001b]8;;\u0007\u001b[m\u001b[K]\n",
            "  410 |     for (register size_t \u001b[01;35m\u001b[Ki\u001b[m\u001b[K = 0; i < len; ++i) {\n",
            "      |                          \u001b[01;35m\u001b[K^\u001b[m\u001b[K\n",
            "libtool: compile:  g++ -DHAVE_CONFIG_H -I. -I.. -DDIC_VERSION=102 -DMECAB_DEFAULT_RC=\\\"/usr/local/etc/mecabrc\\\" -O3 -Wall -c libmecab.cpp -o libmecab.o >/dev/null 2>&1\n",
            "/bin/bash ../libtool --tag=CXX   --mode=link g++  -O3 -Wall  -no-undefined -version-info 2:0:0  -o libmecab.la -rpath /usr/local/lib viterbi.lo tagger.lo utils.lo eval.lo iconv_utils.lo dictionary_rewriter.lo dictionary_generator.lo dictionary_compiler.lo context_id.lo connector.lo nbest_generator.lo writer.lo string_buffer.lo param.lo tokenizer.lo char_property.lo dictionary.lo feature_index.lo lbfgs.lo learner_tagger.lo learner.lo libmecab.lo  -lpthread -lpthread  -lstdc++ \n",
            "libtool: link: g++  -fPIC -DPIC -shared -nostdlib /usr/lib/gcc/x86_64-linux-gnu/11/../../../x86_64-linux-gnu/crti.o /usr/lib/gcc/x86_64-linux-gnu/11/crtbeginS.o  .libs/viterbi.o .libs/tagger.o .libs/utils.o .libs/eval.o .libs/iconv_utils.o .libs/dictionary_rewriter.o .libs/dictionary_generator.o .libs/dictionary_compiler.o .libs/context_id.o .libs/connector.o .libs/nbest_generator.o .libs/writer.o .libs/string_buffer.o .libs/param.o .libs/tokenizer.o .libs/char_property.o .libs/dictionary.o .libs/feature_index.o .libs/lbfgs.o .libs/learner_tagger.o .libs/learner.o .libs/libmecab.o   -lpthread -L/usr/lib/gcc/x86_64-linux-gnu/11 -L/usr/lib/gcc/x86_64-linux-gnu/11/../../../x86_64-linux-gnu -L/usr/lib/gcc/x86_64-linux-gnu/11/../../../../lib -L/lib/x86_64-linux-gnu -L/lib/../lib -L/usr/lib/x86_64-linux-gnu -L/usr/lib/../lib -L/usr/local/cuda/lib64/stubs -L/usr/lib/gcc/x86_64-linux-gnu/11/../../.. -lstdc++ -lm -lc -lgcc_s /usr/lib/gcc/x86_64-linux-gnu/11/crtendS.o /usr/lib/gcc/x86_64-linux-gnu/11/../../../x86_64-linux-gnu/crtn.o  -O3   -Wl,-soname -Wl,libmecab.so.2 -o .libs/libmecab.so.2.0.0\n",
            "libtool: link: (cd \".libs\" && rm -f \"libmecab.so.2\" && ln -s \"libmecab.so.2.0.0\" \"libmecab.so.2\")\n",
            "libtool: link: (cd \".libs\" && rm -f \"libmecab.so\" && ln -s \"libmecab.so.2.0.0\" \"libmecab.so\")\n",
            "libtool: link: ar cru .libs/libmecab.a  viterbi.o tagger.o utils.o eval.o iconv_utils.o dictionary_rewriter.o dictionary_generator.o dictionary_compiler.o context_id.o connector.o nbest_generator.o writer.o string_buffer.o param.o tokenizer.o char_property.o dictionary.o feature_index.o lbfgs.o learner_tagger.o learner.o libmecab.o\n",
            "ar: `u' modifier ignored since `D' is the default (see `U')\n",
            "libtool: link: ranlib .libs/libmecab.a\n",
            "libtool: link: ( cd \".libs\" && rm -f \"libmecab.la\" && ln -s \"../libmecab.la\" \"libmecab.la\" )\n",
            "g++ -DHAVE_CONFIG_H -I. -I.. -DDIC_VERSION=102   -DMECAB_DEFAULT_RC=\"\\\"/usr/local/etc/mecabrc\\\"\"    -O3 -Wall  -c -o mecab.o mecab.cpp\n",
            "/bin/bash ../libtool --tag=CXX   --mode=link g++  -O3 -Wall    -o mecab mecab.o libmecab.la -lpthread -lpthread  -lstdc++ \n",
            "libtool: link: g++ -O3 -Wall -o .libs/mecab mecab.o  ./.libs/libmecab.so -lpthread -lstdc++\n",
            "g++ -DHAVE_CONFIG_H -I. -I.. -DDIC_VERSION=102   -DMECAB_DEFAULT_RC=\"\\\"/usr/local/etc/mecabrc\\\"\"    -O3 -Wall  -c -o mecab-dict-index.o mecab-dict-index.cpp\n",
            "/bin/bash ../libtool --tag=CXX   --mode=link g++  -O3 -Wall    -o mecab-dict-index mecab-dict-index.o libmecab.la -lpthread -lpthread  -lstdc++ \n",
            "libtool: link: g++ -O3 -Wall -o .libs/mecab-dict-index mecab-dict-index.o  ./.libs/libmecab.so -lpthread -lstdc++\n",
            "g++ -DHAVE_CONFIG_H -I. -I.. -DDIC_VERSION=102   -DMECAB_DEFAULT_RC=\"\\\"/usr/local/etc/mecabrc\\\"\"    -O3 -Wall  -c -o mecab-dict-gen.o mecab-dict-gen.cpp\n",
            "/bin/bash ../libtool --tag=CXX   --mode=link g++  -O3 -Wall    -o mecab-dict-gen mecab-dict-gen.o libmecab.la -lpthread -lpthread  -lstdc++ \n",
            "libtool: link: g++ -O3 -Wall -o .libs/mecab-dict-gen mecab-dict-gen.o  ./.libs/libmecab.so -lpthread -lstdc++\n",
            "g++ -DHAVE_CONFIG_H -I. -I.. -DDIC_VERSION=102   -DMECAB_DEFAULT_RC=\"\\\"/usr/local/etc/mecabrc\\\"\"    -O3 -Wall  -c -o mecab-cost-train.o mecab-cost-train.cpp\n",
            "/bin/bash ../libtool --tag=CXX   --mode=link g++  -O3 -Wall    -o mecab-cost-train mecab-cost-train.o libmecab.la -lpthread -lpthread  -lstdc++ \n",
            "libtool: link: g++ -O3 -Wall -o .libs/mecab-cost-train mecab-cost-train.o  ./.libs/libmecab.so -lpthread -lstdc++\n",
            "g++ -DHAVE_CONFIG_H -I. -I.. -DDIC_VERSION=102   -DMECAB_DEFAULT_RC=\"\\\"/usr/local/etc/mecabrc\\\"\"    -O3 -Wall  -c -o mecab-system-eval.o mecab-system-eval.cpp\n",
            "/bin/bash ../libtool --tag=CXX   --mode=link g++  -O3 -Wall    -o mecab-system-eval mecab-system-eval.o libmecab.la -lpthread -lpthread  -lstdc++ \n",
            "libtool: link: g++ -O3 -Wall -o .libs/mecab-system-eval mecab-system-eval.o  ./.libs/libmecab.so -lpthread -lstdc++\n",
            "g++ -DHAVE_CONFIG_H -I. -I.. -DDIC_VERSION=102   -DMECAB_DEFAULT_RC=\"\\\"/usr/local/etc/mecabrc\\\"\"    -O3 -Wall  -c -o mecab-test-gen.o mecab-test-gen.cpp\n",
            "/bin/bash ../libtool --tag=CXX   --mode=link g++  -O3 -Wall    -o mecab-test-gen mecab-test-gen.o libmecab.la -lpthread -lpthread  -lstdc++ \n",
            "libtool: link: g++ -O3 -Wall -o .libs/mecab-test-gen mecab-test-gen.o  ./.libs/libmecab.so -lpthread -lstdc++\n",
            "make[2]: Leaving directory '/tmp/mecab-0.996-ko-0.9.2/src'\n",
            "Making all in man\n",
            "make[2]: Entering directory '/tmp/mecab-0.996-ko-0.9.2/man'\n",
            "make[2]: Nothing to be done for 'all'.\n",
            "make[2]: Leaving directory '/tmp/mecab-0.996-ko-0.9.2/man'\n",
            "Making all in doc\n",
            "make[2]: Entering directory '/tmp/mecab-0.996-ko-0.9.2/doc'\n",
            "make[2]: Nothing to be done for 'all'.\n",
            "make[2]: Leaving directory '/tmp/mecab-0.996-ko-0.9.2/doc'\n",
            "Making all in tests\n",
            "make[2]: Entering directory '/tmp/mecab-0.996-ko-0.9.2/tests'\n",
            "make[2]: Nothing to be done for 'all'.\n",
            "make[2]: Leaving directory '/tmp/mecab-0.996-ko-0.9.2/tests'\n",
            "make[2]: Entering directory '/tmp/mecab-0.996-ko-0.9.2'\n",
            "make[2]: Leaving directory '/tmp/mecab-0.996-ko-0.9.2'\n",
            "make[1]: Leaving directory '/tmp/mecab-0.996-ko-0.9.2'\n",
            "Making check in src\n",
            "make[1]: Entering directory '/tmp/mecab-0.996-ko-0.9.2/src'\n",
            "make[1]: Nothing to be done for 'check'.\n",
            "make[1]: Leaving directory '/tmp/mecab-0.996-ko-0.9.2/src'\n",
            "Making check in man\n",
            "make[1]: Entering directory '/tmp/mecab-0.996-ko-0.9.2/man'\n",
            "make[1]: Nothing to be done for 'check'.\n",
            "make[1]: Leaving directory '/tmp/mecab-0.996-ko-0.9.2/man'\n",
            "Making check in doc\n",
            "make[1]: Entering directory '/tmp/mecab-0.996-ko-0.9.2/doc'\n",
            "make[1]: Nothing to be done for 'check'.\n",
            "make[1]: Leaving directory '/tmp/mecab-0.996-ko-0.9.2/doc'\n",
            "Making check in tests\n",
            "make[1]: Entering directory '/tmp/mecab-0.996-ko-0.9.2/tests'\n",
            "make  check-TESTS\n",
            "make[2]: Entering directory '/tmp/mecab-0.996-ko-0.9.2/tests'\n",
            "./pos-id.def is not found. minimum setting is used\n",
            "reading ./unk.def ... 2\n",
            "emitting double-array: 100% |###########################################| \n",
            "./model.def is not found. skipped.\n",
            "./pos-id.def is not found. minimum setting is used\n",
            "reading ./dic.csv ... 177\n",
            "emitting double-array: 100% |###########################################| \n",
            "reading ./matrix.def ... 178x178\n",
            "emitting matrix      : 100% |###########################################| \n",
            "\n",
            "done!\n",
            "./pos-id.def is not found. minimum setting is used\n",
            "reading ./unk.def ... 2\n",
            "emitting double-array: 100% |###########################################| \n",
            "./model.def is not found. skipped.\n",
            "./pos-id.def is not found. minimum setting is used\n",
            "reading ./dic.csv ... 83\n",
            "emitting double-array: 100% |###########################################| \n",
            "reading ./matrix.def ... 84x84\n",
            "emitting matrix      : 100% |###########################################| \n",
            "\n",
            "done!\n",
            "./pos-id.def is not found. minimum setting is used\n",
            "reading ./unk.def ... 2\n",
            "emitting double-array: 100% |###########################################| \n",
            "./model.def is not found. skipped.\n",
            "./pos-id.def is not found. minimum setting is used\n",
            "reading ./dic.csv ... 450\n",
            "emitting double-array: 100% |###########################################| \n",
            "reading ./matrix.def ... 1x1\n",
            "\n",
            "done!\n",
            "./pos-id.def is not found. minimum setting is used\n",
            "reading ./unk.def ... 2\n",
            "emitting double-array: 100% |###########################################| \n",
            "./model.def is not found. skipped.\n",
            "./pos-id.def is not found. minimum setting is used\n",
            "reading ./dic.csv ... 162\n",
            "emitting double-array: 100% |###########################################| \n",
            "reading ./matrix.def ... 3x3\n",
            "emitting matrix      : 100% |###########################################| \n",
            "\n",
            "done!\n",
            "./pos-id.def is not found. minimum setting is used\n",
            "reading ./unk.def ... 2\n",
            "emitting double-array: 100% |###########################################| \n",
            "./model.def is not found. skipped.\n",
            "./pos-id.def is not found. minimum setting is used\n",
            "reading ./dic.csv ... 4\n",
            "emitting double-array: 100% |###########################################| \n",
            "reading ./matrix.def ... 1x1\n",
            "\n",
            "done!\n",
            "./pos-id.def is not found. minimum setting is used\n",
            "reading ./unk.def ... 11\n",
            "emitting double-array: 100% |###########################################| \n",
            "./model.def is not found. skipped.\n",
            "./pos-id.def is not found. minimum setting is used\n",
            "reading ./dic.csv ... 1\n",
            "reading ./matrix.def ... 1x1\n",
            "\n",
            "done!\n",
            "./pos-id.def is not found. minimum setting is used\n",
            "reading ./unk.def ... 2\n",
            "emitting double-array: 100% |###########################################| \n",
            "./model.def is not found. skipped.\n",
            "./pos-id.def is not found. minimum setting is used\n",
            "reading ./dic.csv ... 1\n",
            "reading ./matrix.def ... 1x1\n",
            "\n",
            "done!\n",
            "PASS: run-dics.sh\n",
            "PASS: run-eval.sh\n",
            "seed/pos-id.def is not found. minimum setting is used\n",
            "reading seed/unk.def ... 40\n",
            "emitting double-array: 100% |###########################################| \n",
            "seed/model.def is not found. skipped.\n",
            "seed/pos-id.def is not found. minimum setting is used\n",
            "reading seed/dic.csv ... 4335\n",
            "emitting double-array: 100% |###########################################| \n",
            "reading seed/matrix.def ... 1x1\n",
            "\n",
            "done!\n",
            "reading corpus ...\n",
            "Number of sentences: 34\n",
            "Number of features:  64108\n",
            "eta:                 0.00005\n",
            "freq:                1\n",
            "eval-size:           6\n",
            "unk-eval-size:       4\n",
            "threads:             1\n",
            "charset:             EUC-JP\n",
            "C(sigma^2):          1.00000\n",
            "\n",
            "iter=0 err=1.00000 F=0.35771 target=2406.28355 diff=1.00000\n",
            "iter=1 err=0.97059 F=0.65652 target=1484.25231 diff=0.38318\n",
            "iter=2 err=0.91176 F=0.79331 target=863.32765 diff=0.41834\n",
            "iter=3 err=0.85294 F=0.89213 target=596.72480 diff=0.30881\n",
            "iter=4 err=0.61765 F=0.95467 target=336.30744 diff=0.43641\n",
            "iter=5 err=0.50000 F=0.96702 target=246.53039 diff=0.26695\n",
            "iter=6 err=0.35294 F=0.95472 target=188.93963 diff=0.23361\n",
            "iter=7 err=0.20588 F=0.99106 target=168.62665 diff=0.10751\n",
            "iter=8 err=0.05882 F=0.99777 target=158.64865 diff=0.05917\n",
            "iter=9 err=0.08824 F=0.99665 target=154.14530 diff=0.02839\n",
            "iter=10 err=0.08824 F=0.99665 target=151.94257 diff=0.01429\n",
            "iter=11 err=0.02941 F=0.99888 target=147.20825 diff=0.03116\n",
            "iter=12 err=0.00000 F=1.00000 target=147.34956 diff=0.00096\n",
            "iter=13 err=0.02941 F=0.99888 target=146.32592 diff=0.00695\n",
            "iter=14 err=0.00000 F=1.00000 target=145.77299 diff=0.00378\n",
            "iter=15 err=0.02941 F=0.99888 target=145.24641 diff=0.00361\n",
            "iter=16 err=0.00000 F=1.00000 target=144.96490 diff=0.00194\n",
            "iter=17 err=0.02941 F=0.99888 target=144.90246 diff=0.00043\n",
            "iter=18 err=0.00000 F=1.00000 target=144.75959 diff=0.00099\n",
            "iter=19 err=0.00000 F=1.00000 target=144.71727 diff=0.00029\n",
            "iter=20 err=0.00000 F=1.00000 target=144.66337 diff=0.00037\n",
            "iter=21 err=0.00000 F=1.00000 target=144.61349 diff=0.00034\n",
            "iter=22 err=0.00000 F=1.00000 target=144.62987 diff=0.00011\n",
            "iter=23 err=0.00000 F=1.00000 target=144.60060 diff=0.00020\n",
            "iter=24 err=0.00000 F=1.00000 target=144.59125 diff=0.00006\n",
            "iter=25 err=0.00000 F=1.00000 target=144.58619 diff=0.00004\n",
            "iter=26 err=0.00000 F=1.00000 target=144.58219 diff=0.00003\n",
            "iter=27 err=0.00000 F=1.00000 target=144.58059 diff=0.00001\n",
            "\n",
            "Done! writing model file ... \n",
            "model-ipadic.c1.0.f1.model is not a binary model. reopen it as text mode...\n",
            "reading seed/unk.def ... 40\n",
            "reading seed/dic.csv ... 4335\n",
            "emitting model-ipadic.c1.0.f1.dic/left-id.def/ model-ipadic.c1.0.f1.dic/right-id.def\n",
            "emitting model-ipadic.c1.0.f1.dic/unk.def ... 40\n",
            "emitting model-ipadic.c1.0.f1.dic/dic.csv ... 4335\n",
            "emitting matrix      : 100% |###########################################| \n",
            "copying seed/char.def to model-ipadic.c1.0.f1.dic/char.def\n",
            "copying seed/rewrite.def to model-ipadic.c1.0.f1.dic/rewrite.def\n",
            "copying seed/dicrc to model-ipadic.c1.0.f1.dic/dicrc\n",
            "copying seed/feature.def to model-ipadic.c1.0.f1.dic/feature.def\n",
            "copying model-ipadic.c1.0.f1.model to model-ipadic.c1.0.f1.dic/model.def\n",
            "\n",
            "done!\n",
            "model-ipadic.c1.0.f1.dic/pos-id.def is not found. minimum setting is used\n",
            "reading model-ipadic.c1.0.f1.dic/unk.def ... 40\n",
            "emitting double-array: 100% |###########################################| \n",
            "model-ipadic.c1.0.f1.dic/pos-id.def is not found. minimum setting is used\n",
            "reading model-ipadic.c1.0.f1.dic/dic.csv ... 4335\n",
            "emitting double-array: 100% |###########################################| \n",
            "reading model-ipadic.c1.0.f1.dic/matrix.def ... 346x346\n",
            "emitting matrix      : 100% |###########################################| \n",
            "\n",
            "done!\n",
            "              precision          recall         F\n",
            "LEVEL 0:    12.8959(57/442) 11.8998(57/479) 12.3779\n",
            "LEVEL 1:    12.2172(54/442) 11.2735(54/479) 11.7264\n",
            "LEVEL 2:    11.7647(52/442) 10.8559(52/479) 11.2921\n",
            "LEVEL 4:    11.7647(52/442) 10.8559(52/479) 11.2921\n",
            "PASS: run-cost-train.sh\n",
            "==================\n",
            "All 3 tests passed\n",
            "==================\n",
            "make[2]: Leaving directory '/tmp/mecab-0.996-ko-0.9.2/tests'\n",
            "make[1]: Leaving directory '/tmp/mecab-0.996-ko-0.9.2/tests'\n",
            "make[1]: Entering directory '/tmp/mecab-0.996-ko-0.9.2'\n",
            "make[1]: Leaving directory '/tmp/mecab-0.996-ko-0.9.2'\n",
            "Making install in src\n",
            "make[1]: Entering directory '/tmp/mecab-0.996-ko-0.9.2/src'\n",
            "make[2]: Entering directory '/tmp/mecab-0.996-ko-0.9.2/src'\n",
            "test -z \"/usr/local/lib\" || /usr/bin/mkdir -p \"/usr/local/lib\"\n",
            " /bin/bash ../libtool   --mode=install /usr/bin/install -c   libmecab.la '/usr/local/lib'\n",
            "libtool: install: /usr/bin/install -c .libs/libmecab.so.2.0.0 /usr/local/lib/libmecab.so.2.0.0\n",
            "libtool: install: (cd /usr/local/lib && { ln -s -f libmecab.so.2.0.0 libmecab.so.2 || { rm -f libmecab.so.2 && ln -s libmecab.so.2.0.0 libmecab.so.2; }; })\n",
            "libtool: install: (cd /usr/local/lib && { ln -s -f libmecab.so.2.0.0 libmecab.so || { rm -f libmecab.so && ln -s libmecab.so.2.0.0 libmecab.so; }; })\n",
            "libtool: install: /usr/bin/install -c .libs/libmecab.lai /usr/local/lib/libmecab.la\n",
            "libtool: install: /usr/bin/install -c .libs/libmecab.a /usr/local/lib/libmecab.a\n",
            "libtool: install: chmod 644 /usr/local/lib/libmecab.a\n",
            "libtool: install: ranlib /usr/local/lib/libmecab.a\n",
            "libtool: finish: PATH=\"/usr/local/sbin:/usr/local/bin:/usr/sbin:/usr/bin:/sbin:/bin:/snap/bin:/sbin\" ldconfig -n /usr/local/lib\n",
            "/sbin/ldconfig.real: /usr/local/lib/libtbbbind_2_5.so.3 is not a symbolic link\n",
            "\n",
            "/sbin/ldconfig.real: /usr/local/lib/libtbbmalloc.so.2 is not a symbolic link\n",
            "\n",
            "/sbin/ldconfig.real: /usr/local/lib/libtbbbind_2_0.so.3 is not a symbolic link\n",
            "\n",
            "/sbin/ldconfig.real: /usr/local/lib/libtbbbind.so.3 is not a symbolic link\n",
            "\n",
            "/sbin/ldconfig.real: /usr/local/lib/libtbbmalloc_proxy.so.2 is not a symbolic link\n",
            "\n",
            "/sbin/ldconfig.real: /usr/local/lib/libtbb.so.12 is not a symbolic link\n",
            "\n",
            "----------------------------------------------------------------------\n",
            "Libraries have been installed in:\n",
            "   /usr/local/lib\n",
            "\n",
            "If you ever happen to want to link against installed libraries\n",
            "in a given directory, LIBDIR, you must either use libtool, and\n",
            "specify the full pathname of the library, or use the `-LLIBDIR'\n",
            "flag during linking and do at least one of the following:\n",
            "   - add LIBDIR to the `LD_LIBRARY_PATH' environment variable\n",
            "     during execution\n",
            "   - add LIBDIR to the `LD_RUN_PATH' environment variable\n",
            "     during linking\n",
            "   - use the `-Wl,-rpath -Wl,LIBDIR' linker flag\n",
            "   - have your system administrator add LIBDIR to `/etc/ld.so.conf'\n",
            "\n",
            "See any operating system documentation about shared libraries for\n",
            "more information, such as the ld(1) and ld.so(8) manual pages.\n",
            "----------------------------------------------------------------------\n",
            "test -z \"/usr/local/bin\" || /usr/bin/mkdir -p \"/usr/local/bin\"\n",
            "  /bin/bash ../libtool   --mode=install /usr/bin/install -c mecab '/usr/local/bin'\n",
            "libtool: install: /usr/bin/install -c .libs/mecab /usr/local/bin/mecab\n",
            "test -z \"/usr/local/libexec/mecab\" || /usr/bin/mkdir -p \"/usr/local/libexec/mecab\"\n",
            "  /bin/bash ../libtool   --mode=install /usr/bin/install -c mecab-dict-index mecab-dict-gen mecab-cost-train mecab-system-eval mecab-test-gen '/usr/local/libexec/mecab'\n",
            "libtool: install: /usr/bin/install -c .libs/mecab-dict-index /usr/local/libexec/mecab/mecab-dict-index\n",
            "libtool: install: /usr/bin/install -c .libs/mecab-dict-gen /usr/local/libexec/mecab/mecab-dict-gen\n",
            "libtool: install: /usr/bin/install -c .libs/mecab-cost-train /usr/local/libexec/mecab/mecab-cost-train\n",
            "libtool: install: /usr/bin/install -c .libs/mecab-system-eval /usr/local/libexec/mecab/mecab-system-eval\n",
            "libtool: install: /usr/bin/install -c .libs/mecab-test-gen /usr/local/libexec/mecab/mecab-test-gen\n",
            "test -z \"/usr/local/include\" || /usr/bin/mkdir -p \"/usr/local/include\"\n",
            " /usr/bin/install -c -m 644 mecab.h '/usr/local/include'\n",
            "make[2]: Leaving directory '/tmp/mecab-0.996-ko-0.9.2/src'\n",
            "make[1]: Leaving directory '/tmp/mecab-0.996-ko-0.9.2/src'\n",
            "Making install in man\n",
            "make[1]: Entering directory '/tmp/mecab-0.996-ko-0.9.2/man'\n",
            "make[2]: Entering directory '/tmp/mecab-0.996-ko-0.9.2/man'\n",
            "make[2]: Nothing to be done for 'install-exec-am'.\n",
            "test -z \"/usr/local/share/man/man1\" || /usr/bin/mkdir -p \"/usr/local/share/man/man1\"\n",
            " /usr/bin/install -c -m 644 mecab.1 '/usr/local/share/man/man1'\n",
            "make[2]: Leaving directory '/tmp/mecab-0.996-ko-0.9.2/man'\n",
            "make[1]: Leaving directory '/tmp/mecab-0.996-ko-0.9.2/man'\n",
            "Making install in doc\n",
            "make[1]: Entering directory '/tmp/mecab-0.996-ko-0.9.2/doc'\n",
            "make[2]: Entering directory '/tmp/mecab-0.996-ko-0.9.2/doc'\n",
            "make[2]: Nothing to be done for 'install-exec-am'.\n",
            "make[2]: Nothing to be done for 'install-data-am'.\n",
            "make[2]: Leaving directory '/tmp/mecab-0.996-ko-0.9.2/doc'\n",
            "make[1]: Leaving directory '/tmp/mecab-0.996-ko-0.9.2/doc'\n",
            "Making install in tests\n",
            "make[1]: Entering directory '/tmp/mecab-0.996-ko-0.9.2/tests'\n",
            "make[2]: Entering directory '/tmp/mecab-0.996-ko-0.9.2/tests'\n",
            "make[2]: Nothing to be done for 'install-exec-am'.\n",
            "make[2]: Nothing to be done for 'install-data-am'.\n",
            "make[2]: Leaving directory '/tmp/mecab-0.996-ko-0.9.2/tests'\n",
            "make[1]: Leaving directory '/tmp/mecab-0.996-ko-0.9.2/tests'\n",
            "make[1]: Entering directory '/tmp/mecab-0.996-ko-0.9.2'\n",
            "make[2]: Entering directory '/tmp/mecab-0.996-ko-0.9.2'\n",
            "test -z \"/usr/local/bin\" || /usr/bin/mkdir -p \"/usr/local/bin\"\n",
            " /usr/bin/install -c mecab-config '/usr/local/bin'\n",
            "test -z \"/usr/local/etc\" || /usr/bin/mkdir -p \"/usr/local/etc\"\n",
            " /usr/bin/install -c -m 644 mecabrc '/usr/local/etc'\n",
            "make[2]: Leaving directory '/tmp/mecab-0.996-ko-0.9.2'\n",
            "make[1]: Leaving directory '/tmp/mecab-0.996-ko-0.9.2'\n",
            "Install mecab-ko-dic\n",
            "Install mecab-ko-dic\n",
            "  % Total    % Received % Xferd  Average Speed   Time    Time     Time  Current\n",
            "                                 Dload  Upload   Total   Spent    Left  Speed\n",
            "  0     0    0     0    0     0      0      0 --:--:-- --:--:-- --:--:--     0\n",
            "100 47.4M  100 47.4M    0     0  8880k      0  0:00:05  0:00:05 --:--:-- 11.3M\n",
            "mecab-ko-dic-2.1.1-20180720/\n",
            "mecab-ko-dic-2.1.1-20180720/configure\n",
            "mecab-ko-dic-2.1.1-20180720/COPYING\n",
            "mecab-ko-dic-2.1.1-20180720/autogen.sh\n",
            "mecab-ko-dic-2.1.1-20180720/Place-station.csv\n",
            "mecab-ko-dic-2.1.1-20180720/NNG.csv\n",
            "mecab-ko-dic-2.1.1-20180720/README\n",
            "mecab-ko-dic-2.1.1-20180720/EF.csv\n",
            "mecab-ko-dic-2.1.1-20180720/MAG.csv\n",
            "mecab-ko-dic-2.1.1-20180720/Preanalysis.csv\n",
            "mecab-ko-dic-2.1.1-20180720/NNB.csv\n",
            "mecab-ko-dic-2.1.1-20180720/Person-actor.csv\n",
            "mecab-ko-dic-2.1.1-20180720/VV.csv\n",
            "mecab-ko-dic-2.1.1-20180720/Makefile.in\n",
            "mecab-ko-dic-2.1.1-20180720/matrix.def\n",
            "mecab-ko-dic-2.1.1-20180720/EC.csv\n",
            "mecab-ko-dic-2.1.1-20180720/NNBC.csv\n",
            "mecab-ko-dic-2.1.1-20180720/clean\n",
            "mecab-ko-dic-2.1.1-20180720/ChangeLog\n",
            "mecab-ko-dic-2.1.1-20180720/J.csv\n",
            "mecab-ko-dic-2.1.1-20180720/.keep\n",
            "mecab-ko-dic-2.1.1-20180720/feature.def\n",
            "mecab-ko-dic-2.1.1-20180720/Foreign.csv\n",
            "mecab-ko-dic-2.1.1-20180720/XPN.csv\n",
            "mecab-ko-dic-2.1.1-20180720/EP.csv\n",
            "mecab-ko-dic-2.1.1-20180720/NR.csv\n",
            "mecab-ko-dic-2.1.1-20180720/left-id.def\n",
            "mecab-ko-dic-2.1.1-20180720/Place.csv\n",
            "mecab-ko-dic-2.1.1-20180720/Symbol.csv\n",
            "mecab-ko-dic-2.1.1-20180720/dicrc\n",
            "mecab-ko-dic-2.1.1-20180720/NP.csv\n",
            "mecab-ko-dic-2.1.1-20180720/ETM.csv\n",
            "mecab-ko-dic-2.1.1-20180720/IC.csv\n",
            "mecab-ko-dic-2.1.1-20180720/Place-address.csv\n",
            "mecab-ko-dic-2.1.1-20180720/Group.csv\n",
            "mecab-ko-dic-2.1.1-20180720/model.def\n",
            "mecab-ko-dic-2.1.1-20180720/XSN.csv\n",
            "mecab-ko-dic-2.1.1-20180720/INSTALL\n",
            "mecab-ko-dic-2.1.1-20180720/rewrite.def\n",
            "mecab-ko-dic-2.1.1-20180720/Inflect.csv\n",
            "mecab-ko-dic-2.1.1-20180720/configure.ac\n",
            "mecab-ko-dic-2.1.1-20180720/NNP.csv\n",
            "mecab-ko-dic-2.1.1-20180720/CoinedWord.csv\n",
            "mecab-ko-dic-2.1.1-20180720/XSV.csv\n",
            "mecab-ko-dic-2.1.1-20180720/pos-id.def\n",
            "mecab-ko-dic-2.1.1-20180720/Makefile.am\n",
            "mecab-ko-dic-2.1.1-20180720/unk.def\n",
            "mecab-ko-dic-2.1.1-20180720/missing\n",
            "mecab-ko-dic-2.1.1-20180720/VCP.csv\n",
            "mecab-ko-dic-2.1.1-20180720/install-sh\n",
            "mecab-ko-dic-2.1.1-20180720/Hanja.csv\n",
            "mecab-ko-dic-2.1.1-20180720/MAJ.csv\n",
            "mecab-ko-dic-2.1.1-20180720/XSA.csv\n",
            "mecab-ko-dic-2.1.1-20180720/Wikipedia.csv\n",
            "mecab-ko-dic-2.1.1-20180720/tools/\n",
            "mecab-ko-dic-2.1.1-20180720/tools/add-userdic.sh\n",
            "mecab-ko-dic-2.1.1-20180720/tools/mecab-bestn.sh\n",
            "mecab-ko-dic-2.1.1-20180720/tools/convert_for_using_store.sh\n",
            "mecab-ko-dic-2.1.1-20180720/user-dic/\n",
            "mecab-ko-dic-2.1.1-20180720/user-dic/nnp.csv\n",
            "mecab-ko-dic-2.1.1-20180720/user-dic/place.csv\n",
            "mecab-ko-dic-2.1.1-20180720/user-dic/person.csv\n",
            "mecab-ko-dic-2.1.1-20180720/user-dic/README.md\n",
            "mecab-ko-dic-2.1.1-20180720/NorthKorea.csv\n",
            "mecab-ko-dic-2.1.1-20180720/VX.csv\n",
            "mecab-ko-dic-2.1.1-20180720/right-id.def\n",
            "mecab-ko-dic-2.1.1-20180720/VA.csv\n",
            "mecab-ko-dic-2.1.1-20180720/char.def\n",
            "mecab-ko-dic-2.1.1-20180720/NEWS\n",
            "mecab-ko-dic-2.1.1-20180720/MM.csv\n",
            "mecab-ko-dic-2.1.1-20180720/ETN.csv\n",
            "mecab-ko-dic-2.1.1-20180720/AUTHORS\n",
            "mecab-ko-dic-2.1.1-20180720/Person.csv\n",
            "mecab-ko-dic-2.1.1-20180720/XR.csv\n",
            "mecab-ko-dic-2.1.1-20180720/VCN.csv\n",
            "Looking in current directory for macros.\n",
            "configure.ac:2: warning: AM_INIT_AUTOMAKE: two- and three-arguments forms are deprecated.\n",
            "./lib/autoconf/general.m4:2434: AC_DIAGNOSE is expanded from...\n",
            "aclocal.m4:139: AM_INIT_AUTOMAKE is expanded from...\n",
            "configure.ac:2: the top level\n",
            "configure.ac:56: warning: AC_OUTPUT should be used without arguments.\n",
            "configure.ac:56: You should run autoupdate.\n",
            "configure.ac:2: warning: AM_INIT_AUTOMAKE: two- and three-arguments forms are deprecated.  For more info, see:\n",
            "configure.ac:2: https://www.gnu.org/software/automake/manual/automake.html#Modernize-AM_005fINIT_005fAUTOMAKE-invocation\n",
            "checking for a BSD-compatible install... /usr/bin/install -c\n",
            "checking whether build environment is sane... yes\n",
            "/tmp/mecab-ko-dic-2.1.1-20180720/missing: Unknown `--is-lightweight' option\n",
            "Try `/tmp/mecab-ko-dic-2.1.1-20180720/missing --help' for more information\n",
            "configure: WARNING: 'missing' script is too old or missing\n",
            "checking for a race-free mkdir -p... /usr/bin/mkdir -p\n",
            "checking for gawk... no\n",
            "checking for mawk... mawk\n",
            "checking whether make sets $(MAKE)... yes\n",
            "checking whether make supports nested variables... yes\n",
            "checking for mecab-config... /usr/local/bin/mecab-config\n",
            "checking that generated files are newer than configure... done\n",
            "configure: creating ./config.status\n",
            "config.status: creating Makefile\n",
            "/usr/local/lib\n",
            "/sbin/ldconfig.real: /usr/local/lib/libtbbbind_2_5.so.3 is not a symbolic link\n",
            "\n",
            "/sbin/ldconfig.real: /usr/local/lib/libtbbmalloc.so.2 is not a symbolic link\n",
            "\n",
            "/sbin/ldconfig.real: /usr/local/lib/libtbbbind_2_0.so.3 is not a symbolic link\n",
            "\n",
            "/sbin/ldconfig.real: /usr/local/lib/libtbbbind.so.3 is not a symbolic link\n",
            "\n",
            "/sbin/ldconfig.real: /usr/local/lib/libtbbmalloc_proxy.so.2 is not a symbolic link\n",
            "\n",
            "/sbin/ldconfig.real: /usr/local/lib/libtbb.so.12 is not a symbolic link\n",
            "\n",
            "/usr/local/libexec/mecab/mecab-dict-index -d . -o . -f UTF-8 -t UTF-8\n",
            "reading ./unk.def ... 13\n",
            "emitting double-array: 100% |###########################################| \n",
            "reading ./ETN.csv ... 14\n",
            "reading ./NNB.csv ... 140\n",
            "reading ./Wikipedia.csv ... 36762\n",
            "reading ./Person-actor.csv ... 99230\n",
            "reading ./Preanalysis.csv ... 5\n",
            "reading ./Place.csv ... 30303\n",
            "reading ./MAG.csv ... 14242\n",
            "reading ./NP.csv ... 342\n",
            "reading ./Foreign.csv ... 11690\n",
            "reading ./EF.csv ... 1820\n",
            "reading ./Inflect.csv ... 44820\n",
            "reading ./XPN.csv ... 83\n",
            "reading ./Person.csv ... 196459\n",
            "reading ./XSA.csv ... 19\n",
            "reading ./XSV.csv ... 23\n",
            "reading ./VCP.csv ... 9\n",
            "reading ./NNG.csv ... 208524\n",
            "reading ./NNBC.csv ... 677\n",
            "reading ./MM.csv ... 453\n",
            "reading ./NorthKorea.csv ... 3\n",
            "reading ./Hanja.csv ... 125750\n",
            "reading ./XSN.csv ... 124\n",
            "reading ./VCN.csv ... 7\n",
            "reading ./VV.csv ... 7331\n",
            "reading ./EC.csv ... 2547\n",
            "reading ./Place-station.csv ... 1145\n",
            "reading ./IC.csv ... 1305\n",
            "reading ./Symbol.csv ... 16\n",
            "reading ./Group.csv ... 3176\n",
            "reading ./VA.csv ... 2360\n",
            "reading ./EP.csv ... 51\n",
            "reading ./CoinedWord.csv ... 148\n",
            "reading ./Place-address.csv ... 19301\n",
            "reading ./J.csv ... 416\n",
            "reading ./VX.csv ... 125\n",
            "reading ./XR.csv ... 3637\n",
            "reading ./ETM.csv ... 133\n",
            "reading ./NNP.csv ... 2371\n",
            "reading ./MAJ.csv ... 240\n",
            "reading ./NR.csv ... 482\n",
            "emitting double-array: 100% |###########################################| \n",
            "reading ./matrix.def ... 3822x2693\n",
            "emitting matrix      : 100% |###########################################| \n",
            "\n",
            "done!\n",
            "echo To enable dictionary, rewrite /usr/local/etc/mecabrc as \\\"dicdir = /usr/local/lib/mecab/dic/mecab-ko-dic\\\"\n",
            "To enable dictionary, rewrite /usr/local/etc/mecabrc as \"dicdir = /usr/local/lib/mecab/dic/mecab-ko-dic\"\n",
            "make[1]: Entering directory '/tmp/mecab-ko-dic-2.1.1-20180720'\n",
            "make[1]: Nothing to be done for 'install-exec-am'.\n",
            " /usr/bin/mkdir -p '/usr/local/lib/mecab/dic/mecab-ko-dic'\n",
            " /usr/bin/install -c -m 644 model.bin matrix.bin char.bin sys.dic unk.dic left-id.def right-id.def rewrite.def pos-id.def dicrc '/usr/local/lib/mecab/dic/mecab-ko-dic'\n",
            "make[1]: Leaving directory '/tmp/mecab-ko-dic-2.1.1-20180720'\n",
            "mecab-python is already installed\n",
            "Done.\n"
          ]
        }
      ]
    },
    {
      "cell_type": "markdown",
      "source": [
        "Mecab 설치 중 에러 발생 참고 : https://somjang.tistory.com/entry/Google-Colab%EC%97%90%EC%84%9C-Mecab-koMecab-ko-dic-%EC%89%BD%EA%B2%8C-%EC%82%AC%EC%9A%A9%ED%95%98%EA%B8%B0"
      ],
      "metadata": {
        "id": "nOOia28ekoF9"
      }
    },
    {
      "cell_type": "code",
      "source": [
        "from konlpy.tag import Mecab\n",
        "mecab = Mecab()\n",
        "text = u\"\"\"이제 구글 코랩에서 Mecab-ko라이브러리 사용이 가능합니다.\"\"\"\n",
        "nouns = mecab.nouns(text) #메캡으로 text의 명사를 추출\n",
        "print(nouns)"
      ],
      "metadata": {
        "colab": {
          "base_uri": "https://localhost:8080/"
        },
        "id": "fhe9L22vkJ2s",
        "outputId": "cdab3916-a3d9-4672-9aeb-010102fa7754"
      },
      "execution_count": 1,
      "outputs": [
        {
          "output_type": "stream",
          "name": "stdout",
          "text": [
            "['구글', '랩', '라이브러리', '사용', '가능']\n"
          ]
        }
      ]
    },
    {
      "cell_type": "code",
      "source": [
        "from nltk.tokenize import sent_tokenize\n",
        "from konlpy.tag import Hannanum\n",
        "from konlpy.tag import Kkma\n",
        "from konlpy.tag import Okt\n",
        "from konlpy.tag import Komoran\n",
        "import nltk\n",
        "nltk.download('popular')"
      ],
      "metadata": {
        "colab": {
          "base_uri": "https://localhost:8080/"
        },
        "id": "duCw9HVOmLpq",
        "outputId": "c446ba23-fdc2-42b8-8525-aa49c29e922a"
      },
      "execution_count": 2,
      "outputs": [
        {
          "output_type": "stream",
          "name": "stderr",
          "text": [
            "[nltk_data] Downloading collection 'popular'\n",
            "[nltk_data]    | \n",
            "[nltk_data]    | Downloading package cmudict to /root/nltk_data...\n",
            "[nltk_data]    |   Package cmudict is already up-to-date!\n",
            "[nltk_data]    | Downloading package gazetteers to /root/nltk_data...\n",
            "[nltk_data]    |   Package gazetteers is already up-to-date!\n",
            "[nltk_data]    | Downloading package genesis to /root/nltk_data...\n",
            "[nltk_data]    |   Package genesis is already up-to-date!\n",
            "[nltk_data]    | Downloading package gutenberg to /root/nltk_data...\n",
            "[nltk_data]    |   Package gutenberg is already up-to-date!\n",
            "[nltk_data]    | Downloading package inaugural to /root/nltk_data...\n",
            "[nltk_data]    |   Package inaugural is already up-to-date!\n",
            "[nltk_data]    | Downloading package movie_reviews to\n",
            "[nltk_data]    |     /root/nltk_data...\n",
            "[nltk_data]    |   Package movie_reviews is already up-to-date!\n",
            "[nltk_data]    | Downloading package names to /root/nltk_data...\n",
            "[nltk_data]    |   Package names is already up-to-date!\n",
            "[nltk_data]    | Downloading package shakespeare to /root/nltk_data...\n",
            "[nltk_data]    |   Package shakespeare is already up-to-date!\n",
            "[nltk_data]    | Downloading package stopwords to /root/nltk_data...\n",
            "[nltk_data]    |   Package stopwords is already up-to-date!\n",
            "[nltk_data]    | Downloading package treebank to /root/nltk_data...\n",
            "[nltk_data]    |   Package treebank is already up-to-date!\n",
            "[nltk_data]    | Downloading package twitter_samples to\n",
            "[nltk_data]    |     /root/nltk_data...\n",
            "[nltk_data]    |   Package twitter_samples is already up-to-date!\n",
            "[nltk_data]    | Downloading package omw to /root/nltk_data...\n",
            "[nltk_data]    |   Package omw is already up-to-date!\n",
            "[nltk_data]    | Downloading package omw-1.4 to /root/nltk_data...\n",
            "[nltk_data]    |   Package omw-1.4 is already up-to-date!\n",
            "[nltk_data]    | Downloading package wordnet to /root/nltk_data...\n",
            "[nltk_data]    |   Package wordnet is already up-to-date!\n",
            "[nltk_data]    | Downloading package wordnet2021 to /root/nltk_data...\n",
            "[nltk_data]    |   Package wordnet2021 is already up-to-date!\n",
            "[nltk_data]    | Downloading package wordnet31 to /root/nltk_data...\n",
            "[nltk_data]    |   Package wordnet31 is already up-to-date!\n",
            "[nltk_data]    | Downloading package wordnet_ic to /root/nltk_data...\n",
            "[nltk_data]    |   Package wordnet_ic is already up-to-date!\n",
            "[nltk_data]    | Downloading package words to /root/nltk_data...\n",
            "[nltk_data]    |   Package words is already up-to-date!\n",
            "[nltk_data]    | Downloading package maxent_ne_chunker to\n",
            "[nltk_data]    |     /root/nltk_data...\n",
            "[nltk_data]    |   Package maxent_ne_chunker is already up-to-date!\n",
            "[nltk_data]    | Downloading package punkt to /root/nltk_data...\n",
            "[nltk_data]    |   Package punkt is already up-to-date!\n",
            "[nltk_data]    | Downloading package snowball_data to\n",
            "[nltk_data]    |     /root/nltk_data...\n",
            "[nltk_data]    |   Package snowball_data is already up-to-date!\n",
            "[nltk_data]    | Downloading package averaged_perceptron_tagger to\n",
            "[nltk_data]    |     /root/nltk_data...\n",
            "[nltk_data]    |   Package averaged_perceptron_tagger is already up-\n",
            "[nltk_data]    |       to-date!\n",
            "[nltk_data]    | \n",
            "[nltk_data]  Done downloading collection popular\n"
          ]
        },
        {
          "output_type": "execute_result",
          "data": {
            "text/plain": [
              "True"
            ]
          },
          "metadata": {},
          "execution_count": 2
        }
      ]
    },
    {
      "cell_type": "code",
      "source": [
        "# 한국어 처리 도구 생성\n",
        "hannanum = Hannanum()\n",
        "kkma = Kkma()\n",
        "komoran = Komoran()\n",
        "mecab = Mecab()\n",
        "okt = Okt()"
      ],
      "metadata": {
        "id": "0m7NhJ2LmG7e"
      },
      "execution_count": 3,
      "outputs": []
    },
    {
      "cell_type": "code",
      "source": [
        "#예시를 위해 영문장, 한문장을 임의로 설정.\n",
        "text1 = \"I am graduate Yonsei university. My major is Bio Medical engineering. but my favorite is Machine learning&Data Science.\"\n",
        "text2 = \"자연어 처리 어렵네요. 특히 한국어 처리는 더 어려운거 같아요. 다들 화이팅하세요!\""
      ],
      "metadata": {
        "id": "EzxWd8OOmeoN"
      },
      "execution_count": 6,
      "outputs": []
    },
    {
      "cell_type": "markdown",
      "source": [
        "한국어 처리를 각각 어떻게 하는지 비교해보자."
      ],
      "metadata": {
        "id": "vNfdGO38nOaS"
      }
    },
    {
      "cell_type": "code",
      "source": [
        "print(\"sent_tokenize\")\n",
        "print(sent_tokenize(text1))\n",
        "print(sent_tokenize(text2))"
      ],
      "metadata": {
        "colab": {
          "base_uri": "https://localhost:8080/"
        },
        "id": "fPqb38q_mnsz",
        "outputId": "9d6c3d4b-d6e8-430f-dee2-0538ae141f22"
      },
      "execution_count": 11,
      "outputs": [
        {
          "output_type": "stream",
          "name": "stdout",
          "text": [
            "sent_tokenize\n",
            "['I am graduate Yonsei university.', 'My major is Bio Medical engineering.', 'but my favorite is Machine learning&Data Science.']\n",
            "['자연어 처리 어렵네요.', '특히 한국어 처리는 더 어려운거 같아요.', '다들 화이팅하세요!']\n"
          ]
        }
      ]
    },
    {
      "cell_type": "code",
      "source": [
        "print(\"Hannanum\")\n",
        "print(hannanum.morphs(text1))\n",
        "print(hannanum.morphs(text2))"
      ],
      "metadata": {
        "colab": {
          "base_uri": "https://localhost:8080/"
        },
        "id": "74WNhLxxmpIj",
        "outputId": "866d8e87-4790-4cc8-fb58-3b7b95c5f37a"
      },
      "execution_count": 12,
      "outputs": [
        {
          "output_type": "stream",
          "name": "stdout",
          "text": [
            "Hannanum\n",
            "['I', 'am', 'graduate', 'Yonsei', 'university', '.', 'My', 'major', 'is', 'Bio', 'Medical', 'engineering', '.', 'but', 'my', 'favorite', 'is', 'Machine', 'learning&Data', 'Science', '.']\n",
            "['자연어', '처리', '어렵', '네', '요', '.', '특히', '한국어', '처리', '는', '더', '어려운거', '같', '아', '요', '.', '다들', '화이팅하세요', '!']\n"
          ]
        }
      ]
    },
    {
      "cell_type": "code",
      "source": [
        "print(\"Kkma\")\n",
        "print(kkma.morphs(text1))\n",
        "print(kkma.morphs(text2))"
      ],
      "metadata": {
        "colab": {
          "base_uri": "https://localhost:8080/"
        },
        "id": "lUb-r2Cmmq1k",
        "outputId": "5fa6de9c-af95-4797-f595-a3430cb1a427"
      },
      "execution_count": 13,
      "outputs": [
        {
          "output_type": "stream",
          "name": "stdout",
          "text": [
            "Kkma\n",
            "['I', 'am', 'graduate', 'Yonsei', 'university', '.', 'My', 'major', 'is', 'Bio', 'Medical', 'engineering', '.', 'but', 'my', 'favorite', 'is', 'Machine', 'learning', '&', 'Data', 'Science', '.']\n",
            "['자연어', '처리', '어렵', '네요', '.', '특히', '한국어', '처리', '는', '더', '어렵', 'ㄴ', '거', '같', '아요', '.', '다', '들', 'ㄹ', '화이팅하세', '요', '!']\n"
          ]
        }
      ]
    },
    {
      "cell_type": "code",
      "source": [
        "print(\"Okt\")\n",
        "print(okt.morphs(text1))\n",
        "print(okt.morphs(text2))"
      ],
      "metadata": {
        "colab": {
          "base_uri": "https://localhost:8080/"
        },
        "id": "3DIGDgg3mtYx",
        "outputId": "b0ce6549-7af2-4ee6-f865-8c6acb1d8bf6"
      },
      "execution_count": 14,
      "outputs": [
        {
          "output_type": "stream",
          "name": "stdout",
          "text": [
            "Okt\n",
            "['I', 'am', 'graduate', 'Yonsei', 'university', '.', 'My', 'major', 'is', 'Bio', 'Medical', 'engineering', '.', 'but', 'my', 'favorite', 'is', 'Machine', 'learning', '&', 'Data', 'Science', '.']\n",
            "['자연어', '처리', '어렵네요', '.', '특히', '한국어', '처리', '는', '더', '어려운거', '같아요', '.', '다', '들', '화이팅', '하세요', '!']\n"
          ]
        }
      ]
    },
    {
      "cell_type": "markdown",
      "source": [
        "혹시\n",
        "jpype._jvmfinder.JVMNotFoundException: No JVM shared library file (jng>vm.dll) found. Try setting up the JAVA_HOME environment variable properly. 라는 오류가 발생한다면\n",
        "\n",
        " C:\\아나콘다설치위치\\Lib\\site-packages\\jpype 에 들어가서 _jvmfinder.py 파일을 여신 다음 ctrl + F 로 java_home 검색 후\n",
        "\n",
        "java_home = \"자바설치경로\" 로 해주시면 오류없이 실행됨."
      ],
      "metadata": {
        "id": "JIb4sTyjm0j-"
      }
    },
    {
      "cell_type": "markdown",
      "source": [],
      "metadata": {
        "id": "NUAhRYLtjcDP"
      }
    },
    {
      "cell_type": "markdown",
      "source": [
        "## 한국어 처리 도구들 비교 맛보기2"
      ],
      "metadata": {
        "id": "vR949VSFoxGw"
      }
    },
    {
      "cell_type": "markdown",
      "source": [
        "네이버 영화 리뷰 데이터 1000개로 한국어 처리 도구 성능 비교 해보기.\n",
        "\n",
        "*원래 20만개인데 테스트하기엔 비교적 대용량이라 축소했다. 코드를 보고 늘려서 해보려면 해봐라.\n",
        "\n",
        "명사 추출 속도 비교 분석이다.\n"
      ],
      "metadata": {
        "id": "qqQSBPnupVGr"
      }
    },
    {
      "cell_type": "code",
      "source": [
        "import urllib.request\n",
        "import time"
      ],
      "metadata": {
        "id": "bTUdKPtPpjRZ"
      },
      "execution_count": 17,
      "outputs": []
    },
    {
      "cell_type": "code",
      "source": [
        "# 리뷰 데이터 ratings.txt 불러오기\n",
        "urllib.request.urlretrieve(\"https://raw.githubusercontent.com/e9t/nsmc/master/ratings.txt\", filename=\"ratings.txt\")\n",
        "\n",
        "def set_review_data(file_nm):\n",
        "    with open(file_nm, \"r\", encoding=\"utf8\") as f:\n",
        "        data = [line.split('\\t') for line in f.read().splitlines()]\n",
        "    return data[1:1001]\n",
        "\n",
        "start_time = time.time()\n",
        "print('[BEGIN] 리뷰 데이터를 읽기.')\n",
        "review_data = set_review_data('ratings.txt')\n",
        "print('리뷰 데이터 크기->', len(review_data))\n",
        "print('[END] 리뷰 데이터를 읽기. (', time.time() - start_time, ')sec')"
      ],
      "metadata": {
        "colab": {
          "base_uri": "https://localhost:8080/"
        },
        "id": "aETPdTVorK3G",
        "outputId": "e8fbc7c9-329f-447d-dd81-7a0b17a89a4b"
      },
      "execution_count": 27,
      "outputs": [
        {
          "output_type": "stream",
          "name": "stdout",
          "text": [
            "[BEGIN] 리뷰 데이터를 읽기.\n",
            "리뷰 데이터 크기-> 1000\n",
            "[END] 리뷰 데이터를 읽기. ( 1.1474969387054443 )sec\n"
          ]
        }
      ]
    },
    {
      "cell_type": "code",
      "source": [
        "print(review_data[1][1]) #리뷰 데이터가 잘 읽혔는지 확인"
      ],
      "metadata": {
        "colab": {
          "base_uri": "https://localhost:8080/"
        },
        "id": "q4kQSruErF7v",
        "outputId": "5e86b596-0e75-403a-f50c-5082fc33a82c"
      },
      "execution_count": 28,
      "outputs": [
        {
          "output_type": "stream",
          "name": "stdout",
          "text": [
            "디자인을 배우는 학생으로, 외국디자이너와 그들이 일군 전통을 통해 발전해가는 문화산업이 부러웠는데. 사실 우리나라에서도 그 어려운시절에 끝까지 열정을 지킨 노라노 같은 전통이있어 저와 같은 사람들이 꿈을 꾸고 이뤄나갈 수 있다는 것에 감사합니다.\n"
          ]
        }
      ]
    },
    {
      "cell_type": "code",
      "source": [
        "kolnpy_perform = {} # 도구들 성능 비교 정보 담을 변수"
      ],
      "metadata": {
        "id": "6UW2UDMcsayG"
      },
      "execution_count": 29,
      "outputs": []
    },
    {
      "cell_type": "markdown",
      "source": [
        "꼬꼬마(Kkma)\n",
        "\n",
        "- 서울대학교에서 만든것으로 알려진 Kkma 분석기.\n",
        "- 다른 형태소 분석기에 비해서 분석 퀄리티가 뛰어난 것으로 유명함.\n",
        "- 다만 치명적인 단점으로 속도가 있어서 대용량을 다룬다던지 실시간으로 처리하는 부분에서 사용되기가 쉽지 않다."
      ],
      "metadata": {
        "id": "n8F-2PhEsHt9"
      }
    },
    {
      "cell_type": "code",
      "source": [
        "from konlpy.tag import Kkma #오래걸림.\n",
        "start_time = time.time()\n",
        "kkma = Kkma()\n",
        "nouns = [kkma.nouns(datas[1]) for datas in review_data]\n",
        "print(nouns[1])\n",
        "kolnpy_perform['kkma'] = time.time() - start_time\n",
        "print('꼬꼬마 명사 추출 (', kolnpy_perform['kkma'], ')sec')"
      ],
      "metadata": {
        "colab": {
          "base_uri": "https://localhost:8080/"
        },
        "id": "ImjJ9wE9sLzf",
        "outputId": "03f84727-2cf8-4887-adcd-80d163ea4199"
      },
      "execution_count": 30,
      "outputs": [
        {
          "output_type": "stream",
          "name": "stdout",
          "text": [
            "['디자인', '학생', '외국', '외국디자이너', '디자이너', '그', '전통', '발전', '문화', '문화산업', '산업', '사실', '우리', '우리나라', '나라', '시절', '끝', '열정', '노', '저', '사람', '꿈', '수', '감사']\n",
            "꼬꼬마 명사 추출 ( 41.7776837348938 )sec\n"
          ]
        }
      ]
    },
    {
      "cell_type": "markdown",
      "source": [
        "코모란(Komoran)\n",
        " - Orean MORphological ANalyzer 은 자바로 구현된 한국어 형태소 분석기"
      ],
      "metadata": {
        "id": "SjmgsjVwslxG"
      }
    },
    {
      "cell_type": "code",
      "source": [
        "from konlpy.tag import Komoran\n",
        "start_time = time.time()\n",
        "komoran = Komoran()\n",
        "nouns = [komoran.nouns(datas[1]) for datas in review_data]\n",
        "print(nouns[1])\n",
        "kolnpy_perform['komoran'] = time.time() - start_time\n",
        "print('코모란 명사 추출 (', kolnpy_perform['komoran'], ')sec')"
      ],
      "metadata": {
        "colab": {
          "base_uri": "https://localhost:8080/"
        },
        "id": "olqTuCTBsqdM",
        "outputId": "84398555-3efc-4b07-8dd7-4569ab3986e0"
      },
      "execution_count": 31,
      "outputs": [
        {
          "output_type": "stream",
          "name": "stdout",
          "text": [
            "['디자인', '학생', '외국', '디자이너', '전통', '발전', '문화', '산업', '사실', '우리나라', '시절', '끝', '열정', '노라', '노', '전통', '사람', '꿈', '수', '것', '감사']\n",
            "코모란 명사 추출 ( 7.615286588668823 )sec\n"
          ]
        }
      ]
    },
    {
      "cell_type": "markdown",
      "source": [
        "OKt(Open Korean Text)\n",
        "- 트위터분석기라는 이름으로 진행되었던 프로젝트가 fork 되어 진행되는 것으로 기본적으로 베이스는 트위터 분석기\n",
        "\n",
        "- Okt는 형태소 분석기를 표방하지 않고 형태소 처리기라는 용어를 사용함."
      ],
      "metadata": {
        "id": "i8g4Guetsuhk"
      }
    },
    {
      "cell_type": "code",
      "source": [
        "from konlpy.tag import Okt\n",
        "start_time = time.time()\n",
        "okt = Okt()\n",
        "nouns = [okt.nouns(datas[1]) for datas in review_data]\n",
        "print(nouns[1])\n",
        "kolnpy_perform['okt'] = time.time() - start_time\n",
        "print('OKT 명사 추출 (', kolnpy_perform['okt'], ')sec')"
      ],
      "metadata": {
        "colab": {
          "base_uri": "https://localhost:8080/"
        },
        "id": "jg-aVCHjszQs",
        "outputId": "e379b8b2-4c05-4a44-99bb-017919b0c0df"
      },
      "execution_count": 32,
      "outputs": [
        {
          "output_type": "stream",
          "name": "stdout",
          "text": [
            "['디자인', '학생', '외국', '디자이너', '그', '일군', '전통', '통해', '발전', '문화', '산업', '사실', '우리나라', '그', '시절', '끝', '열정', '노라노', '전통', '저', '사람', '꿈', '수', '것']\n",
            "OKT 명사 추출 ( 5.139856338500977 )sec\n"
          ]
        }
      ]
    },
    {
      "cell_type": "markdown",
      "source": [
        "성능비교 그래프 출력\n"
      ],
      "metadata": {
        "id": "LqitQCJQs4-u"
      }
    },
    {
      "cell_type": "code",
      "source": [
        "import matplotlib.pyplot as plt\n",
        "plt.bar(*zip(*kolnpy_perform.items()))\n",
        "plt.show()"
      ],
      "metadata": {
        "colab": {
          "base_uri": "https://localhost:8080/",
          "height": 430
        },
        "id": "E5w4LOxEtBA7",
        "outputId": "febbf647-8f22-408c-f1e5-951dcd1305b4"
      },
      "execution_count": 33,
      "outputs": [
        {
          "output_type": "display_data",
          "data": {
            "text/plain": [
              "<Figure size 640x480 with 1 Axes>"
            ],
            "image/png": "[encoded data removed]"
          },
          "metadata": {}
        }
      ]
    },
    {
      "cell_type": "markdown",
      "source": [
        "## 네이버 영화 리뷰 데이터로 워드클라우드 만들어보기"
      ],
      "metadata": {
        "id": "1vVy90kdbM-m"
      }
    },
    {
      "cell_type": "markdown",
      "source": [
        "잠시 쉬어갈겸 멋진걸 만들어보자\n",
        "\n",
        "순서는 아래와 같다.\n",
        "1. 데이터 다운로드 : https://github.com/e9t/nsmc\n",
        "2. 받은 데이터 전처리\n",
        "3. 한글 아닌 문자들 제거\n",
        "4. 문장을 단어로 나누기(어간추출)\n",
        "5. 불용어 제거\n",
        "\n",
        "\n",
        "ratings.txt - 전체 리뷰를 모아둔 데이터, 전체 20만개의 데이터로 구성\n",
        "\n",
        "ratings_train.txt - 학습데이터, 총 15개의 데이터로 구성\n",
        "\n",
        "ratings_test.txt - 평가 데이터, 총 5만개의 데이터로 구성"
      ],
      "metadata": {
        "id": "Ddjdg3FyyDgm"
      }
    },
    {
      "cell_type": "code",
      "source": [
        "import os\n",
        "\n",
        "DATA_PATH = '/content/korean_text/' #절대 경로로 접근\n",
        "print('파일 크기: ')\n",
        "for file in os.listdir(DATA_PATH):\n",
        "  if 'txt' in file:\n",
        "    print(file.ljust(30)+str(round(os.path.getsize(DATA_PATH+ file) / 100000,2))+'MB')"
      ],
      "metadata": {
        "colab": {
          "base_uri": "https://localhost:8080/"
        },
        "id": "FelJVe-Y1XYF",
        "outputId": "d6cb52d0-bb82-4b95-9fce-35567464056b"
      },
      "execution_count": 51,
      "outputs": [
        {
          "output_type": "stream",
          "name": "stdout",
          "text": [
            "파일 크기: \n",
            "ratings_test.txt              48.93MB\n",
            "ratings.txt                   195.15MB\n",
            "ratings_train.txt             146.29MB\n"
          ]
        }
      ]
    },
    {
      "cell_type": "code",
      "source": [
        "#트레인 파일 불러오기\n",
        "# quoting : 값에 대해서 인용구 설정을 할 수 있다.\n",
        "# 어떤 값에 대해서 인용구를 설정할지는 아래 참고.\n",
        "#{0 : MINIMAL 문자와 특수문자 / 1 : ALL 모든필드 / 2 : NONNUMERIC 숫자가 아닌것 / 3 : NONE 안함}\n",
        "import pandas as pd\n",
        "train_data = pd.read_csv(DATA_PATH + 'ratings_train.txt',header = 0, delimiter = '\\t', quoting=3)\n",
        "train_data.head()"
      ],
      "metadata": {
        "colab": {
          "base_uri": "https://localhost:8080/",
          "height": 206
        },
        "id": "yna7jGOm2gUE",
        "outputId": "8f754fb0-470a-469d-fdf2-f0698125608d"
      },
      "execution_count": 52,
      "outputs": [
        {
          "output_type": "execute_result",
          "data": {
            "text/plain": [
              "         id                                           document  label\n",
              "0   9976970                                아 더빙.. 진짜 짜증나네요 목소리      0\n",
              "1   3819312                  흠...포스터보고 초딩영화줄....오버연기조차 가볍지 않구나      1\n",
              "2  10265843                                  너무재밓었다그래서보는것을추천한다      0\n",
              "3   9045019                      교도소 이야기구먼 ..솔직히 재미는 없다..평점 조정      0\n",
              "4   6483659  사이몬페그의 익살스런 연기가 돋보였던 영화!스파이더맨에서 늙어보이기만 했던 커스틴 ...      1"
            ],
            "text/html": [
              "\n",
              "  <div id=\"df-1655394f-c05a-403a-9815-d2f1ecbabf81\" class=\"colab-df-container\">\n",
              "    <div>\n",
              "<style scoped>\n",
              "    .dataframe tbody tr th:only-of-type {\n",
              "        vertical-align: middle;\n",
              "    }\n",
              "\n",
              "    .dataframe tbody tr th {\n",
              "        vertical-align: top;\n",
              "    }\n",
              "\n",
              "    .dataframe thead th {\n",
              "        text-align: right;\n",
              "    }\n",
              "</style>\n",
              "<table border=\"1\" class=\"dataframe\">\n",
              "  <thead>\n",
              "    <tr style=\"text-align: right;\">\n",
              "      <th></th>\n",
              "      <th>id</th>\n",
              "      <th>document</th>\n",
              "      <th>label</th>\n",
              "    </tr>\n",
              "  </thead>\n",
              "  <tbody>\n",
              "    <tr>\n",
              "      <th>0</th>\n",
              "      <td>9976970</td>\n",
              "      <td>아 더빙.. 진짜 짜증나네요 목소리</td>\n",
              "      <td>0</td>\n",
              "    </tr>\n",
              "    <tr>\n",
              "      <th>1</th>\n",
              "      <td>3819312</td>\n",
              "      <td>흠...포스터보고 초딩영화줄....오버연기조차 가볍지 않구나</td>\n",
              "      <td>1</td>\n",
              "    </tr>\n",
              "    <tr>\n",
              "      <th>2</th>\n",
              "      <td>10265843</td>\n",
              "      <td>너무재밓었다그래서보는것을추천한다</td>\n",
              "      <td>0</td>\n",
              "    </tr>\n",
              "    <tr>\n",
              "      <th>3</th>\n",
              "      <td>9045019</td>\n",
              "      <td>교도소 이야기구먼 ..솔직히 재미는 없다..평점 조정</td>\n",
              "      <td>0</td>\n",
              "    </tr>\n",
              "    <tr>\n",
              "      <th>4</th>\n",
              "      <td>6483659</td>\n",
              "      <td>사이몬페그의 익살스런 연기가 돋보였던 영화!스파이더맨에서 늙어보이기만 했던 커스틴 ...</td>\n",
              "      <td>1</td>\n",
              "    </tr>\n",
              "  </tbody>\n",
              "</table>\n",
              "</div>\n",
              "    <div class=\"colab-df-buttons\">\n",
              "\n",
              "  <div class=\"colab-df-container\">\n",
              "    <button class=\"colab-df-convert\" onclick=\"convertToInteractive('df-1655394f-c05a-403a-9815-d2f1ecbabf81')\"\n",
              "            title=\"Convert this dataframe to an interactive table.\"\n",
              "            style=\"display:none;\">\n",
              "\n",
              "  <svg xmlns=\"http://www.w3.org/2000/svg\" height=\"24px\" viewBox=\"0 -960 960 960\">\n",
              "    <path d=\"M120-120v-720h720v720H120Zm60-500h600v-160H180v160Zm220 220h160v-160H400v160Zm0 220h160v-160H400v160ZM180-400h160v-160H180v160Zm440 0h160v-160H620v160ZM180-180h160v-160H180v160Zm440 0h160v-160H620v160Z\"/>\n",
              "  </svg>\n",
              "    </button>\n",
              "\n",
              "  <style>\n",
              "    .colab-df-container {\n",
              "      display:flex;\n",
              "      gap: 12px;\n",
              "    }\n",
              "\n",
              "    .colab-df-convert {\n",
              "      background-color: #E8F0FE;\n",
              "      border: none;\n",
              "      border-radius: 50%;\n",
              "      cursor: pointer;\n",
              "      display: none;\n",
              "      fill: #1967D2;\n",
              "      height: 32px;\n",
              "      padding: 0 0 0 0;\n",
              "      width: 32px;\n",
              "    }\n",
              "\n",
              "    .colab-df-convert:hover {\n",
              "      background-color: #E2EBFA;\n",
              "      box-shadow: 0px 1px 2px rgba(60, 64, 67, 0.3), 0px 1px 3px 1px rgba(60, 64, 67, 0.15);\n",
              "      fill: #174EA6;\n",
              "    }\n",
              "\n",
              "    .colab-df-buttons div {\n",
              "      margin-bottom: 4px;\n",
              "    }\n",
              "\n",
              "    [theme=dark] .colab-df-convert {\n",
              "      background-color: #3B4455;\n",
              "      fill: #D2E3FC;\n",
              "    }\n",
              "\n",
              "    [theme=dark] .colab-df-convert:hover {\n",
              "      background-color: #434B5C;\n",
              "      box-shadow: 0px 1px 3px 1px rgba(0, 0, 0, 0.15);\n",
              "      filter: drop-shadow(0px 1px 2px rgba(0, 0, 0, 0.3));\n",
              "      fill: #FFFFFF;\n",
              "    }\n",
              "  </style>\n",
              "\n",
              "    <script>\n",
              "      const buttonEl =\n",
              "        document.querySelector('#df-1655394f-c05a-403a-9815-d2f1ecbabf81 button.colab-df-convert');\n",
              "      buttonEl.style.display =\n",
              "        google.colab.kernel.accessAllowed ? 'block' : 'none';\n",
              "\n",
              "      async function convertToInteractive(key) {\n",
              "        const element = document.querySelector('#df-1655394f-c05a-403a-9815-d2f1ecbabf81');\n",
              "        const dataTable =\n",
              "          await google.colab.kernel.invokeFunction('convertToInteractive',\n",
              "                                                    [key], {});\n",
              "        if (!dataTable) return;\n",
              "\n",
              "        const docLinkHtml = 'Like what you see? Visit the ' +\n",
              "          '<a target=\"_blank\" href=https://colab.research.google.com/notebooks/data_table.ipynb>data table notebook</a>'\n",
              "          + ' to learn more about interactive tables.';\n",
              "        element.innerHTML = '';\n",
              "        dataTable['output_type'] = 'display_data';\n",
              "        await google.colab.output.renderOutput(dataTable, element);\n",
              "        const docLink = document.createElement('div');\n",
              "        docLink.innerHTML = docLinkHtml;\n",
              "        element.appendChild(docLink);\n",
              "      }\n",
              "    </script>\n",
              "  </div>\n",
              "\n",
              "\n",
              "<div id=\"df-b6caae12-a3da-4afd-9e0e-9d3fceab45a8\">\n",
              "  <button class=\"colab-df-quickchart\" onclick=\"quickchart('df-b6caae12-a3da-4afd-9e0e-9d3fceab45a8')\"\n",
              "            title=\"Suggest charts\"\n",
              "            style=\"display:none;\">\n",
              "\n",
              "<svg xmlns=\"http://www.w3.org/2000/svg\" height=\"24px\"viewBox=\"0 0 24 24\"\n",
              "     width=\"24px\">\n",
              "    <g>\n",
              "        <path d=\"M19 3H5c-1.1 0-2 .9-2 2v14c0 1.1.9 2 2 2h14c1.1 0 2-.9 2-2V5c0-1.1-.9-2-2-2zM9 17H7v-7h2v7zm4 0h-2V7h2v10zm4 0h-2v-4h2v4z\"/>\n",
              "    </g>\n",
              "</svg>\n",
              "  </button>\n",
              "\n",
              "<style>\n",
              "  .colab-df-quickchart {\n",
              "      --bg-color: #E8F0FE;\n",
              "      --fill-color: #1967D2;\n",
              "      --hover-bg-color: #E2EBFA;\n",
              "      --hover-fill-color: #174EA6;\n",
              "      --disabled-fill-color: #AAA;\n",
              "      --disabled-bg-color: #DDD;\n",
              "  }\n",
              "\n",
              "  [theme=dark] .colab-df-quickchart {\n",
              "      --bg-color: #3B4455;\n",
              "      --fill-color: #D2E3FC;\n",
              "      --hover-bg-color: #434B5C;\n",
              "      --hover-fill-color: #FFFFFF;\n",
              "      --disabled-bg-color: #3B4455;\n",
              "      --disabled-fill-color: #666;\n",
              "  }\n",
              "\n",
              "  .colab-df-quickchart {\n",
              "    background-color: var(--bg-color);\n",
              "    border: none;\n",
              "    border-radius: 50%;\n",
              "    cursor: pointer;\n",
              "    display: none;\n",
              "    fill: var(--fill-color);\n",
              "    height: 32px;\n",
              "    padding: 0;\n",
              "    width: 32px;\n",
              "  }\n",
              "\n",
              "  .colab-df-quickchart:hover {\n",
              "    background-color: var(--hover-bg-color);\n",
              "    box-shadow: 0 1px 2px rgba(60, 64, 67, 0.3), 0 1px 3px 1px rgba(60, 64, 67, 0.15);\n",
              "    fill: var(--button-hover-fill-color);\n",
              "  }\n",
              "\n",
              "  .colab-df-quickchart-complete:disabled,\n",
              "  .colab-df-quickchart-complete:disabled:hover {\n",
              "    background-color: var(--disabled-bg-color);\n",
              "    fill: var(--disabled-fill-color);\n",
              "    box-shadow: none;\n",
              "  }\n",
              "\n",
              "  .colab-df-spinner {\n",
              "    border: 2px solid var(--fill-color);\n",
              "    border-color: transparent;\n",
              "    border-bottom-color: var(--fill-color);\n",
              "    animation:\n",
              "      spin 1s steps(1) infinite;\n",
              "  }\n",
              "\n",
              "  @keyframes spin {\n",
              "    0% {\n",
              "      border-color: transparent;\n",
              "      border-bottom-color: var(--fill-color);\n",
              "      border-left-color: var(--fill-color);\n",
              "    }\n",
              "    20% {\n",
              "      border-color: transparent;\n",
              "      border-left-color: var(--fill-color);\n",
              "      border-top-color: var(--fill-color);\n",
              "    }\n",
              "    30% {\n",
              "      border-color: transparent;\n",
              "      border-left-color: var(--fill-color);\n",
              "      border-top-color: var(--fill-color);\n",
              "      border-right-color: var(--fill-color);\n",
              "    }\n",
              "    40% {\n",
              "      border-color: transparent;\n",
              "      border-right-color: var(--fill-color);\n",
              "      border-top-color: var(--fill-color);\n",
              "    }\n",
              "    60% {\n",
              "      border-color: transparent;\n",
              "      border-right-color: var(--fill-color);\n",
              "    }\n",
              "    80% {\n",
              "      border-color: transparent;\n",
              "      border-right-color: var(--fill-color);\n",
              "      border-bottom-color: var(--fill-color);\n",
              "    }\n",
              "    90% {\n",
              "      border-color: transparent;\n",
              "      border-bottom-color: var(--fill-color);\n",
              "    }\n",
              "  }\n",
              "</style>\n",
              "\n",
              "  <script>\n",
              "    async function quickchart(key) {\n",
              "      const quickchartButtonEl =\n",
              "        document.querySelector('#' + key + ' button');\n",
              "      quickchartButtonEl.disabled = true;  // To prevent multiple clicks.\n",
              "      quickchartButtonEl.classList.add('colab-df-spinner');\n",
              "      try {\n",
              "        const charts = await google.colab.kernel.invokeFunction(\n",
              "            'suggestCharts', [key], {});\n",
              "      } catch (error) {\n",
              "        console.error('Error during call to suggestCharts:', error);\n",
              "      }\n",
              "      quickchartButtonEl.classList.remove('colab-df-spinner');\n",
              "      quickchartButtonEl.classList.add('colab-df-quickchart-complete');\n",
              "    }\n",
              "    (() => {\n",
              "      let quickchartButtonEl =\n",
              "        document.querySelector('#df-b6caae12-a3da-4afd-9e0e-9d3fceab45a8 button');\n",
              "      quickchartButtonEl.style.display =\n",
              "        google.colab.kernel.accessAllowed ? 'block' : 'none';\n",
              "    })();\n",
              "  </script>\n",
              "</div>\n",
              "\n",
              "    </div>\n",
              "  </div>\n"
            ],
            "application/vnd.google.colaboratory.intrinsic+json": {
              "type": "dataframe",
              "variable_name": "train_data"
            }
          },
          "metadata": {},
          "execution_count": 52
        }
      ]
    },
    {
      "cell_type": "code",
      "source": [
        "print('학습데이터 전체 개수: {}'.format(len(train_data)))"
      ],
      "metadata": {
        "colab": {
          "base_uri": "https://localhost:8080/"
        },
        "id": "5QosFA737lMn",
        "outputId": "2d70dac1-8507-4327-c77d-39807162ccd4"
      },
      "execution_count": 53,
      "outputs": [
        {
          "output_type": "stream",
          "name": "stdout",
          "text": [
            "학습데이터 전체 개수: 150000\n"
          ]
        }
      ]
    },
    {
      "cell_type": "code",
      "source": [
        "train_length = train_data['document'].astype(str).apply(len)#리뷰 전체길이 확인\n",
        "train_length.head()"
      ],
      "metadata": {
        "colab": {
          "base_uri": "https://localhost:8080/"
        },
        "id": "c1ba5auG7rHv",
        "outputId": "d54fbaaf-b565-4cb5-918d-45f3d5315ca3"
      },
      "execution_count": 54,
      "outputs": [
        {
          "output_type": "execute_result",
          "data": {
            "text/plain": [
              "0    19\n",
              "1    33\n",
              "2    17\n",
              "3    29\n",
              "4    61\n",
              "Name: document, dtype: int64"
            ]
          },
          "metadata": {},
          "execution_count": 54
        }
      ]
    },
    {
      "cell_type": "code",
      "source": [
        "import numpy as np\n",
        "#리뷰 통계 정보 * 기초통\n",
        "print('리뷰 길이 최댓값: {}'.format(np.max(train_length)))\n",
        "print('리뷰 길이 최솟값: {}'.format(np.min(train_length)))\n",
        "print('리뷰 길이 평균값: {:.2f}'.format(np.mean(train_length)))\n",
        "print('리뷰 길이 표준편차: {:.2f}'.format(np.std(train_length)))\n",
        "print('리뷰 길이 중간값: {}'.format(np.median(train_length)))\n",
        "print('리뷰 길이 제1사분위: {}'.format(np.percentile(train_length,25)))\n",
        "print('리뷰 길이 제3사분위: {}'.format(np.percentile(train_length,75)))"
      ],
      "metadata": {
        "colab": {
          "base_uri": "https://localhost:8080/"
        },
        "id": "rZ9QWI0c7ujX",
        "outputId": "ff73dec5-82e8-431b-bebd-3209df36ade2"
      },
      "execution_count": 55,
      "outputs": [
        {
          "output_type": "stream",
          "name": "stdout",
          "text": [
            "리뷰 길이 최댓값: 158\n",
            "리뷰 길이 최솟값: 1\n",
            "리뷰 길이 평균값: 35.24\n",
            "리뷰 길이 표준편차: 29.58\n",
            "리뷰 길이 중간값: 27.0\n",
            "리뷰 길이 제1사분위: 16.0\n",
            "리뷰 길이 제3사분위: 42.0\n"
          ]
        }
      ]
    },
    {
      "cell_type": "code",
      "source": [
        "# 문자열 아닌 데이터 모두 제거\n",
        "train_review = [review for review in train_data['document'] if type(review) is str]\n",
        "train_review"
      ],
      "metadata": {
        "colab": {
          "base_uri": "https://localhost:8080/"
        },
        "id": "xmvmcwCf9MAK",
        "outputId": "95c55ba7-ef99-4bad-eb88-98cecc218e97"
      },
      "execution_count": 56,
      "outputs": [
        {
          "output_type": "execute_result",
          "data": {
            "text/plain": [
              "['아 더빙.. 진짜 짜증나네요 목소리',\n",
              " '흠...포스터보고 초딩영화줄....오버연기조차 가볍지 않구나',\n",
              " '너무재밓었다그래서보는것을추천한다',\n",
              " '교도소 이야기구먼 ..솔직히 재미는 없다..평점 조정',\n",
              " '사이몬페그의 익살스런 연기가 돋보였던 영화!스파이더맨에서 늙어보이기만 했던 커스틴 던스트가 너무나도 이뻐보였다',\n",
              " '막 걸음마 뗀 3세부터 초등학교 1학년생인 8살용영화.ㅋㅋㅋ...별반개도 아까움.',\n",
              " '원작의 긴장감을 제대로 살려내지못했다.',\n",
              " '별 반개도 아깝다 욕나온다 이응경 길용우 연기생활이몇년인지..정말 발로해도 그것보단 낫겟다 납치.감금만반복반복..이드라마는 가족도없다 연기못하는사람만모엿네',\n",
              " '액션이 없는데도 재미 있는 몇안되는 영화',\n",
              " '왜케 평점이 낮은건데? 꽤 볼만한데.. 헐리우드식 화려함에만 너무 길들여져 있나?',\n",
              " '걍인피니트가짱이다.진짜짱이다♥',\n",
              " '볼때마다 눈물나서 죽겠다90년대의 향수자극!!허진호는 감성절제멜로의 달인이다~',\n",
              " '울면서 손들고 횡단보도 건널때 뛰쳐나올뻔 이범수 연기 드럽게못해',\n",
              " '담백하고 깔끔해서 좋다. 신문기사로만 보다 보면 자꾸 잊어버린다. 그들도 사람이었다는 것을.',\n",
              " '취향은 존중한다지만 진짜 내생에 극장에서 본 영화중 가장 노잼 노감동임 스토리도 어거지고 감동도 어거지',\n",
              " 'ㄱ냥 매번 긴장되고 재밋음ㅠㅠ',\n",
              " '참 사람들 웃긴게 바스코가 이기면 락스코라고 까고바비가 이기면 아이돌이라고 깐다.그냥 까고싶어서 안달난것처럼 보인다',\n",
              " '굿바이 레닌 표절인것은 이해하는데 왜 뒤로 갈수록 재미없어지냐',\n",
              " '이건 정말 깨알 캐스팅과 질퍽하지않은 산뜻한 내용구성이 잘 버무러진 깨알일드!!♥',\n",
              " '약탈자를 위한 변명, 이라. 저놈들은 착한놈들 절대 아닌걸요.',\n",
              " '나름 심오한 뜻도 있는 듯. 그냥 학생이 선생과 놀아나는 영화는 절대 아님',\n",
              " '보면서 웃지 않는 건 불가능하다',\n",
              " '재미없다 지루하고. 같은 음식 영화인데도 바베트의 만찬하고 넘 차이남....바베트의 만찬은 이야기도 있고 음식 보는재미도 있는데 ; 이건 볼게없다 음식도 별로 안나오고, 핀란드 풍경이라도 구경할랫는데 그것도 별로 안나옴 ㅡㅡ',\n",
              " '절대 평범한 영화가 아닌 수작이라는걸 말씀드립니다.',\n",
              " '주제는 좋은데 중반부터 지루하다',\n",
              " '다 짤랐을꺼야. 그래서 납득할 수 없었던거야.. 그럴꺼야.. 꼭 그랬던걸꺼야..',\n",
              " 'kl2g 고추를 털어버려야 할텐데',\n",
              " '카밀라벨 발연기',\n",
              " '재밋는뎅',\n",
              " '센스있는 연출력..탁월한 캐스팅..90년대의 향수.. 그래서 9점..',\n",
              " '엄포스의 위력을 다시 한번 깨닫게 해준 적.남 꽃검사님도 연기 정말 좋았어요! 완전 명품드라마!',\n",
              " '졸쓰레기 진부하고말도안됌ㅋㅋ 아..시간아까워',\n",
              " '재밌는데 별점이 왜이리 낮은고',\n",
              " '1%라도 기대했던 내가 죄인입니다 죄인입니다....',\n",
              " '아직도 이 드라마는 내인생의 최고!',\n",
              " '패션에 대한 열정! 안나 윈투어!',\n",
              " '키이라 나이틀리가 연기하고자 했던건 대체 정신장애일까 틱장애일까',\n",
              " '허허...원작가 정신나간 유령이라... 재미있겠네요!',\n",
              " '포스터는 있어보이는데 관객은 114명이네',\n",
              " '이 영화가 왜 이렇게 저평가 받는지 모르겠다',\n",
              " '단순하면서 은은한 매력의 영화',\n",
              " \"'다 알바생인가 내용도 없고 무서운거도 없고 웃긴거도 하나도 없음 완전 별싱거운 영화.ㅇ.ㅇ내ㅇ시간 넘 아까움 .. . 완전 낚임\",\n",
              " '오게두어라! 서리한이 굶주렸다!',\n",
              " '정말 맘에 들어요. 그래서 또 보고싶은데 또 보는 방법이 없네? >.. ㅜㅡ',\n",
              " '윤제문이라는 멋진 배우를 발견하게 됐어요. 소소한 일탈이 잔잔한 미소를 머금게 합니다. 음악은 조금 아쉽네요ㅠㅠ 8점 주고 싶은데 평점 올리고 싶어 10점 줄게요^^',\n",
              " '평점에속지마시길시간낭비 돈낭비임',\n",
              " '리얼리티가 뛰어나긴 한데 큰 공감은 안간다. 이민기캐릭터는 정신의학상 분노조절장애 초기 증상일거다. 툭하면 사람패고 욕하고 물건 파손하고.. 조금 오바였음. 극 초반엔 신선했는데 가면 갈수록 이민기 정신상태 공감불가.',\n",
              " '마이너스는 왜없냐 ㅋ 뮤비 보고 영화수준 딱 알만하더군 ㅉㅉ 북한에서 이런거 만들라고 돈 대주던?',\n",
              " '난 우리영화를 사랑합니다....^^;',\n",
              " '데너리스 타르 가르엔...나도 용의주인이 되고 싶다...누이랑,근친상간이나 하고 다닐지라도,소설 속에선 제일 멋진 놈이 자이메 라니스터였는데,드라마속에선,드래곤(용)이 제일 멋지네(웃음)감독님 토르-2 다크 월드는 말아 잡수셨을지라도,기본 선방은 했음',\n",
              " '영화가 사람의 영혼을 어루만져 줄 수도 있군요 거친 세상사를 잠시 잊고 동화같은 영화에 행복했네요',\n",
              " '야 세르게이! 작은고추의 매운맛을 보여주마! 포퐁저그 콩진호가 간다',\n",
              " '이렇게 가슴시리게 본 드라마가 또 있을까? 감동 그 자체!',\n",
              " '난또 저 꼬마애가 무슨 원한이 깊길래.,. 했더니 OO 그냥 혼자 나대다 OO걸 어쩌라고.',\n",
              " '재미있어요',\n",
              " '전 좋아요',\n",
              " '최고',\n",
              " '너무 충격적이엇다. 기분을 완전히 푹 꺼지게 하는 느낌... 활력이라고는 하나도 없는 너무나도 무거운....지독하고 차갑고 무자비하다. 그저 일본인들의 상상력은 정말 대단한거 같다는 생각이 든다.',\n",
              " '심심한영화.',\n",
              " '백봉기 언제나오나요?',\n",
              " '보는내내 그대로 들어맞는 예측 카리스마 없는 악역',\n",
              " '불알이 나와서 당황...아무튼 영화가 중간에 끝나는 느낌',\n",
              " '평범함속에 녹아든 평범한 일상. 조금 밋밋한게 흠.',\n",
              " '보던거라 계속보고있는데 전개도 느리고 주인공인 은희는 한두컷 나오면서 소극적인모습에 짜증이 ㅜㅜ 맨날 언제끝나나 기대만하고있어요 전개좀 빨리빨리 ㅜㅜ',\n",
              " '사랑하고싶게하는,가슴속온감정을헤집어놓는영화예요정말최고.',\n",
              " '많은 사람들이 이 다큐를 보고 우리나라 슬픈 현대사의 한 단면에 대해 깊이 생각하고 사죄하고 바로 잡기 위해 노력했으면 합니다. 말로만 듣던 보도연맹, 그 민간인 학살이 이정도 일 줄이야. 이건 명백한 살인입니다. 살인자들은 다 어디있나요?',\n",
              " '예전 작품 캐릭터, 에피소드 재탕 삼탕 사골우려먹듯 우리고 내용은 산으로 가고 시청률은 아예안나오고 이제 70회중반인데 120부작이라니 ...',\n",
              " '김남길의 백점짜리 연기력과 초반 몰입도에도 불구하고 지루하고 손예진 ㅈㅈ',\n",
              " '재밌네 비슷한 영화를 안보신 분들한테는 재미있을 듯',\n",
              " '노래실력으로뽑는게 맞냐? 박시환이 mama나가면 진짜 망신이다',\n",
              " '아 일본영화 다이런건가?? 유치하다',\n",
              " '이틀만에 다 봤어요 재밌어요 근데 차 안에 물건 넣어 조작하려고 하면 차 안이 열려있다던지 집 안이 활짝 열려서 아무나 들어간다던가 문자를 조작하려고하면 비번이 안 걸려있고 ㅋㅋㅋ 그런 건 억지스러웠는데 그래도 내용 자체는 좋았어요',\n",
              " '졸작',\n",
              " '재밋네요 달팽이가 빨라서 더 재밌었어요',\n",
              " '어설픈 전개 어이없는 결말',\n",
              " '부패한 로마노프 왕조를 기리는 뭣같은 영화... 온몸으로 항거했던 러시아 민중들이 그저 폭도냐',\n",
              " '내용전개는 무난한 편이였구 잘 보았습니다 ^^',\n",
              " '매우 실망.....',\n",
              " '한국영화 흥행코드: 갈등-갈등-계~에속 갈등-화해-감동- 평점 10점 남발- 흥행 뻔하지 뭐...',\n",
              " '아햏햏 아햏햏 아햏햏.',\n",
              " '뭐냐..시작하고 3분만에 나왔다. 리플릿 사진 보며 불안하더니만..',\n",
              " '단연 최고라고 할수있지',\n",
              " '감독이 럼먹고 영화를 만들었나보다.. 관객에게 뭘 말하는지도 모르겠고, 엉망진창 개진창이다.',\n",
              " '이건 뭐냐? 우뢰매냐? ;;;',\n",
              " '정말쓰레기영화입니다',\n",
              " '진정 위대한 영화 최고임',\n",
              " '별루 였다..',\n",
              " '내일이 기대되는 `',\n",
              " '근데 조미가 막문위 좋아한건가요??',\n",
              " 'ㅋㅋㅋ 진짜 골깜..ㅋㅋ 눈 부라릴때 쓰러짐..ㅋㅋ',\n",
              " '성룡영화중 최악인듯 ㅋㅋ',\n",
              " '골때리네ㅋㅋㅋㅋ 걸스데이 이혜리 잘 되라!',\n",
              " '서기가이뻐서',\n",
              " '완전 재밌어요ㅋㅋㅋㅋㅋ백인공주귀여움ㅋㅋㅋㅋㅋㅋ',\n",
              " '인상적인 영화였다',\n",
              " '어내스트와 셀레스틴 완전 강추에요~ 정말 재밌습니다^^',\n",
              " '재미있는영화입니다.',\n",
              " '클라라볼라고화신본거아닌데',\n",
              " '진짜 보면서 너무 슬펐던 영화다',\n",
              " '설정이 재밌고 새로운 에피소드 내에서 메인 스토리도 차차 나오는게 재밌음',\n",
              " '신카이 마코토의 작화와,미유와 하나카나가 연기를 잘해줘서 더대박이였다.',\n",
              " '재미없음 진심 1이훨나 캐스팅두못한듯',\n",
              " '잔잔한게 생각보다 볼만한 영화인거 같습니다 ㅋ',\n",
              " '감독님들 고은님 쓰면 영화안봅니다 .',\n",
              " '무섭지도 않았고 스토리도 ..ㅡㅡ',\n",
              " '영화속 억지스럽고 노골적인 술광고를 좀 은은하고 센스있게 했으면 어땠을까?',\n",
              " '킬링타임',\n",
              " '크리스마스하면 떠오르는영화',\n",
              " \"재미있게 봤습니다. 매력적인 행복이네요, '-' ㅎㅎㅎ.\",\n",
              " '음악에 완전히 빠져서 볼 수 있었던 영화. 쫌 산만하긴 하던데;;',\n",
              " '태어나서 처음으로 영화보다 중간에 나왔습니다,,,,불륜이 로맨스냐,,',\n",
              " '왕짜증.....아주 전개를 짬뽕으로 믹스했구나...음향만 무섭게하네..하아',\n",
              " '솔직히 난 별루더라 시간낭비느낌',\n",
              " '대박',\n",
              " '시청률 기준이 되는 패널가구들 머하는거지 명작드라마 다 망치네 ㅡㅡ 내가 다 서운하다...',\n",
              " '내용이 이상해;',\n",
              " '몬스터 주식회사 3D 재밌게 봤다',\n",
              " '내용전개가 너무나 느리다........',\n",
              " '소재는 흥미를 끌지만 이야기 전개가 투박해서 몰입이 안되는군',\n",
              " '절대 보지마라 쓰레기 영화',\n",
              " '중국인 특유의 과장, 허풍... 있어보이려고 안간힘 쓴 노력은 가상하나, 고증과 현실감 떨어지는 설정이 거북스럽다... 도대체 그들은 왜 이렇게까지 스스로를 과대포장하는 것인지...',\n",
              " '그냥 불법체류자 때려잡는 영화면 좋았을텐데...무슨 우상화를 만든다고 미국의 따뜻한 설정...이건 뭥미??',\n",
              " '2년의 삶속에 주인공의 생애가 전부 드러난 듯 하다.',\n",
              " '별점10점가자',\n",
              " '별로다.',\n",
              " '본지 꽤 지난 후에 남기지만...재미있었음',\n",
              " '아니 이게 왜 9점대 일까...;;;',\n",
              " '10년이 지나 다시 보게된 영화 .. 다시봐도 그 순수한 사랑에 감동 ㅠㅠ 숀펜의 연기또한 甲',\n",
              " '올레에 공짜로있길래 봤음 ㅋㅋ 헐 ... 스토리가 문제가아니라 연기자들이 전혀 배역이랑 어울리지않음 그리고 상대배우들하고 다 따로 노는거같음~~ 이건 연기자들도 문제있음 보아는 진심 완전 별로임 라미란하고 아들이 젤 볼만했음',\n",
              " '너무 욕심이 많았던 영화. 어느 한 쪽만이라도 제대로 보여줬다면......',\n",
              " '아 빵점~',\n",
              " '베댓이 말을 아주 잘써놨네',\n",
              " '아주 모자라진 않다.',\n",
              " '영화 도둑들이나 뫼비우스 하고 같은 나라에서 만들어졌다는게 믿어지냐..?',\n",
              " '온몸이.. 찌릿..짜릿. 나두 용기를 가져야지!!',\n",
              " '정말재미있고 교훈적인 영화이네요!',\n",
              " '당시의 상황과 주제를 주입식이 아닌 긴장감있고 재밌게 전하는 작품',\n",
              " '케이블에서 그만 나와줬으면 - -',\n",
              " '다르덴,이냐리투,차이밍량이 하나도 안섞인채 짬뽕 그릇에 담겨있다.',\n",
              " '여군 잼없음 뭐하는건지 ...ㅡㅡ잼없음 엠비씨 다잼없음 질린다이제',\n",
              " '좋구나',\n",
              " '한석규, 김혜수 연기만 돋보인 영화. 어딘지 모르게 많이 어설픈 영화.',\n",
              " '솔직히 에볼라바이러스가 떠들석해서 보게된영화인데 작품성이나 어떤면에서도 20여년전 영화라고보기엔 믿기힘들정도로 정말 잘만들었다고본다 마지막후반부가 살짝 아쉽긴하지만 이정도면 수작이라고본다 시간이 아깝지않은영화',\n",
              " '볼만해;',\n",
              " '재미있다고 허풍 떨지 마세요',\n",
              " '용가리 진짜짱짱맨이다ㅋ',\n",
              " '이 영화를 이제서야 보다니.. 감히 내 인생 최고의 영화중 하나로 꼽을 수 있을만한 작품. 어떻게 살아야할지 나를 위한 고민을 한번 더 하게 되는 시간. 그리고 모건 프리먼은 나이가 들어도 여전히 섹시하다.',\n",
              " '작가가별로다 내용이진짜별로임.. 맨날그냥기대하고 재방송하면 혹시나하고봐줘도 답없다진짜..',\n",
              " '명작도 이런 명작이 있을까 싶다. 보고 또 봐도 여운이 남는 영화.',\n",
              " '아~ 진짜 조금만 더 손 좀 보면 왠만한 상업 영화 못지 않게 퀄리티 쩔게 만들어 질 수 있었는데 아쉽네요 그래도 충분히 재미있었습니다 개인적으로 조금만 더 잔인하게 더 자극적으로 노출씬도 화끈하게 했더라면 어땠을까 하는 국산영화라 많이 아낀 듯 보임',\n",
              " '그만좀 끌고 이제 끝내라. 지겹다 지겨워.',\n",
              " '아',\n",
              " '역시 드니로의 연기는 일품 나도 맥스가 샘을 죽이길 바랬다',\n",
              " '나름 괜찮은 작품입니다',\n",
              " '너무 좋은 영화',\n",
              " '정말 실망 스러웟음..',\n",
              " '배우들은 지네들 안뜨니까 이런영화 찍을껀데??? 왜 안뜨는지 진짜 모르는거야? 면상 딱 보면 알겠구만... 왜 지네 자신들은 모를까?',\n",
              " '어린이가 좋아할듯...내어릴적 동심은 멀리 떠낫나보다.',\n",
              " '무술인이 왜 총을드나?',\n",
              " '10점',\n",
              " '크리스토퍼왈츠와 타란티노의 조합이란 ㅠㅠ',\n",
              " '한국에선유명한편은아니지만 외국에선 상상초월한 유명한 영화입니다.',\n",
              " '오랜만에 재밋는영화봤네요',\n",
              " '종방되어 아쉬워요. 오늘막방도 잘봤어요.방송대본이 꽤 완성도있다는 느낌받았고요. 요즘 드라마들의 막장에 지쳐있었는데 수백향은 정말 바른드라마였던듯해요.악역들도 그리 심하게 어이없지도 않았고요..MBC화이팅!!',\n",
              " '평점조절위원회에서 나왔습니다(웃음)김혜선은 @내일이 오면@의 김순정,순정이 역할이 제일이다.팜므파탈로써,그 정도까지 잘해낼 줄은,정말 의외였어...연기20년 한사람에게 요즘 사극에서 벌어지고 있는,그녀에 대한 연기논란은 왠지 코미디의한장면 같음(웃음)',\n",
              " '\"\"\"영화 끝나갈때쯤에 멍하다가 다보고나면 한마디 나올거임 \"\"\"\"ㅈ같다.\"\"\"\"\"\"\"',\n",
              " '공유 존잘!!!ㅎㅎㅎ',\n",
              " '상쾌발랄한 영화다. 말하기 껄끄런 성이란 소재를 유쾌하게 해설했다.',\n",
              " '소파에 죽 치고 앉아 지켜 볼 이유가 없는 작품.',\n",
              " '로큰롤!!!!!!!!!!!!!!',\n",
              " '주된 타겟이 어린이니 일반적인 논리가 통하지 않는 건 알겠다. 하지만 게임은 흥미롭지 않고, 요원이라는 주인공이 너무 무능력해서 별로 재미없다. CG 배경도 거슬린다.',\n",
              " '뮤지컬 영화인데 사운드 녹음 엉망, 남주는 춤도 못추고, 내용은 뻔할뻔, 주인공들 목소리도 너무 안어울리고 어제 CGV에서 뛰어 나가려다 참았습니다.진심 말리고 싶습니다. 영국의 저예산 DVD용 영화뮤지컬영화 아닙니다. 맘마미아 1/10도 안됨',\n",
              " '어린나이에 봤음에도 꽤나 좋아했던 로맨틱코미디',\n",
              " '게이물인줄 모르고 봤네...',\n",
              " '알바는꺼저라',\n",
              " '이 영화 머임????내가 왜 받아 봤을까? 그것이 알고싶다....이 영화는 배우들과 스텝들이 감독의 꼭두각시였음.',\n",
              " '4대2라니....최악',\n",
              " '정말 아름다운 영화 입니다',\n",
              " '자극적인 것에 익숙해진 현대인이 봐도 눈을 떼기 힘든 연출력.',\n",
              " '뻑~뻑~잘 읽어볼걸 나도 당했음',\n",
              " '정말 짜증의 극치를 보여주는영화. 굉장히 언밸러스한 느낌. 뚱뚱하고 못생긴 남자애의 발연기를 시종일관 봐야하는게 고역인듯. 간간히 흘러나오는 잔잔한 클래식풍의 음악조차도 듣기싫어 짜증날정도로 상당히 싫은영화.',\n",
              " '감동감동ㅜㅜ, 정말 최고네요!!!!',\n",
              " '별점 주기도 아깝네요 얼마나 내용이 진부한지 욕 밖에 안나오네요보고 재밌다고 하는 사람 초딩들인가요 죄송해요 너무 화가나서.아무 것도 볼게 없습니다 보지 마세요 그냥 티비판짜집기 한거 같네요',\n",
              " '나 왠만해서 짜증안내는데...-_-',\n",
              " '돼지피먹고 닭목따는 장면에선 우웩~ 역시 무당은 아무나 하는게 아니다.',\n",
              " '버려',\n",
              " '유치하고 지루하고 잠이 왔다',\n",
              " '3류풍 판타지 3점만 가져가',\n",
              " '윤종신 복귀는 좋았지만 이하늘은 도대체 왜 뽑혔는지 알수가없다. 참가자 실력을 따지기 전에 심사위원 인격과 실력부터 쌓고 오시길^^ 어하어허 그만좀 하고요',\n",
              " '광장한 작품 옛날것도 보고 싶다',\n",
              " '내 생의 최고의 영화',\n",
              " '어린시절 너무 무섭고 재미있게 봤던 추억의 판타지영화.절대 나쁜짓은 금물.지옥가요..',\n",
              " '기존 멜로영화 형식을 탈피하려고 하였으나 감정의 절제가 지나쳐 너무 담백한 영화',\n",
              " '난 사랑비 서준에게 쏙 빠져버렸네. 1.2.3초만에 쏙ㅋㅋ난 절대잊지도않고후회도안할거야',\n",
              " '이영화를보니까 교훈을 주네요! 나도 남은인생을 화려하게 살아야겟다.. 말밖에 안나오네요..',\n",
              " '나름 추억에 젖어들고 좋았음ㅋㅋ아무생각없이 가볍게 보고오기 추천요~',\n",
              " '단순한 싸이코물을 벗어난',\n",
              " '이게 14년도에 만들어진건가요? 아니면 예전에 만든거 다시개봉한건가요?ㅠ너무 허접해요 ㅠ',\n",
              " '넘 사랑스러운 영화다 ㅠㅠ 1보고 2 연이어 봤다~!! 넘 귀여워 ㅠㅠ♥♥',\n",
              " '청춘 영화만이 줄 수 있는 감성이 넘쳐난다. 이 순간 지나가면 다시 돌아오지 않을테지만, 그 순간만큼은 무한할 젊음이 줄 수 있는 그런 감성.',\n",
              " 'TV용 건담 시리즈 중에서 아직까지도 최고봉',\n",
              " '개콘은 요즘 갈수록 코너들이 다노잼이고 웃음이안난다',\n",
              " '사다코의 한이 서린 우물펀치ㅜㅜ 감동',\n",
              " '후세와 사랑하게된 결정적 계기 그시간이 표현되지 않았으며 시람의 생명을 빼앗아야만하는이유등을 시노가 출현하는 연극으 로 더 알려주었으면 하는 생각이든다. 또한 시노가 얼마나 본능을절제히면서 시랑을 하려고 노력하는지를 더 보여줬다면 좋았을뻔했다',\n",
              " '새벽시간에 하는 일본 영화들은 전부 개졸작이다.일본영화원래 다이래??',\n",
              " '강수연의 나가있어~!그리고 최정원의 신음신~',\n",
              " '아..정말 김혜성 너무 예쁘네요 이현진도 웃는 거 정말...하....',\n",
              " '가발 쓰고 싶다',\n",
              " '화려한여정이인상깊어요ㅋㅋ재밋어요ㅋㅋ배두나연기정말잘해요ㅋ',\n",
              " '10대들을 위한 성적 호기심 영화?',\n",
              " '감동적인 영화',\n",
              " '이건 말이 필요 없다 그냥 닥치고 봐라',\n",
              " '각기 다른 사람들의 재밌고 멋진 사랑영화',\n",
              " '역시 미국드라마의 파워. 정말 알수없는 그 미묘함까지 사로잡아버렸다 최고!!',\n",
              " '너무너무 훈훈하네요^^',\n",
              " '이거 응답하라에서 은지원원도 스스로 욕하지 않앗나? ㅋㅋㅋㅋ',\n",
              " '아 너무 웃기고 배꼽 빠질뻔했네^^ 내 컴에 이 영화 있는데^^',\n",
              " '구성이 상당히 부실한 영화. 역시 네이버 평점은 믿을수 없다.',\n",
              " '장끌로드의 몰락을 가져온 오우삼 헐리우드 작품중 가장 재미없었던 졸작',\n",
              " '언제적 영웅본색 연출인지 현실성 제로인 영화',\n",
              " '작은거 하나에도 설레어했던 학창시절 그때 그느낌을 다시 느껴볼수있는시간이었다. 장면 하나 하나 대사 하나 하나 배경음악 하나 하나 버릴게 없는 드라마.',\n",
              " '진심 재미 없는데 너무 평점 높아서 화남;',\n",
              " '더럽게 재미없다 어떤 형태로도 와 닿지 않는 허무하고 완벽히 지루한 영화고 영양가 하나도 없는 영화다',\n",
              " '이승기 정말 연기 잘하는.. 조연들도 연기 정말 잘하고',\n",
              " '현실은 꿈, 꿈은 현실',\n",
              " '오늘 현충일특집프로로 보게되었습니다 1963년도의 매우 훌륭한 작품입니다',\n",
              " '판의미로와 동급 trash of the trash',\n",
              " '제대하고 보니까 더 재밌네요 ㅋㅋㅋㅋ',\n",
              " '영화를 보는것만으로도 마음의 휴가를 다녀온 느낌.소박하지고 잔잔하지만 지루하지않은..그래서 다시 보고싶은 영화.햇살가득한 비이의 부엌과 요리도 인상적',\n",
              " '코믹한건 좋았는데 짜임새가 너무 허술하다',\n",
              " '1996년 그때 당시에는 우리 나라에 이런 판타지 로맨스가 없었다... 아직도 신현준의 황장군 연기는 음... 괜찮네... ㅎㅎ....한석규의 전성시대가 열린 영화.... 이때 한석규한테 뿅 갔었다~~♥',\n",
              " '일단 재생하면 괴물같은 서스펜스 귀신같은 흡입력',\n",
              " \"하..진짜 댓글보고 한번쯤볼만한 영화인거같아서봤지만 기가찬다..이게무슨버킷리스트인가! 죽기직전에 소원들어주기? 내가보기엔 죽기직전에 막 살자 인거같다. 감동도없고.. 진짜 '버킷리스트' 란 영화에 발톱에 때만큼도 못따라가는쓰레기영화.. 완존실망..\",\n",
              " '이시간좀...밝고긍정적인드라마보고싶어서..보긴보는데....오버하는연기들이거슬리네요...연기인게너무표나요....홍혜정역이그나마도후련기도하고시원하고.....나머진다들답답하네요...낼월요일인데...해피한것만보고싶네요....',\n",
              " '정치인의 모순인가, 정치범의 모순인가....',\n",
              " '어떻게 이런 상상을 대단하다.',\n",
              " '좀 어렵기도 하고, 전쟁에 대한 묘사가... 잘 모르겠다.',\n",
              " '일본에서10주년 극장판만드는데 우리나라에선 10주년으로 재개봉하니이건 좀 ㅄ 아님?',\n",
              " '한대희가 개그콘서트본다고 내전화끊음개그콘서트 없애주세요 ㅡㅡ',\n",
              " '한물 간 동서양 두 배우의 싸움판.',\n",
              " '푸하하하 이거 기대 안했지만.. 역시나 구만..ㅋ',\n",
              " '세계최초의 반공 애니매이션이라는 역사적 가치가 있다.',\n",
              " '감각적인..시각으로...바라보는..색다른...느낌의...사랑...문학적이',\n",
              " '엄마는 무고한 지 딸을 감옥살이 시켜시켜? 이해 안돼요',\n",
              " '이영화는.제발 책을보세여.감독이 미친겁니다.이따위로 만들어놓고.화가 날정도 ㅡㅡ',\n",
              " '신나는 흑인음악과 아이스 큐브 뿐 남는게 없다',\n",
              " '드럽게 재미없네 시간이 돈이다? 내 시간은 어쩔건데',\n",
              " \"그저 한마디뿐 '알리시아'\",\n",
              " '진짜 생생하게 느낄 수 있었다',\n",
              " '재밌는데 평점이 이상하다 싶을 정도로 낮다.',\n",
              " '옥소리 프로필 사진에 1점남기고 갑니다 ㅋㅋㅋㅋㅋㅋㅋㅋㅋㅋㅋㅋㅋㅋ완전 대박이다 진짜 아우 짜증나!',\n",
              " '드라마 너무 재밓당',\n",
              " '아진짜너무좋아요ㅜㅜ짱짱!!!',\n",
              " '연기 굿',\n",
              " '이런 영화 다시는 안나오겠지..그때 시절을 잘나타내주었던거같아요 ㅎㅎ',\n",
              " '중간정도 부터 봤는데도 꽤나 대단하군요...',\n",
              " '콩은 까야 제맛 콩은 까야 제맛',\n",
              " '이적의 소설. 재미없다.',\n",
              " '액션영화가 아니다.범죄 느와르 영화다. 허나 범죄 느와르 영화로서도 실패작.......',\n",
              " '뭔가알수없는매력에빠져드는 영화',\n",
              " '모녀를 토막살해한 살인자가 부성애라니.... 말이되나... 감동받은 사람들 본인들이 피해자가 되도 감동받았다고 할수있을까... 진심 묻고싶습니다...',\n",
              " '재밌는데 평점이 왜 이렇게 구리지',\n",
              " '아 OOO기.. 이걸 본 내눈이 아깝다 ㅡㅡ 진짜 아놔 진짜 OOO기명작이네요',\n",
              " '필름값이 아깝다..재미 더럽게없다..2점부터 점수준것들 매미 OO',\n",
              " '또보고 싶은데 어디서 보죠???',\n",
              " '영화 재미있드만.. ㅎㅎ',\n",
              " '남주인공 연기력 안습이네요... 혀짧은 소리 듣기도 너무 힘들었네요 매니저역활분이 남주인공하는게 훨 좋았겠다는 생각이 들정도... 영화 자체는 적당히 볼 만 합니다 ^^',\n",
              " '3점이 딱.... 액션,스릴러인데 액션과 스릴이 없다.',\n",
              " '완전 스토리도 엉망이구, 완전 비추..ㅜ',\n",
              " 'OOO영화 뭘전달하려는지모르겠네 오글거리고',\n",
              " '좋은영화',\n",
              " '......더빙이 이상해요.....할머니는 월래익숙한 ㄷㅔ.....',\n",
              " '이게 2편이 나왔어???',\n",
              " '모든게 2%씩 다 부족했다...아니..50%씩...',\n",
              " \"정말 말 그대로 '쇼'하는 영화..\",\n",
              " '12년 전에 봐서 기억이 나질 않지만 진개가(천카이거) 감독 이름 세 자는 기억해 두었던.',\n",
              " '정은지 언니!! 연기 잘하구..노래도 잘부르시고! 마지막회 웃으면서 즐겁게! 봤습니다! 트로트의 연인!♥',\n",
              " '이게 웃겨?',\n",
              " '망함',\n",
              " '아이의 시선으로 보는 전쟁.., 보는 내내 가슴이 먹먹했다는...',\n",
              " '사람들이 재미없다고 해서 레알 기대 안했는데 생각보다 볼만함. 근데 여자애랑 복순이랑 다투는 장면? 그건 굳이 없어도 됐다고 생각함 몰입도 겁나 없애고, 어색해보였음',\n",
              " '설정이 연속극같은 느낌이 든다. 하지만 배우들의 연기가 뛰어나다.',\n",
              " '여주인공 인터뷰할때 지루해죽는줄알았음 ㅡㅡ 그냥저냥 킬링타임용 스릴러',\n",
              " '전미 박스 오피스1위 ㅋㅋ 그냥 몰아주기 하는건가 어떻게 이런영화가 1위를 하지 옛날 80~90년대 우뢰매수준의 물폭탄싸움이네 ㅋㅋ 손에서 빔나가나 손에서 물폭탄 나가나 다를게 뭐지?',\n",
              " '감독이 여자다보니 기량이 많이 딸리네',\n",
              " '또 보고 또 울.었.다..',\n",
              " '이런 영화는 하나의 개연성만 없어도 허무하게 만들어 버린다. 조디포스터의 이쁜 모습만 남을 영화.',\n",
              " '굳굳',\n",
              " '스토리도 말이 안되고 개막장 사랑이야기도 아니예요 이걸보고계신다면 당신의 시간과돈을 아낀거예요^.^휴 그래도 본다면 호구',\n",
              " '네놈을 살려두기엔 쌀이 아까워! 세기의 명대사',\n",
              " '평점이 너무 높다. 전혀 재미있지 않았다. 쓸데없이 말만 많음. 이런 류의 영화는 조연들의 뒷받침이 중요한데 조연들의 내용자체가 전혀 없음. 또한 여배우도 별로 매력 없었다. 이틀전에 저스트고위드잇의 애니스톤을 보고 이 영화를 봐서 그런가. 실망했음',\n",
              " '맛깔 나는 드라마.',\n",
              " '시베리아인가 거기가서 훈련할때나오는 ost 개작살',\n",
              " '이건 시종일관 질~~질왜? 제목이 야경꾼 일지냐고 지금 10회가 넘어가는데 즉 2달이 넘어가는데. 앞에서 누군가가 얘기 하더만 이거 100부작이냐고 그러다 또 한 순간에 모든걸 훅진짜 지루함의 지존',\n",
              " '나이들수록 이해가 가는 영화',\n",
              " 'ㅠㅠ 슬픔',\n",
              " '장면 개연성도 없고 아역은 연기도 못하고 무슨 추노에 나오는 민폐언년 외국판인줄....초반만 그럴싸한 저급영화',\n",
              " '이 영화 정말 별루예요. 결말이 이상해요....',\n",
              " '딱히 재미는 없네요 킁;;',\n",
              " '송강호는 정말 연기를 하기위해 태어났고 그로인해 우리는 즐거움을 느낀다 역시 송강호는 연기파다.',\n",
              " '일본영화 수입 금지 시절에도 비디오 테이프로 돌려봤던 불후의 명작 아 그립다',\n",
              " '살인을 소재로 한 영화가 이토록 재밌을 줄이야. 살인에 대한 감독의 해석이 정말 재치있다. 대 배우님들의 10여년전 모습도 새롭웠고. ㅋ. 정말 유쾌하고 재밌다.',\n",
              " '누미 라파스 신봉선 닮아서 안 본다',\n",
              " '케이블에서 그만 좀 재탕해라.',\n",
              " '멋졌다. 정말이지, 멋지다는 말 이외엔 할 말이 없다.',\n",
              " '98년에 어떻게 이런영화가 만들어졌는지 의문.. 당대 최고의 영화 지금봐도 퀄에서 결코 떨어지지 않아요',\n",
              " '지금 이거 티비로 돈내고 보고있는 내가한심하다',\n",
              " '쓰레기 연예인 재기의 장~~그러나...',\n",
              " '굿 좋아',\n",
              " '많은 감동을 준 드라마이다.',\n",
              " '발로만든영화. 지진나서 주인공 넘어지는데 뒤로 사람들 유유히 걸어다니고 있음. 발CG + 발연기 + 발시나리오.... 내용도 정말 뭐같음 ㅋㅋㅋ',\n",
              " '적당히 해야지 언제 끝나는것인가?',\n",
              " '잊을 수 없는 안개낀 워터루 다리와 마스코트.',\n",
              " '곤사토시 감독... 2010년 안타깝게 돌아가셔서 가슴이 먹먹합니다.. 정말 천재적인 감독인데 암으로 가시다니.. ㅠㅠ 이제와서 다시봐도 모든 작품이 대작...',\n",
              " '많은생각을 하게 됐습니다. 예뼈지고 싶은 맘은 있었지만 과하면 독이겠네요. ^^',\n",
              " '아 츠무구만 없어지면 별 5개줄게',\n",
              " '어릴땐 조폭영화로 알다가 나이가들수록 이게 인생이구나 하고 뭉클해지는 영화.세상을 살아가면 갈수록 와닿는게 많아지네요...세상은 비정하지만 비정함마져도 따뜻해지는게 친구라고...',\n",
              " '영상이 너무나도 멋지다.',\n",
              " '비디오가 있어서 봤는데 1997년도인줄모를정도로 잘만들었습니다 긴장감도있고',\n",
              " '처ㅝ주',\n",
              " '2009년에 만들어진것치곤 재밌음 영화가 길어서 좀 다듬었으면 ..소재도 좋고 몰입감도 기대이상 매끄럽지 못한 부분도 있지만 연기는 둘 다 잘한듯',\n",
              " '철지난 조폭 코미디와 뼈대 있는 가문의 이야기를 섞었지만, 둘 다 지루하다. 박정아를 비롯해 배우들은 보기 민망한 연기를 펼치고, 기억에 남는 건 하나도 없다.',\n",
              " '군더더기 없이 잘 진행되는데 재미도 없는게 문제',\n",
              " '심심해서봤는데 재밌네요 탑연기 못할줄알았는데배우포스나고 잘하군요',\n",
              " '고다미 괜찮음',\n",
              " '아 지대짜증 아빠랑 봣는데 민망해 죽는줄',\n",
              " '0점은 못주냐??',\n",
              " '빠순이 영화 ㅋㅋㅋㅋㅋㅋㅋ 훈훈하긔 재밋쎠',\n",
              " '최악의 애니메이션.. 지루하고 재미없고 스토리마저 진부하다',\n",
              " '좋은 의도와는 다르게 불쾌한 표현법',\n",
              " '줄리아로버츠 귀여운연인은 이거보다 5년전꺼다 ...',\n",
              " '신선하네..,,..,,..',\n",
              " '예술가로써의 한 사람의 인생과당시 시대적 상황을 질 느낄 수 있었던 명작',\n",
              " '관객수가 너무 아쉬운 영화...베테랑보다도 더 류승완감독의 역작이고 더 강한악역이다',\n",
              " '한창 핵펭귄이 남북 거짓평화로 전국민을 속이던때 만들어진 영화',\n",
              " '지금 티비에서 하는데.. 못 보겠다..',\n",
              " '여자애 한명이잘 못해서몇명이죽는거야ㅋㅋ답도없다ㅋ',\n",
              " '성룡의 헐리웃작 중 단연 최고지 ㅋㅋㅋ',\n",
              " '안습',\n",
              " '감독의 의도를 전혀 알아차리지 못했다.',\n",
              " '하나님이가정을온전히만든다. 진리이신분이만든영화. 눈으로만보지말고마음으로봐라.',\n",
              " '2편도 나름 흥미진진한데 핀헤드가 죽은게 좀 아쉬운 점이랄까?',\n",
              " '국산 코미디영화중에서 난 신라의달밤이 제일좋았음뭔가 푸근하고 따뜻함..',\n",
              " '최악이다 영화보다가 잠오긴첨임 지루해둑을뻔',\n",
              " '탄탄한 !~배우들 될고 ~머하는 건지~~~~~~~~~~~',\n",
              " '영화가 점점 끝을 달려갈수록 몰입도가 더 높아진 영화는 이번이 처음이네요.',\n",
              " '결국 감독 자신이 하고 싶은 의견을 지존파 핑계삼아 하려고 한듯. 지존파 살인은 정당화하고 정부탓이 였다는.사회탓이라는.',\n",
              " '사실여부를 떠나,알고왔던 아더와 너무 매칭이 안돼더라.원탁기사중 실제 검술 최고수는 랜슬롯으로 알고 있는데,트리스탄보다 못하고,싸우는 검술은 마치 중국검술 흉내낸거 같은게;; 그리고 란슬롯이 실제는 쌍검였나?너무 매칭이 안대 하튼 ㅋ기네비어역도 미스.',\n",
              " '대한민국 영화 수준의 평균치를 하락시키기에 충분한 C급 영상물',\n",
              " '0점은 없나??',\n",
              " '재밌는데',\n",
              " '재미없다... 기대 완전 했는데.... 완전 못함!!! 실망....',\n",
              " '종착역 없는 인생의 대유. 트레비스는 단지 흘러간다.',\n",
              " '돈과 시간이 아까운 영화',\n",
              " '네러티브는 하나도 없는 예쁜 음악 동영상. 취미로 영화만드는 것은 이걸로 끝나길 . 잘하는 음악에 올인하길.',\n",
              " '배우들의 연기는 좋았는데.. 뭘 말 하려는 건지?',\n",
              " '학위위조성범죄자 문제자들만 모아서 영화찍음 왜그랬으까 제작비 아끼려구 패자부활전 하냐?',\n",
              " '솔직히',\n",
              " '완전재미있어요.애들도보기에알맞는듯',\n",
              " '잔인하기도 하고 무서웠어요ㅠ탑은 멋있더라구요~~',\n",
              " '무섭지도 않고 기분만 나쁘고 쩝',\n",
              " '군더더기 없는 깔끔한 그러나 강한 메세지 전달. 뜻밖의 참좋은 영화..!',\n",
              " '이 영화는 최고다. 그냥 최고야 그런 줄 알아',\n",
              " '그랜드 부다페스트 호텔과 시리즈 같네.. 캐스팅이 아까워~',\n",
              " '빨리감기해서 봤음...투자비는 많이 들었을 것 같은데...영화사 망했네~ㅎ',\n",
              " '도대체 뭐가 재밌다는건지 모르겠네요 무슨 아이언맨 시리즈의 개그도 뛰어넘는다 하는데 어디서 웃어야할지도 모르겠고 내용도 뭔지 뜬금없는 히어로놀이는 또 뭔지.. 왜이렇게 평점이 높은지 모르겠습니다',\n",
              " '왜 극을 끌어가는 중심있는 캐릭터가 있어야 하는지 알게 된영화 살인마와 대적하는 그리고 사건을 해결하는 인물이 없고 그리고 왜 마지막에 다 탈출 해놓고 나서 잡히고 죽임을 당하는지 이해할수가 없다. 대체 조달환 정유미는 왜 나옴?',\n",
              " '진 짜 리얼 개 쓰레기 영화 . 다 보고 나면 정말 찝찝해지는 영화 절대보지마',\n",
              " '비록 로봇이지만 점차 인간의 감정을 가지고 자신에 대해 고민하면서 결국 인간이 되어 죽는 앤드류의 모습내가 봤던 영화 중에서도 최고의 감동을 선사한 영화',\n",
              " '영구와땡칠이시리즈는 레전드영화다',\n",
              " '초딩 때 친척형이 비디오로 빌려와서 봤던 기억이 난다...너무 재미 없었다 근데 나중에 우연히 다시보니 재밌더라 그 땐 왜 그렇게 재미가 없었을까?? 98년이면 내가 초등학교 2학년 때니까...사촌형이 당시 나름 최신 비디오를 빌려온거 같다',\n",
              " '지루할만큼 고요하고 서글픈 시선속에 머문 깊은 성찰과 사색.',\n",
              " '영화 진짜 보고 .. 펑펑울었습니다 , 너무슬픈거같아요 .. ㅜㅜㅜ !',\n",
              " '누가 더 혀짧은가 내기하면 박빙일것같다',\n",
              " '애 둘 딸린 심은하의 그 눈부신 미모, 아름다운 영상, 메인 주제가',\n",
              " '3기 나오겠죠 ? 아직 안풀린 이야기들이 많은데 극장판은 정말 시간가는줄도 모르고 봤네요 역시 싸패..',\n",
              " '개노잼;; 뭔가 스토리도 부족하고 다이상함 진짜;',\n",
              " '답없네, 뭐하는건지..',\n",
              " '절망과 슬픔 속에서도 자신을 챙겨야만하는 삶의 잔인함을 거부한 비참함에 대하여',\n",
              " '페이스 허거 같음ㅋㅋㅋㅋㅋ',\n",
              " '시간이 흘러도 퇴색되지 않는 맛이 있는 영화',\n",
              " '진짜 어마어마한 여운을 주는 멜로 영화에요.ㅎ',\n",
              " '소피마르소와의 말같지도 않은 불륜이 내용 다 망침. 물론 실제 역사에는 그런 똥같은 이야기는 전혀 없었음.(주인공 죽을때 공주는 10살이었음)한마디.만약 미국인과 맞서 싸우는 아메리칸 원주민의 자유 투쟁기였으면 절대 아카데미상 못 받았음.',\n",
              " '훈훈하고 따뜻한 부정을 느낄수잇엇음',\n",
              " '잼',\n",
              " '전 정말 재미있게 봤습니다',\n",
              " '어딘가에서 일어나고 일일것같은 느낌이 강하다.우베볼이 이런 영화를 만드는 이유는 누군가 실제로 따라 했으면 하고 바라는것 같은데 정장 월가 있는 애들이 보면 웃겠지...',\n",
              " '림프비즈킷의 OST만 10점. 개봉 당시 극장에서 봤는데 영화내내 오우삼 쥑이고 싶었던ㅋㅋ',\n",
              " '견자단 대박!!엽문 시리즈는 계속된다.',\n",
              " '정말 오월의 멜로는 정말로 보고보고 또봐도 계속 보고싶은 영화순위 1순위다하,,,늦은 밤이라 그런지 야릇한 느낌이 들었다',\n",
              " '흥미롭게 봤어요. 여배우들 이쁘네요. 반했음',\n",
              " '스토리, 액션, 그래픽 머 하나 건질게 없는 망작. 그냥 게임으로나 즐기셔~',\n",
              " '그냥 레전드다 레전드!!!',\n",
              " '평론가 명치를 겁나 때리고 싶다. 정말 이 영화 재미없을거라 생각했는데 재미도 있고 내 인생에 도움이 가장큰 영화입니다. 본인이 깨달고 싶으면 꼭 보세요. 인생을 바꿔줄겁니다.',\n",
              " '키아누 리브스 최고의 액션 영화!!',\n",
              " '소재가 아름다운 영화. 다소 아쉬운 부분들이 있는 이유는 이 영화는 영화스러운 극적 로맨스보단, 좀 더 사실적으로 한 남자의 마음과 시선을 말하고 싶었기 때문 아닐까.',\n",
              " '영화평론가는 아니지만, 좋았다, 한번보고마는 영화가 아닌, 울림이있는영화',\n",
              " '역시 효느!!! 역시 재밌다ㅋㅋㅋ 재탕중...',\n",
              " '4대강',\n",
              " '간첩색휘들 애쓴다 밥은 먹고 다니냐?',\n",
              " '좀 검증된 애들좀 출현시켜라이탈리아 특집 장난하냐',\n",
              " '아 정말짜증나네 절때보지말껄욕나옴',\n",
              " '슬프다 ㅠㅠ',\n",
              " '.최악의 환경속에서 이런 만화라도 만든사람들에게 경의를 보낸다.',\n",
              " 'What is this movie for?',\n",
              " '여운이 엄청~길게 남는영화.. 이이경을 사랑하게하는 영화!',\n",
              " '이딴게 한국 영화라니',\n",
              " '짜가인가 이게뭐여..뭔..',\n",
              " '굿 10자 이상 .가나다라',\n",
              " '짱이다ㅎ 혼자자식키우며살아온엄마 그의아들 힘들게살아오면서 서로예민해지고날카로워질때도잇엇지만 결국 ..가족ㅎ 아빠라는 사람도 생각보다최악이아니고..여자는, 확실히 요구하면도와준다는 그말이 왠지짠하게와닿는다ㅎ 나혼자괜히끙끙거리지말자ㅡ이런단순한생각이든다',\n",
              " 'CG도 별로고 전개도 별로고 연기도 별로고 한마디로 재미없다',\n",
              " '번지수 잃고 갈팡질팡',\n",
              " 'Yesterday when i was young',\n",
              " '너무 사랑스럽고 감동적인 영화:) 정말 좋앗어요',\n",
              " '최고의영화',\n",
              " '13년전 영활 다시보니 공효진 코평수줄이고 콧대높였네...완전 못생겼어 ㅎㅎ호 권상우는 화산고때 왼쪽 팔자 심하더니 지금 사라지고 더 잘생겨졌고 장혁은 멋지게 늙었네. ㅋㅋㅋ다시보니 웃겨',\n",
              " '말랑말랑 ...',\n",
              " '공부 열심히 합시다 공부 안하면 저런 OO인생 삽니다.',\n",
              " '그냥. 최고다.',\n",
              " '전쟁이후의 아픔을 잘 그린영화마지막 장면이 압권유대인줄 알아 더럽게 여기나 도움이 필요하니동행했던 토마스에게 더러운유태인이라고 말한장면 그러나 유대인인척한 사실 유대인가족사진을 보면서 미묘한 감정들을 사슴인형을 밟아까며 대변한다므찐영화^^',\n",
              " '오랜만에 동화다운 동화를 본 기분이다.',\n",
              " '감사합니다 정말로 감사합니다.',\n",
              " '걍 둘다 변태',\n",
              " '샤넬의 인생과 성공,이 아니라 샤넬과 그의 남자들',\n",
              " '영화가 내용이 없다',\n",
              " '십수년의 세월을 찰나의 순간처럼, 찰나의 순간을 영원한 기억으로 남기는 시간의 상대성 이론에 관하여.',\n",
              " '니노의 이중인격연기 두근거리네요♥',\n",
              " '보다가 울컥핫 영화...재미도 있고...먼가 감동적임',\n",
              " '열정만으로 돌진하고 싶게 만드는 영화.',\n",
              " '연기력에서 유혹하지 못한다',\n",
              " '난감하다. 재미도 없고, 세상을 깜짝 놀라게 하는 센세이션도 없다.',\n",
              " \"아무리 노력했어도 '차이나타운'을 대놓고 베낀 것은 용서가 안 됨.\",\n",
              " '신화 화이팅 에릭 화이팅>< 모두 힘내요 !',\n",
              " '엔딩이 넘 슬퍼요 :(',\n",
              " '영화관에 가서 보면 더 좋았을걸...어린시절로 돌아간 느낌이들어 만감이...',\n",
              " '정말 최고였어요 ㅠㅠ 이민정씨와 신하균씨 연기 너무 좋았어요!!',\n",
              " '몇 안되는 재밌게 본 영화',\n",
              " '교양시간에 보고 좀 충격먹은 영화....마지막에 너무 슬펐다 빨갱이라 소리지르던 몬초가 갑자기 다른 단어를 말한건 선생님에대한 그리움 미안함 슬픔이었을까...몬초가 마지막에 좀 울먹인거 같기도 하고...',\n",
              " '잘봤습니다',\n",
              " '안무서워!! 귀신이 애기라 그런건지,,, 그냥 깜놀하기만할뿐이야',\n",
              " '뭐하자는건쥐... 모든것이 다 어설프고...',\n",
              " '배우들의 따뜻한 연기도 일상의 힘겨움을 그리는 현실감도 다 좋았어요.',\n",
              " '남자배우들 정말 미스캐스팅. 연기력 안습... 조은숙, 김유미 연기땜에 참고 봤다',\n",
              " '1차 세계대전 中 피고 진 청춘들. 무기와 기술력은 20t세기, 전쟁을 일으킨 정치인들과 전쟁을 지휘하는 고위 장교들의 생각은 19세기.',\n",
              " '책과는 분명히 다른시선. 괜찮네요',\n",
              " '내가 이거 왜 봤지 싶은데 한예슬이랑 김태희 나와서 본 듯. 적월도 개 쌤 ㅋㅋ',\n",
              " '솔직히 6점때가 뭐냐 약간 더러운 장면만빼면 7.5정도다',\n",
              " '와 이연서님 신인답지 않은 연기력 잘 봤습니다 다음 작품에서 또 뵙길 바랍니다',\n",
              " '반전이 전부가 아닌영화..몇 번을 봐도 또 보고 싶은 영화',\n",
              " '피해자만 있고,피의자는 없는 ..',\n",
              " '개답답 먼주인공이 지혼자 복수도 못함?주변에서 해주길바라는 민폐녀?아직도 끌려다니고ㅡㅡ',\n",
              " '신선한 소재. 화끈한 액션. 스피디한 전개',\n",
              " '이 영화의 3박자는 디테일이었다. (정말 시가전의 퀄리티는 완벽했고) 남자의 사랑에 대한 묘사... (작중에 한석규는 누군가를 사랑하는 마음은 정말 디테일이 대단했다.) 마지막 얘기의 완급조절이 완벽했다. 이 영화가 정말 멋졌다.',\n",
              " '탕웨이찡 그녀 만으로도 10점주기에 충분하다!!',\n",
              " '감동적인 영화다',\n",
              " '당시 대박쳤던 영화..괜찮다!!',\n",
              " '억지스러운 시나리오..지루한 전개.. 1편 보다 못한 구성등.. 2편은 안나오는게 나았다..망작..배우들이 영화보는 눈이 없어서 안타깝다.',\n",
              " 'ㅋㅋㅋㅋㅋㅋㅋㅋ 반도 안되는 영화',\n",
              " '이 영화가 평점이 높은 이유를 모르겠어..ㅡ.ㅡ::',\n",
              " '평생 기억할만한 영화,정상적인 소재는 아니지만',\n",
              " '요즘 상황 보고 이 영화가 생각났다.',\n",
              " '많을 것을 생각하게 만드는 영화입니다.마지막에 사람들이 짐승으로 보이고 아수라가 사람같아 보였습니다.',\n",
              " '진짜 재미 없는 영화 공통점....스포츠영화,군대영화,자막 나오는 영화',\n",
              " '로버트 드니로의 광기의 복수 연기를 만끽할수 있는 수작 서스펜스 스릴러물',\n",
              " '감동감동감동의 도가니탕',\n",
              " '세계 어디서나 정치 경제 문화 사회 전반에 걸쳐 변화가 절실한 상황이지만 변화를 가져올 방법이 없다는게 함정인 것 같다...',\n",
              " '귀여운벤지.. 똑똑한 벤지 예쁘고 귀여운 친구... 압삘럽 ㅎ',\n",
              " '당시 개봉날 보고 울면서 나왔다. 돈아까워서..ㅋㅋ',\n",
              " '정말 최고의 영화...',\n",
              " '잔잔하게 숨막히는 영화 . 연출이 대단하다. 곳곳에 숨어있는 복선. 치밀하다 싶을정도로 섬세한 감정표현. 거기에 김영애의 연기까지',\n",
              " 'once upon a dream',\n",
              " '시나리오 연출 연기 어느것 하나 갖추지 못한 시간이 넘 아까운 억지 싸구려 중국 신파 경극...',\n",
              " '거부하는 몸짓으로 저 하늘을 ~ ^^',\n",
              " '그만빙빙돌리고 밝혀지게하면안되나요 ?보려다아직도질질끌어짜증나.안봄 여기서또사고터져 또질질끌면진짜짜증날듯 ?빨리빨리밝혀질건밝혀지면서반전이있든지 ?작가님 이드라마사랑하고잼있는데 넘끌어짜증나요',\n",
              " '졸면서 봤다 왜이리 평정이 높은겨 내용도 별거 없고 아오 감수성 영화냐 이거',\n",
              " '기대하지 않았던 영화의 아름다움이 밀려온다. 꽤 괜찮다았던 영화.',\n",
              " '진짜 한번만더 이런영화 상영하면 용서하지 않는다지금 영화보면서 카톡하고잇음 아놔 진짜',\n",
              " '살아는 있지만 생동감을 잃은 박물관',\n",
              " '노땅들의 한심한 추억미화',\n",
              " '어릴적에 눈물흘리며 웃던기억에 간신히 찾아 다시 봤네요 ^^',\n",
              " '인종차별과 유괴라는 두주제의 불협화음',\n",
              " '고명환이 연기가 쩌냐? 아니면 돈이 없어 쓴거냐..후자라면 볼가치가 없는영화',\n",
              " '속편에서는주인공이전작처럼앨빈의밴드였으면좋았을것같다.캐릭터추가로더이상해진듯',\n",
              " '혼자 보긴 너무 아깝다. 2004년 올해의 영화.',\n",
              " '마지막 결투씬 최고! ㅋㅋ 폭풍눈물에~ 팝핀현준 할아버지 ㅋㅋㅋ',\n",
              " 'ㄵ 5점대asfgsdlgkbjsjvb',\n",
              " '좋아 상술최고..아니 선거술 최고...',\n",
              " '쓰레기 함부로 버리지 맙시다.',\n",
              " '글쎄 나와는 안 맞는 성향의 영화 중 하나. OST는 들을 만함',\n",
              " '즐~~~~~',\n",
              " '막장도 재미가있어야 보지..재미도 없고 짜증만 남남녀주인공이 어울리면 참고보겠는데 진짜 안어울리고웬만하면 다 재밌게 보는데 진짜 내가본것중 제일 최악이였음!!무튼 주인공들부터시작해서 성격 개 이상함!!조기종영이 답이다...',\n",
              " '줄리델피는 나이가 들수록 멋지다!',\n",
              " '내가 본 일드 중 쵝오~!!!!!>0<',\n",
              " '역시 명작은 명작이다...',\n",
              " '글쎄요.... 뭐랄까... 영화 제목을 잘못 보고 착각한 내 잘못이랄까...',\n",
              " '그냥 기독교영화네요. 좀 더 깊이있는 내용을 기대했는데.. 실망입니다. 영화도 뭔가 엉성해요;;',\n",
              " '그냥 책으로 읽는게 더 절절하게 다가온다. 영화는 내용을 너무 비약하고 삭제해서 행간을 잃어버렸다. 책에서 꽉 찼었던 느낌과 반대로 모든 것이 엉성하다.',\n",
              " '너무나 감동적인 영화',\n",
              " '스킨헤드성님들이 이 영화를 싫어합니다.',\n",
              " '자동차 매니아인 나의 평점은 5점 이하~속았다...아오~',\n",
              " '나 이거 보고 인형 절대안삼',\n",
              " '정체성은 사치인가?',\n",
              " '나이먹은아저씨들이 일찐놀이하는영화 개역겹다. 알바풀었냐 현실감 개진짜 개제로',\n",
              " '남극은 왔는데 그만 길을 잃었다. 오르지 못할 곳은 오르는 것이 아니다.',\n",
              " '재밌음 귀엽고 신남',\n",
              " '포스터는 진심 개쩐다~ 엑소시스트를 능가하는 공포물 같지만 실상은 처키보다 못한영화',\n",
              " '시청률 44%는 개뿔;; 존11나 재미없어;; 이제보니 MBC가 사극너무못만드네;;',\n",
              " '요즘 재방보는데 넘 재밌는데...왜 시청률은 저조했을까 싶네요...둘다 귀요미',\n",
              " '연출 연기 영상이 아름다운 영화입니다. 저예산영화인 관계로 스펙타클은 부족하지만 한국영화계에 새로운 바람, 희망, 다크호스가 될것임을 믿습니다. 많은 응원부탁드리고 벌써부터 일찍 관람해주신분들 진심으로 감사합니다. New hope',\n",
              " '평점이왜이렇게낮지?난 이거 또다운받고있다.3번째...정말잼있던데...끝에 견자단하고 대빵하고싸울땐 정말 가슴이뜨거워졌다.난정말로 잼있게봤다...최근댓글이니 내가 알바아닌줄은 알거다.',\n",
              " '이게 어떻게 평점이 낮을수가 있지?',\n",
              " '블랙코미디 조롱 대상이 우린데 기분 드러워서 점수 주겠냐? 성기 노출 등으로 어그로나 끌고서는 ㅉㅉ',\n",
              " '촌동네 조폭삼류영화. 가끔씩 툭툭들이미는 유머도 영쌩뚱맞구 촌스럽기까지하다.',\n",
              " '10점 만들기',\n",
              " '스타뎀 형님의 얼굴에 먹칠을 한영화..',\n",
              " '헐...남자몸매보면 기분 좋나?',\n",
              " '안봐도 별점 한개 주고싶은 10류 영화 같다... ㅋㅋ심형래 아저씨와 동급감독인듯 ㅋㅋㅋ',\n",
              " '정말 완벽했다.최고의 영화중에 꼽히는 영화.',\n",
              " '조잡하고 유치한 저예산 3류 B급 영화다.. 스토리에 깊이감도 없고 전체적으로 루즈하다.',\n",
              " '진짜..뭐냐 민국이나 지아는 더빙 더이상시키면안되겠네 더빙이 얼마나중요한데 이런애들을시켜데뷔도안한애들을 연예인이해도 뭐라고하는판에',\n",
              " '그냥 재미가 없어요....ㅠㅠ',\n",
              " '쇼를해라 쇼',\n",
              " '중심이 약하니 언저리 가지고 무리한 승부수를 띄운다',\n",
              " '주연배우들의 이름만 기억에 남.',\n",
              " '그냥 안보는게 이득 ...',\n",
              " '키기키기키기키기키기',\n",
              " '박얘쁜 빠수니 죄다 OO 없어져버려',\n",
              " '진짜 짜증나는 영화..',\n",
              " '불은 잘 보이지도 않고 사람 죽어나갈 때는 엄청난 웅장한 음악만 나오고 전혀 마음에 와 닿지 않는 설정들',\n",
              " '망작',\n",
              " '상당히 재밌게 봤습니다',\n",
              " '내코끼리내놔가 더재밌음ㅋ',\n",
              " '코믹은 코믹으로 봐라 패러디하고 카메오들보는 재미도 있다',\n",
              " '유치짬뽕이네!!. 딱 초등3학년 영화다. 초등학교 자녀 있는 가족분께 추천함!!',\n",
              " '후속 지금이라도 나와라 한국애니 좀 살려보자',\n",
              " 'EBS를 통해 봤는데.. 정말 재밌게 잘 봤어요. 요 근래 본 영화 중 최고인듯!',\n",
              " '기대않고 봤는데, 찰지게 만든 토종느와르네~! 흥미진진하다..',\n",
              " '성인영화를 가족영화로 만드려하는 멍청한 자막제작자가 마음에 안들어서 1점',\n",
              " '일본인 특유의 어색한 연기 여주인공 연기 너무 못해',\n",
              " '전반적으로 무거운 느낌의 영화네요.가비의향과맛처럼,씁쓸함이 느껴집니다.장윤현감독님께서,커피부분에관해 신경을 쓰시다보니,연출부분에있어서,좀 미흡하지않았나싶고, 배우들연기력은 괜찮았습니다.',\n",
              " '전작보다 100 재밌다. 배우, 내용 모두 세련됨',\n",
              " '진지하고 무거운 소재를 경쾌하고 재미있게 만들었다',\n",
              " '유럽작품상 탈만한 유럽에 중요한 얘기..또한 픽션',\n",
              " '풍정정은 어케된거지ㅋㅋㅋ과도한 압축으로 개연성없지만...배우들이 호화로워서...',\n",
              " '이영화 구성좋다는분들 ㅋㅋ아마 친구랑 같이영화보고 님들이 영화 좋다고 재밌다하면 같이본 친구들은 이해하지 못할겁니다 ㅋㅋ진짜 최악 최저 스토리 주인공 행동 개연성없음캐릭간의 이해관계 최악 ㅋㅋㅋCIA갘ㅋㅋ이렇게 허접하게 표현된 영화 간만이라능ㅋ',\n",
              " '이젠 그만 보고 싶은, 막돼먹은 스토리텔링.',\n",
              " '말이 필요 없다.로맨스 싫어하는 내가 봤을때 기절할 것 같았어 ㅜㅜㅜㅜ',\n",
              " '제 취향적 이고 우울한 마음을 완전히 날려버리고 슬픈내용을 본뒤 마음을 정화시켜주네요.',\n",
              " '영상미가 역시 최고네요',\n",
              " '끙.....',\n",
              " '역시 한국영화는 보지말아야돼',\n",
              " '괜찮은 영화...',\n",
              " '요즘 재밌음!',\n",
              " '소재는 참 좋아서 삼점준다. 제작된 영화는 공포도, 스릴러도 아닌 본분을 잊은 드라마아닌 드라마같은 느낌이다. 연기, 연출은 괜찮았다. 다만 시작부터 끝까지 지루할 뿐이다. 또 어떤 장면들은 살짝 유치했다.',\n",
              " '남자인데 보는내내 울었다 딸 낳으면 잘해줘야지...',\n",
              " '안타까울뿐. 안타까울뿐.',\n",
              " '영웅은 사람들이 원하기 때문에 만들어지는 또다른 희생자다..',\n",
              " '그냥 평작. 욕까진안나오고..',\n",
              " '극장가서 안본 내머리를 깨버리고싶네요. 제인생 최고의 영홥니다. 키이라작품 중에서도 최고일듯. 알럽키이라♡♡',\n",
              " '중고생들의 마마추어 포르노',\n",
              " '비디오 물이냐 동시상영물이냐 ~ 넌 정체가 모냐',\n",
              " '이건 말로 설명할 수 없는 유치함이다. 진짜 필름이 아깝다',\n",
              " '이승연의 강렬함이 묻어나는 영화. 그러나 홍경인은 너무 불쌍하게 나옴',\n",
              " \"'드릴브라' 에서 뿜었다\",\n",
              " '2% 부족한 영화가아닌 98%부족한 영화감동이 있다길래 참고 끝까지 다봤는데...;;진심으로 이렇게 재미없다고 느끼는건 처음;;',\n",
              " '계몽영화의 한계를 고스란이 답습한다',\n",
              " '우와 정말 오랜만에 통쾌하게 웃었네요 ㅎㅎ 내일이 기대됩니다',\n",
              " '청춘에는 마침표가 없다.',\n",
              " '세얼간이 아줌마 나와서 한번 본건데 실망...신선한 반전을 주고싶었나 본데 개연성도 없구 뭐이런...',\n",
              " '좋은 소재에 만족할 연출.',\n",
              " '심혜진이 나와서 겨우 저정도라니 실망이다',\n",
              " '아들놈은 끝까지 아빠한테 미안한 감정 없어..ㅠ 소재가 신선했는데 영화 자체는 메시지도 모호하고 스토리가 짜임새 있지 않은 것 같다.',\n",
              " '창업을 꿈꾸는가! 좋은 아이템이 있어 사업을 하려하는가!! 그렇다면 기를 쓰고 이 영활 보기바란다!! 그 멀고 험한 여정에 스승이 될것이요 지침서가 될것이다... 혹은 단념에 도움이 될지도... 참 오랜만에 박장대소하며 본 독립영활세~~~ ★',\n",
              " '슬픈액션영화치고는실망이크다부자간의배신과원망으로끝나는것이너무허무하다',\n",
              " 'EBS 명화에서 이거보고 움 진짜감동적',\n",
              " '낰였다 티 프리미엄ㅡㅡ 인간적인 면이 쫌 맘에 들어서 2점줬다 근데 진짜 이선균 정재영 김상중 연기파배우들 불러노코 이딴 쓰레기 영화 찍냐ㅡㅡ 진짜 영화보는데 계쇠 지루하고 괴로웠다ㅡㅡ',\n",
              " '너무나 따뜻하고 감동적인 영화',\n",
              " 'C급영화도 안되는...일점도 아깝다... 네이버는 마이너스 점수도 만들어 달라',\n",
              " '스토리의 부진은 액션의 재미까지 반감시킨다',\n",
              " '누구나 ㅡ낄수ㅣㅆ느덕을 영화화함...굿,,',\n",
              " '시종일관 오락가락 말하고자하는게 뭔지 모르겠다 감독자기만의 세계에 빠져 만든것같은 영화..',\n",
              " '왠지모를 색다른 감동을 주는영화이다....',\n",
              " '전주영화제에서봤었는데넘늦게개봉한듯... 종교와업에대해한번더생각할수있게만든영화. 저예산으로만들었으나감독의노력이느껴져큰박수를보내고싶다. 화이팅!',\n",
              " '보는내내 웃었습니다 재밌네요',\n",
              " '1',\n",
              " '사랑에 상처받으면 다시 치유될수 있을까? 하는 생각이 드는 영화!',\n",
              " '극장가서 본영화중 쓰디쓴아픔을 처음으로 느끼게해준 퍼스트',\n",
              " '최고! 더 무슨평가가 필요한가 ~~탑!',\n",
              " '자신의삶에대해 다시한번 생각하게하는영화...',\n",
              " '알바놈들 양심도 없냐...멀보고 십점주는거냐',\n",
              " '90년도로 돌아가게 해준다는 ㅡㅡ',\n",
              " '끼워 맞추기 개쩔던데, 반전 하나 보고 와 하는 인간들 이해 불가',\n",
              " '우웩. 개랑 무슨짓을 했길래. 후세가 태어나. 일본놈들 진짜 정신상태 이상하네.',\n",
              " '4',\n",
              " '이 영활 보고나면 흐뭇해진다.. 영화는 한국이 더 잘만든다는 걸 느끼게 되니까..',\n",
              " '지들이 뭔데 대우를 까냐?',\n",
              " '재밌고 짠하고 그게 매력입니다',\n",
              " '와 ㅠㅠ 내머릿속지우개 이후에 진짜 슬픈영화였어요 ㅠㅠ 마지막에 눈물폭발 ㅜㅜ 오늘이후에도 또보고싶네요',\n",
              " '월요커플 짱짱!! 덕분에 아주 재미있게 보고 있습니당!!',\n",
              " '007 터키특집..액션은 스키추격이 기억에 남고. 소피의,소피에 의한,소피를 위한 시리즈..로저무어 시절보다 재미는 조금 떨어진다',\n",
              " '수많은 최루성 멜로는 여기에서...',\n",
              " '내평생 최고의 걸작. 현실 건너편 세계를 잠시 엿본듯한 느낌.',\n",
              " '내 인생 최고의 영화',\n",
              " '진짜 추천해요 ^^',\n",
              " '포스터가 사기. 너무 현실적이어서 배우들은 심각한데 빵빵 터지는 화성남 금성녀. 아 슈발 지는 혼자 내리면서 본전생각에 담배 피는 남편.',\n",
              " '머가마술이라는거야?나죽기전에외계인만나볼수나있을지?',\n",
              " '참 재밌는 영화 ㅎㅎ',\n",
              " '빨리좀 끝나라...으이그 처음엔재밌는줄알았는데이게뭐야!이리재미없다.',\n",
              " '극에 전혀 몰입안되는 장면 이어붙이기식 단순 진행,연출력이 형편없음.',\n",
              " '자막제작자가 써놨듯이 막장임.',\n",
              " '그리 무서운 수도승이 물에 쉽게 떠내려가네',\n",
              " '이게왜 주온보다 평점이높은지 이해가안간다 이영화 맨처음 여배우가 물대포쏠때부터 웃겻다 포스터가 더무섭다 영화상영시간내내 포스터만보여줘도 충분히지린다',\n",
              " '진짜 신기하다...라는 말밖에 안나와',\n",
              " '좋은 배우들을 데리고....;; 작품의 부족함.',\n",
              " '아니 왜 5점대라니, 근래에 본 다크 히어로무비 중에서 최고였어요. 아주 그냥 고스트라이더에게 걸리면 스치면 사망인거에요.',\n",
              " '묵직하게 시작해서 우습게 끝남',\n",
              " '내용 전개가엉성하고지루할정도로 재미가없슴',\n",
              " '돈뭉치로 싸대기;; 명장면이다ㅋㅋ',\n",
              " '2.2고고하자 ㅋㅋㅋ',\n",
              " '쓰레기영화',\n",
              " '너무일찍슬픔을알게된제제가안쓰럽다..책으로읽고도눈물이났는데..영화도마찬가지다.어린나이의제제는슬픔을너무일찍알아버렸다',\n",
              " '정말 비디오마저 돈주고 보고 아깝다..최악...',\n",
              " '말그대로 뚝방에서 볼영화',\n",
              " '내 인생 최고의 영화. 10년이 다되가는데, 아직도 아련하고 애틋한 기억.',\n",
              " '감독ㅡㅡ다신영화찍지마라',\n",
              " '육감적인 섹시한 여인들의 존재 자체가 이 영화의 전부',\n",
              " '영화 첫 도입부 부터 카메라 각도라든지 화질이라든지 겁나 구림.. 영화 아닌줄 알았음',\n",
              " '진정 좋은 영화란 볼때당시 잼있다... 도 있지만.. 두고두고 기억나고생각나고 또 한번쯤 보고싶은 이런영화가 아닐런지요 ㅋㅋ',\n",
              " '박사아들 정시현 정말 멋져요',\n",
              " '1편이 너무좋아서 2편이 너무묻힌다',\n",
              " '할 말이 없다',\n",
              " '난 별로던데 -_ -',\n",
              " '이런 영화가 참 좋다.',\n",
              " '곳곳에 번뜩이는 아이디어. 아기자기한 구성이 돋보이는 수작.',\n",
              " '우아....새벽에보니까 무섭네 ㅠ_ㅠ 미스터리와에로스와 스릴러를 겸비한 영화!',\n",
              " '짧지만 정말 재밌게 잘봤어요~. 윤계상 능청연기 좋구 잘됬으면 하는 생각을 계속 했네요~ ㅋㅋ',\n",
              " '에린이 초반에 타던차 현대자동차 프레스토 네요. 보면서 추억이세록세록',\n",
              " '남들이 철학적인 영화라고도 하지만 단순 액션용으로 봐도 이 정도 점수는 나와야된다',\n",
              " '4.444.444.444.444.44',\n",
              " '효과음이 기가막혔던 영화',\n",
              " '솔직히 평점 8점 이상은 되야되는거같다.',\n",
              " '난강혜정이 일본가서 찍은건가 했네ㅋㅋ닮은것같다는 생각이 들었을 뿐이고...',\n",
              " '일본영화 좋아한다면 꼭 봐야할 영화!',\n",
              " '진짜 이건 아님ㅋㅋㅋㅋㅋ액션영화좋아해서 액션영화만 다운받아서 꾸준히 본게 벌써 몇년인 사람임 근데 이건 진짴ㅋㅋㅋㅋㅋㅋ아무리 점수 잘 줘도 100점 만점에 10점?ㅡㅡ돈주고봤는데너무아깝다진짜ㅜㅜ그리고대체 왜 13구역 타이틀을 달고나왔는지 모르겠음 실망',\n",
              " '가슴이 먹먹하다, 뷰욕을 왜 이제서야 알게됐을까',\n",
              " '커스틴 때문에 좋겠다',\n",
              " '보는내내 찝찝하고 영화가 끝나고 나서도 불쾌했다.. 중년의 남성이 이렇게까지 추잡해보일 수가 있을까..',\n",
              " '진짜 퀵이유로 이렇게 어이없고 재미없는영화는 처음입니다 진짜 돈아까운적은 두번째라',\n",
              " '진짜재미없다..영화관에삼십분정도늦게들어갔는데사람이한명도없고..그이유를왠지알것같네..^^완전비추요',\n",
              " '2012년에 본영화인대 솜이랑 키작은남자 살아서 나감',\n",
              " 'ㅋㅋ 조금은 유치했지만 왕조현 주윤발 이것만으로도 충분히 볼만했다.',\n",
              " '난 솔직히 재미없었어. 코믹요소가 없어서',\n",
              " '싸구려 왜색 영화, 키작고 교활한 일본원숭이들의 망상, 사무라이 정신..토나온다...',\n",
              " '재미있게봄 감동적이고',\n",
              " '아니 찍어놓고 모니터링 한번 안하나 어떻게 염치 업이 이런걸 극장에 걸수가 있지?',\n",
              " \"영화'산업'이라고 하잖는가? 이딴식으로 홍보 해놓고 속여서 팔았다는 게 소비자 입장에서는 짜증난다. 그나마 다행은 아주 싸구려를 상급품으로 속여판 게 아니라는 점. 그래서 1점. 차라리 연상호 감독 작품 처럼 홍보가 됐다면, 그 비슷하게 만이라도 하지\",\n",
              " '완전 감동이다 ㅠㅠ 박신혜 짱이뻐요 ㅎㅎ',\n",
              " '절망속에서 결국 빠져나온 눈물겨운 실화',\n",
              " '국민학교 다닐때 이거 동생이랑 보다가.... 눈물이...ㅋ',\n",
              " '욕망이라는 이름의 전차.',\n",
              " \"'디 워'랑 같은 부류.. 저예산 + 저렴한 CG + 마구잡이연출\",\n",
              " '무기여 잘있거라는 보는 내내 손에 땀을 쥐고본 첫번째 애니',\n",
              " '배우들 연기력이 아깝다. 별 한 개도 아깝다.',\n",
              " '딱 90년대코미디영화',\n",
              " '어릴때 진짜 재미있게 봤음ㅋㅋㅋㅋ',\n",
              " '정말최고의영화고 마지막 아이들의 노래와 비행기가 정말 잊을수 없는 여운을 남긴다.이런 영화를 이제알게된것자체가 후회될정도로 잔잔하고 깊은 여운이 남는 영화.',\n",
              " '보면서 어이없어서 헛웃음만 나던....',\n",
              " '악역인 금단비가 더 주목받았다는것은 주연여배우들의 미스캐스팅을 의미한다',\n",
              " 'General',\n",
              " '보고 나서도 내내 여운이 남는 영화..',\n",
              " '절대로 보지마라 보면 후회한다!!이걸영화라고 만든거냐!볼사람은 뇌를 놓고보아라!',\n",
              " '무슨 내용인지 도통 모르겠다... 쓸데없이 특별해 보이려는 시도에만 열중이었던 영화.',\n",
              " '기쁨, 슬픔, 생명 그리고 죽음. 인간의 역사속에 거대한 하나님의 우주적 섭리가 느껴지는 영화. 특별히 어머니의 역을 맡은 여배우의 여성미와 자애로움이 인상적이다. 인생을 살면서 그런 존재가 된다면. 영상미 예술이다!',\n",
              " '이게뭔가요내용도없고',\n",
              " '평점 어마어마하게 높네;;;; 빨리 낮춰야 할듯 5점이 적당한 영화.',\n",
              " '이야기도보통재미있고. 10점정도는아니라고봐요.5점6점정도인데 고릴라제작한거도 잘했긴했고.하지만 감동은 보통..아쉬운결말',\n",
              " '솔직히 웬만한 공포영화는 다 섭렵할만큼 매니아인데. 주온은 정말 무서웠었다. 아직까지도 샤워하면서 머리감을때 공포를 느낀다. 누가 나를 쳐다보고 있는 느낌이라서... 이 느낌 나말고도 겪어본사람 있을거야. 그만큼 당시에 대단했던 영화다.',\n",
              " '아름다운 영화였어요',\n",
              " '정말 광해와 비슷한가?',\n",
              " '조쉬 하트넷 특유의 여성들을 자극하는 나약한듯하면서도 남성적인 이미지를 작 부각한듯',\n",
              " '정말 속은느낌이다',\n",
              " '몸매,베드신 보기좋다고 한사람은 영화 안본사람',\n",
              " \"잘봤어요 외모뿐만이 아니라 여러가지들을 따지며 사랑에 빠지는것이 아니라 '하려고' 하는 요즘 사람들에게 좋은 영화인거 같아요....\",\n",
              " '최악의 쓰레기. 어설프려고 정말 노력했다',\n",
              " '콜린파렐. 123412341234',\n",
              " '난이게 제일 재밌었는데..',\n",
              " '난 좋았는데요..... 괜찮았어요',\n",
              " '영화보다 댓글이 더 재밌어',\n",
              " '에라이 미친 사이코 드라마야!!!',\n",
              " '모든 일본문화가 들어가 있다고 할 수 있을까? 최고의 사극!!',\n",
              " '엄청나게 기대를 하고 본게 아니라 괜찮았던듯?',\n",
              " '더빙이 똥이야 ....',\n",
              " '안타깝네. 이해를 못하는사람들 속출. 불교적이고 철학적인 작품.',\n",
              " '진짜 이런 개 씨,1바ㄹ OOO 같은 영화 개 시간낭비 의미도없고 무섭지도않고 내가 왠만하면 공포영화는 즐겨보는데 이건 진짜 OOOO같다',\n",
              " '색다르고 재밌는 영화였음. 실제로도 이런 일이 있다면 참 재밌을 것 같음. 막장 of 막장.',\n",
              " '어캐봐여? 꼬옥~~~~~~~보고싶내여~~~~~~~~~~~~~~~~~~~~',\n",
              " '정말 식상하다못해 촌스럽기까지 ~~~~~~~~~~',\n",
              " '종교적 분위기 물씬 풍기는 최루성 가족영화',\n",
              " '재밌다',\n",
              " '그냥 살지 그랬어.. 이성재만 멋짐',\n",
              " '음악영화라 나에겐 취향저격이지만... 비긴어게인처럼 대중적으로 흥행하긴 힘들 영화네요.. 하지만 여주가 너무 매력적이에요 ㅎㅎ',\n",
              " '별 0개 선택 왜없어요? 솔직히 별 반개도 아깝다',\n",
              " '돈에 미친 남편과 .. 아기에 미친 돈 있는 남자 그속에서 갈등 하는 여자 18',\n",
              " '어린이의 시점에서만 볼만하겠지. 오로지 어린이의 시점.',\n",
              " '잠을 청할 수 있었다.',\n",
              " '좋아하는 사람의 뇌가 아니던가?.. 완전 난해함.. 결말 왕실망임',\n",
              " '전작에 비해서 왠지 허탈하다. 카이사르도 전작이 더 멋있는 듯 하고...',\n",
              " '김민종 최고! 더 잘되시요',\n",
              " '공격적인 재미, 유순한 여성성, 일기토, 지략 삼국지의 그것과 맞짱!',\n",
              " '-점수를 주고 싶다. 2003년에 이정도 밖에 못만들었다는게 충격...',\n",
              " '비디오테잎으로 좍좍 감아가며 봤던 영화. 가장 슬펐던 영화',\n",
              " '도입부를 제외하고는 따분.헬기에서 민간인을 마구 쏴 죽이는 미군, 베트공 여성 스나이퍼 등,현실감 없는 극단적인 설정.라이언 일병에서의 업햄 그리고 이 영화 주인공인 조커, 두 넘 모두 내가 싫어하는 캐릭터, 착한척 하면서 주위에 피해를 주는 넘들.',\n",
              " '재밌는데...나만 그런가? 참고로 우리나라 까거나 하는건 하나도 안나옴 그냥 지들끼리 소설쓰고 지들끼리 자위하고 자위대도 등장하는데 그사람들도 자위나 하고 있음 일본 감정 다 떠나서 과학도로써 과학적으로 볼만한 영화였음 신선함',\n",
              " '제 취향은 아니네요~~~~',\n",
              " '평점 조절...',\n",
              " '1점도 아까운 쓰레기영화 전작이 아까움',\n",
              " '일편에 비해 삽질하는 브리짓이 쪼~끔 짜증날 때도 있었지만 그래도 여전히 사랑스럽다ㅎ 콜린 퍼스와 휴 그랜트를 한자리에 모아놓은 것 만으로도 10점줘야함!',\n",
              " '지금까지본 아이리스 시리즈중 최악이다ㅠㅠ 이거해도 너무하는거아닌가...수치스럽다. 연기고자시고 다 떠나 너무도허접합....',\n",
              " '연기력때문에 할말이 없다. 정우성과 고소영이 왜그토록 흥행작이 없는지 알고싶으면, 비트에서 연기하는거 봐라.',\n",
              " '전라도 노예 업주 처벌 안받았나요?? 이슈가안됐네요 그러고보니..',\n",
              " '배우가 아깝다 ,,',\n",
              " '볼만 한데',\n",
              " '결말의 의미공자가 자연에 숨어사는 노자에게 말했지. 짐승도 끼리끼리 사는데 사람이라고 따로 사냐고 진정 순수함은 더러운것사이에서도 그 빛을 유지하는것 ·',\n",
              " '크리스 터커 짱이삼! ㅋㅋ',\n",
              " '믿고보는 덴젤와싱턴. 근데 모레쯔는 왜이렇게 후덕하지...',\n",
              " '나오코 진짜 집중안된다',\n",
              " '감독이 밥은 먹고 다니는지 궁금하다. 배틀로얄2 이후로 최고 쓰래기.',\n",
              " '아 재미 너무 없네요.. 시간 아까워요',\n",
              " '난 잼있던데..ㅎㅎ',\n",
              " '어떻게 상류층의 속물근성을 정당화시키면서미화시킨지 모르겠다. 감독이 국회의원이나 사회적 강자한테 아부하고 싶은 가봐요 그리고 얼굴만 예쁘다고 왕되는것은 맞지만 드라마라도 도덕적으로 표현좀 해야되는게 아닌가요 감독님 정신차리세요',\n",
              " '가만히 보고만 있어도 씨익 웃음나는 행복한 가족의 이야기',\n",
              " '사고 후 잠시 정상인이 되었던 일탈',\n",
              " '좋은 영화~',\n",
              " '이거예전에나온거같은데 재미네',\n",
              " '샬라샬라 나오다즁자쥬아',\n",
              " '......감독의 옹졸함과 치졸함이 묻어나는 영화',\n",
              " '팔빠다 ㅋㅋ',\n",
              " '재미없음 -_-',\n",
              " '무슨 생각으로 만든걸까.',\n",
              " '스토리도 흥미롭고 배우들의 연기도 인상적이다. 충분히 볼만하다!!!',\n",
              " '내 인생 최고의 미드!!',\n",
              " \"이 영화를 보고 '사랑하고 싶다' 라는 생각을 했습니다. 청소년 관람불가임에도 선정적인 장면은 나오지 않았습니다. 연인 혹은 솔로이신 분들에게 추천합니다.\",\n",
              " '일본공포영화는 링 주온 이후로 망했음',\n",
              " '지루하다.. 지루해..',\n",
              " '625를 직접 겪은 어르신들 얘길 들어보면 그당시 잔인한 학살은 대부분 주민들 서로간에 (주로 하층민들의 복수심에서 비롯된) 또는 군/경이 빨치산 학살한다며 벌인 살인이었지 정작 북한군은 민간인들한테는 잘해줬다고 하던데?',\n",
              " '그냥 다큐일뿐 ..',\n",
              " '10점짜리 영화는아닌데 개인적으로는 평균평점 7점정도의 가치는 한다고 본다 스타일리쉬한 영화 ㅋ',\n",
              " '정말 질질끌고 작가님제발좀 적당히하시죠은희수역맡은 사람도 그만 나쁘게 만들지아침드라마가 막장이네',\n",
              " '으이구 괴물 그래픽이나 좀 다듬지 그게 머니 다 티나게 공포영화보다 웃은 건 첨이다',\n",
              " '대표적인 쓰레기 김치드라마',\n",
              " '네이버 별점, 꽤 신뢰도가 높네요.5점 이하는 안보는게 좋을듯..',\n",
              " '남주 헤어스타일 왜 저래...? 가게분신노찌쯔!!!!',\n",
              " '이런영화는 두번봐야지 안다 작은 일에도 크게 화를만드는 저나라의 국민이 인상깊다',\n",
              " '김명민이 약 구해서 차 탔을 때 진짜 설마설마 했음',\n",
              " '보지말아라 재미있든 재미없든 진짜 찝찝하고 기분 드러운 영화공포영화 싸이코 영화...',\n",
              " '짝퉁쓰래기',\n",
              " '이거 시청률이 너무낮은대 명작이고만',\n",
              " '현실감 제로지만 배우들이 너무 좋았어요. 특히 다니엘헤니를 많이 볼 수 있어 좋았어요. 같은 남자지만 게이는 아닙니당. 다니엘헤니 최고. 설경구 씨두 최고!',\n",
              " '프레디가 나에게 모욕감을 줬다 그래도 프레디라서4점준다',\n",
              " '잼없네요넘',\n",
              " '평점이 너무 높군요. 원작으로 보심이 나을듯. 짧은 러닝타임에 감사하다고 해야하나. 주인공이 썰매를 타고 목적지에 가니 모든 사람들의 기억이 돌아온다는 황당한 설정이고 인간의 감정을 통제한다는건 데몰리션맨, 이퀄리브리엄에서 봤기때문에 신선함도 없음',\n",
              " '막장 드라마의 원조격인 영화... 근데 이 영화는 확실히 로즈번이 살린듯',\n",
              " '해군 출신이라 관심있게 본 영화~',\n",
              " '파란색 슬픔이 영화에..',\n",
              " '액션 완전 OOO기..차라리 유오성이 나오는 챔프를 보겠다..;;',\n",
              " '폭풍오열ㅠㅜㅠㅍ퓨ㅠ',\n",
              " '착한영화... 그리고... 재미없습니다',\n",
              " '사소한 이야기조차 눈을 뗄수 없게 만들던 거장의 솜씨. 예전 장이모우 그립다',\n",
              " '내가본영화중 베스트5안에 듬 진짜꼭보세요',\n",
              " '지금까지 본 페이크다큐영화중 제일 별로...',\n",
              " '재미도 있고 공감도되는 누구나 즐길수있는 독립영화 !!!',\n",
              " '\"\"\"시미즈레이코의 만화책\"\"\"\"비밀\"\"\"\".에서 영향받은거 아냐? 똑같애\"\"\"',\n",
              " '기존 한국 영화에서 느끼지 못한 색다른 느낌상업적이기 보다는 새로움에 도전한듯한 ..',\n",
              " '장난하나--반전같은거 있을 줄 알고 끝까지 다 봤는데 진짜 아오..시간아까워',\n",
              " '예고편을 왜 하는건지 모르겠음.. 예고편에 나오는건 하나도 안나오고.. 예고편은 대판 쌈질 하는것마냥 나오더니 하하호호 하고 끝남.. 예고편이 무슨 뜻인지를 모르는건지.. 시청자들을 호구로 보는건지..낚시질좀 그만하시고 차라리 시청률 걱정되면 폐지해',\n",
              " '난 프랑스 영화가 이래서 좋다..',\n",
              " '쓰레기쓰레기쓰레기쓰레기쓰레기쓰레기쓰레기쓰레기',\n",
              " '참 재밌게 봤는데... 귀여운 지미 +_+',\n",
              " '시간이 지나서 또 봐도 정말 가슴애린 드라마......ㅠ.ㅠ',\n",
              " '사촌동생들 때문에 같이 보긴했는데 정말.. 사촌동생들도 재미없다고 하네요',\n",
              " '설득력없는 꼴통페미니즘. 페미나치적인 마인드.',\n",
              " 'B급을 지향하는 C급 작품.',\n",
              " '음 잘 모르겠다 뭘 봐야 하는 건지 소녀 가장 이야기인가',\n",
              " '우리와 틀리다고 생각했던 장애인이 우리와 틀리지않단것을 알려주었다.10403',\n",
              " '재밌고 감각있고 쿨한 영화였는데.마지막 결말이 약간 아쉽지만',\n",
              " '그냥 재미없네 보던거니까 마저봐야지 이랬는데 갑자기 원주민생활하는건 진짜 어처구니가 없었음이건 그냥 영화가 아니다',\n",
              " '진짜 언제 90분이 지나갔는지 모를정도로 몰입해서보고 정말 너무 재미있게 봄... 너무 아련해서 영화 평 정말 처음 남겨봄.. 진짜 내가 이 나이에 애니를 보며 이 밤중에 이렇게 울줄이야.. 에몽아ㅠㅠ',\n",
              " '사과해요, 나한테!!!',\n",
              " '골목상권에 들어온 대형슈퍼마켓이 생각난다',\n",
              " '평점 조절이 필요하다 라는 생각이 든다!',\n",
              " '무협 멜로의 걸작 ... 말해 모해',\n",
              " '너무재미있게 보았는데요 다시 볼수없을까요',\n",
              " '오글거리고 유치하고 완전최악이었음...',\n",
              " '절대비추.....',\n",
              " '한국껀줄알앗는데 일본꺼엿네 ㅋㅋ',\n",
              " '꽃 한송이 놓고 갑니다ㅋㅋ',\n",
              " '내 삶의 가장 의미있는 일 중 하나라면 바로 이 영화를 봤다는 것이다. 살면서 죽기 전에 한번 꼭 봐야 할 영화.',\n",
              " '생각보다 볼만했음ㅋ여주인공이 연기가 좋네여',\n",
              " '자꾸 뭘 설득할려하고 설교할려고하는게 보기거북하다. 그리고결혼반지를 위해 범죄가담하다니 무슨 개역지설정이냐.',\n",
              " '와...',\n",
              " '제발 전문성우를 써주세요 ㅠㅠ',\n",
              " '살면서 처음 접해본 장르라서 조금 당황스럽다. 솔직히 영화 자체는 100% 자신의 색깔에 충실했고 완성도 역시 뛰어난 편이지만.. 좋아하지도 이해하지도 못하겠다ㅋ',\n",
              " '오늘 아이데리고 봤는데...아이는 좋아하데요...ㅎㅎ 미취학, 초등 어린이에게 추천~',\n",
              " '이것을 끝까지 참고 본 내가 제일 자랑스럽습니다.',\n",
              " '존내재밋습네다',\n",
              " '안봐도 되는 영화.',\n",
              " '원작 망쳤네요',\n",
              " '그냥 주는거다. 5점은 아닌 듯',\n",
              " '나쁘지 않으나 개인적으로는 지루했다는.',\n",
              " '어의없는 스토리.. 여자죽을때 웃음나옴.. 로맨스영화냐?',\n",
              " '순수함이 두근거려 좋았다 감독님은 관객들이 뭘원하는지 잘아는듯..여운이 많이 남는다',\n",
              " '기방난동사건이후 최악의 영화 .재밌다는 사람들 믿고 봤더니 다 알바생인듯 ... ㅜㅜ',\n",
              " '로맨스와 스릴러 짬뽕놔서 뭘 말하고 싶은건지.. 스토리도 허황된 느낌',\n",
              " '이건좀 아니잖아...',\n",
              " '윤아은 안됨!!원작자님 캐스팅에 참여해주세요작품 망치면 안되잖아요',\n",
              " '지금생각해도 내가본영화중에 이영화는 내생애 최고의영화였던것같다',\n",
              " '천녀유혼1,2에 비하면, 뭐라 표현하기 힘든 퀭한 영화',\n",
              " '불륜을 미화한 영화 남은사람들은 어쩌라고 또 돈걱정 따위 안하는 사람들의 이야기를 공감하라고 강요하는 영화 음악이랑 영상미로 3점',\n",
              " '최고다....... walk like a man 이란 노래는 원곡보다 영화속 노래가 훠~~얼씬 좋아요',\n",
              " '소재가 굉장히 신선했다',\n",
              " '내사랑 키아누 ♡.♡ 리브스 ♡.♡',\n",
              " '두말할 나위없이 최고의 작품.인생에 대해서 생각해보게 하는 깊이있는 영화.전 출연진과 제작진에게 큰박수를 보낸다.',\n",
              " '솔직히 산만 하기만했다',\n",
              " '말이필요없지.. 성룡영화에선.....무언가를다른것을느낄수있다',\n",
              " '화학을 해서 그런지 잼잇게 봣습니닼ㅋ 옆에 친구 중간중간 노이해.... 나중에 해석 ㅠㅠ 잼잇엇숩니다',\n",
              " '아직 준비되지 않는 젊은영화인들여 함부로 장편에 손대지 마라천천히 공부하고 나와라',\n",
              " '으엉 간만에 추억돋아서 봤는데사실 원작 자체도 두서없이 전개되는데영화감독은 내용앞뒤도없이 막 잘라서정신없음ㅇ배우들은 책읽고 특히 대사 그대로 살린거 오그리오그링ㅋㅋㅋ간만에 소설로 읽어야지',\n",
              " '개 쓰레기같은 것들아 감히 파라노말엑티비티를 팔아먹냐',\n",
              " '기억은 조작되기 마련.. 그사람이 아니고서는 함부러 말하지 말자',\n",
              " '재밌게 봤습니다,, 그저 문헌에 적힌 문란한 사도세자가 아닌, 정조의 아버지로서 그 그릇이 어느 정도였는지 잘 보여준 작품이 아니었나 싶네요 시나리오도 시나리오지만 배우들 연기가 일품이었습니다',\n",
              " '휴일낮에 침대에누워서 티비보다가 영화채널에서 틀어주길래 어쩔수 없이 봤는데 나중에는 벌떡 앉아서 봤던 영화.!완전 몰입되고 나름 스토리도 치밀하고 해리슨 포드다운 액션- 좋습니다. 저는 영화광도 영화 평론가도 아니고 영화 자주보는 일반 남자사람임',\n",
              " '절제의 미학이아니라.. 지루함의 극치가 되버린 안타갑다..',\n",
              " '영화관에서 보기엔 돈아까웠다;;;;;....... 솔직히 재미없었다 ㅜㅜ',\n",
              " '인간의 솔직함을 보여 주고 싶었는가..이런 방법말고도 다른 방법이 충분이 있을텐데?',\n",
              " '정말 사랑에 대해 다시생각한거같습니다 감동이에요',\n",
              " '내용은 교육적이나 정말지루해서요ㅜ',\n",
              " '꿀잼! 특히 소유랑 서인영ㅋㅋㅋㅋ매력터져',\n",
              " '태어나서 본 영화중에 제일 재미없었음',\n",
              " '화면을 흑백으로 바꾸기만 하면 50년대 작',\n",
              " '쇼핑몰 안에서만 찍어서 너무 재미없고 답답한..내용도 없다.',\n",
              " '진짜 쓰레기영화.. 돈아까워 죽는줄 알았다.. 여러분 보지 마세요',\n",
              " '와아오 두근두근~ 익스트림자체',\n",
              " '폭력영화, 자극적이고 실험적이라고 예술인가?',\n",
              " '일본영화랑 비슷한건 저만 느끼는건가요??수트입으면 미남으루 변하구 마지막에 평생입으라구 권유받구...창조가 이렇게까지 중복될수 있눈건지...잘 모르겠네여',\n",
              " '진짜 이렇게 재미도 없고 감동도 없는 영화는 처음이네특히나 박사고 나발이고 모든인물들이 컴퓨터 할때 손찍는데키보드 누르지도 않고 ㅋㅋㅋ컴퓨터 화면들은 똑같은 파트만 무한 반복되고허접해도 너무 허접하네... 배우들 연기도 개떡이고 ...',\n",
              " '최고의 농촌드라마.',\n",
              " \"독립영화 실력자들의 스타 리그, 옴니버스라는 피로감이 극복되는 수준이다. '얼음강'은 단독 장편으로 만들었어도 좋았을 듯. 주인공이 혹여 - 평소라면 1%도 공감 안되는 - 여호와의 증인이라도 납득이 될 정도로 감정을 설득하는 솜씨가 탁월하다.\",\n",
              " '좀비좀비 그러는데 좀비아닙니다. 우주의 아름다움에 미쳐버린 인간일뿐 충분히 가능한 일이죠',\n",
              " '개재미없음 막장스토리 어거지 ㅋㅋ',\n",
              " '뭐하나 흠잡을 것이 없다. 최고!',\n",
              " 'OST가 좋은 영화!!',\n",
              " '탁재훈나오믄재밌는데와이라지스토리중반부터너무쳐짐약해약해약해~지겨워뒈지는줄알',\n",
              " '서스펜스도 없고 스릴도 없다.',\n",
              " '우리나라 정서하고 안맞다`~',\n",
              " '어디선가 많이 본 흔한 스토리',\n",
              " '최고의 드라마....',\n",
              " '우리 모두는 누군가에게 섬머였다!',\n",
              " '힘알이 하나 없는 주인공들..맥이 다 빠진다.',\n",
              " '너무너무귀여운영화',\n",
              " '전형적인 일본식 엽기 괴짜 코메디. 그 특이함에 끌리는건 왜지',\n",
              " '와 이걸 5점 이상 준 사람들은 뭐지. 나루토 극장판 중에 가장 쓰래기',\n",
              " '정당한 노력이란 보상받게 마련이다.나름 일정 성취가 있고,좋은 결실을 거둔 작품.',\n",
              " '아씨 울었다.',\n",
              " '기적은 이미 일어났다.',\n",
              " '아이들과 함께 보기 좋았지만, 그냥 그래요.',\n",
              " '전율을 느꼈다.',\n",
              " '여기저기 지저분한내용에 이기적인 사람들의 역겨운 연애사...마지막으로 갈수록 시청률 안나오니까 막 갈겨쓴내용...',\n",
              " '별로...완전별로....마지막빼고 넘 유치하고재미없고 ..',\n",
              " '세월이 지나서 다시 보니 뭔가 먹먹함이 다르더군요. 공감하는 사람이라면 가슴속에 명작으로 남을 듯...',\n",
              " '아이들이 보기엔 좋을지도?',\n",
              " '보니까 선정성이 좀 15세 같음:::: 그래도 액션은 좋음',\n",
              " '카타르시스를 느끼기에 충분한...값진영화였다..',\n",
              " '여주 린제이 로한 닮았다. 전체적인 분위기나 배경은 좋았지만 내용은 지루했다.',\n",
              " '당신이 솔로가 아니면 이 영화를 보지마세요.',\n",
              " '남이 차안에서 전화통화 하는걸 90분 가까이 구경하고 있으라고? 폰부스는 명작이라 생각하지만 이 영화는 진짜 장난하나',\n",
              " '전형적인 저질영화',\n",
              " '답을 알려고 하지마라.',\n",
              " '재미잇음매우~~',\n",
              " '진짜 잘 만든 수작',\n",
              " '제발 2좀 찍어주세요. 현기증 난단 말이에요',\n",
              " '너무나도 따뜻한, 마음이 따뜻해지는... 한번쯤 자신을 되돌아보게 만드는 영화',\n",
              " '뭔가 조금씩 부족한 영화 놀래킬려면 확! 놀래키던지 어정쩡한 -_-;;',\n",
              " '이거 참...소재는 참 좋은데 내용전개가 개판...사람수도 많고 총도 있는데 그걸 지들끼리 서로 다 흩어져서 일방적으로 밀리네..거기다 식인종이라면서 표현을 좀비로 해놓으면 어쩌잔거야..식인으로 인해 인성이 말살되고 짐승화 되었다는 표현이라도 있던가',\n",
              " '포스터만 그럴싸하다. 13구역이라는 이름만 가져다 쓴 영화. 완전 졸작이다. 액션 신도 개허술하고, 스토리도 이상하다.',\n",
              " '대체 왜 재미없다는거지;;난 존나재밌던데',\n",
              " '늑대들의 여정이 너무 낭만적이었던 애니 스토리도 좋지만 음악은 일본 애니중에 탑으로 뛰어나다',\n",
              " '미국 흑인 민권운동사를 완벽하게 요약했다.',\n",
              " '그가 뛰어내리지 않았다면 어떻게 되었을까',\n",
              " '8점대는 나와야지. 그냥 단순한 액션공포물이 아닌데도 긴장감 공포감 연출 쩔고 음악도 좋고.. 몇년이 지나도 기억나는 인상적인 좀비물인데. 평점 너무 짜서 10줌',\n",
              " '아역 연기는 좋았으나 내용은 쓰레기',\n",
              " '진짜....재미없다 극장에서 볼거없어서 걍 스릴러라길래봤는데ㅋㅋㅋㅋㅋㅋㅋㅋㅋ웃음밖에안나온다 혹시나해서라도 절대보지마라진짜제발',\n",
              " '평점은 믿지마셈 재밌음',\n",
              " '이거 좋다는 놈들은 뭐하는 것들이야 ㅡ.ㅡ',\n",
              " '이게 21c영화냐? 90년도영화냐? 쓰래기들아',\n",
              " 'ufo를 믿으려는 자들.',\n",
              " '너무 구식으로 웃길려고 함. 보는 내내 지겨움',\n",
              " '이런거 좋아하는 사람들 정신 세계가 궁금하다..',\n",
              " '연예계의 현실을 알리고자 하는 마음은 알겠지만, 영화의 재미는 없었다. 지루해 죽을뻔 했음.',\n",
              " '아주 재미있고 책으로봐도 정말재미있다~~',\n",
              " '..........끝내주게 재밌다.',\n",
              " '유투브동영상을 돈내고 보는게 낫다는 생각이 들게한 영화',\n",
              " '아쉬운 점도 있지만, 스토리에 맞는 분위기나 배경, 지하철기관사의 삶 등을 잘 묘사',\n",
              " '스타워즈 1편과 맞아떨어지도록 잘 만든영화 최고의 에피소드 다스베이더의 탄생과 루크,레이어의 운명을 알수있는 레전드',\n",
              " '소희가 귀엽다 귀엽다 졸귀',\n",
              " '소문난 잔치(호화 캐스팅)에 먹을 건 없다',\n",
              " '주성치 영화 최고의 졸작',\n",
              " '구우우웃~~!!!!',\n",
              " '딱히 흠잡을 것도 두근거릴 것도 없는 교과서적 플레이.',\n",
              " '영화의 중심은 역시 스토리인것을. 반전의 반전 너무 재미있다.',\n",
              " '8.3이 아니라 9.3 이 아닌가?',\n",
              " '참 재미있었다. 연기를 발로 하는 삼류배우들 얼굴보면서... ㅋㅋㅋ',\n",
              " '재밌군',\n",
              " '이것도 재밌는데...ㅋㅋ',\n",
              " '1점도 아깝다 평쓰는 것도 귀찮다 보는 내내 오글거려서 손발사라지는 줄 알았다',\n",
              " '기대 안하고 봤는데... 영화 보는 내내 몰입해서 재미있게 봤어요~~',\n",
              " '유쾌함과 스릴러적인 요소가 잘 어울려진 명작. 후속작 보다 훨씬 매력있음. 두고 두고 간직해두면서 꺼내보고 싶은 영화.',\n",
              " '좋네..괜찮고.',\n",
              " '명작. 너무 좋았던 드라마. 스토리, 캐스팅, 연기, 음악, 연출 모두 완벽했던.',\n",
              " '괜찮은영화,,영화도괜찮았지만 나영언니완전머싯고예뻤음ㅠㅠ',\n",
              " '일단 재미있다 ! 고래 몇마리로 국가적으로 호들갑떠는게 오버스럽겠지만 그런 모습이 우리는 모두가 도와가며 살아야하는 지구의 생명이란 메세지는 참으로 감동적이다.',\n",
              " '지금 첨봤는데 1회만 봐볼까하고 봤다가 주말 밤새완주하였다. 여운이 많이 남는 드라마',\n",
              " '애니메이션 뮬란이 아쉽다. 전쟁씬도 그렇고 연기도 그렇고 이야기도 그렇고그저 그래',\n",
              " '기대않 하고 봣는데 진짜 내용도 좋고 재미도 있네요!!',\n",
              " '좋았다',\n",
              " '슬픈 맑음. 파문에 주목하라.',\n",
              " '김윤진 좋아하니깐...♡',\n",
              " '재밌따!!',\n",
              " '무리수가 되어버린 코미디 기획상품.',\n",
              " '나홀로집에와더불어 나의최고의영화..',\n",
              " '나는 떠올랐다 그옛날 국산애니 (아마겟돈)의 악몽이',\n",
              " '완전 역겨운 쓰레기 영화다 기술적 수준을 떠나 각본이 무개념',\n",
              " 'sunday booldy sunday........., 고결한 신사들께서 무슨 짓을 하셧을까?',\n",
              " '캬.. 개안음..ㅎㅎㅎㅎ',\n",
              " '보는내내 너무너무 재미있었음',\n",
              " '김소현 팬됬습니다....너무 재밌음',\n",
              " '삐에로와 흑인남자와싸웠을때 재미있었다 ㅋㅋㅋ아웃겨',\n",
              " '유럽영화가 이번정부에 많이 들어와 즐겁긴하다만 그 내용들이 왜 이리 진부한걸까,,,,,,,,,,,,,,,,,,,,,,,,,,,유럽영화를 욕되게 하고있단 소리다,,',\n",
              " '왠만한 허접영화도 재미있게보는데 이건 도를 넘어섰다',\n",
              " '어떤 누구도 다른 이의 삶과 죽음에 대해 왈가왈부 할 순 없다.',\n",
              " '굿굿굿 또해라또해라 제발 ㅠㅠ',\n",
              " '주님께서 부르셔서 제가 여기 있나이다.',\n",
              " '미성년자가 돈많은 아저씨에게 순결을 바치고 데인후 결국 정신차리고 공부해거 명문대가는 진부한 결말',\n",
              " '정말 재밌게 봤고 빈센트도 꼬마도 연기 너무 잘하네요. ㅎ',\n",
              " '솔직히 원작보다 훨씬낫다 원작 무슨 인간이 말도못하게설정해놨어',\n",
              " '말이 필요없음,,, 아 진심 개재밌다ㅠㅠ',\n",
              " '보니까 이양반이 다세포소녀 감독이네',\n",
              " '굿 잡!!! 친구랑 또 보고 싶네요!',\n",
              " '재미진짜 흥하네 근데 yang**** 이새끼 관종인가 ㅋㅋㅋ',\n",
              " '야경꾼보다 엉망지루함',\n",
              " '예원찡... 그만울어....',\n",
              " '근 5년동안 본 모든영화 통틀어서 최악의영화..시간이 남아돌때 봐도 시간이 아까운 역대급 쓰레기영화;;',\n",
              " '감동이다.. 참고로 이 영화 보신분들 마지막엔딩부분에 자막으로나오는부분잇죠? .. 이게 영화상에서 실화라는거지 진짜 레알 현재 실제로 실화라는말이아니에요.. 전지현이 피디잔아요 다큐찍는거 ...그 다큐에서엔딩장면이지 진짜 실제가아니에여.. 쨋든',\n",
              " '달기지...미니어쳐 티 팍팍 나던데...우뢔매 보는줄 알았다...혹시 특수효과 감독이 심형래?',\n",
              " '재미 드럽게 없다ㅋㅋㅋ',\n",
              " '야 세르게이!!! 작은 고추의 매운맛을 보여주마',\n",
              " '정여립과 정철, 기축옥사까지.. 스토리 탄탄해서 좋습니다. 배우들도 연기 참 잘하고 남녀주인공들 케미도 좋고! 챙겨 볼 수 밖에 없는 드라마ㅠㅠㅠㅠ',\n",
              " '개OO영화네요....내용도없고 그냥심심해서만든영화가..',\n",
              " '두개는 줄려고 했는데 알바가 많아서. 아후 볼거없어서 채널 돌려도 다시 다른데로 돌리게만드는구나',\n",
              " '왜 0점은 줄 수 없나요?',\n",
              " '영화사에 남을 작품. 실험영화의 완성본',\n",
              " '자식을 그렇게 때리냐?',\n",
              " '이게 대체 무슨 내용이야;;',\n",
              " 'ㅋㅋㅋㅋㅋㅋㅋㅋㅋㅋㅋㅋㅋ옛다 1점이나 처먹어랔ㅋㅋㅋㅋㅋㅋㅋㅋ이게 7점급?이건 1점짜리. 내용도 결말도. 살다 살다 뭐 이딴...',\n",
              " '감동적이였고 좋았습니다',\n",
              " '초반에 개재미없었는데 볼수록 점점 재밌어짐! 외계인이 내가 알던 에일리언에 나오던 외계인이 아니야....',\n",
              " '쇼핑백 잊혀지지 않는다....',\n",
              " '의도는 좋지만 너무 몰입이 안되는걸 어떡해',\n",
              " '유치하지만 가볍게 볼만함',\n",
              " '화려한 색채때문에 눈이 아프지만 그 나름대로 화려연예계여자욕망에대해 표현해냈던거같다 보는내내 진짜 리리코심정가진 연옌들도 있을거같고..나를한번도보지못하고알지못하는사람들이날어떻게사랑하냐그런대사 나왔을때 소름돋더라 연예인들은 많은사랑받으면서도 참 허전할듯',\n",
              " '본지 수OO이 지나도 아직도 생생함. 고양이 귀신의 복수가 진짜 무서웠지',\n",
              " '영상이 대학교 졸업작품같아서 그렇지 꽤나 많은걸 담아놓은 영화임에는 분명하다.',\n",
              " '최강 전차부대 ..,,..',\n",
              " 'ㅇㅇ',\n",
              " '진짜 어이없는 소재라고 생각하며 보는데 개 웃겨.... 남자로서는 솔직히 조금은 부러울수도 있는',\n",
              " 'tv 전기세가 아까웠다!!!',\n",
              " '초등학교때 선생님이 보여주신 영화 시간이 흘러서 기억나는건 에이즈에 걸렸던 남자아이와 운동화였고 그때 봤던 영화가 뭐였을까? 궁금했었는데 그 영화가 바로 굿바이마이프렌드였다 12년전이나 12년후나 명작은 시간이 흘러도 명작이다',\n",
              " '넘 재밌었어요/ㅅ/ㅎㅎㅎ',\n",
              " '설리 94년생인데 93년도 영화에 어떻게 나오져?',\n",
              " '샷의 연결이 아닌 충돌만큼이나 거룩한 제목 또한 인상적이구려',\n",
              " 'ㅋㅋㅋ 재미없음',\n",
              " '오오 난 여태까지 맷데이먼의 최고의영화는 본 얼티메이텀,라이언일병구하기 뿐인줄알았음ㅠ 굿윌헌팅도쩐당',\n",
              " '이야기 자체가 흥미를 끌지 못하는군',\n",
              " '날 로그인하게 만들다니.....청춘이여 영원하라....',\n",
              " '현정언니 짱이죠 완전 잼잇어요 ㅎ',\n",
              " '영상미 예쁘고 좋지만 러닝타임이 2시간이 넘는데 초반 30분에 줄거리 다 나갔고 엄청 지루한 화보집 보는 기분 일본영화 특유의 그 이해못할 희한함이 있음',\n",
              " '스토리 연결 전혀 안되고 편집해서 끼워맞춘 드라마 말아먹은 작품',\n",
              " '여자 주인공이 예뻐서 끝까지 봤다',\n",
              " '지구를 지켜라...혹 이 작품을 보고 만든 건 아닌지...',\n",
              " '저렇게 힘들게 영화를 만드는데, 왜 한국영화는 다 쓰레기냐?',\n",
              " '케릭터가 살아있었으며, 미장센이 훌륭했다. 이야기는 몰입도 있었고, 불필요한 샷은 존재하지 않았다. 노인을 위한나라는 없다 먼저 봤지만 코엔감독 매력적인영화를 만드는 멋있는 사람',\n",
              " '마지막이 좀황당했지만 좋은영화',\n",
              " '우연히 tv를 돌려보다가 사로잡혔다. 최근 10년간 본 코미디 영화 중 최고',\n",
              " '연 기 굿 화이팅해요누나',\n",
              " '마이클베이 최근작을 볼때마다 느낀다. 블록버스터 액션장르라도 탄탄한 시나리오는 영화의 필수라는것을. 그리고 당신이 기대하던 메간폭스는 늙었다.',\n",
              " '0점은없나?1점은 너무 후하네',\n",
              " '미달이는.. 연예계를 바라보는 태도를 고쳐야 한다.',\n",
              " '파괴된 관객들.',\n",
              " '알콜중독자들 덕에 평점이 낮은가?',\n",
              " '중견배우들이 만들어놓은 긴장감이 나름 긴장감있게 싸워보려했던 도술사들에 의해 헛웃음나온다.',\n",
              " '남자 주인공 늑대 인간으로 변하고 끝나네유. 평점 보고 안 볼까 하다가 봤는디 재밌네유. CG보다 이런 실물 특수 효과가 더 보는 재미가 있어유. 웃기기까지 하네유. 근디 제목 번역은 어느 바보가 한거여. 그냥 늑대 인간이 아니잖여.',\n",
              " ...]"
            ]
          },
          "metadata": {},
          "execution_count": 56
        }
      ]
    },
    {
      "cell_type": "code",
      "source": [
        "# 한글 폰트 설치해 경로설정해주기\n",
        "!apt -qq -y install fonts-nanum > /dev/null # 폰트 나눔을 구글코랩에 설치하고 경로를 파악함\n",
        "import matplotlib.font_manager as fm\n",
        "fontpath='/user/share/fonts/truetype/nanum/NanumBarunGothic.ttf'\n",
        "font=fm.FontProperties(fname=fontpath,size=9)"
      ],
      "metadata": {
        "colab": {
          "base_uri": "https://localhost:8080/"
        },
        "id": "Z0p9uZcG9OLN",
        "outputId": "718b16fc-c213-4944-bb2e-55f592300b5d"
      },
      "execution_count": 57,
      "outputs": [
        {
          "output_type": "stream",
          "name": "stdout",
          "text": [
            "\n",
            "WARNING: apt does not have a stable CLI interface. Use with caution in scripts.\n",
            "\n"
          ]
        }
      ]
    },
    {
      "cell_type": "code",
      "source": [
        "# 한글 폰트 설정\n",
        "from wordcloud import WordCloud #워드클라우드 라이브러리\n",
        "wordcloud=WordCloud(font_path=fontpath).generate(' '.join(train_review))\n",
        "plt.imshow(wordcloud, interpolation='bilinear')\n",
        "plt.axis('off')\n",
        "plt.show()"
      ],
      "metadata": {
        "colab": {
          "base_uri": "https://localhost:8080/",
          "height": 285
        },
        "id": "ufanuKwF9PH8",
        "outputId": "a09342e2-638a-45fe-a5f3-72481ca7b42f"
      },
      "execution_count": 58,
      "outputs": [
        {
          "output_type": "display_data",
          "data": {
            "text/plain": [
              "<Figure size 640x480 with 1 Axes>"
            ],
            "image/png": "[encoded data removed]"
          },
          "metadata": {}
        }
      ]
    },
    {
      "cell_type": "code",
      "source": [
        "#긍정 1, 부정 0\n",
        "print('긍정 리뷰 갯수: {}'.format(train_data['label'].value_counts()[1]))\n",
        "print('부정 리뷰 갯수: {}'.format(train_data['label'].value_counts()[0]))"
      ],
      "metadata": {
        "colab": {
          "base_uri": "https://localhost:8080/"
        },
        "id": "ngzg6EWp9TAs",
        "outputId": "3d77d2cd-3c85-41b1-c338-cabbaee55b07"
      },
      "execution_count": 59,
      "outputs": [
        {
          "output_type": "stream",
          "name": "stdout",
          "text": [
            "긍정 리뷰 갯수: 74827\n",
            "부정 리뷰 갯수: 75173\n"
          ]
        }
      ]
    },
    {
      "cell_type": "markdown",
      "source": [
        "## 정규표현식 맛보기\n"
      ],
      "metadata": {
        "id": "lcig1_tuOtvO"
      }
    },
    {
      "cell_type": "markdown",
      "source": [
        "\n",
        "정규표현식을 이용한 전처리 방법도 있는데 사용해보기 위해 먼저 정규 표현식 문법을 알아보겠다.\n",
        "\n",
        "천천히 따라 실행해보자."
      ],
      "metadata": {
        "id": "6S3EnPXJQmT9"
      }
    },
    {
      "cell_type": "markdown",
      "source": [
        "정규 표현식 문법\n",
        "\n",
        "<figure>\n",
        "<img src = 'https://miro.medium.com/max/700/1*Y-q0dkUClSW0dX6uuysnJQ.png'>\n",
        "<figure>\n",
        "\n",
        "---\n",
        "\n",
        "\n"
      ],
      "metadata": {
        "id": "5SPxK2ZM3JZk"
      }
    },
    {
      "cell_type": "markdown",
      "source": [
        "<figure>\n",
        "<img src = 'https://miro.medium.com/max/700/1*c__WeRlFyGY_-7LeKQkNnQ.png'>\n",
        "<figure>\n"
      ],
      "metadata": {
        "id": "5StEWSH64dEr"
      }
    },
    {
      "cell_type": "markdown",
      "source": [
        "\n",
        "<figure>\n",
        "<img src = 'https://miro.medium.com/max/661/1*6pIp6zuIoRHUOXjEDDUNCA.png'>\n",
        "<figure>\n",
        "\n",
        "\n",
        "---\n",
        "\n"
      ],
      "metadata": {
        "id": "6fUiulNzOowY"
      }
    },
    {
      "cell_type": "code",
      "source": [
        "#정규 표현식을 사용하기 위한 라이브러리 호출\n",
        "import re"
      ],
      "metadata": {
        "id": "zaUNoRLm6CiD"
      },
      "execution_count": null,
      "outputs": []
    },
    {
      "cell_type": "code",
      "source": [
        "# . 은 한 개의 임의의 문자를 나타낸다.\n",
        "# 예를 들어 정규 표현식이 a.c라고 한다면, a와 c 사이에 어떤 1개의 문자라도 올 수 있다는 뜻이다.'\n",
        "r = re.compile(\"a.c\")\n",
        "print(r.search(\"kkk\")) #매치 안됨.\n",
        "print(r.search(\"abc\")) #매치 됨."
      ],
      "metadata": {
        "colab": {
          "base_uri": "https://localhost:8080/"
        },
        "id": "Z6RC27yC5X90",
        "outputId": "bba0e6d4-44ff-4d96-e53f-65a772979547"
      },
      "execution_count": null,
      "outputs": [
        {
          "output_type": "stream",
          "name": "stdout",
          "text": [
            "None\n",
            "<re.Match object; span=(0, 3), match='abc'>\n"
          ]
        }
      ]
    },
    {
      "cell_type": "code",
      "source": [
        "# ? 는 ? 앞의 문자가 존재할 수도 있고, 존재하지 않을 수도 있는 경우를 나타낸다.\n",
        "# 예를 들어 정규 표현식이 ab?C라고 한다면, b는 있다고 취급할 수도 있고 없다고 취급할 수도 있다. 즉, abc와 ac 모두 매치 가능\n",
        "r = re.compile(\"ab?c\")\n",
        "print(r.search(\"abbc\")) #매치 안됨.\n",
        "print(r.search(\"abc\")) #매치 됨.\n",
        "print(r.search(\"ac\")) #매치 됨."
      ],
      "metadata": {
        "colab": {
          "base_uri": "https://localhost:8080/"
        },
        "id": "RaDFY4tm5qkZ",
        "outputId": "246da66f-c49b-4fb1-ee67-f803459222d9"
      },
      "execution_count": null,
      "outputs": [
        {
          "output_type": "stream",
          "name": "stdout",
          "text": [
            "None\n",
            "<re.Match object; span=(0, 3), match='abc'>\n",
            "<re.Match object; span=(0, 2), match='ac'>\n"
          ]
        }
      ]
    },
    {
      "cell_type": "code",
      "source": [
        "# * 는 바로 앞의 문자가 0개 이상일 경우를 나타낸다.\n",
        "# 앞의 문자는 존재하지 않을 수도 있으며, 또는 여러 개일 수도 있다.\n",
        "# 예를 들어 정규 표현식이 abc라고 한다면 ac, abc, abbc, abbbc 등과 매치할 수 있다.\n",
        "r = re.compile(\"ab*c\")\n",
        "print(r.search(\"a\"))\n",
        "print(r.search(\"ac\"))\n",
        "print(r.search(\"abc\"))\n",
        "print(r.search(\"abbc\"))"
      ],
      "metadata": {
        "colab": {
          "base_uri": "https://localhost:8080/"
        },
        "id": "czUUK5eu5xYV",
        "outputId": "b66260be-b8a8-460b-e6bb-1ecaa9155783"
      },
      "execution_count": null,
      "outputs": [
        {
          "output_type": "stream",
          "name": "stdout",
          "text": [
            "None\n",
            "<re.Match object; span=(0, 2), match='ac'>\n",
            "<re.Match object; span=(0, 3), match='abc'>\n",
            "<re.Match object; span=(0, 4), match='abbc'>\n"
          ]
        }
      ]
    },
    {
      "cell_type": "code",
      "source": [
        "# + 는 *와 유사하다.\n",
        "# 다른 점은 앞의 문자가 모두 있어야 한다.\n",
        "# 예를 들어 ab+c라고 하면, ac는 매치되지 않는다\n",
        "r = re.compile('ab+c')\n",
        "print(r.search(\"ac\"))# 아무것도 출력되지 않는다.\n",
        "print(r.search(\"abc\"))"
      ],
      "metadata": {
        "colab": {
          "base_uri": "https://localhost:8080/"
        },
        "id": "qvd7jyMD89xI",
        "outputId": "96ea3cf4-96ff-47b7-b943-6b38228db051"
      },
      "execution_count": null,
      "outputs": [
        {
          "output_type": "stream",
          "name": "stdout",
          "text": [
            "None\n",
            "<re.Match object; span=(0, 3), match='abc'>\n"
          ]
        }
      ]
    },
    {
      "cell_type": "code",
      "source": [
        "# ^ 는 시작되는 글자를 지정한다.\n",
        "# 예를 들어 ^a라면 a로 시작되는 문자열만 찾는다\n",
        "r = re.compile('^a')\n",
        "print(r.search('bbc')) # 아무것도 출력되지 않음\n",
        "print(r.search('ab'))"
      ],
      "metadata": {
        "colab": {
          "base_uri": "https://localhost:8080/"
        },
        "id": "oDjUr-PX9wF_",
        "outputId": "22352db4-0edd-4a93-eb14-b5b8e4ad1675"
      },
      "execution_count": null,
      "outputs": [
        {
          "output_type": "stream",
          "name": "stdout",
          "text": [
            "None\n",
            "<re.Match object; span=(0, 1), match='a'>\n"
          ]
        }
      ]
    },
    {
      "cell_type": "code",
      "source": [
        "# $는 마지막 글자를 지정한다.\n",
        "# 예를 들어 $a라면 a로 끝나는 문자열을 찾는다\n",
        "r = re.compile('a$')\n",
        "print(r.search('aasdasdasd')) #아무것도 출력되지 않음\n",
        "print(r.search('aasdasdasda'))"
      ],
      "metadata": {
        "colab": {
          "base_uri": "https://localhost:8080/"
        },
        "id": "d9fnTC9s-ENv",
        "outputId": "f9abe6f8-ee01-49a2-8a74-cef7a10a5aab"
      },
      "execution_count": null,
      "outputs": [
        {
          "output_type": "stream",
          "name": "stdout",
          "text": [
            "None\n",
            "<re.Match object; span=(10, 11), match='a'>\n"
          ]
        }
      ]
    },
    {
      "cell_type": "code",
      "source": [
        "# 문자{숫자1, 숫자2}\n",
        "# 문자에 해당 기호를 붙이면, 해당 문자를 숫자1 이상 숫자2 이하만큼 반복한다.\n",
        "# 예를 들어 정규 표현식이 ab{2,8}c라면 a와 c사이에 b가 존재하면서 b는 2개 이상 8개 이하인 문자열에 대해서 매치한다.\n",
        "r = re.compile(\"ab{2,8}c\")\n",
        "print(r.search('ac'))# 아무런 결과도 출력되지 않음\n",
        "print(r.search(\"abc\"))# 아무런 결과도 출력되지 않음\n",
        "print(r.search(\"abbc\"))\n",
        "print(r.search(\"abbbbc\"))\n",
        "print(r.search(\"abbbbbbbbbbbc\")) # 아무런 결과도 출력되지 않음"
      ],
      "metadata": {
        "colab": {
          "base_uri": "https://localhost:8080/"
        },
        "id": "krjEzbi7-lM-",
        "outputId": "8ee3ada8-65da-48c3-cdec-28e598768c85"
      },
      "execution_count": null,
      "outputs": [
        {
          "output_type": "stream",
          "name": "stdout",
          "text": [
            "None\n",
            "None\n",
            "<re.Match object; span=(0, 4), match='abbc'>\n",
            "<re.Match object; span=(0, 6), match='abbbbc'>\n",
            "None\n"
          ]
        }
      ]
    },
    {
      "cell_type": "code",
      "source": [
        "# 문자{숫자1,}\n",
        "# 문자에 해당 기호를 붙이면, 해당 문자를 숫자 이상만큼 반복한다.\n",
        "# 예를 들어 정규 표현식이 a{2,}bc라면 뒤에 bc가 붙으면서 a의 갯수가 2개 이상인 경우인 문자열과 매치한다.\n",
        "# 또한 만약 {0,}을 쓴다면 *와 동일한 의미가 되며, {1,}을 쓴다면 +와 동일한 의미가 된다.\n",
        "r = re.compile(\"a{2,}bc\")\n",
        "print(r.search(\"bc\")) # 아무런 결과도 출력되지 않음\n",
        "print(r.search(\"aa\")) # 아무런 결과도 출력되지 않음\n",
        "print(r.search(\"aabc\"))\n",
        "print(r.search(\"aaaaabc\"))"
      ],
      "metadata": {
        "id": "ZW-xz5sG-nyq",
        "colab": {
          "base_uri": "https://localhost:8080/"
        },
        "outputId": "121011db-9960-4537-a32a-c69581f3bb81"
      },
      "execution_count": null,
      "outputs": [
        {
          "output_type": "stream",
          "name": "stdout",
          "text": [
            "None\n",
            "None\n",
            "<re.Match object; span=(0, 4), match='aabc'>\n",
            "<re.Match object; span=(0, 7), match='aaaaabc'>\n"
          ]
        }
      ]
    },
    {
      "cell_type": "code",
      "source": [
        "# [ ]\n",
        "# []안에 문자들을 넣으면 그 문자들 중 한 개의 문자와 매치라는 의미를 가진다.\n",
        "# 예를 들어 정규 표현식이 [abc]라면, a 또는 b 또는 c가 들어가 있는 문자열과 매치된다.\n",
        "# 범위를 지정하는 것도 가능하다. [a-zA-Z]는 알파벳 전부를 의미하며, [0–9]는 숫자 전부를 의미한다.\n",
        "r = re.compile(\"[abc]\")\n",
        "print(r.search('zzz'))# 아무것도 출력되지 않음\n",
        "print(r.search('a'))"
      ],
      "metadata": {
        "colab": {
          "base_uri": "https://localhost:8080/"
        },
        "id": "ST9YBDEi-pfv",
        "outputId": "8f9cda7d-3322-4012-cfd0-9214c810b7c9"
      },
      "execution_count": null,
      "outputs": [
        {
          "output_type": "stream",
          "name": "stdout",
          "text": [
            "None\n",
            "<re.Match object; span=(0, 1), match='a'>\n"
          ]
        }
      ]
    },
    {
      "cell_type": "markdown",
      "source": [
        "[a-c] : [abc]와 같음\n",
        "\n",
        "[0-5] : [012345]와 같음\n",
        "\n",
        "[a-zA-Z] : 모든 알파벳\n",
        "\n",
        "[0-9] : 모든 숫자"
      ],
      "metadata": {
        "id": "bzPeAKpqAC4K"
      }
    },
    {
      "cell_type": "code",
      "source": [
        "# ^[문]\n",
        "# 앞서 설명한 ^와는 완전히 다른 의미로 쓰인다.\n",
        "# 여기서는 ^ 기호 뒤에 붙은 문자들을 제외한 모든 문자를 매치하는 역할을 한다.\n",
        "# 예를 들어 [^abc]라는 정규 표현식이 있다면, a 또는 b 또는 c가 들어간 문자열을 제외한 모든 문자열을 매치한다.\n",
        "\n",
        "r = re.compile('[^abc]')\n",
        "print(r.search(\"a\")) # 아무것도 출력되지 않음\n",
        "print(r.search(\"ahoho\"))"
      ],
      "metadata": {
        "colab": {
          "base_uri": "https://localhost:8080/"
        },
        "id": "Pukn8zUo-siB",
        "outputId": "91c3000e-5b92-4daf-b1d8-02f2b1d0227b"
      },
      "execution_count": null,
      "outputs": [
        {
          "output_type": "stream",
          "name": "stdout",
          "text": [
            "None\n",
            "<re.Match object; span=(1, 2), match='h'>\n"
          ]
        }
      ]
    },
    {
      "cell_type": "markdown",
      "source": [
        "\n",
        "\n",
        "---\n",
        "\n"
      ],
      "metadata": {
        "id": "2kqfOtQ7-7jX"
      }
    },
    {
      "cell_type": "markdown",
      "source": [
        "정규 표현식 모듈 써보기\n",
        "\n"
      ],
      "metadata": {
        "id": "MMQqpGEUzVCV"
      }
    },
    {
      "cell_type": "code",
      "source": [
        "# re.match() 와 re.search() 차이 알아보기\n",
        "# search는 정규표현식 전체에 대해서 문자열이 매치하는지 본다.\n",
        "# match는 문자열 첫 부분부터 정규표현식과 매치하는지 본다.\n",
        "\n",
        "r = re.compile(\"ab.\")\n",
        "print(r.search(\"kkkabc\"))\n",
        "print(r.match(\"kkkabc\")) # 출력 x\n",
        "print(r.match(\"abckkk\"))"
      ],
      "metadata": {
        "colab": {
          "base_uri": "https://localhost:8080/"
        },
        "id": "Wf2cFz4SzUja",
        "outputId": "e077e70f-4d85-4ad0-8052-75ad242e9aa2"
      },
      "execution_count": null,
      "outputs": [
        {
          "output_type": "stream",
          "name": "stdout",
          "text": [
            "<re.Match object; span=(3, 6), match='abc'>\n",
            "None\n",
            "<re.Match object; span=(0, 3), match='abc'>\n"
          ]
        }
      ]
    },
    {
      "cell_type": "code",
      "source": [
        "# re.split() 은 입력된 정규 표현식을 기준으로 문자열들을 분리하여 리스트로 리턴한다.\n",
        "# 토큰화에 유용하게 쓰일 수 있기 때문에 자연어 처리에서 가장 많이 사용되는 정규 표현식 함수 중 하나.\n",
        "text = \"사과 딸기 수박 멜론 바나나\"\n",
        "print(re.split(\" \",text))\n",
        "\n",
        "text = \"\"\"사과\n",
        "딸기\n",
        "수박\n",
        "멜론\n",
        "바나나\"\"\"\n",
        "print(re.split(\"\\n\", text))\n",
        "\n",
        "text = \"사과+딸기+수박+멜론+바나나\"\n",
        "print(re.split(\"\\+\", text))\n",
        "print(text.split('+'))"
      ],
      "metadata": {
        "colab": {
          "base_uri": "https://localhost:8080/"
        },
        "id": "KFSN3B_-0vVC",
        "outputId": "cbf80e7f-ce9e-4272-81ae-08caeb4aefb3"
      },
      "execution_count": null,
      "outputs": [
        {
          "output_type": "stream",
          "name": "stdout",
          "text": [
            "['사과', '딸기', '수박', '멜론', '바나나']\n",
            "['사과', '딸기', '수박', '멜론', '바나나']\n",
            "['사과', '딸기', '수박', '멜론', '바나나']\n",
            "['사과', '딸기', '수박', '멜론', '바나나']\n"
          ]
        }
      ]
    },
    {
      "cell_type": "code",
      "source": [
        "# re.findall() 은 정규 표현식과 매치되는 모든 문자열들을 리스트로 리턴한다.\n",
        "# 단, 매치되는 문자열이 없다면 빈 리스트를 리턴한다.\n",
        "\n",
        "text = \"\"\"이름 : 김철수\n",
        "전화번호 : 010 - 1234 - 1234\n",
        "나이 : 30\n",
        "성별 : 남\"\"\"\n",
        "print(re.findall(\"\\d+\", text))\n",
        "print(re.findall(\"\\d+\", \"문자열입니당.\")) # 빈 리스트를 리턴했다."
      ],
      "metadata": {
        "colab": {
          "base_uri": "https://localhost:8080/"
        },
        "id": "KcFv1qo414f-",
        "outputId": "32cda924-3f5d-42fc-9564-0c5c136f445a"
      },
      "execution_count": null,
      "outputs": [
        {
          "output_type": "stream",
          "name": "stdout",
          "text": [
            "['010', '1234', '1234', '30']\n",
            "[]\n"
          ]
        }
      ]
    },
    {
      "cell_type": "code",
      "source": [
        "# re.sub() 은 정규 표현식 패턴과 일치하는 문자열을 찾아 다른 문자열로 대체할 수 있다.\n",
        "text=\"Regular expression : A regular expression, regex or regexp[1] (sometimes called a rational expression)[2][3] is, in theoretical computer science and formal language theory, a sequence of characters that define a search pattern.\"\n",
        "print(re.sub('[^a-zA-Z]',' ',text)) #영어가 아닌 것들은 공백으로 교체 됨."
      ],
      "metadata": {
        "colab": {
          "base_uri": "https://localhost:8080/"
        },
        "id": "9lLrKKOS2O_2",
        "outputId": "e90e6a07-0c60-43f6-cf26-ed1fe88fe2b7"
      },
      "execution_count": null,
      "outputs": [
        {
          "output_type": "stream",
          "name": "stdout",
          "text": [
            "Regular expression   A regular expression  regex or regexp     sometimes called a rational expression        is  in theoretical computer science and formal language theory  a sequence of characters that define a search pattern \n"
          ]
        }
      ]
    },
    {
      "cell_type": "markdown",
      "source": [
        "\n",
        "\n",
        "---\n",
        "\n"
      ],
      "metadata": {
        "id": "f-fmtiSZ-4fe"
      }
    },
    {
      "cell_type": "markdown",
      "source": [
        "정규 표현식을 활용한 텍스트 전처리 해보기\n",
        "\n",
        "아래 코드를 실행하며 출력을 보고 고민해보자"
      ],
      "metadata": {
        "id": "ej51aG8rpQhS"
      }
    },
    {
      "cell_type": "code",
      "source": [
        "# 아래 텍스트로 정규표현식 토큰화를 해보겠다.\n",
        "text = \"\"\"100 John    PROF\n",
        "101 James    STUD\n",
        "102 Mac    STUD\"\"\""
      ],
      "metadata": {
        "id": "zkXeJjPLqXja"
      },
      "execution_count": null,
      "outputs": []
    },
    {
      "cell_type": "code",
      "source": [
        "# \\s 는 공백 여러개를 의미한다.\n",
        "print(re.split('\\s+', text))"
      ],
      "metadata": {
        "colab": {
          "base_uri": "https://localhost:8080/"
        },
        "id": "9v4IFRLSpNIa",
        "outputId": "2c458718-f4f9-49c7-e5b3-1813724b839b"
      },
      "execution_count": null,
      "outputs": [
        {
          "output_type": "stream",
          "name": "stdout",
          "text": [
            "['100', 'John', 'PROF', '101', 'James', 'STUD', '102', 'Mac', 'STUD']\n"
          ]
        }
      ]
    },
    {
      "cell_type": "code",
      "source": [
        "# \\d 는 숫자를 의미한다.\n",
        "print(re.findall('\\d+', text))"
      ],
      "metadata": {
        "colab": {
          "base_uri": "https://localhost:8080/"
        },
        "id": "uGV42YWEpx-9",
        "outputId": "c826258f-61ab-45a0-bf33-5af35b746404"
      },
      "execution_count": null,
      "outputs": [
        {
          "output_type": "stream",
          "name": "stdout",
          "text": [
            "['100', '101', '102']\n"
          ]
        }
      ]
    },
    {
      "cell_type": "code",
      "source": [
        "# [A-Z]는 영어 대문자를 의미한다.\n",
        "print(re.findall('[A-Z]', text))"
      ],
      "metadata": {
        "colab": {
          "base_uri": "https://localhost:8080/"
        },
        "id": "VCoG0rmsqzMr",
        "outputId": "363c5ac1-d865-447f-fa45-904d1972b16f"
      },
      "execution_count": null,
      "outputs": [
        {
          "output_type": "stream",
          "name": "stdout",
          "text": [
            "['J', 'P', 'R', 'O', 'F', 'J', 'S', 'T', 'U', 'D', 'M', 'S', 'T', 'U', 'D']\n"
          ]
        }
      ]
    },
    {
      "cell_type": "code",
      "source": [
        "# [^a-zA-Z] 영어가 아닌 것을 의미한다.\n",
        "print(re.sub('[^a-zA-Z]', ' ', text))"
      ],
      "metadata": {
        "colab": {
          "base_uri": "https://localhost:8080/"
        },
        "id": "2-4yp4gjrfhf",
        "outputId": "7552ff9b-bbe9-4f0e-eb0f-a880e9e06bfc"
      },
      "execution_count": null,
      "outputs": [
        {
          "output_type": "stream",
          "name": "stdout",
          "text": [
            "    John    PROF     James    STUD     Mac    STUD\n"
          ]
        }
      ]
    },
    {
      "cell_type": "code",
      "source": [
        "num1 = '123-456-7890'\n",
        "num2 = '123 456 7890'\n",
        "num3 = '1234567890'\n",
        "pattern = '\\d+[-\\s]?\\d+[-\\s]?\\d+' # 사람마다 번호 기입 방식이 다른데 모두 처리 가능하도록 정규화 함.\n",
        "numbers1 = re.search(pattern, num1)\n",
        "numbers2 = re.search(pattern, num2)\n",
        "numbers3 = re.search(pattern, num3)\n",
        "print(numbers1.group())\n",
        "print(numbers2.group())\n",
        "print(numbers3.group())"
      ],
      "metadata": {
        "colab": {
          "base_uri": "https://localhost:8080/"
        },
        "id": "82zFaDETtAUf",
        "outputId": "effe230f-f3ad-4a37-d3ef-2d9da8617afa"
      },
      "execution_count": null,
      "outputs": [
        {
          "output_type": "stream",
          "name": "stdout",
          "text": [
            "123-456-7890\n",
            "123 456 7890\n",
            "1234567890\n"
          ]
        }
      ]
    },
    {
      "cell_type": "code",
      "source": [
        "# \"| : OR(논리합)을 의미\n",
        "# '*'는 그 앞의 글자가 0회 이상 나타남을 의미(즉, 그 글자가 한번도 안 나와도 되고, 여러 번 나와도 됨.)\n",
        "# 아래 정규식은 'hello', 'hey'로 시작\n",
        "# 그 다음에 임의의 개수의 빈칸(space)들\n",
        "# 임의의 개수의 영어 문자들이 오는 인사말이다.\n",
        "r = \"(hi|hello|hey)[ ]*([a-z]*)\""
      ],
      "metadata": {
        "id": "dSHZcPnYxPXB"
      },
      "execution_count": null,
      "outputs": []
    },
    {
      "cell_type": "code",
      "source": [
        "# 영어 인사만 받는다 한국말은 걸러진다.\n",
        "print((re.search(r, \"hello everyone? 짜라빠빠\")))\n",
        "print((re.search(r, \"who everyone?\")))\n",
        "print((re.search(r, \"why everyone?\")))\n",
        "print((re.search(r, \"그대는 아름다워 hi everyone?\")))\n",
        "print((re.search(r, \"Hey everyone?\"))) # Hey 와 hey는 다르다."
      ],
      "metadata": {
        "colab": {
          "base_uri": "https://localhost:8080/"
        },
        "id": "6GCv2xVNuimW",
        "outputId": "7b1974a2-3ac2-4dbb-d202-09b1ba313c1e"
      },
      "execution_count": null,
      "outputs": [
        {
          "output_type": "stream",
          "name": "stdout",
          "text": [
            "<re.Match object; span=(0, 14), match='hello everyone'>\n",
            "None\n",
            "None\n",
            "<re.Match object; span=(9, 20), match='hi everyone'>\n",
            "None\n"
          ]
        }
      ]
    },
    {
      "cell_type": "code",
      "source": [
        "# 영문 텍스트의 경우에는 정규식을 단순하게 유지하기 위해 이처럼 대소문자 구분을 무시할 때가 많다.\n",
        "# IGNORECASE : 대소문자 구별 없이 매치를 수행할 때 사용하는 옵션\n",
        "print(re.match(r, \"Hello Rosa\", flags = re.IGNORECASE)) # 대문자를 소문자로 전환해서 Hello -> hello로 인식"
      ],
      "metadata": {
        "colab": {
          "base_uri": "https://localhost:8080/"
        },
        "id": "JgM8oBwExJ5Z",
        "outputId": "0a00f338-a9fd-4117-e2cd-d65aacf4466e"
      },
      "execution_count": null,
      "outputs": [
        {
          "output_type": "stream",
          "name": "stdout",
          "text": [
            "<re.Match object; span=(0, 10), match='Hello Rosa'>\n"
          ]
        }
      ]
    },
    {
      "cell_type": "code",
      "source": [
        "# 아래의 방법을 사용하는 경우, 텍스트의 첫 글자는 직접 소문자로 변경해야 합니다.\n",
        "text = 'Today is Monday. Tomorrow is Tuesday. Yesterday was Sunday.'\n",
        "first_big_words = re.findall(r'[\\.\\?\\!]\\s+([A-Z]\\w+)', text) #첫 글짜가 대문자인 것만 추출\n",
        "first_small_word = [word.lower() for word in first_big_words] #소문자로 변경\n",
        "print(first_big_words)\n",
        "print(first_small_word)"
      ],
      "metadata": {
        "colab": {
          "base_uri": "https://localhost:8080/"
        },
        "id": "8L2UdLvVxx8z",
        "outputId": "934a621d-5241-4ed2-dfd8-371701160ef2"
      },
      "execution_count": null,
      "outputs": [
        {
          "output_type": "stream",
          "name": "stdout",
          "text": [
            "['Tomorrow', 'Yesterday']\n",
            "['tomorrow', 'yesterday']\n"
          ]
        }
      ]
    },
    {
      "cell_type": "markdown",
      "source": [
        "\n",
        "\n",
        "---\n",
        "\n"
      ],
      "metadata": {
        "id": "HMfKZfj3-2bE"
      }
    },
    {
      "cell_type": "markdown",
      "source": [
        "정규 표현식에서 Quantifier 적용 해보기\n",
        "\n",
        "Quantifier : 특정 문자나 문자 집합이 반복되는 횟수를 지정하는 데 사용 됨.\n",
        "\n",
        "{n} : 정확히 n개만을 찾음.\n",
        "\n",
        "{n,} : n개 이상을 찾음.\n",
        "\n",
        "{n,m} : 최소 n개 최대 m개의 경우를 찾음\n",
        "\n",
        "말이 어려울 수 있는데 밑에 코드를 보며 이해해보자."
      ],
      "metadata": {
        "id": "blzrKDPVsDYX"
      }
    },
    {
      "cell_type": "code",
      "source": [
        "# [A-Z]{4}는 영어 대문자 4글자를 의미한다\n",
        "print(re.findall('[A-Z]{4}', text))"
      ],
      "metadata": {
        "colab": {
          "base_uri": "https://localhost:8080/"
        },
        "id": "-hEAvm0vrL84",
        "outputId": "c507420a-80e0-46b5-9f64-16c8268cd4b0"
      },
      "execution_count": null,
      "outputs": [
        {
          "output_type": "stream",
          "name": "stdout",
          "text": [
            "[]\n"
          ]
        }
      ]
    },
    {
      "cell_type": "code",
      "source": [
        "# 수를 지정하여 정규화 함\n",
        "num = '12345-456123-7890123213'\n",
        "pattern = r'\\d{3}[-\\s]\\d{3}[-\\s]\\d{4}'\n",
        "numbers = re.search(pattern, num1)\n",
        "numbers.group()"
      ],
      "metadata": {
        "colab": {
          "base_uri": "https://localhost:8080/",
          "height": 35
        },
        "id": "JN8oNu5-tGZ-",
        "outputId": "3db3d2a9-bd5b-4837-d27c-c5fd710e457c"
      },
      "execution_count": null,
      "outputs": [
        {
          "output_type": "execute_result",
          "data": {
            "text/plain": [
              "'123-456-7890'"
            ],
            "application/vnd.google.colaboratory.intrinsic+json": {
              "type": "string"
            }
          },
          "metadata": {},
          "execution_count": 100
        }
      ]
    },
    {
      "cell_type": "markdown",
      "source": [
        "\n",
        "\n",
        "---\n",
        "\n"
      ],
      "metadata": {
        "id": "m3rdYyJk-09j"
      }
    },
    {
      "cell_type": "markdown",
      "source": [
        "## 정규표현식으로 텍스트 전처리 맛보기"
      ],
      "metadata": {
        "id": "go1rzHg-PMe_"
      }
    },
    {
      "cell_type": "markdown",
      "source": [
        "이제 정규표현식을 알아봤으니 원래 목적으로 돌아가자.\n",
        "\n",
        "정규 표현식을 이용한 토큰화 해보기\n",
        "\n",
        "사용할 패키지 : NLTK 의 RegexpTokenizer\n",
        "\n",
        "*다른 도구도 있음을 잊지말자. 여기선 학습용으로 우수한 NLTK를 쓰는 것일 뿐."
      ],
      "metadata": {
        "id": "jcwMJPlhysEd"
      }
    },
    {
      "cell_type": "code",
      "source": [
        "from nltk import RegexpTokenizer # 이제 익숙한 설명이니 임폴트 주석은 생략하겠다.\n",
        "text = \"Don't hesitate to ask questions\""
      ],
      "metadata": {
        "id": "MIVREio71S_e"
      },
      "execution_count": null,
      "outputs": []
    },
    {
      "cell_type": "code",
      "source": [
        "print(RegexpTokenizer(\"[\\w']+\").tokenize(text))"
      ],
      "metadata": {
        "colab": {
          "base_uri": "https://localhost:8080/"
        },
        "id": "BTmtIY9CvfxQ",
        "outputId": "267b531a-7aaf-4868-ce03-69e2e21a3903"
      },
      "execution_count": null,
      "outputs": [
        {
          "output_type": "stream",
          "name": "stdout",
          "text": [
            "[\"Don't\", 'hesitate', 'to', 'ask', 'questions']\n"
          ]
        }
      ]
    },
    {
      "cell_type": "code",
      "source": [
        "from nltk import regexp_tokenize # NLTK에서 정규표현식 토큰 도구 중 또다른 하나\n",
        "print(regexp_tokenize(text, pattern='\\w+|\\$[\\d\\.]+|\\S+'))"
      ],
      "metadata": {
        "colab": {
          "base_uri": "https://localhost:8080/"
        },
        "id": "sKVVIhVs0uG-",
        "outputId": "c805341e-b655-4c6c-bcb0-136db08ca006"
      },
      "execution_count": null,
      "outputs": [
        {
          "output_type": "stream",
          "name": "stdout",
          "text": [
            "['Don', \"'t\", 'hesitate', 'to', 'ask', 'questions']\n"
          ]
        }
      ]
    },
    {
      "cell_type": "code",
      "source": [
        "# 정규 표현식 토큰화 코드를 다양하게 작성해볼 수 있다.\n",
        "text=\" She secured 90.56 % in class X . She is a meritorious student\"\n",
        "capt = RegexpTokenizer('[A-Z]\\w+')\n",
        "print(capt.tokenize(text))"
      ],
      "metadata": {
        "colab": {
          "base_uri": "https://localhost:8080/"
        },
        "id": "SQheSZPq1omF",
        "outputId": "5959d849-54d9-4e12-ba10-d20d69072de9"
      },
      "execution_count": null,
      "outputs": [
        {
          "output_type": "stream",
          "name": "stdout",
          "text": [
            "['She', 'She']\n"
          ]
        }
      ]
    },
    {
      "cell_type": "code",
      "source": [
        "print(RegexpTokenizer('\\s+',gaps=True).tokenize(text))\n",
        "# gaps=False (기본값): 이 설정은 정규 표현식이 직접 토큰을 찾는 데 사용됨을 의미함.\n",
        "# False 즉, 정규 표현식에 일치하는 부분이 토큰으로 추출됨.\n",
        "# True는 반대겠지요?"
      ],
      "metadata": {
        "colab": {
          "base_uri": "https://localhost:8080/"
        },
        "id": "3G7UrTXo2Dn1",
        "outputId": "6a44d58c-0b0e-46bd-a778-7aed90fb91bc"
      },
      "execution_count": null,
      "outputs": [
        {
          "output_type": "stream",
          "name": "stdout",
          "text": [
            "['She', 'secured', '90.56', '%', 'in', 'class', 'X', '.', 'She', 'is', 'a', 'meritorious', 'student']\n"
          ]
        }
      ]
    },
    {
      "cell_type": "code",
      "source": [
        "# [\\w] 하나 이상의 공백 문자를 찾음 + gaps= 파라미터 비교 해보\n",
        "print(RegexpTokenizer(\"[\\s]+\", gaps=True).tokenize(\"Don't be fooled by the dark sounding name, Mr. Jone's Orphanage is as cheery as cheery goes for a pastry shop\"))\n",
        "print(RegexpTokenizer(\"[\\s]+\", gaps=False).tokenize(\"Don't be fooled by the dark sounding name, Mr. Jone's Orphanage is as cheery as cheery goes for a pastry shop\"))"
      ],
      "metadata": {
        "colab": {
          "base_uri": "https://localhost:8080/"
        },
        "id": "CEbXW80N2JHB",
        "outputId": "fc0e8466-dd3b-483b-edd9-ace358dd93b2"
      },
      "execution_count": null,
      "outputs": [
        {
          "output_type": "stream",
          "name": "stdout",
          "text": [
            "[\"Don't\", 'be', 'fooled', 'by', 'the', 'dark', 'sounding', 'name,', 'Mr.', \"Jone's\", 'Orphanage', 'is', 'as', 'cheery', 'as', 'cheery', 'goes', 'for', 'a', 'pastry', 'shop']\n",
            "[' ', ' ', ' ', ' ', ' ', ' ', ' ', ' ', ' ', ' ', ' ', ' ', ' ', ' ', ' ', ' ', ' ', ' ', ' ', ' ']\n"
          ]
        }
      ]
    },
    {
      "cell_type": "markdown",
      "source": [
        "정규표현식은 여기서 마무리하겠다.\n",
        "\n",
        "위를 토대로 좀더 학습하여 다양한 토크나이저에 정규표현식을 활용해보길 바란다. (난 여기가 한계다..)\n",
        "\n",
        "\n",
        "---\n",
        "\n"
      ],
      "metadata": {
        "id": "z_zNDjql8mo4"
      }
    },
    {
      "cell_type": "markdown",
      "source": [
        "## 정수 인코딩\n",
        "\n",
        "\n",
        "\n"
      ],
      "metadata": {
        "id": "jVGnf64881t8"
      }
    },
    {
      "cell_type": "markdown",
      "source": [
        "이전까지 토큰화와 불용어 처리 등 간단히 맛보기를 해보았다.\n",
        "\n",
        "우리의 목적은 텍스트 마이닝이다.\n",
        "\n",
        "토큰화와 불용어처리 등을 거쳐서 결국 얻어낸 코퍼스(말뭉치)를 컴퓨터가 인식 할 수 있도록 처리해야한다.\n",
        "\n",
        "컴퓨터는 숫자로만 처리가 가능하기 때문이다.\n",
        "\n",
        "처리 방식은 다양하게 있는데 가장 기본이 되는 정수 인코딩 방법을 알아보겠다.\n",
        "\n",
        "참고로 '정수인코딩'도 전처리 과정 중 하나이다.\n",
        "\n",
        "\n",
        "---"
      ],
      "metadata": {
        "id": "Uvu4CCNSQUWE"
      }
    },
    {
      "cell_type": "markdown",
      "source": [
        "정수 인코딩\n",
        "\n",
        "텍스트 5,000개가 있다면 각 단어에 고유한 정수를 부여한다.\n",
        "\n",
        "(1, '사과') (2, 바나나) .... (4000, 컴퓨터)...(4999,책)\n",
        "\n",
        "즉, 인덱스를 부여한다고 생각하자.\n",
        "\n",
        "인덱스 부여 방법은 다양하다. 랜덤으로 부여하기도 하고 빈도수가 높은 단어들만 사용하기 위해 빈도수를 기반으로 정렬한뒤 번호를 부여하는 방법도 있다.\n",
        "\n",
        "아무튼 단어에 번호 부여, 다양한 방식 있음 정도만 이해하자.\n",
        "\n",
        "\n",
        "---\n",
        "\n"
      ],
      "metadata": {
        "id": "buvGb0LR-vzO"
      }
    },
    {
      "cell_type": "markdown",
      "source": [
        "## 정수 인코딩 맛보기\n",
        "\n",
        "\n"
      ],
      "metadata": {
        "id": "gqm_LMuiA2H3"
      }
    },
    {
      "cell_type": "code",
      "source": [
        "from nltk.tokenize import sent_tokenize\n",
        "from nltk.tokenize import word_tokenize\n",
        "from nltk.corpus import stopwords\n",
        "import nltk\n",
        "nltk.download('popular')"
      ],
      "metadata": {
        "colab": {
          "base_uri": "https://localhost:8080/"
        },
        "id": "tqSd5d74BMQe",
        "outputId": "68857110-32a8-4070-a156-894d23f7aa0c"
      },
      "execution_count": null,
      "outputs": [
        {
          "output_type": "stream",
          "name": "stderr",
          "text": [
            "[nltk_data] Downloading collection 'popular'\n",
            "[nltk_data]    | \n",
            "[nltk_data]    | Downloading package cmudict to /root/nltk_data...\n",
            "[nltk_data]    |   Package cmudict is already up-to-date!\n",
            "[nltk_data]    | Downloading package gazetteers to /root/nltk_data...\n",
            "[nltk_data]    |   Package gazetteers is already up-to-date!\n",
            "[nltk_data]    | Downloading package genesis to /root/nltk_data...\n",
            "[nltk_data]    |   Package genesis is already up-to-date!\n",
            "[nltk_data]    | Downloading package gutenberg to /root/nltk_data...\n",
            "[nltk_data]    |   Package gutenberg is already up-to-date!\n",
            "[nltk_data]    | Downloading package inaugural to /root/nltk_data...\n",
            "[nltk_data]    |   Package inaugural is already up-to-date!\n",
            "[nltk_data]    | Downloading package movie_reviews to\n",
            "[nltk_data]    |     /root/nltk_data...\n",
            "[nltk_data]    |   Package movie_reviews is already up-to-date!\n",
            "[nltk_data]    | Downloading package names to /root/nltk_data...\n",
            "[nltk_data]    |   Package names is already up-to-date!\n",
            "[nltk_data]    | Downloading package shakespeare to /root/nltk_data...\n",
            "[nltk_data]    |   Package shakespeare is already up-to-date!\n",
            "[nltk_data]    | Downloading package stopwords to /root/nltk_data...\n",
            "[nltk_data]    |   Package stopwords is already up-to-date!\n",
            "[nltk_data]    | Downloading package treebank to /root/nltk_data...\n",
            "[nltk_data]    |   Package treebank is already up-to-date!\n",
            "[nltk_data]    | Downloading package twitter_samples to\n",
            "[nltk_data]    |     /root/nltk_data...\n",
            "[nltk_data]    |   Package twitter_samples is already up-to-date!\n",
            "[nltk_data]    | Downloading package omw to /root/nltk_data...\n",
            "[nltk_data]    |   Package omw is already up-to-date!\n",
            "[nltk_data]    | Downloading package omw-1.4 to /root/nltk_data...\n",
            "[nltk_data]    |   Package omw-1.4 is already up-to-date!\n",
            "[nltk_data]    | Downloading package wordnet to /root/nltk_data...\n",
            "[nltk_data]    |   Package wordnet is already up-to-date!\n",
            "[nltk_data]    | Downloading package wordnet2021 to /root/nltk_data...\n",
            "[nltk_data]    |   Package wordnet2021 is already up-to-date!\n",
            "[nltk_data]    | Downloading package wordnet31 to /root/nltk_data...\n",
            "[nltk_data]    |   Package wordnet31 is already up-to-date!\n",
            "[nltk_data]    | Downloading package wordnet_ic to /root/nltk_data...\n",
            "[nltk_data]    |   Package wordnet_ic is already up-to-date!\n",
            "[nltk_data]    | Downloading package words to /root/nltk_data...\n",
            "[nltk_data]    |   Package words is already up-to-date!\n",
            "[nltk_data]    | Downloading package maxent_ne_chunker to\n",
            "[nltk_data]    |     /root/nltk_data...\n",
            "[nltk_data]    |   Package maxent_ne_chunker is already up-to-date!\n",
            "[nltk_data]    | Downloading package punkt to /root/nltk_data...\n",
            "[nltk_data]    |   Package punkt is already up-to-date!\n",
            "[nltk_data]    | Downloading package snowball_data to\n",
            "[nltk_data]    |     /root/nltk_data...\n",
            "[nltk_data]    |   Package snowball_data is already up-to-date!\n",
            "[nltk_data]    | Downloading package averaged_perceptron_tagger to\n",
            "[nltk_data]    |     /root/nltk_data...\n",
            "[nltk_data]    |   Package averaged_perceptron_tagger is already up-\n",
            "[nltk_data]    |       to-date!\n",
            "[nltk_data]    | \n",
            "[nltk_data]  Done downloading collection popular\n"
          ]
        },
        {
          "output_type": "execute_result",
          "data": {
            "text/plain": [
              "True"
            ]
          },
          "metadata": {},
          "execution_count": 124
        }
      ]
    },
    {
      "cell_type": "code",
      "source": [
        "text = \"A barber is a person. a barber is good person. a barber is huge person. he Knew A Secret! The Secret He Kept is huge secret. Huge secret. His barber kept his word. a barber kept his word. His barber kept his secret. But keeping and keeping such a huge secret to himself was driving the barber crazy. the barber went up a huge mountain.\"\n",
        "text = sent_tokenize(text)# 문장 토큰화\n",
        "\n",
        "#정제와 단어 토큰화\n",
        "vocab = {} # 단어 : 빈도수 딕셔너리\n",
        "sentences = []\n",
        "stop_words = set(stopwords.words('english')) #불용어 불러오기\n",
        "for i in text:\n",
        "    # 토큰화 된 문장이 있으면 수행 토큰화 된 문장을 i에 넣고 수행,\n",
        "    # 한번 for문 수행 하고 다 끝나면 다음 토큰화 된 문장이 있으면 또 수행\n",
        "    tokens = word_tokenize(i) #단어 토큰화를 수행\n",
        "    result = []\n",
        "    for word in tokens:\n",
        "        word = word.lower() # 모든 단어를 소문자화 함\n",
        "        if word not in stop_words: # 해당 단어가 불용어 인지 체크\n",
        "            if len(word) > 2: # 2글자 넘는 단어인지 체크\n",
        "                result.append(word)\n",
        "                if word not in vocab: #빈도수 사전에 단어가 없으면\n",
        "                    vocab[word] = 0 #빈도수 사전에 추가후 벨류는 0으로 지정\n",
        "                vocab[word] += 1 #단어 빈도수 1 증가\n",
        "            sentences.append(result)"
      ],
      "metadata": {
        "id": "JbzxYeZh7LwG"
      },
      "execution_count": null,
      "outputs": []
    },
    {
      "cell_type": "code",
      "source": [
        "print(sentences) #문장 토큰 별로 단어가 어떻게 있는지 확인"
      ],
      "metadata": {
        "colab": {
          "base_uri": "https://localhost:8080/"
        },
        "id": "R7SkUGS_Huuf",
        "outputId": "d756dd8c-8b71-4335-b7d5-d0d5e5b5f14f"
      },
      "execution_count": null,
      "outputs": [
        {
          "output_type": "stream",
          "name": "stdout",
          "text": [
            "[['barber', 'person'], ['barber', 'person'], ['barber', 'person'], ['barber', 'good', 'person'], ['barber', 'good', 'person'], ['barber', 'good', 'person'], ['barber', 'good', 'person'], ['barber', 'huge', 'person'], ['barber', 'huge', 'person'], ['barber', 'huge', 'person'], ['barber', 'huge', 'person'], ['knew', 'secret'], ['knew', 'secret'], ['knew', 'secret'], ['secret', 'kept', 'huge', 'secret'], ['secret', 'kept', 'huge', 'secret'], ['secret', 'kept', 'huge', 'secret'], ['secret', 'kept', 'huge', 'secret'], ['secret', 'kept', 'huge', 'secret'], ['huge', 'secret'], ['huge', 'secret'], ['huge', 'secret'], ['barber', 'kept', 'word'], ['barber', 'kept', 'word'], ['barber', 'kept', 'word'], ['barber', 'kept', 'word'], ['barber', 'kept', 'word'], ['barber', 'kept', 'word'], ['barber', 'kept', 'word'], ['barber', 'kept', 'word'], ['barber', 'kept', 'secret'], ['barber', 'kept', 'secret'], ['barber', 'kept', 'secret'], ['barber', 'kept', 'secret'], ['keeping', 'keeping', 'huge', 'secret', 'driving', 'barber', 'crazy'], ['keeping', 'keeping', 'huge', 'secret', 'driving', 'barber', 'crazy'], ['keeping', 'keeping', 'huge', 'secret', 'driving', 'barber', 'crazy'], ['keeping', 'keeping', 'huge', 'secret', 'driving', 'barber', 'crazy'], ['keeping', 'keeping', 'huge', 'secret', 'driving', 'barber', 'crazy'], ['keeping', 'keeping', 'huge', 'secret', 'driving', 'barber', 'crazy'], ['keeping', 'keeping', 'huge', 'secret', 'driving', 'barber', 'crazy'], ['keeping', 'keeping', 'huge', 'secret', 'driving', 'barber', 'crazy'], ['barber', 'went', 'huge', 'mountain'], ['barber', 'went', 'huge', 'mountain'], ['barber', 'went', 'huge', 'mountain'], ['barber', 'went', 'huge', 'mountain'], ['barber', 'went', 'huge', 'mountain']]\n"
          ]
        }
      ]
    },
    {
      "cell_type": "code",
      "source": [
        "print(vocab) #단어:빈도수 매핑된 사"
      ],
      "metadata": {
        "colab": {
          "base_uri": "https://localhost:8080/"
        },
        "id": "KK7NgcuuCPC2",
        "outputId": "e9e1b926-cc24-4a32-9394-df191e5735e6"
      },
      "execution_count": null,
      "outputs": [
        {
          "output_type": "stream",
          "name": "stdout",
          "text": [
            "{'barber': 8, 'person': 3, 'good': 1, 'huge': 5, 'knew': 1, 'secret': 6, 'kept': 4, 'word': 2, 'keeping': 2, 'driving': 1, 'crazy': 1, 'went': 1, 'mountain': 1}\n"
          ]
        }
      ]
    },
    {
      "cell_type": "code",
      "source": [
        "#빈도수가 높은 순서대로 정렬\n",
        "vocab_sorted = sorted(vocab.items(), key = lambda x:x[1], reverse = True)\n",
        "print(vocab_sorted)"
      ],
      "metadata": {
        "colab": {
          "base_uri": "https://localhost:8080/"
        },
        "id": "WkvtmF4mCSYS",
        "outputId": "87ab7d06-a77d-4beb-c9db-a94293510abb"
      },
      "execution_count": null,
      "outputs": [
        {
          "output_type": "stream",
          "name": "stdout",
          "text": [
            "[('barber', 8), ('secret', 6), ('huge', 5), ('kept', 4), ('person', 3), ('word', 2), ('keeping', 2), ('good', 1), ('knew', 1), ('driving', 1), ('crazy', 1), ('went', 1), ('mountain', 1)]\n"
          ]
        }
      ]
    },
    {
      "cell_type": "code",
      "source": [
        "#높은 빈도수를 가진 단어일수록 낮은 정수 인덱스를 부여\n",
        "word_to_index = {} #빈도수 높은 단어 순으로 저장\n",
        "i=0\n",
        "for (word, frequency) in vocab_sorted :\n",
        "    if frequency > 1 : #빈도수가 1이하 단어는 제외한다.\n",
        "        i=i+1\n",
        "        word_to_index[word] = i\n",
        "print(word_to_index)"
      ],
      "metadata": {
        "colab": {
          "base_uri": "https://localhost:8080/"
        },
        "id": "TdvPM4zvGXUo",
        "outputId": "d51553f4-fac5-4200-ada3-1624214931a0"
      },
      "execution_count": null,
      "outputs": [
        {
          "output_type": "stream",
          "name": "stdout",
          "text": [
            "{'barber': 1, 'secret': 2, 'huge': 3, 'kept': 4, 'person': 5, 'word': 6, 'keeping': 7}\n"
          ]
        }
      ]
    },
    {
      "cell_type": "code",
      "source": [
        "vocab_size = 5 #빈도수 랭킹 5위 까지만 사용하려고.\n",
        "words_frequency = [w for w,c in word_to_index.items() if c >= vocab_size + 1] # 인덱스가 5 초과인 단어 제거\n",
        "for w in words_frequency:\n",
        "    del word_to_index[w] # 해당 단어에 대한 인덱스 정보를 삭제\n",
        "print(word_to_index)"
      ],
      "metadata": {
        "colab": {
          "base_uri": "https://localhost:8080/"
        },
        "id": "rS6N1GklGo10",
        "outputId": "7268ae91-5b0a-4b09-d501-8975d4e9307c"
      },
      "execution_count": null,
      "outputs": [
        {
          "output_type": "stream",
          "name": "stdout",
          "text": [
            "{'barber': 1, 'secret': 2, 'huge': 3, 'kept': 4, 'person': 5}\n"
          ]
        }
      ]
    },
    {
      "cell_type": "markdown",
      "source": [
        "여기 까지 진행하면 word_to_index에는 빈도수가 높은 상위 5개의 단어만 저장된다.\n",
        "\n",
        " word_to_index(빈도수가 높은 순서로 인덱스:단어 쌍으로 저장된 딕셔너리)를 사용하여 단어 토큰화가 된 상태로 저장된 sentences에 있는 각 단어를 정수로 바꾸는 작업을 하겠다.\n",
        "\n",
        "예) sentences에서 첫번째 문장은 ['barber', 'person']이었는데, 이 문장에 대해서는 [1, 5]로 인코딩\n",
        "\n",
        "근데 두번째 문장인 ['barber', 'good', 'person']에는 더 이상 word_to_index에는 존재하지 않는 단어인 'good'이라는 단어가 있다.\n",
        "\n",
        "이처럼 단어 집합에 존재하지 않는 단어들을 Out-Of-Vocabulary(단어 집합에 없는 단어)의 약자로 'OOV'라고 한다.\n",
        "\n",
        "word_to_index에 'OOV'란 단어를 새롭게 추가하고, 단어 집합에 없는 단어들은 'OOV'의 인덱스로 인코딩한다.\n",
        "\n",
        "\n",
        "어려워 보이지만 코드를 추적하다보면 이해가 될 것이다.\n",
        "'"
      ],
      "metadata": {
        "id": "EmB75c5OIET4"
      }
    },
    {
      "cell_type": "code",
      "source": [
        "word_to_index['OOV'] = len(word_to_index) + 1 #5위 까지만 했으니 OOV는 6이다."
      ],
      "metadata": {
        "id": "c4VGDWUyH6Ir"
      },
      "execution_count": null,
      "outputs": []
    },
    {
      "cell_type": "code",
      "source": [
        "#word_to_index['OOV']에 sentences의 빈도수 적은 모든 단어들을 맵핑되는 정수로 인코딩\n",
        "encoded = []\n",
        "for s in sentences:\n",
        "    temp = []\n",
        "    for w in s:\n",
        "        try:\n",
        "            temp.append(word_to_index[w])\n",
        "        except KeyError: #word_to_index에 순위가 낮은 단어가 없으니 에러가 발생한다.\n",
        "            temp.append(word_to_index['OOV']) #단어를 OOV 값을 temp에 넣는다. 즉, 6 이다.\n",
        "    encoded.append(temp)\n",
        "print(sentences)\n",
        "print(encoded)"
      ],
      "metadata": {
        "colab": {
          "base_uri": "https://localhost:8080/"
        },
        "id": "KiB4WMBPJky0",
        "outputId": "9ae0acf3-2fb5-4f56-99d4-57efad3af0f1"
      },
      "execution_count": null,
      "outputs": [
        {
          "output_type": "stream",
          "name": "stdout",
          "text": [
            "[['barber', 'person'], ['barber', 'person'], ['barber', 'person'], ['barber', 'good', 'person'], ['barber', 'good', 'person'], ['barber', 'good', 'person'], ['barber', 'good', 'person'], ['barber', 'huge', 'person'], ['barber', 'huge', 'person'], ['barber', 'huge', 'person'], ['barber', 'huge', 'person'], ['knew', 'secret'], ['knew', 'secret'], ['knew', 'secret'], ['secret', 'kept', 'huge', 'secret'], ['secret', 'kept', 'huge', 'secret'], ['secret', 'kept', 'huge', 'secret'], ['secret', 'kept', 'huge', 'secret'], ['secret', 'kept', 'huge', 'secret'], ['huge', 'secret'], ['huge', 'secret'], ['huge', 'secret'], ['barber', 'kept', 'word'], ['barber', 'kept', 'word'], ['barber', 'kept', 'word'], ['barber', 'kept', 'word'], ['barber', 'kept', 'word'], ['barber', 'kept', 'word'], ['barber', 'kept', 'word'], ['barber', 'kept', 'word'], ['barber', 'kept', 'secret'], ['barber', 'kept', 'secret'], ['barber', 'kept', 'secret'], ['barber', 'kept', 'secret'], ['keeping', 'keeping', 'huge', 'secret', 'driving', 'barber', 'crazy'], ['keeping', 'keeping', 'huge', 'secret', 'driving', 'barber', 'crazy'], ['keeping', 'keeping', 'huge', 'secret', 'driving', 'barber', 'crazy'], ['keeping', 'keeping', 'huge', 'secret', 'driving', 'barber', 'crazy'], ['keeping', 'keeping', 'huge', 'secret', 'driving', 'barber', 'crazy'], ['keeping', 'keeping', 'huge', 'secret', 'driving', 'barber', 'crazy'], ['keeping', 'keeping', 'huge', 'secret', 'driving', 'barber', 'crazy'], ['keeping', 'keeping', 'huge', 'secret', 'driving', 'barber', 'crazy'], ['barber', 'went', 'huge', 'mountain'], ['barber', 'went', 'huge', 'mountain'], ['barber', 'went', 'huge', 'mountain'], ['barber', 'went', 'huge', 'mountain'], ['barber', 'went', 'huge', 'mountain']]\n",
            "[[1, 5], [1, 5], [1, 5], [1, 6, 5], [1, 6, 5], [1, 6, 5], [1, 6, 5], [1, 3, 5], [1, 3, 5], [1, 3, 5], [1, 3, 5], [6, 2], [6, 2], [6, 2], [2, 4, 3, 2], [2, 4, 3, 2], [2, 4, 3, 2], [2, 4, 3, 2], [2, 4, 3, 2], [3, 2], [3, 2], [3, 2], [1, 4, 6], [1, 4, 6], [1, 4, 6], [1, 4, 6], [1, 4, 6], [1, 4, 6], [1, 4, 6], [1, 4, 6], [1, 4, 2], [1, 4, 2], [1, 4, 2], [1, 4, 2], [6, 6, 3, 2, 6, 1, 6], [6, 6, 3, 2, 6, 1, 6], [6, 6, 3, 2, 6, 1, 6], [6, 6, 3, 2, 6, 1, 6], [6, 6, 3, 2, 6, 1, 6], [6, 6, 3, 2, 6, 1, 6], [6, 6, 3, 2, 6, 1, 6], [6, 6, 3, 2, 6, 1, 6], [1, 6, 3, 6], [1, 6, 3, 6], [1, 6, 3, 6], [1, 6, 3, 6], [1, 6, 3, 6]]\n"
          ]
        }
      ]
    },
    {
      "cell_type": "markdown",
      "source": [
        "## counter 정수 인코딩 (예정)"
      ],
      "metadata": {
        "id": "x0_kWjQ0SsN8"
      }
    },
    {
      "cell_type": "markdown",
      "source": [
        "## zip 정수 인코딩 (예정)\n"
      ],
      "metadata": {
        "id": "zrNsTyMsSx44"
      }
    },
    {
      "cell_type": "markdown",
      "source": [
        "## pandas 정수 인코딩 (예정)\n"
      ],
      "metadata": {
        "id": "DnirY-cpSzE3"
      }
    },
    {
      "cell_type": "markdown",
      "source": [
        "## keras 정수 인코딩 (예정)"
      ],
      "metadata": {
        "id": "-xN09NFsSy6S"
      }
    },
    {
      "cell_type": "markdown",
      "source": [
        "## enumerate 정수 인코딩 (예정)\n"
      ],
      "metadata": {
        "id": "jbXhmMErSyoF"
      }
    },
    {
      "cell_type": "markdown",
      "source": [
        "## FreqDist 정수 인코딩 (예정)"
      ],
      "metadata": {
        "id": "kPUaSBMOTK2G"
      }
    }
  ]
}
{
  "nbformat": 4,
  "nbformat_minor": 0,
  "metadata": {
    "colab": {
      "provenance": [],
      "authorship_tag": "ABX9TyOjQn1WJPZfwLd+hyNw8oj8",
      "include_colab_link": true
    },
    "kernelspec": {
      "name": "python3",
      "display_name": "Python 3"
    },
    "language_info": {
      "name": "python"
    }
  },
  "cells": [
    {
      "cell_type": "markdown",
      "metadata": {
        "id": "view-in-github",
        "colab_type": "text"
      },
      "source": [
        "<a href=\"https://colab.research.google.com/github/YoungsikMoon/PublicRnD/blob/main/%ED%85%8D%EC%8A%A4%ED%8A%B8%EB%A7%88%EC%9D%B4%EB%8B%9D_%EB%AC%B8%EC%98%81%EC%8B%9D.ipynb\" target=\"_parent\"><img src=\"https://colab.research.google.com/assets/colab-badge.svg\" alt=\"Open In Colab\"/></a>"
      ]
    },
    {
      "cell_type": "markdown",
      "source": [
        "#텍스트 마이닝에 필요한 최소 지식 정리"
      ],
      "metadata": {
        "id": "T6pGRyzrnA22"
      }
    },
    {
      "cell_type": "markdown",
      "source": [
        "아래 내용은 성수 알파코 캠퍼스 9기 텍스트마이닝 교육자료 약 95%(저자:류영표 강사)와 구글 검색5% 정도를 가지고 재해석하여 작성하였음을 참고바람.\n",
        "\n",
        "주의!! 재해석 과정에서 개인의 주관이 반영되어 올바른 내용이 아닐 수 있음.\n",
        "\n",
        "---\n",
        "\n"
      ],
      "metadata": {
        "id": "qlDId3Oo2E3z"
      }
    },
    {
      "cell_type": "markdown",
      "source": [
        "텍스트 마이닝이란? 텍스트에서 의미 있는 정보를 얻는 작업\n",
        "\n",
        "텍스트 마이닝 과정 요약 :\n",
        "텍스트 데이터 수집 -> 텍스트 전처리 -> 특징 값 추출 -> 결과 데이터 분석\n",
        "\n",
        "\n",
        "---\n",
        "\n"
      ],
      "metadata": {
        "id": "BnM4kFB7pQRA"
      }
    },
    {
      "cell_type": "markdown",
      "source": [
        "보통 텍스트 마이닝 하면 '자연어처리'라 생각할 수 있지만, 다른 분야이다. 이 글에서는 텍스트마이닝 위주로 작성할 것 이다.\n",
        "\n",
        "자연어 : 사람이 일상에서 자연스럽게 사용하는 언어\n",
        "\n",
        "---\n",
        "\n"
      ],
      "metadata": {
        "id": "bC5tPhkX0VNB"
      }
    },
    {
      "cell_type": "markdown",
      "source": [
        "자연어처리 (NLP, Natural Language Processing) : 컴퓨터가 인간의 언어인 자연어를 인공지능이 인식하고 표현할 수 있도록 하는 것에 중점을 둠.\n",
        "\n",
        "텍스트마이닝 : 텍스트데이터에서 추출된 단어나 문장속에서 유의미한 인사이트를 찾아내는 작업.\n",
        "\n",
        "---\n",
        "\n"
      ],
      "metadata": {
        "id": "vib7jiUDnvsG"
      }
    },
    {
      "cell_type": "markdown",
      "source": [
        "텍스트 데이터 수집 : 인증 및 허가 된 사이트에서 텍스트로 된 데이터를 받기 또는 웹 스크랩핑(윤리적 문제에 주의)\n",
        "\n",
        "\n",
        "---\n",
        "\n"
      ],
      "metadata": {
        "id": "HmLFenXYort3"
      }
    },
    {
      "cell_type": "markdown",
      "source": [
        "텍스트 전처리란?\n",
        "수집한 데이터를 분석하기에 앞서 분석에 용이하도록 데이터를 정제/가공하고 텍스트의 의미를 충분히 간직한 채로 컴퓨터가 이해할 수 있는 형태로 전환하는 작업.\n",
        "\n",
        "토큰화, 오탈자, 특수문자, 띄어쓰기 교정, 맞춤법 검사 등 데이터 분석 용도에 맞게 텍스트를 사전에 처리하는 작업.\n",
        "\n",
        "텍스트 분석 모델이 효율적으로 작동할 수 있도록 사전에 텍스트를 정제 및 가공.\n",
        "\n",
        "\n",
        "---\n",
        "\n"
      ],
      "metadata": {
        "id": "go5SYBP4pB8e"
      }
    },
    {
      "cell_type": "markdown",
      "source": [
        "코퍼스(말뭉치) : 특정한 목적을 가지고 언어 표본을 추출한 집합\n",
        "\n",
        "---\n",
        "\n"
      ],
      "metadata": {
        "id": "9fyVeuIs_hxy"
      }
    },
    {
      "cell_type": "markdown",
      "source": [
        "토큰화 : 텍스트를 원하는 단위로 분절하는 작업.\n",
        "\n",
        "문장 토큰화 : 문장의 마침표, 개행문자, 느낌표, 물음표 등 문장의 마지막을 뜻하는 기호에 따라 분절하는 것이 일반적.\n",
        "\n",
        "단어 토큰화 : 기본적으로 띄어쓰기를 기준으로 하며, 구두점(온점, 느낌표, 물음표, 쉼표 등)을 토큰화하기도 함.\n",
        "\n",
        "---\n",
        "\n",
        "\n"
      ],
      "metadata": {
        "id": "lFTh20mSqEOI"
      }
    },
    {
      "cell_type": "markdown",
      "source": [
        "정제/정규화 : 토큰화 전/후 에 하는 작업\n",
        "\n",
        "---\n",
        "\n"
      ],
      "metadata": {
        "id": "bnF03McfpxXL"
      }
    },
    {
      "cell_type": "markdown",
      "source": [
        "정제(노이즈/불용어 제거) : 데이터에서 큰 의미가 없는 단어 제거.\n",
        "\n",
        "음, 뭐, 아\n",
        "\n",
        "등장 빈도가 적은 데이터, 의미가 없는 특수문자 등\n",
        "\n",
        "---\n",
        "\n"
      ],
      "metadata": {
        "id": "mPxszAcIqzMQ"
      }
    },
    {
      "cell_type": "markdown",
      "source": [
        "정규화(Nomalization) : 표현 방법이 다른 단어들을 통합 시킴\n",
        "\n",
        "uh-huh 와 uhhuh는 형태는 다르지만 같다. 통일 시켜줄 필요가 있다.\n",
        "\n",
        "대부분의 글은 소문자로 작성되어있다. 불필요하게 대문자를 섞기보단 분석하기 용이하게 전부 소문자로 변환하는게 좋다.\n",
        "\n",
        "---\n",
        "\n"
      ],
      "metadata": {
        "id": "KH_RGJuYqoJL"
      }
    },
    {
      "cell_type": "markdown",
      "source": [
        "음소 : 자음 or 모음\n",
        "\n",
        "음운론 상의 최소 단위\n",
        "\n",
        "---\n",
        "\n"
      ],
      "metadata": {
        "id": "jJtMtuNtqzHy"
      }
    },
    {
      "cell_type": "markdown",
      "source": [
        "음절 : 말하는 사람, 듣는 사람이 한 뭉치로 생각하는 발화의 단위.\n",
        "\n",
        "한 글자\n",
        "\n",
        "---\n",
        "\n"
      ],
      "metadata": {
        "id": "S1zyICKuqzC3"
      }
    },
    {
      "cell_type": "markdown",
      "source": [
        "어절 : 띄어쓰기 단위\n",
        "\n",
        "---\n",
        "\n"
      ],
      "metadata": {
        "id": "TaVtx65ksepI"
      }
    },
    {
      "cell_type": "markdown",
      "source": [
        "★ 형태소 : 의미가 있는 가장 작은 단위\n",
        "\n",
        "아버지/가/방/에/들어가/신다\n",
        "\n",
        "---\n",
        "\n",
        "\n",
        "\n"
      ],
      "metadata": {
        "id": "fvLhOj1tqy3_"
      }
    },
    {
      "cell_type": "markdown",
      "source": [
        "낱말(단어) : 자립성이 있는 최소 단위\n",
        "\n",
        "아버지가/방에/들어가신다\n",
        "\n",
        "---\n",
        "\n"
      ],
      "metadata": {
        "id": "HVG-iqQAsRvC"
      }
    },
    {
      "cell_type": "markdown",
      "source": [
        "한국어 단어 토큰화 = 형태소 분석\n",
        "\n",
        "자립 형태소 : 체언(명사, 대명사, 수사), 수식언(관형사, 부사), 감탄사 등 조사나 어미 없이 단어 자체를 사용.\n",
        "\n",
        "예) 강 물 매우 주먹 밥\n",
        "\n",
        "의존 형태소 : 접사, 어미, 조사, 어간처럼 다른 형태소와 결합해 사용\n",
        "\n",
        "예) -을, -가, -는, -은\n",
        "\n",
        "뒤에 자세히 나오지만 한국어는 분석이 매우 어려운 편!\n",
        "\n",
        "---\n",
        "\n"
      ],
      "metadata": {
        "id": "-6bafLQGua5I"
      }
    },
    {
      "cell_type": "markdown",
      "source": [
        "한국어 전처리&분석 관련 패키지가 아래처럼 다양하게 많으니까 너무 걱정은 말자.\n",
        "\n",
        "아래 것들이 있다고 정도만 참고.\n",
        "\n",
        ". KoNLPy : 다양한 형태소 분석기를 제공하는 파이썬 패키지.Okt(Open Korea Text), Hannanum, Kkma, Komoran, Mecab 등 포함 됨.\n",
        "\n",
        ". Okt : 트위터분석기라는 이름으로 진행되었던 프로젝트가 fork되어 진행되는 것으로 기본 베이스는 트위터 분석기\n",
        "\n",
        ". Hannanum : KAIST에서 개발한 형태소 분석기\n",
        "\n",
        ". Mecab : 일본어 형태소 분석기를 한국에 맞게 수정한 버전.\n",
        "\n",
        ". Komoran : Java로 작성된 형태소 분석기,\n",
        "\n",
        ". Soynlp : 비지도 학습을 기반으로 하는 한국어 전용 토큰화 도구. 데이터 내에서 자주 등장하는 단어를 기반으로 하는 토큰화를 수행.\n",
        "\n",
        ". Kkma : 서울대학교에서 만든 분석기, 성능은 좋으나 속도면에서 단점이 있다.\n",
        "\n",
        ". Khaiii : 카카오에서 개발한 형태소 분석기. 딥러닝 기반으로 정확도가 높음.\n",
        "\n",
        ". KSS(Korean Sentence Splitter) : 한국어 문장 분리를 위한 도구. 문장의 경계를 잘 인식하여 텍스트를 문장 단위로 나누는데 유용.\n",
        "\n",
        ". ETRI : 한국전자통신연구원에서 개발한 한국어 처리 API. 형태소 분석, 개체명 인식, 의존 구문분석 등 다양한 기능을 제공. 인터넷 연결이 필요.\n",
        "\n",
        ". Pororo : 카카오브레인에서 만든 한글 자연어처리 라이브러리.\n",
        "\n",
        ". KoBERT : 한국어 정보 처리를 위해 특별히 훈련된 BERT 모델. 토큰화 기능 외에도 한국어 텍스트의 이해와 생성 작업에 탁원한 성능을 보임.\n",
        "\n",
        ". Kiwi : 다양한 자연어 처리 기능을 제공. 형태소 분석, 품사 태깅 등 지원.\n",
        "\n",
        ". KoGPT-2 : 한국어 생성 모델, 자연어 이해 및 생성 작업에 사용됨. 대화 생성, 문장 완성 등의 작업에 적합.\n",
        "\n",
        "---\n",
        "\n"
      ],
      "metadata": {
        "id": "xCdjvAWpY8xQ"
      }
    },
    {
      "cell_type": "markdown",
      "source": [
        "정규화 : 형태는 다르지만 같은 의미를 가진 단어를 하나로 통일시켜주는 작업\n",
        "\n",
        "중복된 단어를 하나로 통합하여 데이터를 줄임.\n",
        "\n",
        "Apple, apple -> apple (소문자로 통일 시켜줌)\n",
        "\n",
        "going, goes -> go\n",
        "\n",
        "갔다, 갔었다 -> 가다\n",
        "\n",
        "어간 추출, 표제어 추출 로 가능.\n",
        "\n",
        "---\n"
      ],
      "metadata": {
        "id": "Owe1Zd4xuaxy"
      }
    },
    {
      "cell_type": "markdown",
      "source": [
        "어간(Stem) :\n",
        "\n",
        "가다, 간다, 갔다, 갔었다, 갈 것이다 -> 가\n",
        "go, goes, going -> go\n",
        "\n",
        "NLTP 패키지의 어간 추출기 : PoterStemmer, LancasterStemmer\n",
        "\n",
        "---\n",
        "\n"
      ],
      "metadata": {
        "id": "CMs6S2pNuav0"
      }
    },
    {
      "cell_type": "markdown",
      "source": [
        "표제어(Lemmatization) : 단어의 기본형\n",
        "\n",
        "goes -> go\n",
        "\n",
        "has -> have\n",
        "\n",
        "가다,간다,갔다,갔었다,갈 것이다 ->  가다\n",
        "\n",
        "NLTP 패키지의 표제어 추출기 : WordNetLemmatizer\n",
        "\n",
        "---"
      ],
      "metadata": {
        "id": "y0Ce3f7Uuat4"
      }
    },
    {
      "cell_type": "markdown",
      "source": [
        "품사(pos): 기능, 형태, 의미에 따라 단어를 구분\n",
        "\n",
        "한글 품사 : 명사, 대명사, 수사, 동사, 형용사, 관형사, 부사, 감탄사, 조사\n",
        "\n",
        "NLTP 품사 : NOUN, PRON, NUM, VERB, ADJ, DET, ADV, PRT, CONJ, ADP\n",
        "\n",
        "언어학자 또는 연구자에 따라 품사 종류가 다르다.\n",
        "\n",
        "---\n"
      ],
      "metadata": {
        "id": "D34DrgNyuar2"
      }
    },
    {
      "cell_type": "markdown",
      "source": [
        "품사 태깅 : 단어 또는 형태소에 품사를 붙이는 작업\n",
        "\n",
        "NLTK 에서는 pos_tag() 함수를 지원함.\n",
        "\n",
        "---"
      ],
      "metadata": {
        "id": "wLJ_teSQuap6"
      }
    },
    {
      "cell_type": "markdown",
      "source": [
        "벡터화(Vectorize) : 텍스트를 컴퓨터가 이해할 수 있도록 벡터로 만들어주는 것, 텍스트 입력을 수치 표현으로 변환하는 것.\n",
        "\n",
        "벡터화에는 다양한 방식이 존재하는데 그중 기본적으로 아래 것들이 있다.\n",
        "\n",
        "BoW(Bag-of-Words), DTM(Document-Term Matrix) ,TF-IDF(Term Frequency-Inverse Document Frequency), Word Embedding\n",
        "\n",
        "벡터화를 알기 위해선 원-핫 인코딩, 희소표현 이란 개념을 알고가면 좋다.\n",
        "\n",
        "---\n"
      ],
      "metadata": {
        "id": "UknKYGgSuaoL"
      }
    },
    {
      "cell_type": "markdown",
      "source": [
        "원-핫 인코딩 : 사과 배 수박 가 있다면.\n",
        "\n",
        "사과 [ 1, 0, 0]\n",
        "배 [0, 1, 0]\n",
        "수박 [0, 0, 1]\n",
        "\n",
        "---\n",
        "\n",
        "이렇게 되면 되면 적은 단어나 문장을 원-핫 인코딩 하기엔 좋지만.. 문장이 길어지거나 단어가 많아진걸 원-핫 인코딩 하면 0이 무수히 많아진다.\n",
        "\n",
        "단어 10,000개 가 있다고 한다면..\n",
        "\n",
        "사과 [0,0,0,0,0,0, ....0,1]\n",
        "이런걸 '희소'라고 한다.\n",
        "\n",
        "이렇게 표현하면 데이터관리가 힘들어진다. 이 걸 희소표현(Sparse Matrix) 문제라고 한다.\n",
        "\n",
        "---\n",
        "\n",
        "\n"
      ],
      "metadata": {
        "id": "j3bs4c8DGUg8"
      }
    },
    {
      "cell_type": "markdown",
      "source": [
        "BoW : 단어의 등장 순서는 고려하지 않고, 단어들의 출현 빈도에만 집중하는 텍스트 데이터의 수치화 표현 방법.\n",
        "\n",
        "---"
      ],
      "metadata": {
        "id": "vWjzQcM7uakO"
      }
    },
    {
      "cell_type": "markdown",
      "source": [
        "DTM : 다수의 문서에서 등장하는 각 단어들의 빈도를 행렬로 표현한 것.\n",
        "\n",
        "---"
      ],
      "metadata": {
        "id": "0iuZL5viBrgq"
      }
    },
    {
      "cell_type": "markdown",
      "source": [
        "TF-IDF : 전체 코퍼스와 비교하여 문서에 있는 각 단어의 중요치 계산.\n",
        "\n",
        "문서 내 단어의 빈도수가 높더라도 다른 문서에서도 많이 등장하는 단어라면 TF-IDF 값은 낮게 나옴.\n",
        "\n",
        "문서 내 단어의 빈도수가 높은 단어들 가운데, 다른 문서에서는 잘 등장하지 않는 단어의 TF-IDF 값이 높게 나옴.\n",
        "\n",
        "---"
      ],
      "metadata": {
        "id": "wVIgYcK4uamE"
      }
    },
    {
      "cell_type": "markdown",
      "source": [
        "Word Embedding : 희소표현 문제를 개선하여 나온 것.\n",
        "\n",
        "대표적으로 word2vec, GloVe 등이 있다.\n",
        "\n",
        "희소표현 대신 밀집표현(Dense Matrix)을 하며. 값은 실수가 된다. 단어의 관계 학습이 필요한 방식이다.\n",
        "\n",
        "자세한건 뒤에.. 실습 쪽에서 보여줌.\n",
        "\n",
        "---\n",
        "\n"
      ],
      "metadata": {
        "id": "f01ihOt5uaXd"
      }
    },
    {
      "cell_type": "markdown",
      "source": [
        "N-gram : n개의 연속된 단어를 새로운 하나의 단어로 정의\n",
        "\n",
        "2개의 단어를 하나로 묶으면 2-gram (=bi-gram)\n",
        "\n",
        "3개의 단어를 하나로 묶으면 3-gram (=tri-gram)\n",
        "\n",
        "그 이상의 단어를 하나로 묶으면 :벡터 크기가 커지고 희소문제가 생길 수 있어서 2~3 정도만 사용한다.\n",
        "\n",
        "N-gram 목적 : 단어들의 순서를 고려할 수 있게 하기 위한 방법이다. 완벽하진 않지만, 부분적으로 단어의 순서 정보를 반영하여 분석할 수 있다.\n",
        "\n",
        "---\n",
        "\n"
      ],
      "metadata": {
        "id": "mN6l0kEaJkCV"
      }
    },
    {
      "cell_type": "markdown",
      "source": [
        "# 텍스트 전처리 실습"
      ],
      "metadata": {
        "id": "lVYdM8ZvLCg2"
      }
    },
    {
      "cell_type": "markdown",
      "source": [
        "텍스트마이닝 과정은\n",
        "\n",
        "텍스트데이터수집 -> 텍스트 전처리 -> 분석 -> 결과\n",
        "\n",
        "텍스트데이터가 있다고 가정하고 그 다음 단계인 텍스트 전처리(가공)부터 알아보겠다.\n",
        "\n",
        "참고로 텍스트 전처리는 다양한 방법이 있으니 각각 천천히 알아보자."
      ],
      "metadata": {
        "id": "PtEev2UrNy8X"
      }
    },
    {
      "cell_type": "markdown",
      "source": [
        "토큰화 실습\n",
        "\n",
        "토큰화에 사용해볼 패키지 : spaCy\n",
        "\n",
        "spaCy : 고급 자연어를 위한 다양한 패키지 中 하나!! (굉장히 많은 패키지가 있음)\n",
        "\n",
        "spaCy의 자세한 정보 : https://spacy.io\n",
        "\n",
        "spaCy로 실습 해보는 이유 : 서론에서 나온 토큰화, 품사태깅, 표제어처리 기능이 있어서 한 번 사용해보려고. (작성한 기능 외에도 다양한 기능을 제공함.)"
      ],
      "metadata": {
        "id": "bo0qGl3nLElu"
      }
    },
    {
      "cell_type": "code",
      "source": [
        "# 텍스트 전처리 실습에 필요한 패키지(spaCy) 설치 방법\n",
        "# 코랩은 리눅스 환경이다. 때문에 커맨드 맨 앞에 '!'를 붙이면 리눅스 커맨드라고 명시하는 것 임.\n",
        "!pip install spacy\n",
        "# 즉, pip install 명령라인으로 spacy를 설치하라는 것."
      ],
      "metadata": {
        "id": "BcAtJGojpA1J",
        "colab": {
          "base_uri": "https://localhost:8080/"
        },
        "outputId": "ef36bb4d-c8d4-4572-bd8e-5f5a174a8a92"
      },
      "execution_count": 44,
      "outputs": [
        {
          "output_type": "stream",
          "name": "stdout",
          "text": [
            "Requirement already satisfied: spacy in /usr/local/lib/python3.10/dist-packages (3.7.4)\n",
            "Requirement already satisfied: spacy-legacy<3.1.0,>=3.0.11 in /usr/local/lib/python3.10/dist-packages (from spacy) (3.0.12)\n",
            "Requirement already satisfied: spacy-loggers<2.0.0,>=1.0.0 in /usr/local/lib/python3.10/dist-packages (from spacy) (1.0.5)\n",
            "Requirement already satisfied: murmurhash<1.1.0,>=0.28.0 in /usr/local/lib/python3.10/dist-packages (from spacy) (1.0.10)\n",
            "Requirement already satisfied: cymem<2.1.0,>=2.0.2 in /usr/local/lib/python3.10/dist-packages (from spacy) (2.0.8)\n",
            "Requirement already satisfied: preshed<3.1.0,>=3.0.2 in /usr/local/lib/python3.10/dist-packages (from spacy) (3.0.9)\n",
            "Requirement already satisfied: thinc<8.3.0,>=8.2.2 in /usr/local/lib/python3.10/dist-packages (from spacy) (8.2.3)\n",
            "Requirement already satisfied: wasabi<1.2.0,>=0.9.1 in /usr/local/lib/python3.10/dist-packages (from spacy) (1.1.2)\n",
            "Requirement already satisfied: srsly<3.0.0,>=2.4.3 in /usr/local/lib/python3.10/dist-packages (from spacy) (2.4.8)\n",
            "Requirement already satisfied: catalogue<2.1.0,>=2.0.6 in /usr/local/lib/python3.10/dist-packages (from spacy) (2.0.10)\n",
            "Requirement already satisfied: weasel<0.4.0,>=0.1.0 in /usr/local/lib/python3.10/dist-packages (from spacy) (0.3.4)\n",
            "Requirement already satisfied: typer<0.10.0,>=0.3.0 in /usr/local/lib/python3.10/dist-packages (from spacy) (0.9.4)\n",
            "Requirement already satisfied: smart-open<7.0.0,>=5.2.1 in /usr/local/lib/python3.10/dist-packages (from spacy) (6.4.0)\n",
            "Requirement already satisfied: tqdm<5.0.0,>=4.38.0 in /usr/local/lib/python3.10/dist-packages (from spacy) (4.66.2)\n",
            "Requirement already satisfied: requests<3.0.0,>=2.13.0 in /usr/local/lib/python3.10/dist-packages (from spacy) (2.31.0)\n",
            "Requirement already satisfied: pydantic!=1.8,!=1.8.1,<3.0.0,>=1.7.4 in /usr/local/lib/python3.10/dist-packages (from spacy) (2.6.4)\n",
            "Requirement already satisfied: jinja2 in /usr/local/lib/python3.10/dist-packages (from spacy) (3.1.3)\n",
            "Requirement already satisfied: setuptools in /usr/local/lib/python3.10/dist-packages (from spacy) (67.7.2)\n",
            "Requirement already satisfied: packaging>=20.0 in /usr/local/lib/python3.10/dist-packages (from spacy) (24.0)\n",
            "Requirement already satisfied: langcodes<4.0.0,>=3.2.0 in /usr/local/lib/python3.10/dist-packages (from spacy) (3.3.0)\n",
            "Requirement already satisfied: numpy>=1.19.0 in /usr/local/lib/python3.10/dist-packages (from spacy) (1.25.2)\n",
            "Requirement already satisfied: annotated-types>=0.4.0 in /usr/local/lib/python3.10/dist-packages (from pydantic!=1.8,!=1.8.1,<3.0.0,>=1.7.4->spacy) (0.6.0)\n",
            "Requirement already satisfied: pydantic-core==2.16.3 in /usr/local/lib/python3.10/dist-packages (from pydantic!=1.8,!=1.8.1,<3.0.0,>=1.7.4->spacy) (2.16.3)\n",
            "Requirement already satisfied: typing-extensions>=4.6.1 in /usr/local/lib/python3.10/dist-packages (from pydantic!=1.8,!=1.8.1,<3.0.0,>=1.7.4->spacy) (4.10.0)\n",
            "Requirement already satisfied: charset-normalizer<4,>=2 in /usr/local/lib/python3.10/dist-packages (from requests<3.0.0,>=2.13.0->spacy) (3.3.2)\n",
            "Requirement already satisfied: idna<4,>=2.5 in /usr/local/lib/python3.10/dist-packages (from requests<3.0.0,>=2.13.0->spacy) (3.6)\n",
            "Requirement already satisfied: urllib3<3,>=1.21.1 in /usr/local/lib/python3.10/dist-packages (from requests<3.0.0,>=2.13.0->spacy) (2.0.7)\n",
            "Requirement already satisfied: certifi>=2017.4.17 in /usr/local/lib/python3.10/dist-packages (from requests<3.0.0,>=2.13.0->spacy) (2024.2.2)\n",
            "Requirement already satisfied: blis<0.8.0,>=0.7.8 in /usr/local/lib/python3.10/dist-packages (from thinc<8.3.0,>=8.2.2->spacy) (0.7.11)\n",
            "Requirement already satisfied: confection<1.0.0,>=0.0.1 in /usr/local/lib/python3.10/dist-packages (from thinc<8.3.0,>=8.2.2->spacy) (0.1.4)\n",
            "Requirement already satisfied: click<9.0.0,>=7.1.1 in /usr/local/lib/python3.10/dist-packages (from typer<0.10.0,>=0.3.0->spacy) (8.1.7)\n",
            "Requirement already satisfied: cloudpathlib<0.17.0,>=0.7.0 in /usr/local/lib/python3.10/dist-packages (from weasel<0.4.0,>=0.1.0->spacy) (0.16.0)\n",
            "Requirement already satisfied: MarkupSafe>=2.0 in /usr/local/lib/python3.10/dist-packages (from jinja2->spacy) (2.1.5)\n"
          ]
        }
      ]
    },
    {
      "cell_type": "code",
      "source": [
        "# 패키지 설치 완료 확인\n",
        "!pip show spacy"
      ],
      "metadata": {
        "id": "VRwCbwlc4TnQ",
        "colab": {
          "base_uri": "https://localhost:8080/"
        },
        "outputId": "eefa4d99-2b20-4b4e-ee70-6dbca265eb61"
      },
      "execution_count": 45,
      "outputs": [
        {
          "output_type": "stream",
          "name": "stdout",
          "text": [
            "Name: spacy\n",
            "Version: 3.7.4\n",
            "Summary: Industrial-strength Natural Language Processing (NLP) in Python\n",
            "Home-page: https://spacy.io\n",
            "Author: Explosion\n",
            "Author-email: contact@explosion.ai\n",
            "License: MIT\n",
            "Location: /usr/local/lib/python3.10/dist-packages\n",
            "Requires: catalogue, cymem, jinja2, langcodes, murmurhash, numpy, packaging, preshed, pydantic, requests, setuptools, smart-open, spacy-legacy, spacy-loggers, srsly, thinc, tqdm, typer, wasabi, weasel\n",
            "Required-by: en-core-web-sm, fastai\n"
          ]
        }
      ]
    },
    {
      "cell_type": "code",
      "source": [
        "# spacy 패키지에서 제공하는 토큰화에 필요한 도구 다운로드\n",
        "# 아래 명령라인은 도구를 다운로드하는 코드일 뿐! 그냥 따라 치면 다운 받아짐.\n",
        "!python -m spacy download en_core_web_sm"
      ],
      "metadata": {
        "id": "zkpAzsyG48H_",
        "colab": {
          "base_uri": "https://localhost:8080/"
        },
        "outputId": "72550964-83af-41dd-872c-3fb9feb6ec8c"
      },
      "execution_count": 46,
      "outputs": [
        {
          "output_type": "stream",
          "name": "stdout",
          "text": [
            "Collecting en-core-web-sm==3.7.1\n",
            "  Downloading https://github.com/explosion/spacy-models/releases/download/en_core_web_sm-3.7.1/en_core_web_sm-3.7.1-py3-none-any.whl (12.8 MB)\n",
            "\u001b[2K     \u001b[90m━━━━━━━━━━━━━━━━━━━━━━━━━━━━━━━━━━━━━━━━\u001b[0m \u001b[32m12.8/12.8 MB\u001b[0m \u001b[31m15.2 MB/s\u001b[0m eta \u001b[36m0:00:00\u001b[0m\n",
            "\u001b[?25hRequirement already satisfied: spacy<3.8.0,>=3.7.2 in /usr/local/lib/python3.10/dist-packages (from en-core-web-sm==3.7.1) (3.7.4)\n",
            "Requirement already satisfied: spacy-legacy<3.1.0,>=3.0.11 in /usr/local/lib/python3.10/dist-packages (from spacy<3.8.0,>=3.7.2->en-core-web-sm==3.7.1) (3.0.12)\n",
            "Requirement already satisfied: spacy-loggers<2.0.0,>=1.0.0 in /usr/local/lib/python3.10/dist-packages (from spacy<3.8.0,>=3.7.2->en-core-web-sm==3.7.1) (1.0.5)\n",
            "Requirement already satisfied: murmurhash<1.1.0,>=0.28.0 in /usr/local/lib/python3.10/dist-packages (from spacy<3.8.0,>=3.7.2->en-core-web-sm==3.7.1) (1.0.10)\n",
            "Requirement already satisfied: cymem<2.1.0,>=2.0.2 in /usr/local/lib/python3.10/dist-packages (from spacy<3.8.0,>=3.7.2->en-core-web-sm==3.7.1) (2.0.8)\n",
            "Requirement already satisfied: preshed<3.1.0,>=3.0.2 in /usr/local/lib/python3.10/dist-packages (from spacy<3.8.0,>=3.7.2->en-core-web-sm==3.7.1) (3.0.9)\n",
            "Requirement already satisfied: thinc<8.3.0,>=8.2.2 in /usr/local/lib/python3.10/dist-packages (from spacy<3.8.0,>=3.7.2->en-core-web-sm==3.7.1) (8.2.3)\n",
            "Requirement already satisfied: wasabi<1.2.0,>=0.9.1 in /usr/local/lib/python3.10/dist-packages (from spacy<3.8.0,>=3.7.2->en-core-web-sm==3.7.1) (1.1.2)\n",
            "Requirement already satisfied: srsly<3.0.0,>=2.4.3 in /usr/local/lib/python3.10/dist-packages (from spacy<3.8.0,>=3.7.2->en-core-web-sm==3.7.1) (2.4.8)\n",
            "Requirement already satisfied: catalogue<2.1.0,>=2.0.6 in /usr/local/lib/python3.10/dist-packages (from spacy<3.8.0,>=3.7.2->en-core-web-sm==3.7.1) (2.0.10)\n",
            "Requirement already satisfied: weasel<0.4.0,>=0.1.0 in /usr/local/lib/python3.10/dist-packages (from spacy<3.8.0,>=3.7.2->en-core-web-sm==3.7.1) (0.3.4)\n",
            "Requirement already satisfied: typer<0.10.0,>=0.3.0 in /usr/local/lib/python3.10/dist-packages (from spacy<3.8.0,>=3.7.2->en-core-web-sm==3.7.1) (0.9.4)\n",
            "Requirement already satisfied: smart-open<7.0.0,>=5.2.1 in /usr/local/lib/python3.10/dist-packages (from spacy<3.8.0,>=3.7.2->en-core-web-sm==3.7.1) (6.4.0)\n",
            "Requirement already satisfied: tqdm<5.0.0,>=4.38.0 in /usr/local/lib/python3.10/dist-packages (from spacy<3.8.0,>=3.7.2->en-core-web-sm==3.7.1) (4.66.2)\n",
            "Requirement already satisfied: requests<3.0.0,>=2.13.0 in /usr/local/lib/python3.10/dist-packages (from spacy<3.8.0,>=3.7.2->en-core-web-sm==3.7.1) (2.31.0)\n",
            "Requirement already satisfied: pydantic!=1.8,!=1.8.1,<3.0.0,>=1.7.4 in /usr/local/lib/python3.10/dist-packages (from spacy<3.8.0,>=3.7.2->en-core-web-sm==3.7.1) (2.6.4)\n",
            "Requirement already satisfied: jinja2 in /usr/local/lib/python3.10/dist-packages (from spacy<3.8.0,>=3.7.2->en-core-web-sm==3.7.1) (3.1.3)\n",
            "Requirement already satisfied: setuptools in /usr/local/lib/python3.10/dist-packages (from spacy<3.8.0,>=3.7.2->en-core-web-sm==3.7.1) (67.7.2)\n",
            "Requirement already satisfied: packaging>=20.0 in /usr/local/lib/python3.10/dist-packages (from spacy<3.8.0,>=3.7.2->en-core-web-sm==3.7.1) (24.0)\n",
            "Requirement already satisfied: langcodes<4.0.0,>=3.2.0 in /usr/local/lib/python3.10/dist-packages (from spacy<3.8.0,>=3.7.2->en-core-web-sm==3.7.1) (3.3.0)\n",
            "Requirement already satisfied: numpy>=1.19.0 in /usr/local/lib/python3.10/dist-packages (from spacy<3.8.0,>=3.7.2->en-core-web-sm==3.7.1) (1.25.2)\n",
            "Requirement already satisfied: annotated-types>=0.4.0 in /usr/local/lib/python3.10/dist-packages (from pydantic!=1.8,!=1.8.1,<3.0.0,>=1.7.4->spacy<3.8.0,>=3.7.2->en-core-web-sm==3.7.1) (0.6.0)\n",
            "Requirement already satisfied: pydantic-core==2.16.3 in /usr/local/lib/python3.10/dist-packages (from pydantic!=1.8,!=1.8.1,<3.0.0,>=1.7.4->spacy<3.8.0,>=3.7.2->en-core-web-sm==3.7.1) (2.16.3)\n",
            "Requirement already satisfied: typing-extensions>=4.6.1 in /usr/local/lib/python3.10/dist-packages (from pydantic!=1.8,!=1.8.1,<3.0.0,>=1.7.4->spacy<3.8.0,>=3.7.2->en-core-web-sm==3.7.1) (4.10.0)\n",
            "Requirement already satisfied: charset-normalizer<4,>=2 in /usr/local/lib/python3.10/dist-packages (from requests<3.0.0,>=2.13.0->spacy<3.8.0,>=3.7.2->en-core-web-sm==3.7.1) (3.3.2)\n",
            "Requirement already satisfied: idna<4,>=2.5 in /usr/local/lib/python3.10/dist-packages (from requests<3.0.0,>=2.13.0->spacy<3.8.0,>=3.7.2->en-core-web-sm==3.7.1) (3.6)\n",
            "Requirement already satisfied: urllib3<3,>=1.21.1 in /usr/local/lib/python3.10/dist-packages (from requests<3.0.0,>=2.13.0->spacy<3.8.0,>=3.7.2->en-core-web-sm==3.7.1) (2.0.7)\n",
            "Requirement already satisfied: certifi>=2017.4.17 in /usr/local/lib/python3.10/dist-packages (from requests<3.0.0,>=2.13.0->spacy<3.8.0,>=3.7.2->en-core-web-sm==3.7.1) (2024.2.2)\n",
            "Requirement already satisfied: blis<0.8.0,>=0.7.8 in /usr/local/lib/python3.10/dist-packages (from thinc<8.3.0,>=8.2.2->spacy<3.8.0,>=3.7.2->en-core-web-sm==3.7.1) (0.7.11)\n",
            "Requirement already satisfied: confection<1.0.0,>=0.0.1 in /usr/local/lib/python3.10/dist-packages (from thinc<8.3.0,>=8.2.2->spacy<3.8.0,>=3.7.2->en-core-web-sm==3.7.1) (0.1.4)\n",
            "Requirement already satisfied: click<9.0.0,>=7.1.1 in /usr/local/lib/python3.10/dist-packages (from typer<0.10.0,>=0.3.0->spacy<3.8.0,>=3.7.2->en-core-web-sm==3.7.1) (8.1.7)\n",
            "Requirement already satisfied: cloudpathlib<0.17.0,>=0.7.0 in /usr/local/lib/python3.10/dist-packages (from weasel<0.4.0,>=0.1.0->spacy<3.8.0,>=3.7.2->en-core-web-sm==3.7.1) (0.16.0)\n",
            "Requirement already satisfied: MarkupSafe>=2.0 in /usr/local/lib/python3.10/dist-packages (from jinja2->spacy<3.8.0,>=3.7.2->en-core-web-sm==3.7.1) (2.1.5)\n",
            "\u001b[38;5;2m✔ Download and installation successful\u001b[0m\n",
            "You can now load the package via spacy.load('en_core_web_sm')\n",
            "\u001b[38;5;3m⚠ Restart to reload dependencies\u001b[0m\n",
            "If you are in a Jupyter or Colab notebook, you may need to restart Python in\n",
            "order to load all the package's dependencies. You can do this by selecting the\n",
            "'Restart kernel' or 'Restart runtime' option.\n"
          ]
        }
      ]
    },
    {
      "cell_type": "code",
      "source": [
        "# 토큰화에 필요한 도구 불러온다.\n",
        "import spacy\n",
        "spacy_en = spacy.load(\"en_core_web_sm\")"
      ],
      "metadata": {
        "id": "bluo2weN5lFm"
      },
      "execution_count": 47,
      "outputs": []
    },
    {
      "cell_type": "code",
      "source": [
        "# 토큰화 해 볼 문장을 적어보자\n",
        "text = \"David's book wasn't famous, but his family loved his book\""
      ],
      "metadata": {
        "id": "3Q67ywqD6AUm"
      },
      "execution_count": 48,
      "outputs": []
    },
    {
      "cell_type": "code",
      "source": [
        "# 토큰화 도구로 토큰화 해보고 토큰된 단어를 출력해보자\n",
        "for token in spacy_en.tokenizer(text): # .tokenizer 단어 토큰화\n",
        "    print(token)\n",
        "# 출력된 print를 보고 문장의 단어가 어떻게 토큰화가 되었는지 본다.\n",
        "# spacy의 en_core_web_sm 토큰화는 출력처럼 나오지만, 또 다른 다양한 언어처리 패키지의 다양한 토큰 도구들은 각각 다른 방식으로 토큰화 한다는 점 기억하자."
      ],
      "metadata": {
        "id": "zkzFm7YQ6g44",
        "colab": {
          "base_uri": "https://localhost:8080/"
        },
        "outputId": "a01b76b2-10e3-45f6-8082-86b1e0de3545"
      },
      "execution_count": 49,
      "outputs": [
        {
          "output_type": "stream",
          "name": "stdout",
          "text": [
            "David\n",
            "'s\n",
            "book\n",
            "was\n",
            "n't\n",
            "famous\n",
            ",\n",
            "but\n",
            "his\n",
            "family\n",
            "loved\n",
            "his\n",
            "book\n"
          ]
        }
      ]
    },
    {
      "cell_type": "markdown",
      "source": [
        "\n",
        "\n",
        "---\n",
        "\n"
      ],
      "metadata": {
        "id": "g2ad3OTU7iqq"
      }
    },
    {
      "cell_type": "markdown",
      "source": [
        "텍스트 품사 태깅 및 표제어 추출 실습\n",
        "\n",
        "토큰화에 사용해볼 패키지 : spaCy\n",
        "\n",
        "사용하는 이유 : 앞에 사용한 spaCy에도 품사태깅, 표제어추출 도구가 있어서 써보기."
      ],
      "metadata": {
        "id": "6HHR2xfv7kbq"
      }
    },
    {
      "cell_type": "code",
      "source": [
        "for token in spacy_en(text):\n",
        "    print(\"토큰 / 품사 / 세분화 된 품사 / 표제어\")\n",
        "    print(f\" {token.text} / {token.pos_} / {token.tag_} / {token.lemma_}\")\n",
        "    print(\"\\n\")"
      ],
      "metadata": {
        "id": "T5hQFRrf6yM5",
        "colab": {
          "base_uri": "https://localhost:8080/"
        },
        "outputId": "dd2c1fd0-23e8-4774-8985-eb07b783acab"
      },
      "execution_count": 50,
      "outputs": [
        {
          "output_type": "stream",
          "name": "stdout",
          "text": [
            "토큰 / 품사 / 세분화 된 품사 / 표제어\n",
            " David / PROPN / NNP / David\n",
            "\n",
            "\n",
            "토큰 / 품사 / 세분화 된 품사 / 표제어\n",
            " 's / PART / POS / 's\n",
            "\n",
            "\n",
            "토큰 / 품사 / 세분화 된 품사 / 표제어\n",
            " book / NOUN / NN / book\n",
            "\n",
            "\n",
            "토큰 / 품사 / 세분화 된 품사 / 표제어\n",
            " was / AUX / VBD / be\n",
            "\n",
            "\n",
            "토큰 / 품사 / 세분화 된 품사 / 표제어\n",
            " n't / PART / RB / not\n",
            "\n",
            "\n",
            "토큰 / 품사 / 세분화 된 품사 / 표제어\n",
            " famous / ADJ / JJ / famous\n",
            "\n",
            "\n",
            "토큰 / 품사 / 세분화 된 품사 / 표제어\n",
            " , / PUNCT / , / ,\n",
            "\n",
            "\n",
            "토큰 / 품사 / 세분화 된 품사 / 표제어\n",
            " but / CCONJ / CC / but\n",
            "\n",
            "\n",
            "토큰 / 품사 / 세분화 된 품사 / 표제어\n",
            " his / PRON / PRP$ / his\n",
            "\n",
            "\n",
            "토큰 / 품사 / 세분화 된 품사 / 표제어\n",
            " family / NOUN / NN / family\n",
            "\n",
            "\n",
            "토큰 / 품사 / 세분화 된 품사 / 표제어\n",
            " loved / VERB / VBD / love\n",
            "\n",
            "\n",
            "토큰 / 품사 / 세분화 된 품사 / 표제어\n",
            " his / PRON / PRP$ / his\n",
            "\n",
            "\n",
            "토큰 / 품사 / 세분화 된 품사 / 표제어\n",
            " book / NOUN / NN / book\n",
            "\n",
            "\n"
          ]
        }
      ]
    },
    {
      "cell_type": "markdown",
      "source": [
        "\n",
        "\n",
        "---\n",
        "\n"
      ],
      "metadata": {
        "id": "r6PqSmDL_m1_"
      }
    },
    {
      "cell_type": "markdown",
      "source": [
        "불용어 처리 실습\n",
        "\n",
        "실습에 사용할 패키지 : spaCy\n",
        "\n",
        "사용한 이유 : 패키지 spaCy는 불용어 사전이 미리 만들어져 있으니 한번 연습삼아 써보기"
      ],
      "metadata": {
        "id": "YvFxD_OB_oX6"
      }
    },
    {
      "cell_type": "code",
      "source": [
        "#우선 spacy가 제공하는 불용어 사전을 불러오자\n",
        "spacy_stop_words = spacy.lang.en.stop_words.STOP_WORDS\n",
        "\n",
        "# 불러온 불용어 사전에서 어떤것들이 있는지 5개만 확인해보자\n",
        "temp_stop_words = [] #임시 불용어 사전\n",
        "for i, stop_word in enumerate(spacy_stop_words): #enumerate는 인덱스를 부여하는 것임 테스트 편의상 써봄\n",
        "    if i == 5 :break\n",
        "    print(stop_word)\n",
        "    temp_stop_words.append(stop_word) # 지금 확인된 불용어는 regarding nobody below over am 이렇게 5가지를 확인했다.. 분명 더 많겠지만! 이것만 임시 불용어 사전에 담아보자"
      ],
      "metadata": {
        "id": "GKxBsZXT8yJz",
        "colab": {
          "base_uri": "https://localhost:8080/"
        },
        "outputId": "8f948173-3b32-40c2-fe29-35ae78b16a58"
      },
      "execution_count": 51,
      "outputs": [
        {
          "output_type": "stream",
          "name": "stdout",
          "text": [
            "your\n",
            "sometimes\n",
            "to\n",
            "latterly\n",
            "could\n"
          ]
        }
      ]
    },
    {
      "cell_type": "code",
      "source": [
        "# 임시 불용어는 출력되지 않게 해보자\n",
        "text = \"나는 책을 regarding 하는것이 너무 귀찮아 혹시 nobody 날 도와줄 below 는 없을까? 그럼 이 순간이 over 될 텐뎅\" #영어를 몰라서 그냥 막 써본 텍스트임..\n",
        "filtered_tokens = ' '.join([token.text for token in spacy_en(text) if token.text not in temp_stop_words]) #텍스트를 토큰한 단어들이 불용어 사전에 없으면 토큰을 출력하자.\n",
        "print(filtered_tokens)"
      ],
      "metadata": {
        "id": "RlFu4j8HBDf-",
        "colab": {
          "base_uri": "https://localhost:8080/"
        },
        "outputId": "4a7ac064-c35a-4ba4-fddf-ad9c826ae35b"
      },
      "execution_count": 52,
      "outputs": [
        {
          "output_type": "stream",
          "name": "stdout",
          "text": [
            "나는 책을 regarding 하는것이 너무 귀찮아 혹시 nobody 날 도와줄 below 는 없을까 ? 그럼 이 순간이 over 될 텐뎅\n"
          ]
        }
      ]
    },
    {
      "cell_type": "markdown",
      "source": [
        "\n",
        "\n",
        "---\n",
        "\n"
      ],
      "metadata": {
        "id": "tSNU8c5WF5_J"
      }
    },
    {
      "cell_type": "markdown",
      "source": [
        "NLTK(Natural Language Toolkit) 토큰화 경험 해보기\n",
        "\n",
        "NLTK : 교육용으로 문서 분석을 비롯해 자연어 처리까지 경험해 볼 수 있는 파이썬 패키지\n",
        "\n",
        "사용해보는 이유 : spacy 말고도 다양한 언어 처리 도구들이 있으니 한번 써보자\n",
        "\n",
        "자세한 정보는 : https://www.lntk.org"
      ],
      "metadata": {
        "id": "c_a7pjd3F7U0"
      }
    },
    {
      "cell_type": "code",
      "source": [
        "# NLTK 설치\n",
        "!pip install nltk"
      ],
      "metadata": {
        "id": "y825jHEICd9-",
        "colab": {
          "base_uri": "https://localhost:8080/"
        },
        "outputId": "6d9d0381-7f44-402b-8555-5bc4b213ca2c"
      },
      "execution_count": 53,
      "outputs": [
        {
          "output_type": "stream",
          "name": "stdout",
          "text": [
            "Requirement already satisfied: nltk in /usr/local/lib/python3.10/dist-packages (3.8.1)\n",
            "Requirement already satisfied: click in /usr/local/lib/python3.10/dist-packages (from nltk) (8.1.7)\n",
            "Requirement already satisfied: joblib in /usr/local/lib/python3.10/dist-packages (from nltk) (1.3.2)\n",
            "Requirement already satisfied: regex>=2021.8.3 in /usr/local/lib/python3.10/dist-packages (from nltk) (2023.12.25)\n",
            "Requirement already satisfied: tqdm in /usr/local/lib/python3.10/dist-packages (from nltk) (4.66.2)\n"
          ]
        }
      ]
    },
    {
      "cell_type": "code",
      "source": [
        "# nltk 설치 확인\n",
        "!pip show nltk"
      ],
      "metadata": {
        "id": "V_5epuQWGhG2",
        "colab": {
          "base_uri": "https://localhost:8080/"
        },
        "outputId": "a49290c2-0c49-4dce-def0-690125600bbd"
      },
      "execution_count": 54,
      "outputs": [
        {
          "output_type": "stream",
          "name": "stdout",
          "text": [
            "Name: nltk\n",
            "Version: 3.8.1\n",
            "Summary: Natural Language Toolkit\n",
            "Home-page: https://www.nltk.org/\n",
            "Author: NLTK Team\n",
            "Author-email: nltk.team@gmail.com\n",
            "License: Apache License, Version 2.0\n",
            "Location: /usr/local/lib/python3.10/dist-packages\n",
            "Requires: click, joblib, regex, tqdm\n",
            "Required-by: textblob\n"
          ]
        }
      ]
    },
    {
      "cell_type": "code",
      "source": [
        "# nltk에서 사용해볼 도구들 다운로드\n",
        "import nltk\n",
        "nltk.download('popular') # nltk에 인기있는 도구 모음. (nltk 버전에 따라 인기도구가 다르니 홈페이지 확인 해보자)\n",
        "# 만약 popular 대신 all 를 입력하면 모든 도구를 받아오기 때문에 오래걸린다."
      ],
      "metadata": {
        "id": "EzGBExyoGm-d",
        "colab": {
          "base_uri": "https://localhost:8080/"
        },
        "outputId": "12f2d00a-1227-4a03-a188-f9458c4fe5cf"
      },
      "execution_count": 55,
      "outputs": [
        {
          "output_type": "stream",
          "name": "stderr",
          "text": [
            "[nltk_data] Downloading collection 'popular'\n",
            "[nltk_data]    | \n",
            "[nltk_data]    | Downloading package cmudict to /root/nltk_data...\n",
            "[nltk_data]    |   Unzipping corpora/cmudict.zip.\n",
            "[nltk_data]    | Downloading package gazetteers to /root/nltk_data...\n",
            "[nltk_data]    |   Unzipping corpora/gazetteers.zip.\n",
            "[nltk_data]    | Downloading package genesis to /root/nltk_data...\n",
            "[nltk_data]    |   Unzipping corpora/genesis.zip.\n",
            "[nltk_data]    | Downloading package gutenberg to /root/nltk_data...\n",
            "[nltk_data]    |   Unzipping corpora/gutenberg.zip.\n",
            "[nltk_data]    | Downloading package inaugural to /root/nltk_data...\n",
            "[nltk_data]    |   Unzipping corpora/inaugural.zip.\n",
            "[nltk_data]    | Downloading package movie_reviews to\n",
            "[nltk_data]    |     /root/nltk_data...\n",
            "[nltk_data]    |   Unzipping corpora/movie_reviews.zip.\n",
            "[nltk_data]    | Downloading package names to /root/nltk_data...\n",
            "[nltk_data]    |   Unzipping corpora/names.zip.\n",
            "[nltk_data]    | Downloading package shakespeare to /root/nltk_data...\n",
            "[nltk_data]    |   Unzipping corpora/shakespeare.zip.\n",
            "[nltk_data]    | Downloading package stopwords to /root/nltk_data...\n",
            "[nltk_data]    |   Unzipping corpora/stopwords.zip.\n",
            "[nltk_data]    | Downloading package treebank to /root/nltk_data...\n",
            "[nltk_data]    |   Unzipping corpora/treebank.zip.\n",
            "[nltk_data]    | Downloading package twitter_samples to\n",
            "[nltk_data]    |     /root/nltk_data...\n",
            "[nltk_data]    |   Unzipping corpora/twitter_samples.zip.\n",
            "[nltk_data]    | Downloading package omw to /root/nltk_data...\n",
            "[nltk_data]    | Downloading package omw-1.4 to /root/nltk_data...\n",
            "[nltk_data]    | Downloading package wordnet to /root/nltk_data...\n",
            "[nltk_data]    | Downloading package wordnet2021 to /root/nltk_data...\n",
            "[nltk_data]    | Downloading package wordnet31 to /root/nltk_data...\n",
            "[nltk_data]    | Downloading package wordnet_ic to /root/nltk_data...\n",
            "[nltk_data]    |   Unzipping corpora/wordnet_ic.zip.\n",
            "[nltk_data]    | Downloading package words to /root/nltk_data...\n",
            "[nltk_data]    |   Unzipping corpora/words.zip.\n",
            "[nltk_data]    | Downloading package maxent_ne_chunker to\n",
            "[nltk_data]    |     /root/nltk_data...\n",
            "[nltk_data]    |   Unzipping chunkers/maxent_ne_chunker.zip.\n",
            "[nltk_data]    | Downloading package punkt to /root/nltk_data...\n",
            "[nltk_data]    |   Unzipping tokenizers/punkt.zip.\n",
            "[nltk_data]    | Downloading package snowball_data to\n",
            "[nltk_data]    |     /root/nltk_data...\n",
            "[nltk_data]    | Downloading package averaged_perceptron_tagger to\n",
            "[nltk_data]    |     /root/nltk_data...\n",
            "[nltk_data]    |   Unzipping taggers/averaged_perceptron_tagger.zip.\n",
            "[nltk_data]    | \n",
            "[nltk_data]  Done downloading collection popular\n"
          ]
        },
        {
          "output_type": "execute_result",
          "data": {
            "text/plain": [
              "True"
            ]
          },
          "metadata": {},
          "execution_count": 55
        }
      ]
    },
    {
      "cell_type": "code",
      "source": [
        "# 토큰화에 사용해볼 공통 텍스트\n",
        "# text = \"Can't wait for the summer-sun! :) #excited\"\n",
        "text = \"Looking forward to the summer-sunshine,😎 can't-miss the beach-days & BBQ-nights! #SummerVibes ✨\"\n",
        "# text = \"Can't wait for the summer-break party at John's place! 😊 It's going to be epic - sun, sea, and surf. #SummerVibes 🌞🏄‍♂️\"\n",
        "# text = \"his sentence incorporates a variety of elements that can challenge different tokenizers, including contractions (\\\"Can't\\\"), possessives (\\\"John's\\\"), hyphens (\\\"summer-break\\\"), emoticons (\\\"😊\\\"), and hashtags (\\\"#SummerVibes\\\")\""
      ],
      "metadata": {
        "id": "4jfpcAu4KSaF"
      },
      "execution_count": 56,
      "outputs": []
    },
    {
      "cell_type": "code",
      "source": [
        "from nltk import word_tokenize #nltk에서 word_tokenize 불러오기\n",
        "print(text)\n",
        "print(word_tokenize(text)) # nltk의 word_tokenize는 쉼표도 하나의 단어로 토큰화 하고있다. I'm에서 'm 도 하나의 단어로 묶어서 처리하고있다."
      ],
      "metadata": {
        "colab": {
          "base_uri": "https://localhost:8080/"
        },
        "id": "ep3_5OzBJBHo",
        "outputId": "3e978806-555a-407b-fac8-789e652d9c80"
      },
      "execution_count": 57,
      "outputs": [
        {
          "output_type": "stream",
          "name": "stdout",
          "text": [
            "Looking forward to the summer-sunshine,😎 can't-miss the beach-days & BBQ-nights! #SummerVibes ✨\n",
            "['Looking', 'forward', 'to', 'the', 'summer-sunshine', ',', '😎', \"can't-miss\", 'the', 'beach-days', '&', 'BBQ-nights', '!', '#', 'SummerVibes', '✨']\n"
          ]
        }
      ]
    },
    {
      "cell_type": "code",
      "source": [
        "from nltk import WordPunctTokenizer #nltk에서 WordPunctTokenize 불러오기\n",
        "print(text)\n",
        "print(WordPunctTokenizer().tokenize(text)) # WordPuctTokenize는 쉼표, 어퍼스트로피 를 하나의 토큰으로 인지해준다. I'm 을 [i, ', m] 이렇게"
      ],
      "metadata": {
        "colab": {
          "base_uri": "https://localhost:8080/"
        },
        "id": "VBfYrgTxKF3I",
        "outputId": "23771c98-620e-4d66-ba4d-91a16e9422fe"
      },
      "execution_count": 58,
      "outputs": [
        {
          "output_type": "stream",
          "name": "stdout",
          "text": [
            "Looking forward to the summer-sunshine,😎 can't-miss the beach-days & BBQ-nights! #SummerVibes ✨\n",
            "['Looking', 'forward', 'to', 'the', 'summer', '-', 'sunshine', ',😎', 'can', \"'\", 't', '-', 'miss', 'the', 'beach', '-', 'days', '&', 'BBQ', '-', 'nights', '!', '#', 'SummerVibes', '✨']\n"
          ]
        }
      ]
    },
    {
      "cell_type": "code",
      "source": [
        "# 어퍼스트로피를 다르게 처리한 텐서플로우의 케라스의 어떤 도구가 있는데 잠깐 소개 해보겠다. 가볍게 이해하자!\n",
        "from tensorflow.keras.preprocessing.text import text_to_word_sequence\n",
        "print(text)\n",
        "print(text_to_word_sequence(text)) #어퍼스트로피로 단어를 연결한걸 하나의 토큰으로 인지한다는 점.\n",
        "# 여기서 말하고자 하는건 다양한 토큰 방식이 있으니 도메인마다 필요에 맞게 여러 도구를 탐색해보라는 의미이다."
      ],
      "metadata": {
        "colab": {
          "base_uri": "https://localhost:8080/"
        },
        "id": "m7JJA9z8LhP_",
        "outputId": "ff69018f-dcd8-461e-e3ac-3e69dbe4fc0a"
      },
      "execution_count": 59,
      "outputs": [
        {
          "output_type": "stream",
          "name": "stdout",
          "text": [
            "Looking forward to the summer-sunshine,😎 can't-miss the beach-days & BBQ-nights! #SummerVibes ✨\n",
            "['looking', 'forward', 'to', 'the', 'summer', 'sunshine', '😎', \"can't\", 'miss', 'the', 'beach', 'days', 'bbq', 'nights', 'summervibes', '✨']\n"
          ]
        }
      ]
    },
    {
      "cell_type": "code",
      "source": [
        "from nltk import TreebankWordTokenizer #표준으로 쓰이고 있는 토큰화 방법 중 하나.\n",
        "print(text)\n",
        "print(TreebankWordTokenizer().tokenize(text))"
      ],
      "metadata": {
        "colab": {
          "base_uri": "https://localhost:8080/"
        },
        "id": "8RYjhvuWPxtl",
        "outputId": "e3ba68a0-da58-4959-d618-082ccdab673c"
      },
      "execution_count": 60,
      "outputs": [
        {
          "output_type": "stream",
          "name": "stdout",
          "text": [
            "Looking forward to the summer-sunshine,😎 can't-miss the beach-days & BBQ-nights! #SummerVibes ✨\n",
            "['Looking', 'forward', 'to', 'the', 'summer-sunshine', ',', '😎', \"can't-miss\", 'the', 'beach-days', '&', 'BBQ-nights', '!', '#', 'SummerVibes', '✨']\n"
          ]
        }
      ]
    },
    {
      "cell_type": "code",
      "source": [
        "from nltk import TweetTokenizer #이모티콘 인식해주는 토크나이저\n",
        "print(text)\n",
        "print(TweetTokenizer().tokenize(text))"
      ],
      "metadata": {
        "colab": {
          "base_uri": "https://localhost:8080/"
        },
        "id": "dtjQyFkpUF-A",
        "outputId": "254579b7-424d-4709-be64-1c38dbcde8f0"
      },
      "execution_count": 61,
      "outputs": [
        {
          "output_type": "stream",
          "name": "stdout",
          "text": [
            "Looking forward to the summer-sunshine,😎 can't-miss the beach-days & BBQ-nights! #SummerVibes ✨\n",
            "['Looking', 'forward', 'to', 'the', 'summer-sunshine', ',', '😎', \"can't-miss\", 'the', 'beach-days', '&', 'BBQ-nights', '!', '#SummerVibes', '✨']\n"
          ]
        }
      ]
    },
    {
      "cell_type": "code",
      "source": [
        "from nltk import sent_tokenize #nltk 패키지 중 sent_tokenize 불러오기\n",
        "print(text)\n",
        "print(sent_tokenize(text)) # nltk의 sent_tokenize는 문장의 마침표를 기준으로 문장 토큰화 하고있다."
      ],
      "metadata": {
        "colab": {
          "base_uri": "https://localhost:8080/"
        },
        "id": "NZZ3Fq6jIPkx",
        "outputId": "e0b40b63-9da5-4f13-84e2-470e637952c8"
      },
      "execution_count": 62,
      "outputs": [
        {
          "output_type": "stream",
          "name": "stdout",
          "text": [
            "Looking forward to the summer-sunshine,😎 can't-miss the beach-days & BBQ-nights! #SummerVibes ✨\n",
            "[\"Looking forward to the summer-sunshine,😎 can't-miss the beach-days & BBQ-nights!\", '#SummerVibes ✨']\n"
          ]
        }
      ]
    },
    {
      "cell_type": "code",
      "source": [
        "from nltk import ngrams # n개의 어절이나 음절을 연쇄적으로 분류\n",
        "text = \"There is no royal road to learning\""
      ],
      "metadata": {
        "colab": {
          "base_uri": "https://localhost:8080/"
        },
        "id": "Z72rBIfufZcF",
        "outputId": "ebaa369d-5595-410c-f90b-628d93c59698"
      },
      "execution_count": 63,
      "outputs": [
        {
          "output_type": "stream",
          "name": "stdout",
          "text": [
            "[('There', 'is'), ('is', 'no'), ('no', 'royal'), ('royal', 'road'), ('road', 'to'), ('to', 'learning')]\n"
          ]
        }
      ]
    },
    {
      "cell_type": "code",
      "source": [
        "bigram = list(ngrams(text.split(),2)) #2개를 묶으면 바이그램\n",
        "print(bigram)"
      ],
      "metadata": {
        "colab": {
          "base_uri": "https://localhost:8080/"
        },
        "id": "-QPtwrSnzDnm",
        "outputId": "2f5fe6d6-0f82-46ba-9566-5f53fa6f1e9b"
      },
      "execution_count": 101,
      "outputs": [
        {
          "output_type": "stream",
          "name": "stdout",
          "text": [
            "[('Today', 'is'), ('is', 'Monday.'), ('Monday.', 'Tomorrow'), ('Tomorrow', 'is'), ('is', 'Tuesday.'), ('Tuesday.', 'Yesterday'), ('Yesterday', 'was'), ('was', 'Sunday.')]\n"
          ]
        }
      ]
    },
    {
      "cell_type": "code",
      "source": [
        "trigram = list(ngrams(text.split(),3)) #3개를 묶으면 트리그램 보통 trigram 까지만 한다.\n",
        "print(trigram)"
      ],
      "metadata": {
        "colab": {
          "base_uri": "https://localhost:8080/"
        },
        "id": "cd9MVALUf7CG",
        "outputId": "3d50f4ad-bef2-4902-b463-c8e631d0d8ab"
      },
      "execution_count": 102,
      "outputs": [
        {
          "output_type": "stream",
          "name": "stdout",
          "text": [
            "[('Today', 'is', 'Monday.'), ('is', 'Monday.', 'Tomorrow'), ('Monday.', 'Tomorrow', 'is'), ('Tomorrow', 'is', 'Tuesday.'), ('is', 'Tuesday.', 'Yesterday'), ('Tuesday.', 'Yesterday', 'was'), ('Yesterday', 'was', 'Sunday.')]\n"
          ]
        }
      ]
    },
    {
      "cell_type": "code",
      "source": [
        "# nltk에서 제공하는 불용어 사전 다운로드\n",
        "nltk.download('stopwords')\n",
        "\n",
        "print(\"nltk 영어 불용어 갯수 : \" , len(nltk.corpus.stopwords.words('english'))) #179개\n",
        "print(nltk.corpus.stopwords.words('english')[:40]) #40개만 보기\n",
        "# 영어의 전치사, 한국어의 조사 등은 분석에 필요하지 않은 경우가 많음\n",
        "# 길이가 짧거나 등장 빈도수가 적은 단어들도 분석에 큰 영향이 없음.\n",
        "# 여러 패키지에서 불용어 코퍼스가 있긴하지만 완벽하진 않음.\n",
        "# 도메인에 맞게 코퍼스를 만들어 사용하는게 가장 좋음. (기존 도구들이 걸러주지 못하는 단어를 추가 하라는 의미)"
      ],
      "metadata": {
        "colab": {
          "base_uri": "https://localhost:8080/"
        },
        "id": "OS8lHY4hgt6b",
        "outputId": "4bbc484b-29da-4557-b92b-04970d4c4428"
      },
      "execution_count": 65,
      "outputs": [
        {
          "output_type": "stream",
          "name": "stdout",
          "text": [
            "nltk 영어 불용어 갯수 :  179\n",
            "['i', 'me', 'my', 'myself', 'we', 'our', 'ours', 'ourselves', 'you', \"you're\", \"you've\", \"you'll\", \"you'd\", 'your', 'yours', 'yourself', 'yourselves', 'he', 'him', 'his', 'himself', 'she', \"she's\", 'her', 'hers', 'herself', 'it', \"it's\", 'its', 'itself', 'they', 'them', 'their', 'theirs', 'themselves', 'what', 'which', 'who', 'whom', 'this']\n"
          ]
        },
        {
          "output_type": "stream",
          "name": "stderr",
          "text": [
            "[nltk_data] Downloading package stopwords to /root/nltk_data...\n",
            "[nltk_data]   Package stopwords is already up-to-date!\n"
          ]
        }
      ]
    },
    {
      "cell_type": "code",
      "source": [
        "# nltk는 한국어 불용어 코퍼스를 만들지 않았음.\n",
        "# 한번 간단하게 직접 한국어 불용어 코퍼스를 만들어보자\n",
        "\n",
        "ko_text = \"오늘은 4월 4일 텍스트마이닝 개인 과제를 제출해야한다. 난 지금 밤새 작성중이다. 요즘 벚꽃 폈는데 이쁘더라 첫사랑이 떠오르네\"\n",
        "ko_stop =\"오늘은 개인 난 지금 밤새 요즘 폈는데\"\n",
        "\n",
        "ko_tokens = word_tokenize(ko_text)\n",
        "ko_stop_words = ko_stop.split(' ')\n",
        "\n",
        "result = []\n",
        "for w in ko_tokens:\n",
        "    if w not in ko_stop_words:\n",
        "        result.append(w)\n",
        "\n",
        "print(ko_tokens,'\\t')\n",
        "print(result)"
      ],
      "metadata": {
        "colab": {
          "base_uri": "https://localhost:8080/"
        },
        "id": "J79olFl8kK88",
        "outputId": "ab0ee067-8685-45fe-e28b-a418bab550ee"
      },
      "execution_count": 66,
      "outputs": [
        {
          "output_type": "stream",
          "name": "stdout",
          "text": [
            "['오늘은', '4월', '4일', '텍스트마이닝', '개인', '과제를', '제출해야한다', '.', '난', '지금', '밤새', '작성중이다', '.', '요즘', '벚꽃', '폈는데', '이쁘더라', '첫사랑이', '떠오르네'] \t\n",
            "['4월', '4일', '텍스트마이닝', '과제를', '제출해야한다', '.', '작성중이다', '.', '벚꽃', '이쁘더라', '첫사랑이', '떠오르네']\n"
          ]
        }
      ]
    },
    {
      "cell_type": "markdown",
      "source": [
        "사실 한국어는 토큰화가 어렵다.'\n",
        "\n",
        "우선 한국어는 띄어쓰기가 잘 안이루어 진다. 맞춤법도 잘 안이루어진다. 영어랑 다르게 독립적인 단어가 아닌 조사가 붙어 있는 경우가 많다. 그렇기 때문에 한국어 분석을 하려거든 형태소 개념을 파악하고 한국어의 자립형태소와 의존형태소를 고려해 토큰화 해야한다.\n",
        "\n",
        "쉽게말해 어절토큰화가 아니라 형태소 토큰화 해라.\n",
        "\n",
        "---\n",
        "\n"
      ],
      "metadata": {
        "id": "mkwayLDroHt4"
      }
    },
    {
      "cell_type": "markdown",
      "source": [
        "NLTK로 어간 추출해보기 (Stemming)\n",
        "\n",
        "다양한 어간 추출기가 존재하지만 앞에서 사용해본 NLTK에서 제공하는 스테머로 학습해보자."
      ],
      "metadata": {
        "id": "ubXXZlgTekQz"
      }
    },
    {
      "cell_type": "code",
      "source": [
        "from nltk import PorterStemmer # 단순 규칙에 의해 나눠진 것이므로 사전에 없는 단어가 찍힐 수있음.\n",
        "stemmer = PorterStemmer() #여러번 테스트 하기위해 스테머  객체 하나 생성해서 stemmer 라는 변수에 담아서 재사용하자.\n",
        "\n",
        "print(stemmer.stem('working'), stemmer.stem('works'), stemmer.stem('worked'))\n",
        "print(stemmer.stem('amusing'), stemmer.stem('amuses'), stemmer.stem('amused'))\n",
        "print(stemmer.stem('happier'), stemmer.stem('happiest'), stemmer.stem('happying'))\n",
        "print(stemmer.stem('was'), stemmer.stem('loving'))\n"
      ],
      "metadata": {
        "colab": {
          "base_uri": "https://localhost:8080/"
        },
        "id": "iXzZbofDulzq",
        "outputId": "f9144de7-4290-4770-bee8-c299176ae6dd"
      },
      "execution_count": 67,
      "outputs": [
        {
          "output_type": "stream",
          "name": "stdout",
          "text": [
            "work work work\n",
            "amus amus amus\n",
            "happier happiest happi\n",
            "wa love\n"
          ]
        }
      ]
    },
    {
      "cell_type": "code",
      "source": [
        "from nltk import LancasterStemmer # 또 다른 스테머 Porter랑 결과 다름 왜 다른지는 nltk 홈페이지를 참고하자\n",
        "stemmer = LancasterStemmer()\n",
        "print(stemmer.stem('working'), stemmer.stem('works'), stemmer.stem('worked'))\n",
        "print(stemmer.stem('amusing'), stemmer.stem('amuses'), stemmer.stem('amused'))\n",
        "print(stemmer.stem('happier'), stemmer.stem('happiest'), stemmer.stem('happying'))\n",
        "print(stemmer.stem('was'), stemmer.stem('loving'))"
      ],
      "metadata": {
        "colab": {
          "base_uri": "https://localhost:8080/"
        },
        "id": "XULMFXyjwNMn",
        "outputId": "a43eae30-f8fc-4969-f9ed-0466c2eea456"
      },
      "execution_count": 68,
      "outputs": [
        {
          "output_type": "stream",
          "name": "stdout",
          "text": [
            "work work work\n",
            "amus amus amus\n",
            "happy happiest happy\n",
            "was lov\n"
          ]
        }
      ]
    },
    {
      "cell_type": "code",
      "source": [
        "from nltk import RegexpStemmer # 사용자가 지정한 정규 표현 방식으로 어간 추출함\n",
        "stemmer = RegexpStemmer('ing') #ing 처리\n",
        "print(stemmer.stem('amusing'), stemmer.stem('amuses'), stemmer.stem('amused'))\n",
        "print(stemmer.stem('happier'), stemmer.stem('happiest'), stemmer.stem('happying'))\n",
        "print(stemmer.stem('was'), stemmer.stem('loving'), stemmer.stem('sing')) #sing 에서 ing 를 빼니 s만 남음 ㅋ"
      ],
      "metadata": {
        "colab": {
          "base_uri": "https://localhost:8080/"
        },
        "id": "BZzUg1kRxFJ9",
        "outputId": "db59f815-8d73-4402-ab78-4941e75f9bb0"
      },
      "execution_count": 69,
      "outputs": [
        {
          "output_type": "stream",
          "name": "stdout",
          "text": [
            "amus amuses amused\n",
            "happier happiest happy\n",
            "was lov s\n"
          ]
        }
      ]
    },
    {
      "cell_type": "code",
      "source": [
        "from nltk import SnowballStemmer # 영어 외 13개 국어 stemming\n",
        "stemmer = SnowballStemmer('spanish') #스페인어\n",
        "print(stemmer.stem('hola')) #홀라의 어간은 hol 인가?"
      ],
      "metadata": {
        "colab": {
          "base_uri": "https://localhost:8080/"
        },
        "id": "TEVolr7TxnZ8",
        "outputId": "d1a35ada-b5a1-4170-d5f7-cb4cae7ffe84"
      },
      "execution_count": 70,
      "outputs": [
        {
          "output_type": "stream",
          "name": "stdout",
          "text": [
            "hol\n"
          ]
        }
      ]
    },
    {
      "cell_type": "code",
      "source": [
        "from nltk import SnowballStemmer\n",
        "stemmer = SnowballStemmer('english')\n",
        "print(stemmer.stem('fishing'),stemmer.stem('fished'),stemmer.stem('fishs'))"
      ],
      "metadata": {
        "colab": {
          "base_uri": "https://localhost:8080/"
        },
        "id": "uqSZEO9VyGCR",
        "outputId": "94926803-15f1-471b-d7c1-c00b82d6adab"
      },
      "execution_count": 71,
      "outputs": [
        {
          "output_type": "stream",
          "name": "stdout",
          "text": [
            "fish fish fish\n"
          ]
        }
      ]
    },
    {
      "cell_type": "markdown",
      "source": [
        "\n",
        "\n",
        "---\n",
        "\n"
      ],
      "metadata": {
        "id": "S3k9MtJx3FDh"
      }
    },
    {
      "cell_type": "markdown",
      "source": [
        "NLTK로 표제어 추출해보기 (Lemmatization)\n",
        "\n",
        "표제어(Lemma)는 한글로 '기본 사전형 단어' 정도의 의미를 갖는다.\n",
        "\n",
        "am are is 는 다른 형태를 가졌지만 뿌리는 be 로 같습니다.\n",
        "\n",
        "* 형태소: 의미를 가진 가장 작은 단위!! 혼동하지 말것. (난 좀 자주 헷갈린다)\n"
      ],
      "metadata": {
        "id": "6zs8budQyojV"
      }
    },
    {
      "cell_type": "code",
      "source": [
        "from nltk import WordNetLemmatizer\n",
        "# 표제어 추출에 필요한 데이터 다운로드\n",
        "nltk.download('wordnet')\n",
        "nltk.download('omw-1.4')"
      ],
      "metadata": {
        "colab": {
          "base_uri": "https://localhost:8080/"
        },
        "id": "QA7cJpGiymoR",
        "outputId": "bfd50342-d34b-4466-8b47-ff7abcf280c8"
      },
      "execution_count": 72,
      "outputs": [
        {
          "output_type": "stream",
          "name": "stderr",
          "text": [
            "[nltk_data] Downloading package wordnet to /root/nltk_data...\n",
            "[nltk_data]   Package wordnet is already up-to-date!\n",
            "[nltk_data] Downloading package omw-1.4 to /root/nltk_data...\n",
            "[nltk_data]   Package omw-1.4 is already up-to-date!\n"
          ]
        },
        {
          "output_type": "execute_result",
          "data": {
            "text/plain": [
              "True"
            ]
          },
          "metadata": {},
          "execution_count": 72
        }
      ]
    },
    {
      "cell_type": "code",
      "source": [
        "lemma = WordNetLemmatizer()\n",
        "# v는 단어가 동사일 때 동사의 기본형을 얻는다.\n",
        "# a는 단어가 형용사일 때 형용사의 기본형을 얻는다.\n",
        "print(lemma.lemmatize('amusing'),lemma.lemmatize('amuses'),lemma.lemmatize('amused'))\n",
        "print(lemma.lemmatize('happier'),lemma.lemmatize('happiest'))\n",
        "print(lemma.lemmatize('fancier'),lemma.lemmatize('fanciest'))\n",
        "print(lemma.lemmatize('was'), lemma.lemmatize('love'))\n",
        "print(lemma.lemmatize('amusing','v'),lemma.lemmatize('amuses','v'),lemma.lemmatize('amused','v'))\n",
        "print(lemma.lemmatize('happier','a'),lemma.lemmatize('happiest','a'))\n",
        "print(lemma.lemmatize('fancier','a'),lemma.lemmatize('fanciest','a'))\n",
        "print(lemma.lemmatize('was', 'v'), lemma.lemmatize('love', 'v'))\n",
        "print(lemma.lemmatize('dies','v'))\n",
        "print(lemma.lemmatize('watched', 'v'))\n",
        "print(lemma.lemmatize('has', 'v'))"
      ],
      "metadata": {
        "colab": {
          "base_uri": "https://localhost:8080/"
        },
        "id": "xGBHyuP80dZQ",
        "outputId": "528a52b4-9df6-4ad3-af51-5ae967146fa4"
      },
      "execution_count": 73,
      "outputs": [
        {
          "output_type": "stream",
          "name": "stdout",
          "text": [
            "amusing amuses amused\n",
            "happier happiest\n",
            "fancier fanciest\n",
            "wa love\n",
            "amuse amuse amuse\n",
            "happy happy\n",
            "fancy fancy\n",
            "be love\n",
            "die\n",
            "watch\n",
            "have\n"
          ]
        }
      ]
    },
    {
      "cell_type": "markdown",
      "source": [
        "\n",
        "\n",
        "---\n",
        "\n"
      ],
      "metadata": {
        "id": "zFMwsu0uWL_D"
      }
    },
    {
      "cell_type": "markdown",
      "source": [
        "정규표현식을 이용한 토큰화 방법도 있는데 사용해보기 위해 먼저 정규 표현식 문법을 알아보겠다.\n",
        "\n",
        "천천히 따라 실행해보자.\n",
        "\n",
        "\n",
        "정규 표현식 문법\n",
        "\n",
        "<figure>\n",
        "<img src = 'https://miro.medium.com/max/700/1*Y-q0dkUClSW0dX6uuysnJQ.png'>\n",
        "<figure>\n"
      ],
      "metadata": {
        "id": "5SPxK2ZM3JZk"
      }
    },
    {
      "cell_type": "markdown",
      "source": [
        "<figure>\n",
        "<img src = 'https://miro.medium.com/max/700/1*c__WeRlFyGY_-7LeKQkNnQ.png'>\n",
        "<figure>\n"
      ],
      "metadata": {
        "id": "5StEWSH64dEr"
      }
    },
    {
      "cell_type": "markdown",
      "source": [
        "\n",
        "<figure>\n",
        "<img src = 'https://miro.medium.com/max/661/1*6pIp6zuIoRHUOXjEDDUNCA.png'>\n",
        "<figure>\n"
      ],
      "metadata": {
        "id": "6fUiulNzOowY"
      }
    },
    {
      "cell_type": "code",
      "source": [
        "#정규 표현식을 사용하기 위한 라이브러리 호출\n",
        "import re"
      ],
      "metadata": {
        "id": "zaUNoRLm6CiD"
      },
      "execution_count": 74,
      "outputs": []
    },
    {
      "cell_type": "code",
      "source": [
        "# . 은 한 개의 임의의 문자를 나타낸다.\n",
        "# 예를 들어 정규 표현식이 a.c라고 한다면, a와 c 사이에 어떤 1개의 문자라도 올 수 있다는 뜻이다.'\n",
        "r = re.compile(\"a.c\")\n",
        "print(r.search(\"kkk\")) #매치 안됨.\n",
        "print(r.search(\"abc\")) #매치 됨."
      ],
      "metadata": {
        "colab": {
          "base_uri": "https://localhost:8080/"
        },
        "id": "Z6RC27yC5X90",
        "outputId": "bba0e6d4-44ff-4d96-e53f-65a772979547"
      },
      "execution_count": 75,
      "outputs": [
        {
          "output_type": "stream",
          "name": "stdout",
          "text": [
            "None\n",
            "<re.Match object; span=(0, 3), match='abc'>\n"
          ]
        }
      ]
    },
    {
      "cell_type": "code",
      "source": [
        "# ? 는 ? 앞의 문자가 존재할 수도 있고, 존재하지 않을 수도 있는 경우를 나타낸다.\n",
        "# 예를 들어 정규 표현식이 ab?C라고 한다면, b는 있다고 취급할 수도 있고 없다고 취급할 수도 있다. 즉, abc와 ac 모두 매치 가능\n",
        "r = re.compile(\"ab?c\")\n",
        "print(r.search(\"abbc\")) #매치 안됨.\n",
        "print(r.search(\"abc\")) #매치 됨.\n",
        "print(r.search(\"ac\")) #매치 됨."
      ],
      "metadata": {
        "colab": {
          "base_uri": "https://localhost:8080/"
        },
        "id": "RaDFY4tm5qkZ",
        "outputId": "246da66f-c49b-4fb1-ee67-f803459222d9"
      },
      "execution_count": 76,
      "outputs": [
        {
          "output_type": "stream",
          "name": "stdout",
          "text": [
            "None\n",
            "<re.Match object; span=(0, 3), match='abc'>\n",
            "<re.Match object; span=(0, 2), match='ac'>\n"
          ]
        }
      ]
    },
    {
      "cell_type": "code",
      "source": [
        "# * 는 바로 앞의 문자가 0개 이상일 경우를 나타낸다.\n",
        "# 앞의 문자는 존재하지 않을 수도 있으며, 또는 여러 개일 수도 있다.\n",
        "# 예를 들어 정규 표현식이 abc라고 한다면 ac, abc, abbc, abbbc 등과 매치할 수 있다.\n",
        "r = re.compile(\"ab*c\")\n",
        "print(r.search(\"a\"))\n",
        "print(r.search(\"ac\"))\n",
        "print(r.search(\"abc\"))\n",
        "print(r.search(\"abbc\"))"
      ],
      "metadata": {
        "colab": {
          "base_uri": "https://localhost:8080/"
        },
        "id": "czUUK5eu5xYV",
        "outputId": "b66260be-b8a8-460b-e6bb-1ecaa9155783"
      },
      "execution_count": 77,
      "outputs": [
        {
          "output_type": "stream",
          "name": "stdout",
          "text": [
            "None\n",
            "<re.Match object; span=(0, 2), match='ac'>\n",
            "<re.Match object; span=(0, 3), match='abc'>\n",
            "<re.Match object; span=(0, 4), match='abbc'>\n"
          ]
        }
      ]
    },
    {
      "cell_type": "code",
      "source": [
        "# + 는 *와 유사하다.\n",
        "# 다른 점은 앞의 문자가 모두 있어야 한다.\n",
        "# 예를 들어 ab+c라고 하면, ac는 매치되지 않는다\n",
        "r = re.compile('ab+c')\n",
        "print(r.search(\"ac\"))# 아무것도 출력되지 않는다.\n",
        "print(r.search(\"abc\"))"
      ],
      "metadata": {
        "colab": {
          "base_uri": "https://localhost:8080/"
        },
        "id": "qvd7jyMD89xI",
        "outputId": "96ea3cf4-96ff-47b7-b943-6b38228db051"
      },
      "execution_count": 78,
      "outputs": [
        {
          "output_type": "stream",
          "name": "stdout",
          "text": [
            "None\n",
            "<re.Match object; span=(0, 3), match='abc'>\n"
          ]
        }
      ]
    },
    {
      "cell_type": "code",
      "source": [
        "# ^ 는 시작되는 글자를 지정한다.\n",
        "# 예를 들어 ^a라면 a로 시작되는 문자열만 찾는다\n",
        "r = re.compile('^a')\n",
        "print(r.search('bbc')) # 아무것도 출력되지 않음\n",
        "print(r.search('ab'))"
      ],
      "metadata": {
        "colab": {
          "base_uri": "https://localhost:8080/"
        },
        "id": "oDjUr-PX9wF_",
        "outputId": "22352db4-0edd-4a93-eb14-b5b8e4ad1675"
      },
      "execution_count": 79,
      "outputs": [
        {
          "output_type": "stream",
          "name": "stdout",
          "text": [
            "None\n",
            "<re.Match object; span=(0, 1), match='a'>\n"
          ]
        }
      ]
    },
    {
      "cell_type": "code",
      "source": [
        "# $는 마지막 글자를 지정한다.\n",
        "# 예를 들어 $a라면 a로 끝나는 문자열을 찾는다\n",
        "r = re.compile('a$')\n",
        "print(r.search('aasdasdasd')) #아무것도 출력되지 않음\n",
        "print(r.search('aasdasdasda'))"
      ],
      "metadata": {
        "colab": {
          "base_uri": "https://localhost:8080/"
        },
        "id": "d9fnTC9s-ENv",
        "outputId": "f9abe6f8-ee01-49a2-8a74-cef7a10a5aab"
      },
      "execution_count": 80,
      "outputs": [
        {
          "output_type": "stream",
          "name": "stdout",
          "text": [
            "None\n",
            "<re.Match object; span=(10, 11), match='a'>\n"
          ]
        }
      ]
    },
    {
      "cell_type": "code",
      "source": [
        "# 문자{숫자1, 숫자2}\n",
        "# 문자에 해당 기호를 붙이면, 해당 문자를 숫자1 이상 숫자2 이하만큼 반복한다.\n",
        "# 예를 들어 정규 표현식이 ab{2,8}c라면 a와 c사이에 b가 존재하면서 b는 2개 이상 8개 이하인 문자열에 대해서 매치한다.\n",
        "r = re.compile(\"ab{2,8}c\")\n",
        "print(r.search('ac'))# 아무런 결과도 출력되지 않음\n",
        "print(r.search(\"abc\"))# 아무런 결과도 출력되지 않음\n",
        "print(r.search(\"abbc\"))\n",
        "print(r.search(\"abbbbc\"))\n",
        "print(r.search(\"abbbbbbbbbbbc\")) # 아무런 결과도 출력되지 않음"
      ],
      "metadata": {
        "colab": {
          "base_uri": "https://localhost:8080/"
        },
        "id": "krjEzbi7-lM-",
        "outputId": "8ee3ada8-65da-48c3-cdec-28e598768c85"
      },
      "execution_count": 81,
      "outputs": [
        {
          "output_type": "stream",
          "name": "stdout",
          "text": [
            "None\n",
            "None\n",
            "<re.Match object; span=(0, 4), match='abbc'>\n",
            "<re.Match object; span=(0, 6), match='abbbbc'>\n",
            "None\n"
          ]
        }
      ]
    },
    {
      "cell_type": "code",
      "source": [
        "# 문자{숫자1,}\n",
        "# 문자에 해당 기호를 붙이면, 해당 문자를 숫자 이상만큼 반복한다.\n",
        "# 예를 들어 정규 표현식이 a{2,}bc라면 뒤에 bc가 붙으면서 a의 갯수가 2개 이상인 경우인 문자열과 매치한다.\n",
        "# 또한 만약 {0,}을 쓴다면 *와 동일한 의미가 되며, {1,}을 쓴다면 +와 동일한 의미가 된다.\n",
        "r = re.compile(\"a{2,}bc\")\n",
        "print(r.search(\"bc\")) # 아무런 결과도 출력되지 않음\n",
        "print(r.search(\"aa\")) # 아무런 결과도 출력되지 않음\n",
        "print(r.search(\"aabc\"))\n",
        "print(r.search(\"aaaaabc\"))"
      ],
      "metadata": {
        "id": "ZW-xz5sG-nyq",
        "colab": {
          "base_uri": "https://localhost:8080/"
        },
        "outputId": "121011db-9960-4537-a32a-c69581f3bb81"
      },
      "execution_count": 82,
      "outputs": [
        {
          "output_type": "stream",
          "name": "stdout",
          "text": [
            "None\n",
            "None\n",
            "<re.Match object; span=(0, 4), match='aabc'>\n",
            "<re.Match object; span=(0, 7), match='aaaaabc'>\n"
          ]
        }
      ]
    },
    {
      "cell_type": "code",
      "source": [
        "# [ ]\n",
        "# []안에 문자들을 넣으면 그 문자들 중 한 개의 문자와 매치라는 의미를 가진다.\n",
        "# 예를 들어 정규 표현식이 [abc]라면, a 또는 b 또는 c가 들어가 있는 문자열과 매치된다.\n",
        "# 범위를 지정하는 것도 가능하다. [a-zA-Z]는 알파벳 전부를 의미하며, [0–9]는 숫자 전부를 의미한다.\n",
        "r = re.compile(\"[abc]\")\n",
        "print(r.search('zzz'))# 아무것도 출력되지 않음\n",
        "print(r.search('a'))"
      ],
      "metadata": {
        "colab": {
          "base_uri": "https://localhost:8080/"
        },
        "id": "ST9YBDEi-pfv",
        "outputId": "8f9cda7d-3322-4012-cfd0-9214c810b7c9"
      },
      "execution_count": 83,
      "outputs": [
        {
          "output_type": "stream",
          "name": "stdout",
          "text": [
            "None\n",
            "<re.Match object; span=(0, 1), match='a'>\n"
          ]
        }
      ]
    },
    {
      "cell_type": "markdown",
      "source": [
        "[a-c] : [abc]와 같음\n",
        "\n",
        "[0-5] : [012345]와 같음\n",
        "\n",
        "[a-zA-Z] : 모든 알파벳\n",
        "\n",
        "[0-9] : 모든 숫자"
      ],
      "metadata": {
        "id": "bzPeAKpqAC4K"
      }
    },
    {
      "cell_type": "code",
      "source": [
        "# ^[문]\n",
        "# 앞서 설명한 ^와는 완전히 다른 의미로 쓰인다.\n",
        "# 여기서는 ^ 기호 뒤에 붙은 문자들을 제외한 모든 문자를 매치하는 역할을 한다.\n",
        "# 예를 들어 [^abc]라는 정규 표현식이 있다면, a 또는 b 또는 c가 들어간 문자열을 제외한 모든 문자열을 매치한다.\n",
        "\n",
        "r = re.compile('[^abc]')\n",
        "print(r.search(\"a\")) # 아무것도 출력되지 않음\n",
        "print(r.search(\"ahoho\"))"
      ],
      "metadata": {
        "colab": {
          "base_uri": "https://localhost:8080/"
        },
        "id": "Pukn8zUo-siB",
        "outputId": "91c3000e-5b92-4daf-b1d8-02f2b1d0227b"
      },
      "execution_count": 84,
      "outputs": [
        {
          "output_type": "stream",
          "name": "stdout",
          "text": [
            "None\n",
            "<re.Match object; span=(1, 2), match='h'>\n"
          ]
        }
      ]
    },
    {
      "cell_type": "markdown",
      "source": [
        "정규 표현식 모듈 써보기\n",
        "\n"
      ],
      "metadata": {
        "id": "MMQqpGEUzVCV"
      }
    },
    {
      "cell_type": "code",
      "source": [
        "# re.match() 와 re.search() 차이 알아보기\n",
        "# search는 정규표현식 전체에 대해서 문자열이 매치하는지 본다.\n",
        "# match는 문자열 첫 부분부터 정규표현식과 매치하는지 본다.\n",
        "\n",
        "r = re.compile(\"ab.\")\n",
        "print(r.search(\"kkkabc\"))\n",
        "print(r.match(\"kkkabc\")) # 출력 x\n",
        "print(r.match(\"abckkk\"))"
      ],
      "metadata": {
        "colab": {
          "base_uri": "https://localhost:8080/"
        },
        "id": "Wf2cFz4SzUja",
        "outputId": "e077e70f-4d85-4ad0-8052-75ad242e9aa2"
      },
      "execution_count": 85,
      "outputs": [
        {
          "output_type": "stream",
          "name": "stdout",
          "text": [
            "<re.Match object; span=(3, 6), match='abc'>\n",
            "None\n",
            "<re.Match object; span=(0, 3), match='abc'>\n"
          ]
        }
      ]
    },
    {
      "cell_type": "code",
      "source": [
        "# re.split() 은 입력된 정규 표현식을 기준으로 문자열들을 분리하여 리스트로 리턴한다.\n",
        "# 토큰화에 유용하게 쓰일 수 있기 때문에 자연어 처리에서 가장 많이 사용되는 정규 표현식 함수 중 하나.\n",
        "text = \"사과 딸기 수박 멜론 바나나\"\n",
        "print(re.split(\" \",text))\n",
        "\n",
        "text = \"\"\"사과\n",
        "딸기\n",
        "수박\n",
        "멜론\n",
        "바나나\"\"\"\n",
        "print(re.split(\"\\n\", text))\n",
        "\n",
        "text = \"사과+딸기+수박+멜론+바나나\"\n",
        "print(re.split(\"\\+\", text))\n",
        "print(text.split('+'))"
      ],
      "metadata": {
        "colab": {
          "base_uri": "https://localhost:8080/"
        },
        "id": "KFSN3B_-0vVC",
        "outputId": "cbf80e7f-ce9e-4272-81ae-08caeb4aefb3"
      },
      "execution_count": 86,
      "outputs": [
        {
          "output_type": "stream",
          "name": "stdout",
          "text": [
            "['사과', '딸기', '수박', '멜론', '바나나']\n",
            "['사과', '딸기', '수박', '멜론', '바나나']\n",
            "['사과', '딸기', '수박', '멜론', '바나나']\n",
            "['사과', '딸기', '수박', '멜론', '바나나']\n"
          ]
        }
      ]
    },
    {
      "cell_type": "code",
      "source": [
        "# re.findall() 은 정규 표현식과 매치되는 모든 문자열들을 리스트로 리턴한다.\n",
        "# 단, 매치되는 문자열이 없다면 빈 리스트를 리턴한다.\n",
        "\n",
        "text = \"\"\"이름 : 김철수\n",
        "전화번호 : 010 - 1234 - 1234\n",
        "나이 : 30\n",
        "성별 : 남\"\"\"\n",
        "print(re.findall(\"\\d+\", text))\n",
        "print(re.findall(\"\\d+\", \"문자열입니당.\")) # 빈 리스트를 리턴했다."
      ],
      "metadata": {
        "colab": {
          "base_uri": "https://localhost:8080/"
        },
        "id": "KcFv1qo414f-",
        "outputId": "32cda924-3f5d-42fc-9564-0c5c136f445a"
      },
      "execution_count": 87,
      "outputs": [
        {
          "output_type": "stream",
          "name": "stdout",
          "text": [
            "['010', '1234', '1234', '30']\n",
            "[]\n"
          ]
        }
      ]
    },
    {
      "cell_type": "code",
      "source": [
        "# re.sub() 은 정규 표현식 패턴과 일치하는 문자열을 찾아 다른 문자열로 대체할 수 있다.\n",
        "text=\"Regular expression : A regular expression, regex or regexp[1] (sometimes called a rational expression)[2][3] is, in theoretical computer science and formal language theory, a sequence of characters that define a search pattern.\"\n",
        "print(re.sub('[^a-zA-Z]',' ',text)) #영어가 아닌 것들은 공백으로 교체 됨."
      ],
      "metadata": {
        "colab": {
          "base_uri": "https://localhost:8080/"
        },
        "id": "9lLrKKOS2O_2",
        "outputId": "e90e6a07-0c60-43f6-cf26-ed1fe88fe2b7"
      },
      "execution_count": 88,
      "outputs": [
        {
          "output_type": "stream",
          "name": "stdout",
          "text": [
            "Regular expression   A regular expression  regex or regexp     sometimes called a rational expression        is  in theoretical computer science and formal language theory  a sequence of characters that define a search pattern \n"
          ]
        }
      ]
    },
    {
      "cell_type": "markdown",
      "source": [
        "정규 표현식을 활용한 텍스트 전처리 해보기\n",
        "\n",
        "아래 코드를 실행하며 출력을 보고 고민해보자"
      ],
      "metadata": {
        "id": "ej51aG8rpQhS"
      }
    },
    {
      "cell_type": "code",
      "source": [
        "# 아래 텍스트로 정규표현식 토큰화를 해보겠다.\n",
        "text = \"\"\"100 John    PROF\n",
        "101 James    STUD\n",
        "102 Mac    STUD\"\"\""
      ],
      "metadata": {
        "id": "zkXeJjPLqXja"
      },
      "execution_count": 89,
      "outputs": []
    },
    {
      "cell_type": "code",
      "source": [
        "# \\s 는 공백 여러개를 의미한다.\n",
        "print(re.split('\\s+', text))"
      ],
      "metadata": {
        "colab": {
          "base_uri": "https://localhost:8080/"
        },
        "id": "9v4IFRLSpNIa",
        "outputId": "2c458718-f4f9-49c7-e5b3-1813724b839b"
      },
      "execution_count": 90,
      "outputs": [
        {
          "output_type": "stream",
          "name": "stdout",
          "text": [
            "['100', 'John', 'PROF', '101', 'James', 'STUD', '102', 'Mac', 'STUD']\n"
          ]
        }
      ]
    },
    {
      "cell_type": "code",
      "source": [
        "# \\d 는 숫자를 의미한다.\n",
        "print(re.findall('\\d+', text))"
      ],
      "metadata": {
        "colab": {
          "base_uri": "https://localhost:8080/"
        },
        "id": "uGV42YWEpx-9",
        "outputId": "c826258f-61ab-45a0-bf33-5af35b746404"
      },
      "execution_count": 91,
      "outputs": [
        {
          "output_type": "stream",
          "name": "stdout",
          "text": [
            "['100', '101', '102']\n"
          ]
        }
      ]
    },
    {
      "cell_type": "code",
      "source": [
        "# [A-Z]는 영어 대문자를 의미한다.\n",
        "print(re.findall('[A-Z]', text))"
      ],
      "metadata": {
        "colab": {
          "base_uri": "https://localhost:8080/"
        },
        "id": "VCoG0rmsqzMr",
        "outputId": "363c5ac1-d865-447f-fa45-904d1972b16f"
      },
      "execution_count": 92,
      "outputs": [
        {
          "output_type": "stream",
          "name": "stdout",
          "text": [
            "['J', 'P', 'R', 'O', 'F', 'J', 'S', 'T', 'U', 'D', 'M', 'S', 'T', 'U', 'D']\n"
          ]
        }
      ]
    },
    {
      "cell_type": "code",
      "source": [
        "# [^a-zA-Z] 영어가 아닌 것을 의미한다.\n",
        "print(re.sub('[^a-zA-Z]', ' ', text))"
      ],
      "metadata": {
        "colab": {
          "base_uri": "https://localhost:8080/"
        },
        "id": "2-4yp4gjrfhf",
        "outputId": "7552ff9b-bbe9-4f0e-eb0f-a880e9e06bfc"
      },
      "execution_count": 93,
      "outputs": [
        {
          "output_type": "stream",
          "name": "stdout",
          "text": [
            "    John    PROF     James    STUD     Mac    STUD\n"
          ]
        }
      ]
    },
    {
      "cell_type": "code",
      "source": [
        "num1 = '123-456-7890'\n",
        "num2 = '123 456 7890'\n",
        "num3 = '1234567890'\n",
        "pattern = '\\d+[-\\s]?\\d+[-\\s]?\\d+' # 사람마다 번호 기입 방식이 다른데 모두 처리 가능하도록 정규화 함.\n",
        "numbers1 = re.search(pattern, num1)\n",
        "numbers2 = re.search(pattern, num2)\n",
        "numbers3 = re.search(pattern, num3)\n",
        "print(numbers1.group())\n",
        "print(numbers2.group())\n",
        "print(numbers3.group())"
      ],
      "metadata": {
        "colab": {
          "base_uri": "https://localhost:8080/"
        },
        "id": "82zFaDETtAUf",
        "outputId": "effe230f-f3ad-4a37-d3ef-2d9da8617afa"
      },
      "execution_count": 94,
      "outputs": [
        {
          "output_type": "stream",
          "name": "stdout",
          "text": [
            "123-456-7890\n",
            "123 456 7890\n",
            "1234567890\n"
          ]
        }
      ]
    },
    {
      "cell_type": "code",
      "source": [
        "# \"| : OR(논리합)을 의미\n",
        "# '*'는 그 앞의 글자가 0회 이상 나타남을 의미(즉, 그 글자가 한번도 안 나와도 되고, 여러 번 나와도 됨.)\n",
        "# 아래 정규식은 'hello', 'hey'로 시작\n",
        "# 그 다음에 임의의 개수의 빈칸(space)들\n",
        "# 임의의 개수의 영어 문자들이 오는 인사말이다.\n",
        "r = \"(hi|hello|hey)[ ]*([a-z]*)\""
      ],
      "metadata": {
        "id": "dSHZcPnYxPXB"
      },
      "execution_count": 95,
      "outputs": []
    },
    {
      "cell_type": "code",
      "source": [
        "# 영어 인사만 받는다 한국말은 걸러진다.\n",
        "print((re.search(r, \"hello everyone? 짜라빠빠\")))\n",
        "print((re.search(r, \"who everyone?\")))\n",
        "print((re.search(r, \"why everyone?\")))\n",
        "print((re.search(r, \"그대는 아름다워 hi everyone?\")))\n",
        "print((re.search(r, \"Hey everyone?\"))) # Hey 와 hey는 다르다."
      ],
      "metadata": {
        "colab": {
          "base_uri": "https://localhost:8080/"
        },
        "id": "6GCv2xVNuimW",
        "outputId": "7b1974a2-3ac2-4dbb-d202-09b1ba313c1e"
      },
      "execution_count": 96,
      "outputs": [
        {
          "output_type": "stream",
          "name": "stdout",
          "text": [
            "<re.Match object; span=(0, 14), match='hello everyone'>\n",
            "None\n",
            "None\n",
            "<re.Match object; span=(9, 20), match='hi everyone'>\n",
            "None\n"
          ]
        }
      ]
    },
    {
      "cell_type": "code",
      "source": [
        "# 영문 텍스트의 경우에는 정규식을 단순하게 유지하기 위해 이처럼 대소문자 구분을 무시할 때가 많다.\n",
        "# IGNORECASE : 대소문자 구별 없이 매치를 수행할 때 사용하는 옵션\n",
        "print(re.match(r, \"Hello Rosa\", flags = re.IGNORECASE)) # 대문자를 소문자로 전환해서 Hello -> hello로 인식"
      ],
      "metadata": {
        "colab": {
          "base_uri": "https://localhost:8080/"
        },
        "id": "JgM8oBwExJ5Z",
        "outputId": "0a00f338-a9fd-4117-e2cd-d65aacf4466e"
      },
      "execution_count": 97,
      "outputs": [
        {
          "output_type": "stream",
          "name": "stdout",
          "text": [
            "<re.Match object; span=(0, 10), match='Hello Rosa'>\n"
          ]
        }
      ]
    },
    {
      "cell_type": "code",
      "source": [
        "# 아래의 방법을 사용하는 경우, 텍스트의 첫 글자는 직접 소문자로 변경해야 합니다.\n",
        "text = 'Today is Monday. Tomorrow is Tuesday. Yesterday was Sunday.'\n",
        "first_big_words = re.findall(r'[\\.\\?\\!]\\s+([A-Z]\\w+)', text) #첫 글짜가 대문자인 것만 추출\n",
        "first_small_word = [word.lower() for word in first_big_words] #소문자로 변경\n",
        "print(first_big_words)\n",
        "print(first_small_word)"
      ],
      "metadata": {
        "colab": {
          "base_uri": "https://localhost:8080/"
        },
        "id": "8L2UdLvVxx8z",
        "outputId": "934a621d-5241-4ed2-dfd8-371701160ef2"
      },
      "execution_count": 98,
      "outputs": [
        {
          "output_type": "stream",
          "name": "stdout",
          "text": [
            "['Tomorrow', 'Yesterday']\n",
            "['tomorrow', 'yesterday']\n"
          ]
        }
      ]
    },
    {
      "cell_type": "markdown",
      "source": [
        "정규 표현식에서 Quantifier 적용 해보기\n",
        "\n",
        "Quantifier : 특정 문자나 문자 집합이 반복되는 횟수를 지정하는 데 사용 됨.\n",
        "\n",
        "{n} : 정확히 n개만을 찾음.\n",
        "\n",
        "{n,} : n개 이상을 찾음.\n",
        "\n",
        "{n,m} : 최소 n개 최대 m개의 경우를 찾음\n",
        "\n",
        "말이 어려울 수 있는데 밑에 코드를 보며 이해해보자."
      ],
      "metadata": {
        "id": "blzrKDPVsDYX"
      }
    },
    {
      "cell_type": "code",
      "source": [
        "# [A-Z]{4}는 영어 대문자 4글자를 의미한다\n",
        "print(re.findall('[A-Z]{4}', text))"
      ],
      "metadata": {
        "colab": {
          "base_uri": "https://localhost:8080/"
        },
        "id": "-hEAvm0vrL84",
        "outputId": "c507420a-80e0-46b5-9f64-16c8268cd4b0"
      },
      "execution_count": 99,
      "outputs": [
        {
          "output_type": "stream",
          "name": "stdout",
          "text": [
            "[]\n"
          ]
        }
      ]
    },
    {
      "cell_type": "code",
      "source": [
        "# 수를 지정하여 정규화 함\n",
        "num = '12345-456123-7890123213'\n",
        "pattern = r'\\d{3}[-\\s]\\d{3}[-\\s]\\d{4}'\n",
        "numbers = re.search(pattern, num1)\n",
        "numbers.group()"
      ],
      "metadata": {
        "colab": {
          "base_uri": "https://localhost:8080/",
          "height": 35
        },
        "id": "JN8oNu5-tGZ-",
        "outputId": "3db3d2a9-bd5b-4837-d27c-c5fd710e457c"
      },
      "execution_count": 100,
      "outputs": [
        {
          "output_type": "execute_result",
          "data": {
            "text/plain": [
              "'123-456-7890'"
            ],
            "application/vnd.google.colaboratory.intrinsic+json": {
              "type": "string"
            }
          },
          "metadata": {},
          "execution_count": 100
        }
      ]
    },
    {
      "cell_type": "markdown",
      "source": [
        "이제 정규표현식을 알아봤으니 원래 목적으로 돌아가자.\n",
        "\n",
        "정규 표현식을 이용한 토큰화 해보기\n",
        "\n",
        "사용할 패키지 : NLTK 의 RegexpTokenizer\n",
        "\n",
        "*다른 도구도 있음을 잊지말자. 여기선 학습용으로 우수한 NLTK를 쓰는 것일 뿐."
      ],
      "metadata": {
        "id": "jcwMJPlhysEd"
      }
    },
    {
      "cell_type": "code",
      "source": [
        "from nltk import RegexpTokenizer # 이제 익숙한 설명이니 임폴트 주석은 생략하겠다.\n",
        "text = \"Don't hesitate to ask questions\""
      ],
      "metadata": {
        "id": "MIVREio71S_e"
      },
      "execution_count": 116,
      "outputs": []
    },
    {
      "cell_type": "code",
      "source": [
        "print(RegexpTokenizer(\"[\\w']+\").tokenize(text))"
      ],
      "metadata": {
        "colab": {
          "base_uri": "https://localhost:8080/"
        },
        "id": "BTmtIY9CvfxQ",
        "outputId": "267b531a-7aaf-4868-ce03-69e2e21a3903"
      },
      "execution_count": 118,
      "outputs": [
        {
          "output_type": "stream",
          "name": "stdout",
          "text": [
            "[\"Don't\", 'hesitate', 'to', 'ask', 'questions']\n"
          ]
        }
      ]
    },
    {
      "cell_type": "code",
      "source": [
        "from nltk import regexp_tokenize # NLTK에서 정규표현식 토큰 도구 중 또다른 하나\n",
        "print(regexp_tokenize(text, pattern='\\w+|\\$[\\d\\.]+|\\S+'))"
      ],
      "metadata": {
        "colab": {
          "base_uri": "https://localhost:8080/"
        },
        "id": "sKVVIhVs0uG-",
        "outputId": "c805341e-b655-4c6c-bcb0-136db08ca006"
      },
      "execution_count": 117,
      "outputs": [
        {
          "output_type": "stream",
          "name": "stdout",
          "text": [
            "['Don', \"'t\", 'hesitate', 'to', 'ask', 'questions']\n"
          ]
        }
      ]
    },
    {
      "cell_type": "code",
      "source": [
        "# 정규 표현식 토큰화 코드를 다양하게 작성해볼 수 있다.\n",
        "text=\" She secured 90.56 % in class X . She is a meritorious student\"\n",
        "capt = RegexpTokenizer('[A-Z]\\w+')\n",
        "print(capt.tokenize(text))"
      ],
      "metadata": {
        "colab": {
          "base_uri": "https://localhost:8080/"
        },
        "id": "SQheSZPq1omF",
        "outputId": "5959d849-54d9-4e12-ba10-d20d69072de9"
      },
      "execution_count": 119,
      "outputs": [
        {
          "output_type": "stream",
          "name": "stdout",
          "text": [
            "['She', 'She']\n"
          ]
        }
      ]
    },
    {
      "cell_type": "code",
      "source": [
        "print(RegexpTokenizer('\\s+',gaps=True).tokenize(text))\n",
        "# gaps=False (기본값): 이 설정은 정규 표현식이 직접 토큰을 찾는 데 사용됨을 의미함.\n",
        "# False 즉, 정규 표현식에 일치하는 부분이 토큰으로 추출됨.\n",
        "# True는 반대겠지요?"
      ],
      "metadata": {
        "colab": {
          "base_uri": "https://localhost:8080/"
        },
        "id": "3G7UrTXo2Dn1",
        "outputId": "6a44d58c-0b0e-46bd-a778-7aed90fb91bc"
      },
      "execution_count": 120,
      "outputs": [
        {
          "output_type": "stream",
          "name": "stdout",
          "text": [
            "['She', 'secured', '90.56', '%', 'in', 'class', 'X', '.', 'She', 'is', 'a', 'meritorious', 'student']\n"
          ]
        }
      ]
    },
    {
      "cell_type": "code",
      "source": [
        "# [\\w] 하나 이상의 공백 문자를 찾음 + gaps= 파라미터 비교 해보\n",
        "print(RegexpTokenizer(\"[\\s]+\", gaps=True).tokenize(\"Don't be fooled by the dark sounding name, Mr. Jone's Orphanage is as cheery as cheery goes for a pastry shop\"))\n",
        "print(RegexpTokenizer(\"[\\s]+\", gaps=False).tokenize(\"Don't be fooled by the dark sounding name, Mr. Jone's Orphanage is as cheery as cheery goes for a pastry shop\"))"
      ],
      "metadata": {
        "colab": {
          "base_uri": "https://localhost:8080/"
        },
        "id": "CEbXW80N2JHB",
        "outputId": "fc0e8466-dd3b-483b-edd9-ace358dd93b2"
      },
      "execution_count": 122,
      "outputs": [
        {
          "output_type": "stream",
          "name": "stdout",
          "text": [
            "[\"Don't\", 'be', 'fooled', 'by', 'the', 'dark', 'sounding', 'name,', 'Mr.', \"Jone's\", 'Orphanage', 'is', 'as', 'cheery', 'as', 'cheery', 'goes', 'for', 'a', 'pastry', 'shop']\n",
            "[' ', ' ', ' ', ' ', ' ', ' ', ' ', ' ', ' ', ' ', ' ', ' ', ' ', ' ', ' ', ' ', ' ', ' ', ' ', ' ']\n"
          ]
        }
      ]
    },
    {
      "cell_type": "markdown",
      "source": [
        "여기 까지 정규표현식 + 토크나이저 를 마무리하겠다.\n",
        "\n",
        "위를 토대로 좀더 학습하여 다양한 토크나이저에 정규표현식을 활용해보길 바란다. (난 여기가 한계다..)\n",
        "\n",
        "\n",
        "---\n",
        "\n"
      ],
      "metadata": {
        "id": "z_zNDjql8mo4"
      }
    },
    {
      "cell_type": "markdown",
      "source": [
        "정수인코딩\n",
        "\n",
        "지금까지 토큰화와 불용어 처리를 간단히 맛보기를 해보았다.\n",
        "\n",
        "토큰화와 불용어처리 등을 거쳐서 결국 얻어낸 코퍼스(말뭉치)를 컴퓨터가 인식 할 수 있도록 처리해야한다.\n",
        "\n",
        "이것을 우리는 정수 인코딩이라 부른다.\n",
        "\n",
        "참고로 '정수인코딩'도 전처리 과정 중 하나이다.\n"
      ],
      "metadata": {
        "id": "jVGnf64881t8"
      }
    },
    {
      "cell_type": "code",
      "source": [],
      "metadata": {
        "id": "JbzxYeZh7LwG"
      },
      "execution_count": null,
      "outputs": []
    }
  ]
}
{
  "nbformat": 4,
  "nbformat_minor": 0,
  "metadata": {
    "colab": {
      "provenance": []
    },
    "kernelspec": {
      "name": "python3",
      "display_name": "Python 3"
    },
    "language_info": {
      "name": "python"
    }
  },
  "cells": [
    {
      "cell_type": "markdown",
      "source": [
        "#로지스틱회기로 네이버 리뷰 감성분석"
      ],
      "metadata": {
        "id": "CwIOSVLRoYCA"
      }
    },
    {
      "cell_type": "code",
      "source": [
        "import pandas as pd\n",
        "from sklearn.model_selection import train_test_split\n",
        "from sklearn.feature_extraction.text import CountVectorizer\n",
        "from sklearn.linear_model import LogisticRegression"
      ],
      "metadata": {
        "id": "N_B17_VGaM-O"
      },
      "execution_count": 1,
      "outputs": []
    },
    {
      "cell_type": "code",
      "source": [
        "# 훈련용 데이터 불러오기\n",
        "ratings_train = pd.read_csv('/content/ratings_train.txt', sep='\\t', encoding='utf-8-sig', usecols=['document', 'label'])\n"
      ],
      "metadata": {
        "id": "vrwYQs7jdhq-"
      },
      "execution_count": 3,
      "outputs": []
    },
    {
      "cell_type": "code",
      "source": [
        "# 데이터 전처리 생략..\n",
        "\n",
        "# NaN 값 제거\n",
        "ratings_train = ratings_train.dropna()\n",
        "\n",
        "# 훈련 데이터와 테스트 데이터 분리\n",
        "X_train, X_test, y_train, y_test = train_test_split(ratings_train['document'], ratings_train['label'], test_size=0.2, random_state=42)\n",
        "\n",
        "# 텍스트 데이터를 숫자로 변환\n",
        "vectorizer = CountVectorizer()\n",
        "X_train_vec = vectorizer.fit_transform(X_train)\n",
        "X_test_vec = vectorizer.transform(X_test)\n"
      ],
      "metadata": {
        "id": "LpmRxn3RiqEs"
      },
      "execution_count": 4,
      "outputs": []
    },
    {
      "cell_type": "code",
      "source": [
        "# 로지스틱 회귀 모델 생성 및 학습\n",
        "model = LogisticRegression()\n",
        "model.fit(X_train_vec, y_train)"
      ],
      "metadata": {
        "id": "QNKvBtebiFhY"
      },
      "execution_count": null,
      "outputs": []
    },
    {
      "cell_type": "code",
      "source": [
        "# 모델 평가\n",
        "score = model.score(X_test_vec, y_test)\n",
        "print(f'Accuracy: {score}') #정확도 수치화"
      ],
      "metadata": {
        "colab": {
          "base_uri": "https://localhost:8080/"
        },
        "id": "DohE1pEuiUmB",
        "outputId": "14713edf-df0a-4091-85f5-e22ade03b260"
      },
      "execution_count": 29,
      "outputs": [
        {
          "output_type": "stream",
          "name": "stdout",
          "text": [
            "Accuracy: 0.8129604320144005\n"
          ]
        }
      ]
    },
    {
      "cell_type": "code",
      "source": [
        "# 실험용 리뷰 데이터만 불러오기\n",
        "ratings_test = pd.read_csv('/content/ratings_test.txt', sep='\\t', encoding='utf-8-sig', usecols=['document'])\n"
      ],
      "metadata": {
        "id": "AnBM-LCukEtL"
      },
      "execution_count": 46,
      "outputs": []
    },
    {
      "cell_type": "code",
      "source": [
        "ratings_test.head() #잘 불러왔는지 확"
      ],
      "metadata": {
        "id": "xviG4VRxkSea"
      },
      "execution_count": null,
      "outputs": []
    },
    {
      "cell_type": "code",
      "source": [
        "ratings_test = ratings_train.dropna() #결측치 제거"
      ],
      "metadata": {
        "id": "j--kjl5Tl5iy"
      },
      "execution_count": 49,
      "outputs": []
    },
    {
      "cell_type": "code",
      "source": [
        "ratings_test=ratings_test['document'].values.tolist() # 특정 열의 데이터만 리스트로 변환"
      ],
      "metadata": {
        "id": "KxY9frVkkx0a"
      },
      "execution_count": 50,
      "outputs": []
    },
    {
      "cell_type": "code",
      "source": [
        "ratings_test #확인"
      ],
      "metadata": {
        "id": "KwBVrduFlNAH"
      },
      "execution_count": null,
      "outputs": []
    },
    {
      "cell_type": "code",
      "source": [
        "# 적용할 데이터(리뷰)를 숫자로 변환\n",
        "ratings_test_vec = vectorizer.transform(ratings_test)\n",
        "\n",
        "# 예측\n",
        "predictions = model.predict(ratings_test_vec)\n",
        "\n",
        "# 예측 결과 출력\n",
        "for doc, prediction in zip(ratings_test, predictions):\n",
        "    print(f\"{doc} -> {'1' if prediction == 1 else '0'}\") #긍정이면 1 부정이면 0\n"
      ],
      "metadata": {
        "id": "oGhKD4KmlhK2"
      },
      "execution_count": null,
      "outputs": []
    }
  ]
}